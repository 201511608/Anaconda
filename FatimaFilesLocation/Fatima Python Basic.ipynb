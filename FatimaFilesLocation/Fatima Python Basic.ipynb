{
 "cells": [
  {
   "cell_type": "code",
   "execution_count": null,
   "metadata": {},
   "outputs": [],
   "source": []
  },
  {
   "cell_type": "code",
   "execution_count": null,
   "metadata": {},
   "outputs": [],
   "source": [
    "# is use to do comment\n",
    "# \\n is new line\n",
    "# to int to string use str(anyinteger)\n",
    "# equations get from google (even 2n or odd 2n+1) "
   ]
  },
  {
   "cell_type": "code",
   "execution_count": 11,
   "metadata": {},
   "outputs": [
    {
     "name": "stdout",
     "output_type": "stream",
     "text": [
      "2 take plate \n",
      "2 take plate \n"
     ]
    }
   ],
   "source": [
    "#\n",
    "a=2\n",
    "print(str(a)+\" \"+\"take plate \")\n",
    "print(str(a)+\" take plate \")"
   ]
  },
  {
   "cell_type": "code",
   "execution_count": null,
   "metadata": {},
   "outputs": [],
   "source": [
    "#\n",
    "print(\"fatima \\n \\n \\n muzafar\") # \\n is new line"
   ]
  },
  {
   "cell_type": "code",
   "execution_count": null,
   "metadata": {},
   "outputs": [],
   "source": [
    "print(\"fatima\")\n",
    "print(\"\")\n",
    "print(\"muzafar\")\n",
    "\n",
    "# tariqa 2\n",
    "print(\"fatima \\n\")\n",
    "print(\"muzafar\")"
   ]
  },
  {
   "cell_type": "code",
   "execution_count": null,
   "metadata": {},
   "outputs": [],
   "source": [
    "#### IF OR ELSE...."
   ]
  },
  {
   "cell_type": "code",
   "execution_count": 9,
   "metadata": {},
   "outputs": [
    {
     "name": "stdout",
     "output_type": "stream",
     "text": [
      "take plate first\n",
      "2\n"
     ]
    }
   ],
   "source": [
    "# \n",
    "a=2\n",
    "if(a==2):\n",
    "    print(\"take plate first\")\n",
    "    print(a)\n",
    "elif(a==3):\n",
    "    print(\"take plate \")\n",
    "    print(a) # a is my above value\n",
    "else:\n",
    "    print(\"any plate\")"
   ]
  },
  {
   "cell_type": "code",
   "execution_count": null,
   "metadata": {},
   "outputs": [],
   "source": [
    "#1 This is my first program\n",
    "# if elseif else\n",
    "\n",
    "a=2\n",
    "if(a==1):\n",
    "    print(\"take plate \"+ str(a))\n",
    "elif(a==2):\n",
    "    print(\"take plate \"+ str(a))\n",
    "else:\n",
    "    print(\"any plate\")"
   ]
  },
  {
   "cell_type": "code",
   "execution_count": null,
   "metadata": {},
   "outputs": [],
   "source": [
    "print(\"dress\")\n",
    "print(\"programme\")\n",
    "print (\"mission started\")\n",
    "a=123\n",
    "if(a==000):\n",
    "    print(\"dress\")\n",
    "elif(a==1110): \n",
    "    print(\"saree\")\n",
    "else:\n",
    "    print(\"skirt\")"
   ]
  },
  {
   "cell_type": "code",
   "execution_count": null,
   "metadata": {},
   "outputs": [],
   "source": [
    "#### FOR LOOP..."
   ]
  },
  {
   "cell_type": "code",
   "execution_count": null,
   "metadata": {},
   "outputs": [],
   "source": [
    "# for loop\n",
    "for x in range(10):\n",
    "    print(x)"
   ]
  },
  {
   "cell_type": "code",
   "execution_count": null,
   "metadata": {},
   "outputs": [],
   "source": [
    "# Even number\n",
    "for x in range(5):\n",
    "    print((x+1)*2)"
   ]
  },
  {
   "cell_type": "code",
   "execution_count": null,
   "metadata": {},
   "outputs": [],
   "source": [
    "# for loop\n",
    "for x in range(10):\n",
    "    print(x)"
   ]
  },
  {
   "cell_type": "code",
   "execution_count": null,
   "metadata": {},
   "outputs": [],
   "source": [
    "#\n",
    "for x in range(10):\n",
    "    print(x+2)"
   ]
  },
  {
   "cell_type": "code",
   "execution_count": null,
   "metadata": {},
   "outputs": [],
   "source": [
    "for x in range(5):\n",
    "    print(x*2)"
   ]
  },
  {
   "cell_type": "code",
   "execution_count": null,
   "metadata": {},
   "outputs": [],
   "source": [
    "# odd number\n",
    "for x in range(10):\n",
    "    print(2*(x)+1)"
   ]
  },
  {
   "cell_type": "code",
   "execution_count": null,
   "metadata": {},
   "outputs": [],
   "source": [
    "# odd number\n",
    "a=10;\n",
    "for x in range(1,(a+1)):\n",
    "    print(x)"
   ]
  },
  {
   "cell_type": "code",
   "execution_count": null,
   "metadata": {},
   "outputs": [],
   "source": [
    "a=40\n",
    "for x in range (1,(a+1)):\n",
    "    print(x)"
   ]
  },
  {
   "cell_type": "code",
   "execution_count": null,
   "metadata": {},
   "outputs": [],
   "source": [
    "for x in range(1,11):\n",
    "    print(\"x value is: \" +str(x) + \" reaminder by dividing with 2 is: \" + str(x%2))\n"
   ]
  },
  {
   "cell_type": "code",
   "execution_count": null,
   "metadata": {},
   "outputs": [],
   "source": [
    "for x in range(1,11,2):\n",
    "    print(x)"
   ]
  },
  {
   "cell_type": "code",
   "execution_count": null,
   "metadata": {},
   "outputs": [],
   "source": [
    "for x in range(1,10000,3):\n",
    "    print(x)"
   ]
  },
  {
   "cell_type": "code",
   "execution_count": null,
   "metadata": {},
   "outputs": [],
   "source": [
    "for g in range(-20,-10):\n",
    "    print(g)"
   ]
  },
  {
   "cell_type": "code",
   "execution_count": null,
   "metadata": {},
   "outputs": [],
   "source": [
    "#\n",
    "for x in range(10):\n",
    "    print(x+2)"
   ]
  },
  {
   "cell_type": "code",
   "execution_count": null,
   "metadata": {},
   "outputs": [],
   "source": [
    "# Even number\n",
    "for x in range(5):\n",
    "    print((x+1)*2)"
   ]
  },
  {
   "cell_type": "code",
   "execution_count": null,
   "metadata": {},
   "outputs": [],
   "source": [
    "# odd number\n",
    "for x in range(10):\n",
    "    print(2*(x)+1)"
   ]
  },
  {
   "cell_type": "code",
   "execution_count": null,
   "metadata": {},
   "outputs": [],
   "source": [
    "# odd number\n",
    "a=10;\n",
    "for x in range(1,(a+1)):\n",
    "    print(x)"
   ]
  },
  {
   "cell_type": "code",
   "execution_count": null,
   "metadata": {},
   "outputs": [],
   "source": [
    "##### IF OR ELSE IN FOR LOOP..........."
   ]
  },
  {
   "cell_type": "code",
   "execution_count": null,
   "metadata": {},
   "outputs": [],
   "source": [
    "a=40\n",
    "for x in range (1,(a+1)):\n",
    "    if((x%4)==0):\n",
    "        print(\"hi family of 4 here\")\n",
    "    elif((x%2)==0):\n",
    "        print(\"hi family of 2 here\")\n",
    "    else:\n",
    "        print(\"hi none family\")\n",
    "    "
   ]
  },
  {
   "cell_type": "code",
   "execution_count": null,
   "metadata": {},
   "outputs": [],
   "source": []
  },
  {
   "cell_type": "code",
   "execution_count": null,
   "metadata": {},
   "outputs": [],
   "source": []
  },
  {
   "cell_type": "code",
   "execution_count": null,
   "metadata": {},
   "outputs": [],
   "source": [
    "# for and if\n",
    "# odd even\n",
    "a=20;\n",
    "for x in range(1,(a+1)):\n",
    "    if((x % 2)==0):\n",
    "        print(\"hi Even \" + str(x))\n",
    "    else:\n",
    "        print(\"hi Odd \" + str(x))"
   ]
  },
  {
   "cell_type": "code",
   "execution_count": null,
   "metadata": {},
   "outputs": [],
   "source": [
    "# for and if\n",
    "# odd even\n",
    "a=20;\n",
    "for x in range(1,(a+1)):\n",
    "    if((x % 2)==0):\n",
    "        print(\"hi Even \" + str(x))\n",
    "    else:\n",
    "        print(\"hi Odd \" + str(x))"
   ]
  },
  {
   "cell_type": "code",
   "execution_count": null,
   "metadata": {},
   "outputs": [],
   "source": [
    "# Introduction to python #24/01/2022\n",
    "print(5 / 8)\n",
    "print(7+10)\n",
    "print(2**4)\n"
   ]
  },
  {
   "cell_type": "code",
   "execution_count": null,
   "metadata": {},
   "outputs": [],
   "source": [
    "#2 power 4 can be written as   2**4\n",
    "# (modulo) % this gives u the remainder of dividion of number \n",
    "# for example\n",
    "print(19%2)"
   ]
  },
  {
   "cell_type": "code",
   "execution_count": null,
   "metadata": {},
   "outputs": [],
   "source": [
    "# examples\n",
    "print(3*5)\n",
    "print(14/2)\n",
    "print(5**2)\n",
    "print(25%3)"
   ]
  },
  {
   "cell_type": "code",
   "execution_count": null,
   "metadata": {},
   "outputs": [],
   "source": [
    "#examples\n",
    "# Addition, subtraction\n",
    "print(5 + 5)\n",
    "print(5 - 5)\n",
    "\n",
    "# Multiplication, division, modulo, and exponentiation\n",
    "print(3 * 5)\n",
    "print(10 / 2)\n",
    "print(18 % 7)\n",
    "print(4 ** 2)\n",
    "\n",
    "# How much is your $100 worth after 7 years?\n",
    "print(100*1.1**7)\n",
    "#100*1.1*1.1*1.1*1.1*1.1*1.1.1*1.1  can be written as above one"
   ]
  },
  {
   "cell_type": "code",
   "execution_count": null,
   "metadata": {},
   "outputs": [],
   "source": [
    "#BMI=weight/(height^2)  \n",
    "       or    \n",
    "#BMI=weught/heught**2   "
   ]
  },
  {
   "cell_type": "code",
   "execution_count": null,
   "metadata": {},
   "outputs": [],
   "source": [
    "#INTEGERS in are written as (int)\n",
    "#floats in py means point numbers like 1.2,2.3,34.4......etc \n",
    "# string (   str    )represents text which can be represented in both  double and single quotes like\n",
    "# x=\"body mass index\"\n",
    "# y= 'this works too'\n",
    "# boolean(  bool  ) means used for true or false ooorrr  yes or no\n",
    "# int ex  2 + 3\n",
    "# str ex  'ab' + 'cd'"
   ]
  },
  {
   "cell_type": "code",
   "execution_count": null,
   "metadata": {},
   "outputs": [],
   "source": [
    "# = in py represents assignment not equality"
   ]
  },
  {
   "cell_type": "code",
   "execution_count": null,
   "metadata": {},
   "outputs": [],
   "source": [
    "# Create a variable desc\n",
    "desc =\"compound interest\"\n",
    "\n",
    "# Create a variable profitable\n",
    "profitable = True               # remember here  for True or False  captilization is very imp"
   ]
  },
  {
   "cell_type": "code",
   "execution_count": null,
   "metadata": {},
   "outputs": [],
   "source": [
    " x = 100    \n",
    "print( x )  \n",
    "\n",
    "print(type(x))\n",
    "# remember the gaps here don not write closer  ask doubt   # doubt = instesd os x should we write savings"
   ]
  },
  {
   "cell_type": "code",
   "execution_count": null,
   "metadata": {},
   "outputs": [],
   "source": [
    "# Create a variable savings\n",
    "savings = 100\n",
    "\n",
    "# Create a variable growth_multiplier\n",
    "growth_multiplier = 1.1\n",
    "\n",
    "# Calculate result\n",
    "result = 100*1.1**7\n",
    "\n",
    "# Print out result\n",
    "print(result)"
   ]
  },
  {
   "cell_type": "code",
   "execution_count": 1,
   "metadata": {},
   "outputs": [
    {
     "name": "stdout",
     "output_type": "stream",
     "text": [
      "x:\n",
      "<class 'int'>\n",
      "\n",
      "\n",
      "x1:\n",
      "<class 'float'>\n",
      "\n",
      "x2:\n",
      "<class 'str'>\n"
     ]
    }
   ],
   "source": [
    "# https://campus.datacamp.com/courses/intro-to-python-for-data-science/chapter-1-python-basics?ex=11\n",
    "# types\n",
    "x = 100   \n",
    "print(\"x:\")\n",
    "print(str(type(x))+\"\\n\")\n",
    "\n",
    "x1 = 100.23    \n",
    "print(\"\\nx1:\")\n",
    "print(type(x1))\n",
    "\n",
    "x2 = \"100\" \n",
    "print(\"\\nx2:\")\n",
    "print(type(x2))"
   ]
  },
  {
   "cell_type": "code",
   "execution_count": null,
   "metadata": {},
   "outputs": [],
   "source": [
    "savings = 100\n",
    "growth_multiplier = 1.1\n",
    "desc = \"compound interest\"\n",
    "\n",
    "# growth_multiplier*savings=year1  // This is wrongs way computer do not understand\n",
    "year1 = growth_multiplier*savings"
   ]
  },
  {
   "cell_type": "code",
   "execution_count": null,
   "metadata": {},
   "outputs": [],
   "source": [
    "savings = 100\n",
    "growth_multiplier = 1.1\n",
    "desc = \"compound interest\"\n",
    "fatima=\"muzafar143\"\n",
    "# Assign product of growth_multiplier and savings to year1\n",
    "year1 = growth_multiplier*savings\n",
    "\n",
    "# Print the type of year1\n",
    "print(type (year1))\n",
    "\n",
    "# Assign sum of desc and desc to doubledesc\n",
    "doubledesc=desc + desc +desc+fatima+\"fatima\"\n",
    "\n",
    "# Print out doubledesc\n",
    "print(doubledesc)"
   ]
  },
  {
   "cell_type": "code",
   "execution_count": null,
   "metadata": {},
   "outputs": [],
   "source": [
    "savings = 100\n",
    "result = 100 * 1.10 ** 7\n",
    "\n",
    "# Fix the printout\n",
    "print(\"I started with $\" + str(savings) + \" and now have $\" + str(result) + \". Awesome!\")\n",
    "\n",
    "# Definition of pi_string\n",
    "pi_string = \"3.1415926\"\n",
    "\n",
    "# Convert pi_string into float: pi_float\n",
    "print(type(pi_string))\n",
    "print(pi_string+ pi_string)\n"
   ]
  },
  {
   "cell_type": "code",
   "execution_count": null,
   "metadata": {},
   "outputs": [],
   "source": [
    "# conversion\n",
    "# int(), float() and bool()  str()\n",
    "pi_string = \"3.1415926\"\n",
    "print(pi_string +pi_string )\n",
    "\n",
    "pi_float = float(pi_string)\n",
    "print( pi_float + pi_float)\n",
    "\n",
    "print()\n",
    "pi_integer = int(float(pi_string))\n",
    "print(pi_integer)\n",
    "print( pi_integer + pi_integer)\n",
    "\n",
    "print()\n",
    "pi_bool = bool(pi_integer)\n",
    "print(pi_bool)\n",
    "print(pi_bool+pi_bool)         #true =any value other than zero and false =0\n",
    "\n",
    "print(bool(0))\n",
    "fatima_bool =True\n",
    "muzafar_bool = False\n",
    "print(fatima_bool)\n",
    "print(muzafar_bool)\n",
    "print(type(fatima_bool))\n",
    "print(fatima_bool == muzafar_bool)"
   ]
  },
  {
   "cell_type": "code",
   "execution_count": null,
   "metadata": {},
   "outputs": [],
   "source": [
    "\"I said \" + (\"Hey \" * 30) + \"Hey!\"\n",
    "# immmmmmmmmmmmmmmmmmpppppppppppp"
   ]
  },
  {
   "cell_type": "code",
   "execution_count": null,
   "metadata": {},
   "outputs": [],
   "source": [
    "print(True + False)\n",
    "\n",
    "\n",
    "\n",
    "print(True + True)\n",
    "\n",
    "\n",
    "print(False + False)\n",
    "\n"
   ]
  },
  {
   "cell_type": "code",
   "execution_count": null,
   "metadata": {},
   "outputs": [],
   "source": [
    "#list are writeen as [a,b,c]\n",
    "# area variables (in square meters)\n",
    "hall = 11.25\n",
    "kit = 18.0\n",
    "liv = 20.0\n",
    "bed = 10.75\n",
    "bath = 9.50\n",
    "\n",
    "# Create list areas\n",
    "areas=[[\"hall\",11.25],             #should we write both information\n",
    "       [\"kit\",18.0],\n",
    "       [\"liv\",20.0],\n",
    "       [\"bed\",10.75],\n",
    "       [\"bath\",9.50],]\n",
    "areas=[hall,kit,liv,bed,bath]\n",
    "# Print areas\n",
    "print(areas)\n"
   ]
  },
  {
   "cell_type": "code",
   "execution_count": null,
   "metadata": {
    "scrolled": true
   },
   "outputs": [],
   "source": [
    "# \"bathroom\" is a string, while bath is a variable that represents the float 9.50 you specified earlier.\n",
    "# area variables (in square meters)\n",
    "hall = 11.25\n",
    "kit = 18.0\n",
    "liv = 20.0\n",
    "bed = 10.75\n",
    "bath = 9.50\n",
    "\n",
    "# Adapt list areas\n",
    "areas = [\"hallway\",hall, \"kitchen\",kit, \"living room\", liv, \"bedroom\",bed, \"bathroom\", bath]\n",
    "\n",
    "# Print areas\n",
    "print(areas)\n",
    "\n",
    "###method 2\n",
    "# Adapt list areas\n",
    "areas2 = [\"hallway\",11.25, \"kitchen\",18.0, \"living room\", 20.0, \"bedroom\",10.75, \"bathroom\", 9.50]\n",
    "\n",
    "# Print areas\n",
    "print(areas2)\n",
    "\n",
    "\n",
    "#method3\n",
    "print(areas2[2] +\" \"   +    str(areas2[3]))\n",
    "\n",
    "\n",
    "# Method 4\n",
    "print()\n",
    "for i in range(10):\n",
    "    print(areas2[i] )\n",
    "    \n",
    "# method 5\n",
    "print()\n",
    "for i in range(0,10,2):\n",
    "    print(i)\n",
    "    print(str(areas2[i]) +\" \"   +    str(areas2[i+1]))\n",
    "    "
   ]
  },
  {
   "cell_type": "markdown",
   "metadata": {},
   "source": [
    "print(areas2[3])"
   ]
  },
  {
   "cell_type": "code",
   "execution_count": null,
   "metadata": {},
   "outputs": [],
   "source": [
    "print(areas2[2] +\" \"   +    str(areas2[3]))\n"
   ]
  },
  {
   "cell_type": "code",
   "execution_count": null,
   "metadata": {},
   "outputs": [],
   "source": [
    "a=[1, 3, 4, 2]\n",
    "b=[[1, 2, 3], [4, 5, 7]]\n",
    "c= [1 + 2, \"a\" * 5, 3]\n",
    "\n",
    "print(b[0][0])     #lists are started from 0,1,2.....\n",
    "print (type(a))"
   ]
  },
  {
   "cell_type": "code",
   "execution_count": null,
   "metadata": {},
   "outputs": [],
   "source": [
    "a=[1, 3, 4, 2]\n",
    "b=[[a, 2, 3], [4, 5, 7]]\n",
    "c= [1 + 2, \"a\" * 5, 3]\n",
    "\n",
    "print(b[0][0])"
   ]
  },
  {
   "cell_type": "code",
   "execution_count": null,
   "metadata": {},
   "outputs": [],
   "source": [
    "# area variables (in square meters)\n",
    "hall = 11.25\n",
    "kit = 18.0\n",
    "liv = 20.0\n",
    "bed = 10.75\n",
    "bath = 9.50\n",
    "\n",
    "# house information as list of lists\n",
    "house = [[\"hallway\", hall],\n",
    "         [\"kitchen\", kit],\n",
    "         [\"living room\", liv],\n",
    "         [\"bedroom\",bed],\n",
    "         [\"bathroom\",bath]]\n",
    "\n",
    "# Print out house\n",
    "print(house)\n",
    "\n",
    "# Print out the type of house\n",
    "print(type(house))"
   ]
  },
  {
   "cell_type": "code",
   "execution_count": null,
   "metadata": {},
   "outputs": [],
   "source": [
    "fam=['liz',1.73,'emma',1.68,'mom',1.71,'dad',1.89]\n",
    "#liz as index 0, 1.73 asindex 1,emma as index2........\n",
    "#also we can count backwards using negative integers....like 1.89  -1...\n",
    "fam[6]\n",
    "fam[-1]\n",
    "fam[7]"
   ]
  },
  {
   "cell_type": "code",
   "execution_count": 2,
   "metadata": {},
   "outputs": [
    {
     "data": {
      "text/plain": [
       "'mom'"
      ]
     },
     "execution_count": 2,
     "metadata": {},
     "output_type": "execute_result"
    }
   ],
   "source": [
    "fam=['liz',1.73,'emma',1.68,'mom',1.71,'dad',1.89]\n",
    "fam[4]"
   ]
  },
  {
   "cell_type": "code",
   "execution_count": 3,
   "metadata": {},
   "outputs": [
    {
     "data": {
      "text/plain": [
       "[1.68, 'mom']"
      ]
     },
     "execution_count": 3,
     "metadata": {},
     "output_type": "execute_result"
    }
   ],
   "source": [
    "fam=['liz',1.73,'emma',1.68,'mom',1.71,'dad',1.89]       # here colon acts as range but here index before colon is included\n",
    "                                                 #and index after colon is not included so finally here u  r gng to get\n",
    "                                                 #only index 3,4\n",
    "fam[3:5]"
   ]
  },
  {
   "cell_type": "code",
   "execution_count": null,
   "metadata": {},
   "outputs": [],
   "source": [
    "fam=['liz',1.73,'emma',1.68,'mom',1.71,'dad',1.89]\n",
    "fam[1:4]         # here u r gng to get only index 1,2,3"
   ]
  },
  {
   "cell_type": "code",
   "execution_count": null,
   "metadata": {},
   "outputs": [],
   "source": [
    "fam=['liz',1.73,'emma',1.68,'mom',1.71,'dad',1.89]\n",
    "fam[:4]  # here no index before the colon means starting from index zero\n"
   ]
  },
  {
   "cell_type": "code",
   "execution_count": null,
   "metadata": {},
   "outputs": [],
   "source": [
    "fam=['liz',1.73,'emma',1.68,'mom',1.71,'dad',1.89]\n",
    "fam[5:]  # here no index after colon means including index 5 and upto end of the list"
   ]
  },
  {
   "cell_type": "code",
   "execution_count": null,
   "metadata": {},
   "outputs": [],
   "source": [
    "# Create the areas list\n",
    "areas = [\"hallway\", 11.25, \"kitchen\", 18.0, \"living room\", 20.0, \"bedroom\", 10.75, \"bathroom\", 9.50]\n",
    "\n",
    "# Sum of kitchen and bedroom area: eat_sleep_area\n",
    "eat_sleep_area=areas[3] + areas[-3]\n",
    "# eat_sleep_area=18.0 + 10.75\n",
    "\n",
    "# Print the variable eat_sleep_area\n",
    "print(eat_sleep_area)"
   ]
  },
  {
   "cell_type": "code",
   "execution_count": null,
   "metadata": {},
   "outputs": [],
   "source": [
    "# Slicing\n",
    "# Create the areas list\n",
    "areas = [\"hallway\", 11.25, \"kitchen\", 18.0, \"living room\", 20.0, \"bedroom\", 10.75, \"bathroom\", 9.50]\n",
    "\n",
    "# Use slicing to create downstairs\n",
    "muzafarArea = areas[0:4]   # muzafarArea = [\"hallway\", 11.25, \"kitchen\", 18.0]\n",
    "print(muzafarArea)\n",
    "\n",
    "# Use slicing to create upstairs\n",
    "fatimaArea = areas[6:9+1]\n",
    "print(fatimaArea)\n",
    "# Print out downstairs and upstairs\n",
    "coupleArea = fatimaArea + muzafarArea # adding two lists _\n",
    "print(coupleArea)"
   ]
  },
  {
   "cell_type": "code",
   "execution_count": null,
   "metadata": {},
   "outputs": [],
   "source": [
    "# Create the areas list\n",
    "areas = [\"hallway\", 11.25, \"kitchen\", 18.0, \"living room\", 20.0, \"bedroom\", 10.75, \"bathroom\", 9.50]\n",
    "\n",
    "# Use slicing to create downstairs\n",
    "downstairs=areas[0:6+1]\n",
    "\n",
    "# Use slicing to create upstairs\n",
    "upstairs=areas[-4:]\n",
    "\n",
    "# Print out downstairs and upstairs\n",
    "print(downstairs )\n",
    "print(upstairs)"
   ]
  },
  {
   "cell_type": "code",
   "execution_count": null,
   "metadata": {},
   "outputs": [],
   "source": [
    "# Create the areas list\n",
    "areas = [\"hallway\", 11.25, \"kitchen\", 18.0, \"living room\", 20.0, \"bedroom\", 10.75, \"bathroom\", 9.50]\n",
    "\n",
    "# Use slicing to create downstairs\n",
    "downstairs = areas[0:6]\n",
    "\n",
    "# Use slicing to create upstairs\n",
    "upstairs = areas[6:10]\n",
    "\n",
    "# Print out downstairs and upstairs\n",
    "print(downstairs)\n",
    "print(upstairs)"
   ]
  },
  {
   "cell_type": "code",
   "execution_count": null,
   "metadata": {},
   "outputs": [],
   "source": [
    "x[:]   # it includes full list..."
   ]
  },
  {
   "cell_type": "code",
   "execution_count": null,
   "metadata": {},
   "outputs": [],
   "source": [
    "#list manipulation\n",
    "fam=['liz',1.73,'emma',1.68,'mom',1.71,'dad',1.89] \n",
    "#if we wana change any of the height then do as follows\n",
    "fam[7]=1.86\n",
    "fam\n",
    "# another change\n",
    "fam[0:2]=[\"lisa\",1.74]\n",
    "fam"
   ]
  },
  {
   "cell_type": "code",
   "execution_count": null,
   "metadata": {},
   "outputs": [],
   "source": [
    "#adding and removing elements\n",
    "fam + [\"me\",1.79]\n"
   ]
  },
  {
   "cell_type": "code",
   "execution_count": null,
   "metadata": {},
   "outputs": [],
   "source": [
    "fam_ext =fam + [\"me\",1.79]"
   ]
  },
  {
   "cell_type": "code",
   "execution_count": null,
   "metadata": {},
   "outputs": [],
   "source": [
    "# deleting elements\n",
    "fam=['liz',1.73,'emma',1.68,'mom',1.71,'dad',1.89] \n",
    "print(fam)\n",
    "del(fam[2:4])\n",
    "print(fam)"
   ]
  },
  {
   "cell_type": "code",
   "execution_count": null,
   "metadata": {},
   "outputs": [],
   "source": [
    "# run more than one time and chech the output: how its delets the elements\n",
    "# thumb rule delect the elements from right side or last elements\n",
    "print(fam)\n",
    "del(fam[0])\n",
    "print(fam)"
   ]
  },
  {
   "cell_type": "code",
   "execution_count": null,
   "metadata": {},
   "outputs": [],
   "source": [
    "# run more than one time and chech the output: how its delets the elements\n",
    "# thumb rule delect the elements from right side or last elements\n",
    "print(fam)\n",
    "del(fam[-1])\n",
    "print(fam)"
   ]
  },
  {
   "cell_type": "code",
   "execution_count": null,
   "metadata": {},
   "outputs": [],
   "source": [
    "# Copy  # same memory\n",
    "X = [\"a\",\"b\",\"c\"] # Meemory\n",
    "print(X)\n",
    "\n",
    "Y = X   # Y and X will have same memory # in list same memory # \n",
    "print(Y)\n",
    "\n",
    "X[0]=\"aChangedfromX\"\n",
    "\n",
    "print(X)\n",
    "print(Y)\n",
    "\n",
    "Y[1] = \"bchangedfromY\"\n",
    "\n",
    "print(X)\n",
    "print(Y)"
   ]
  },
  {
   "cell_type": "code",
   "execution_count": null,
   "metadata": {},
   "outputs": [],
   "source": [
    "# Copy\n",
    "X = [\"a\",\"b\",\"c\"] # Meemory\n",
    "print(X)\n",
    "\n",
    "Y = list(X) # or Y = X[:]     # Y and X will have different memory\n",
    "print(Y)\n",
    "\n",
    "X[0]=\"aChangedfromX\"\n",
    "\n",
    "print(X)\n",
    "print(Y)\n",
    "\n",
    "Y[1] = \"bchangedfromY\"\n",
    "\n",
    "print(X)\n",
    "print(Y)"
   ]
  },
  {
   "cell_type": "code",
   "execution_count": null,
   "metadata": {},
   "outputs": [],
   "source": [
    "a=\"matter\"\n",
    "b=a\n",
    "print(a)\n",
    "print(b)\n",
    "\n",
    "a=15\n",
    "print(a)\n",
    "print(b)"
   ]
  },
  {
   "cell_type": "code",
   "execution_count": null,
   "metadata": {},
   "outputs": [],
   "source": [
    "# Create the areas list\n",
    "areas = [\"hallway\", 11.25, \"kitchen\", 18.0, \"living room\", 20.0, \"bedroom\", 10.75, \"bathroom\", 9.50]\n",
    "\n",
    "# Correct the bathroom area\n",
    "areas[-1]=10.50\n",
    "\n",
    "# Change \"living room\" to \"chill zone\"\n",
    "areas[4]=\"chill zone\""
   ]
  },
  {
   "cell_type": "code",
   "execution_count": null,
   "metadata": {},
   "outputs": [],
   "source": [
    "# Create the areas list and make some changes\n",
    "areas = [\"hallway\", 11.25, \"kitchen\", 18.0, \"chill zone\", 20.0,\n",
    "         \"bedroom\", 10.75, \"bathroom\", 10.50]\n",
    "\n",
    "# Add poolhouse data to areas, new list is areas_1\n",
    "areas_1=areas + [\"poolhouse\",24.5]\n",
    "\n",
    "# Add garage data to areas_1, new list is areas_2\n",
    "areas_2=areas_1 + [\"garage\",15.45]\n",
    "print(areas)\n",
    "print(areas_1)\n",
    "print(areas_2)"
   ]
  },
  {
   "cell_type": "code",
   "execution_count": null,
   "metadata": {},
   "outputs": [],
   "source": [
    "print(\"fatima\") ;print(100)\n",
    "a=10;b=20;c=30\n",
    "print(a+b+c)"
   ]
  },
  {
   "cell_type": "code",
   "execution_count": null,
   "metadata": {},
   "outputs": [],
   "source": [
    "areas = [\"hallway\", 11.25, \"kitchen\", 18.0,\n",
    "        \"chill zone\", 20.0, \"bedroom\", 10.75,\n",
    "         \"bathroom\", 10.50, \"poolhouse\", 24.5,\n",
    "         \"garage\", 15.45]\n",
    "del(areas[10]);del(areas[11])  #this is wrong for removing poolhouse and its area it should be like del area 11 and then area10\n",
    "print(areas)"
   ]
  },
  {
   "cell_type": "code",
   "execution_count": null,
   "metadata": {},
   "outputs": [],
   "source": [
    "areas = [\"hallway\", 11.25, \"kitchen\", 18.0,\n",
    "        \"chill zone\", 20.0, \"bedroom\", 10.75,\n",
    "         \"bathroom\", 10.50, \"poolhouse\", 24.5,\n",
    "         \"garage\", 15.45]\n",
    "del(areas[10:11])\n",
    "print(areas)"
   ]
  },
  {
   "cell_type": "code",
   "execution_count": null,
   "metadata": {},
   "outputs": [],
   "source": [
    "areas = [\"hallway\", 11.25, \"kitchen\", 18.0,\n",
    "        \"chill zone\", 20.0, \"bedroom\", 10.75,\n",
    "         \"bathroom\", 10.50, \"poolhouse\", 24.5,\n",
    "         \"garage\", 15.45]\n",
    "del(areas[-4:-2])\n",
    "print (areas)"
   ]
  },
  {
   "cell_type": "code",
   "execution_count": null,
   "metadata": {},
   "outputs": [],
   "source": [
    "# Create list areas\n",
    "areas = [11.25, 18.0, 20.0, 10.75, 9.50]\n",
    "\n",
    "# Create areas_copy\n",
    "areas_copy = areas[:]\n",
    "\n",
    "# Change areas_copy\n",
    "areas_copy[0] = 5.0\n",
    "\n",
    "# Print areas\n",
    "print(areas)"
   ]
  },
  {
   "cell_type": "code",
   "execution_count": null,
   "metadata": {},
   "outputs": [],
   "source": [
    "# Create list areas\n",
    "areas = [11.25, 18.0, 20.0, 10.75, 9.50]\n",
    "\n",
    "# Create areas_copy\n",
    "areas_copy = list(areas)\n",
    "\n",
    "# Change areas_copy\n",
    "areas_copy[0] = 5.0\n",
    "\n",
    "# Print areas\n",
    "print(areas)"
   ]
  },
  {
   "cell_type": "code",
   "execution_count": null,
   "metadata": {},
   "outputs": [],
   "source": [
    "print(\"fatima\")\n",
    "print(\"muzafar\")\n",
    "print(\"muzafar and fatima childrens\")"
   ]
  },
  {
   "cell_type": "code",
   "execution_count": null,
   "metadata": {},
   "outputs": [],
   "source": [
    "print(\"fatima\")\n",
    "print(\"muzafar\")\n",
    "print(\"muzafar and fatima childrens\")"
   ]
  },
  {
   "cell_type": "code",
   "execution_count": null,
   "metadata": {},
   "outputs": [],
   "source": [
    "print(\"fatima\")\n",
    "print(\"muzafar\")\n",
    "print(\"muzafar and fatima childrens\")"
   ]
  },
  {
   "cell_type": "code",
   "execution_count": null,
   "metadata": {},
   "outputs": [],
   "source": [
    "#### FUNCTIONS.........."
   ]
  },
  {
   "cell_type": "code",
   "execution_count": null,
   "metadata": {},
   "outputs": [],
   "source": []
  },
  {
   "cell_type": "code",
   "execution_count": null,
   "metadata": {},
   "outputs": [],
   "source": [
    "# Functions\n",
    "def FatMuzFamily():\n",
    "    print(\"fatima\")\n",
    "    print(\"muzafar\")\n",
    "    print(\"muzafar and fatima childrens\")\n",
    "    print(\"muzafar and fatima childrens+\")\n",
    "    \n",
    "\n",
    "def Fatimajewelleries():\n",
    "    print(\"bangadia 2\")\n",
    "    print(\"rings 5\")\n",
    "    print(\"neckless 2\")"
   ]
  },
  {
   "cell_type": "code",
   "execution_count": null,
   "metadata": {},
   "outputs": [],
   "source": [
    "FatMuzFamily()\n",
    "Fatimajewelleries()"
   ]
  },
  {
   "cell_type": "code",
   "execution_count": null,
   "metadata": {},
   "outputs": [],
   "source": [
    "a= 2\n",
    "b =3\n",
    "c = a + b\n",
    "print(c)"
   ]
  },
  {
   "cell_type": "code",
   "execution_count": null,
   "metadata": {},
   "outputs": [],
   "source": [
    "a= 20\n",
    "b =30\n",
    "c = a + b\n",
    "print(c)"
   ]
  },
  {
   "cell_type": "code",
   "execution_count": null,
   "metadata": {},
   "outputs": [],
   "source": [
    "def MyAddition():\n",
    "    a=2\n",
    "    b=3\n",
    "    c= a+b\n",
    "    print(c)"
   ]
  },
  {
   "cell_type": "code",
   "execution_count": null,
   "metadata": {},
   "outputs": [],
   "source": [
    "MyAddition()"
   ]
  },
  {
   "cell_type": "code",
   "execution_count": null,
   "metadata": {},
   "outputs": [],
   "source": [
    "MyAddition()"
   ]
  },
  {
   "cell_type": "code",
   "execution_count": null,
   "metadata": {},
   "outputs": [],
   "source": [
    "def MyAddition(a,b):\n",
    "    c= a+b\n",
    "    print(c)\n",
    "    "
   ]
  },
  {
   "cell_type": "code",
   "execution_count": null,
   "metadata": {},
   "outputs": [],
   "source": [
    "MyAddition(2,3)\n",
    "MyAddition(20,30)"
   ]
  },
  {
   "cell_type": "code",
   "execution_count": null,
   "metadata": {},
   "outputs": [],
   "source": [
    "\n",
    "x = MyAddition(100,200)\n",
    "print(x)"
   ]
  },
  {
   "cell_type": "code",
   "execution_count": null,
   "metadata": {},
   "outputs": [],
   "source": [
    "def MyAddition(a,b):\n",
    "    c= a+b\n",
    "    return(c)"
   ]
  },
  {
   "cell_type": "code",
   "execution_count": null,
   "metadata": {},
   "outputs": [],
   "source": [
    "x = MyAddition(100,200)\n",
    "print(x)\n",
    "y=x+x+x\n",
    "print(y)"
   ]
  },
  {
   "cell_type": "code",
   "execution_count": null,
   "metadata": {},
   "outputs": [],
   "source": [
    "def MyAddition(a,b,c):\n",
    "    d= a+b+c\n",
    "    print(d)\n",
    "    return(d*10)  # wapas dia    # if not return nothing \n"
   ]
  },
  {
   "cell_type": "code",
   "execution_count": null,
   "metadata": {},
   "outputs": [],
   "source": [
    "x3 = MyAddition(10, 20 , 30)  #store"
   ]
  },
  {
   "cell_type": "code",
   "execution_count": null,
   "metadata": {},
   "outputs": [],
   "source": [
    "print(x3)"
   ]
  },
  {
   "cell_type": "code",
   "execution_count": null,
   "metadata": {},
   "outputs": [],
   "source": [
    "def MyAddition1():\n",
    "    a=2\n",
    "    b=3\n",
    "    c= a+b\n",
    "    print(c)\n",
    "    \n",
    "def MyAddition2(a,b):\n",
    "    c= a+b\n",
    "    print(c)\n",
    "    \n",
    "def MyAddition3(a,b,c):\n",
    "    d= a+b+c\n",
    "    print(d)\n",
    "    return(d*10)  # wapas dia    # if not return nothing \n"
   ]
  },
  {
   "cell_type": "code",
   "execution_count": null,
   "metadata": {},
   "outputs": [],
   "source": [
    "MyAddition1()\n",
    "MyAddition2(200,300)\n",
    "MyAddition3(100,200+200,300+300)"
   ]
  },
  {
   "cell_type": "code",
   "execution_count": null,
   "metadata": {},
   "outputs": [],
   "source": [
    "a=10.47869\n",
    "print(round(a))\n",
    "print(round(a,1))\n",
    "print(round(a,4))\n",
    "\n"
   ]
  },
  {
   "cell_type": "code",
   "execution_count": null,
   "metadata": {},
   "outputs": [],
   "source": [
    "import math as fatima\n",
    "a=10.4\n",
    "print(fatima.ceil(a))\n"
   ]
  },
  {
   "cell_type": "code",
   "execution_count": 21,
   "metadata": {},
   "outputs": [
    {
     "name": "stdout",
     "output_type": "stream",
     "text": [
      "10\n"
     ]
    }
   ],
   "source": [
    "import math as \n",
    "a=10.4\n",
    "print(fatima.floor(a))\n"
   ]
  },
  {
   "cell_type": "code",
   "execution_count": null,
   "metadata": {},
   "outputs": [],
   "source": [
    "fatima.factorial(4)"
   ]
  },
  {
   "cell_type": "code",
   "execution_count": null,
   "metadata": {},
   "outputs": [],
   "source": [
    "fatima.pow(2,3)"
   ]
  },
  {
   "cell_type": "code",
   "execution_count": null,
   "metadata": {},
   "outputs": [],
   "source": [
    "fatima.pow(2,fatima.pow(2,3))"
   ]
  },
  {
   "cell_type": "code",
   "execution_count": null,
   "metadata": {},
   "outputs": [],
   "source": [
    "fatima.sin(fatima.degrees(90))"
   ]
  },
  {
   "cell_type": "code",
   "execution_count": null,
   "metadata": {},
   "outputs": [],
   "source": [
    "degreeToRadina = fatima.radians(30)\n",
    "print( fatima.sin(degreeToRadina) )\n",
    "print( fatima.cos(degreeToRadina) )\n",
    "print( fatima.tan(degreeToRadina) )\n",
    "\n"
   ]
  },
  {
   "cell_type": "code",
   "execution_count": null,
   "metadata": {},
   "outputs": [],
   "source": []
  },
  {
   "cell_type": "code",
   "execution_count": null,
   "metadata": {},
   "outputs": [],
   "source": [
    "fatima.sin(3.143/180 *)"
   ]
  },
  {
   "cell_type": "code",
   "execution_count": null,
   "metadata": {},
   "outputs": [],
   "source": [
    "fatima.degrees(90)"
   ]
  },
  {
   "cell_type": "code",
   "execution_count": null,
   "metadata": {},
   "outputs": [],
   "source": [
    "fatima.radians(90)"
   ]
  },
  {
   "cell_type": "code",
   "execution_count": null,
   "metadata": {},
   "outputs": [],
   "source": [
    "(3.143/180) * 90\n"
   ]
  },
  {
   "cell_type": "code",
   "execution_count": null,
   "metadata": {},
   "outputs": [],
   "source": [
    "round( fatima.sin(90*(3.143/180)), 2)"
   ]
  },
  {
   "cell_type": "code",
   "execution_count": null,
   "metadata": {},
   "outputs": [],
   "source": [
    "degree = 30\n",
    "myDegreeToRadian = degree * (3.143/180)\n",
    "print(myDegreeToRadian)"
   ]
  },
  {
   "cell_type": "code",
   "execution_count": 15,
   "metadata": {},
   "outputs": [],
   "source": [
    "def FatimaDegreeToRadian(myDegree=45):\n",
    "    degree= myDegree\n",
    "    myDegreeToRadian = degree * (3.143/180)\n",
    "    print(myDegreeToRadian)\n",
    "    return myDegreeToRadian"
   ]
  },
  {
   "cell_type": "code",
   "execution_count": 16,
   "metadata": {},
   "outputs": [
    {
     "name": "stdout",
     "output_type": "stream",
     "text": [
      "0.5238333333333334\n",
      "0.7857500000000001\n"
     ]
    },
    {
     "data": {
      "text/plain": [
       "0.7857500000000001"
      ]
     },
     "execution_count": 16,
     "metadata": {},
     "output_type": "execute_result"
    }
   ],
   "source": [
    "FatimaDegreeToRadian(30)\n",
    "FatimaDegreeToRadian()"
   ]
  },
  {
   "cell_type": "code",
   "execution_count": 22,
   "metadata": {},
   "outputs": [
    {
     "name": "stdout",
     "output_type": "stream",
     "text": [
      "0.5238333333333334\n",
      "0.5238333333333334\n",
      "0.5002031192009987\n",
      "0.8659081010947938\n",
      "0.5776630552001728\n"
     ]
    }
   ],
   "source": [
    "degreeToRadian = FatimaDegreeToRadian(30)\n",
    "print( degreeToRadian )\n",
    "print( fatima.sin(degreeToRadian) )\n",
    "print( fatima.cos(degreeToRadian) )\n",
    "print( fatima.tan(degreeToRadian) )"
   ]
  },
  {
   "cell_type": "code",
   "execution_count": 10,
   "metadata": {},
   "outputs": [
    {
     "ename": "NameError",
     "evalue": "name 'myDegreeToRadian' is not defined",
     "output_type": "error",
     "traceback": [
      "\u001b[1;31m---------------------------------------------------------------------------\u001b[0m",
      "\u001b[1;31mNameError\u001b[0m                                 Traceback (most recent call last)",
      "\u001b[1;32m<ipython-input-10-f92208e4002b>\u001b[0m in \u001b[0;36m<module>\u001b[1;34m\u001b[0m\n\u001b[1;32m----> 1\u001b[1;33m \u001b[0ma\u001b[0m\u001b[1;33m=\u001b[0m  \u001b[0mFatimaDegreeToRadian\u001b[0m\u001b[1;33m(\u001b[0m\u001b[1;36m30\u001b[0m\u001b[1;33m)\u001b[0m\u001b[1;33m\u001b[0m\u001b[1;33m\u001b[0m\u001b[0m\n\u001b[0m\u001b[0;32m      2\u001b[0m \u001b[0mprint\u001b[0m\u001b[1;33m(\u001b[0m \u001b[0ma\u001b[0m \u001b[1;33m)\u001b[0m\u001b[1;33m\u001b[0m\u001b[1;33m\u001b[0m\u001b[0m\n",
      "\u001b[1;32m<ipython-input-4-10a932856ee3>\u001b[0m in \u001b[0;36mFatimaDegreeToRadian\u001b[1;34m(myDegree)\u001b[0m\n\u001b[0;32m      2\u001b[0m     \u001b[0mdegree\u001b[0m\u001b[1;33m=\u001b[0m \u001b[0mmyDegree\u001b[0m\u001b[1;33m\u001b[0m\u001b[1;33m\u001b[0m\u001b[0m\n\u001b[0;32m      3\u001b[0m     \u001b[0mmyDegreeToRadina\u001b[0m \u001b[1;33m=\u001b[0m \u001b[0mdegree\u001b[0m \u001b[1;33m*\u001b[0m \u001b[1;33m(\u001b[0m\u001b[1;36m3.143\u001b[0m\u001b[1;33m/\u001b[0m\u001b[1;36m180\u001b[0m\u001b[1;33m)\u001b[0m\u001b[1;33m\u001b[0m\u001b[1;33m\u001b[0m\u001b[0m\n\u001b[1;32m----> 4\u001b[1;33m     \u001b[0mprint\u001b[0m\u001b[1;33m(\u001b[0m\u001b[0mmyDegreeToRadian\u001b[0m\u001b[1;33m)\u001b[0m\u001b[1;33m\u001b[0m\u001b[1;33m\u001b[0m\u001b[0m\n\u001b[0m",
      "\u001b[1;31mNameError\u001b[0m: name 'myDegreeToRadian' is not defined"
     ]
    }
   ],
   "source": [
    "a=  FatimaDegreeToRadian(30)\n",
    "print( a )"
   ]
  },
  {
   "cell_type": "code",
   "execution_count": null,
   "metadata": {},
   "outputs": [],
   "source": []
  },
  {
   "cell_type": "code",
   "execution_count": 6,
   "metadata": {},
   "outputs": [
    {
     "name": "stdout",
     "output_type": "stream",
     "text": [
      "hi\n"
     ]
    }
   ],
   "source": [
    "###\n",
    "condition = True\n",
    "while(condition):\n",
    "    print(\"hi\")\n",
    "    condition = False"
   ]
  },
  {
   "cell_type": "code",
   "execution_count": 15,
   "metadata": {},
   "outputs": [
    {
     "name": "stdout",
     "output_type": "stream",
     "text": [
      "1\n",
      "2\n",
      "3\n",
      "4\n",
      "5\n",
      "6\n",
      "7\n",
      "8\n",
      "9\n",
      "10\n"
     ]
    }
   ],
   "source": [
    "count = 0\n",
    "while(count < 10):\n",
    "    count = count + 1\n",
    "    print(count)"
   ]
  },
  {
   "cell_type": "code",
   "execution_count": 16,
   "metadata": {},
   "outputs": [
    {
     "name": "stdout",
     "output_type": "stream",
     "text": [
      "0\n",
      "1\n",
      "2\n",
      "3\n",
      "4\n",
      "5\n",
      "6\n",
      "7\n",
      "8\n",
      "9\n"
     ]
    }
   ],
   "source": [
    "count = 0\n",
    "while(count < 10):\n",
    "    print(count)\n",
    "    count = count + 1"
   ]
  },
  {
   "cell_type": "code",
   "execution_count": 20,
   "metadata": {},
   "outputs": [],
   "source": [
    "#####  CLASSES......\n",
    "\n",
    "\n",
    "\n"
   ]
  },
  {
   "cell_type": "code",
   "execution_count": 22,
   "metadata": {},
   "outputs": [],
   "source": [
    "class FATIMACLASS:\n",
    "    def MyAddition1():\n",
    "        a=2\n",
    "        b=3\n",
    "        c= a+b\n",
    "        print(c)\n",
    "    \n",
    "    def MyAddition2(a,b):\n",
    "        c= a+b\n",
    "        print(c)\n",
    "\n",
    "    def MyAddition3(a,b,c):\n",
    "        d= a+b+c\n",
    "        print(d)\n",
    "        return(d*10)  # wapas dia    # if not return nothing \n",
    "\n",
    "    def FatimaDegreeToRadian(myDegree=45):\n",
    "        degree= myDegree\n",
    "        myDegreeToRadian = degree * (3.143/180)\n",
    "        print(myDegreeToRadian)\n",
    "        return myDegreeToRadian\n"
   ]
  },
  {
   "cell_type": "code",
   "execution_count": 26,
   "metadata": {},
   "outputs": [],
   "source": [
    "runFatimaClass = FATIMACLASS"
   ]
  },
  {
   "cell_type": "code",
   "execution_count": 27,
   "metadata": {},
   "outputs": [
    {
     "name": "stdout",
     "output_type": "stream",
     "text": [
      "5\n"
     ]
    }
   ],
   "source": [
    "runFatimaClass.MyAddition1()"
   ]
  },
  {
   "cell_type": "code",
   "execution_count": 28,
   "metadata": {},
   "outputs": [
    {
     "name": "stdout",
     "output_type": "stream",
     "text": [
      "0.7857500000000001\n"
     ]
    },
    {
     "data": {
      "text/plain": [
       "0.7857500000000001"
      ]
     },
     "execution_count": 28,
     "metadata": {},
     "output_type": "execute_result"
    }
   ],
   "source": [
    "runFatimaClass.FatimaDegreeToRadian()"
   ]
  },
  {
   "cell_type": "code",
   "execution_count": 1,
   "metadata": {},
   "outputs": [
    {
     "name": "stdout",
     "output_type": "stream",
     "text": [
      "10\n"
     ]
    }
   ],
   "source": [
    "a=10\n",
    "print(a)"
   ]
  },
  {
   "cell_type": "code",
   "execution_count": 3,
   "metadata": {},
   "outputs": [
    {
     "name": "stdout",
     "output_type": "stream",
     "text": [
      "4\n"
     ]
    }
   ],
   "source": [
    "b=4\n",
    "print(b)    prin"
   ]
  },
  {
   "cell_type": "code",
   "execution_count": 4,
   "metadata": {},
   "outputs": [
    {
     "name": "stdout",
     "output_type": "stream",
     "text": [
      "14\n"
     ]
    }
   ],
   "source": [
    "print(a+b)"
   ]
  },
  {
   "cell_type": "code",
   "execution_count": 5,
   "metadata": {},
   "outputs": [
    {
     "name": "stdout",
     "output_type": "stream",
     "text": [
      "zoya\n"
     ]
    }
   ],
   "source": [
    "print(\"zoya\")"
   ]
  },
  {
   "cell_type": "code",
   "execution_count": null,
   "metadata": {},
   "outputs": [],
   "source": [
    " ##revision  of algorithms"
   ]
  },
  {
   "cell_type": "code",
   "execution_count": 8,
   "metadata": {},
   "outputs": [
    {
     "name": "stdout",
     "output_type": "stream",
     "text": [
      "primenumber\n"
     ]
    }
   ],
   "source": [
    "num=1\n",
    "Remaindercount=0\n",
    "IsRemainder=None\n",
    "for x in range(1,num+1):\n",
    "    if(num==1):\n",
    "        IsRemainder=False   \n",
    "    if(num%x==0):\n",
    "        Remaindercount=Remaindercount+1\n",
    "        if(Remaindercount>2):\n",
    "            IsRemainder=True\n",
    "            break\n",
    "\n",
    "if(IsRemainder==True):\n",
    "    print(\"Not a primenumber\")\n",
    "else:\n",
    "    print(\"primenumber\")"
   ]
  },
  {
   "cell_type": "code",
   "execution_count": 9,
   "metadata": {},
   "outputs": [
    {
     "name": "stdout",
     "output_type": "stream",
     "text": [
      "Not a primenumber\n"
     ]
    }
   ],
   "source": [
    "##Optimized Prime number\n",
    "num=4\n",
    "Remaindercount=0\n",
    "IsRemainder=None\n",
    "if(num==1):\n",
    "    IsRemainder=False \n",
    "    \n",
    "for eachnum in range(2,num):\n",
    "    remainder=num%eachnum\n",
    "    if(remainder==0):\n",
    "        IsRemainder=True\n",
    "        break\n",
    "        \n",
    "if(IsRemainder==True):\n",
    "    print(\"Not a primenumber\")\n",
    "else:\n",
    "    print(\"primenumber\")\n"
   ]
  },
  {
   "cell_type": "code",
   "execution_count": 12,
   "metadata": {},
   "outputs": [
    {
     "name": "stdout",
     "output_type": "stream",
     "text": [
      "[1, 1, 2, 3, 5]\n"
     ]
    }
   ],
   "source": [
    "##Fibbonacci series\n",
    "NoOf=5\n",
    "a=[1,1]\n",
    "for index in range(NoOf-2):\n",
    "    b=a[index]+a[index+1]\n",
    "    a.append(b)\n",
    "print(a)    "
   ]
  },
  {
   "cell_type": "code",
   "execution_count": 22,
   "metadata": {},
   "outputs": [
    {
     "name": "stdout",
     "output_type": "stream",
     "text": [
      "X\n",
      "XX\n",
      "XXX\n"
     ]
    }
   ],
   "source": [
    "lines=3\n",
    "for eachline in range(1,lines+1):\n",
    "    \n",
    "    for eachX in range(1,eachline+1):\n",
    "        print(\"X\",end=\"\")\n",
    "        \n",
    "    print(\"\")   "
   ]
  },
  {
   "cell_type": "code",
   "execution_count": 30,
   "metadata": {},
   "outputs": [
    {
     "name": "stdout",
     "output_type": "stream",
     "text": [
      "XXX\n",
      "XX\n",
      "X\n"
     ]
    }
   ],
   "source": [
    "lines=3\n",
    "for eachline in range(lines,0,-1):\n",
    "    \n",
    "    for eachX in range(eachline):\n",
    "        print(\"X\",end=\"\")\n",
    "        \n",
    "    print(\"\")   "
   ]
  },
  {
   "cell_type": "code",
   "execution_count": 36,
   "metadata": {},
   "outputs": [
    {
     "name": "stdout",
     "output_type": "stream",
     "text": [
      "X\n",
      "XY\n",
      "XYX\n",
      "XYXX\n",
      "XYXXX\n",
      "XYXXXX\n",
      "XYXXXXX\n",
      "XYXXXXXX\n",
      "XYXXXXXXX\n",
      "XYXXXXXXXX\n"
     ]
    }
   ],
   "source": [
    "lines=10\n",
    "for eachline in range(1,lines+1):\n",
    "    \n",
    "    for eachX in range(1,eachline+1):\n",
    "        if(eachX==2):\n",
    "            print(\"Y\",end=\"\")\n",
    "            continue\n",
    "        print(\"X\",end=\"\")\n",
    "        \n",
    "    print(\"\")   "
   ]
  },
  {
   "cell_type": "code",
   "execution_count": 48,
   "metadata": {},
   "outputs": [
    {
     "name": "stdout",
     "output_type": "stream",
     "text": [
      "X\n",
      "XX\n",
      "XXX\n",
      "XXXX\n",
      "XXYXX\n",
      "XXYXXX\n",
      "XXYXXXX\n",
      "XXYXXXXX\n",
      "XXYXXXXXX\n",
      "XXYXXXXXXX\n",
      "XXXXXXXXXXX\n"
     ]
    }
   ],
   "source": [
    "lines=11\n",
    "for eachline in range(1,lines+1):\n",
    "    \n",
    "    for eachX in range(1,eachline+1):\n",
    "        if(eachX==3 and (eachline>=5 and eachline<lines) ):\n",
    "            print(\"Y\",end=\"\")\n",
    "        else:\n",
    "            print(\"X\",end=\"\")\n",
    "        \n",
    "    print(\"\")   "
   ]
  },
  {
   "cell_type": "code",
   "execution_count": 1,
   "metadata": {},
   "outputs": [
    {
     "name": "stdout",
     "output_type": "stream",
     "text": [
      "X\n",
      "XX\n",
      "XXX\n",
      "XXXX\n",
      "XXXXXX\n",
      "XXXXXXX\n",
      "XXXXXXXX\n",
      "XXXXXXXXX\n",
      "XXXXXXXXXX\n"
     ]
    }
   ],
   "source": [
    "lines=10\n",
    "for eachline in range(1,lines+1):\n",
    "    if (eachline==5):\n",
    "        continue\n",
    "    for eachX in range(1,eachline+1):\n",
    "        print(\"X\",end=\"\")\n",
    "        \n",
    "    print(\"\")   "
   ]
  },
  {
   "cell_type": "code",
   "execution_count": 10,
   "metadata": {},
   "outputs": [
    {
     "name": "stdout",
     "output_type": "stream",
     "text": [
      "X\n",
      "XX\n",
      "XXX\n",
      "XXXX\n",
      "\n",
      "XXXXXX\n",
      "XXXXXXX\n",
      "XXXXXXXX\n",
      "XXXXXXXXX\n",
      "XXXXXXXXXX\n"
     ]
    }
   ],
   "source": [
    "lines=10\n",
    "for eachline in range(1,lines+1):\n",
    "    if (eachline==5):\n",
    "        print(\"\\n\",end=\"\")\n",
    "        continue\n",
    "    for eachX in range(1,eachline+1):\n",
    "        print(\"X\",end=\"\")\n",
    "        \n",
    "    print(\"\")   "
   ]
  },
  {
   "cell_type": "code",
   "execution_count": 12,
   "metadata": {},
   "outputs": [
    {
     "name": "stdout",
     "output_type": "stream",
     "text": [
      "O\n",
      "OO\n",
      "OXO\n",
      "OXXO\n",
      "OXXXO\n",
      "OXXXXO\n",
      "OXXXXXO\n",
      "OXXXXXXO\n",
      "OXXXXXXXO\n",
      "OXXXXXXXXO\n"
     ]
    }
   ],
   "source": [
    "lines=10\n",
    "for eachline in range(1,lines+1):\n",
    "    \n",
    "    for eachX in range(1,eachline+1):\n",
    "        if(eachX==1 or eachX==eachline):\n",
    "            print(\"O\",end=\"\")\n",
    "            continue\n",
    "        print(\"X\",end=\"\")\n",
    "        \n",
    "    print(\"\")   "
   ]
  },
  {
   "cell_type": "code",
   "execution_count": 20,
   "metadata": {},
   "outputs": [
    {
     "name": "stdout",
     "output_type": "stream",
     "text": [
      "X\n",
      "XXX\n",
      "XXXXX\n",
      "XXXXXXX\n",
      "XXXXXXXXX\n"
     ]
    }
   ],
   "source": [
    "lines=10\n",
    "for eachline in range(1,lines+1,2):\n",
    "    \n",
    "    for eachX in range(eachline):\n",
    "        print(\"X\",end=\"\")\n",
    "        \n",
    "    print(\"\")   "
   ]
  },
  {
   "cell_type": "code",
   "execution_count": 23,
   "metadata": {},
   "outputs": [
    {
     "name": "stdout",
     "output_type": "stream",
     "text": [
      "1\n",
      "1\n",
      "2\n",
      "3\n",
      "5\n",
      "8\n",
      "13\n"
     ]
    }
   ],
   "source": [
    "a=1\n",
    "b=1\n",
    "a1=a\n",
    "b1=b\n",
    "print(a1)\n",
    "print(b1)\n",
    "for x in range(5):\n",
    "    c1=a1+b1\n",
    "    a1=b1\n",
    "    b1=c1\n",
    "    print(c1)"
   ]
  },
  {
   "cell_type": "code",
   "execution_count": 43,
   "metadata": {},
   "outputs": [
    {
     "name": "stdout",
     "output_type": "stream",
     "text": [
      "X\n",
      "XX\n",
      "XXX\n",
      "XX\n",
      "X\n"
     ]
    }
   ],
   "source": [
    "lines=3\n",
    "for eachline in range(1,lines+1):\n",
    "    \n",
    "    for eachX in range(1,eachline+1):\n",
    "        print(\"X\",end=\"\")\n",
    "        \n",
    "    print(\"\")\n",
    "     \n",
    "for eachline in range(1,lines):\n",
    "    \n",
    "    for eachX in range(lines-eachline,0,-1):\n",
    "        print(\"X\",end=\"\")\n",
    "        \n",
    "    print(\"\")\n",
    "            \n"
   ]
  },
  {
   "cell_type": "code",
   "execution_count": 54,
   "metadata": {},
   "outputs": [
    {
     "name": "stdout",
     "output_type": "stream",
     "text": [
      "Enter the number   40\n",
      "<class 'int'>\n",
      "1600\n"
     ]
    }
   ],
   "source": [
    "a=int(input(\"Enter the number   \"))\n",
    "print(type(a))\n",
    "print(a*a)"
   ]
  },
  {
   "cell_type": "code",
   "execution_count": 48,
   "metadata": {},
   "outputs": [
    {
     "name": "stdout",
     "output_type": "stream",
     "text": [
      "400\n"
     ]
    }
   ],
   "source": [
    "a=20\n",
    "print(a*a)"
   ]
  },
  {
   "cell_type": "code",
   "execution_count": 73,
   "metadata": {},
   "outputs": [
    {
     "name": "stdout",
     "output_type": "stream",
     "text": [
      "Enter the number   11111\n",
      "5\n"
     ]
    }
   ],
   "source": [
    "num=int(input(\"Enter the number   \"))\n"
   ]
  },
  {
   "cell_type": "code",
   "execution_count": 69,
   "metadata": {},
   "outputs": [
    {
     "data": {
      "text/plain": [
       "598.3"
      ]
     },
     "execution_count": 69,
     "metadata": {},
     "output_type": "execute_result"
    }
   ],
   "source": [
    "k=5983\n",
    "k%10"
   ]
  },
  {
   "cell_type": "code",
   "execution_count": 68,
   "metadata": {},
   "outputs": [
    {
     "data": {
      "text/plain": [
       "8"
      ]
     },
     "execution_count": 68,
     "metadata": {},
     "output_type": "execute_result"
    }
   ],
   "source": [
    "k=int(5983/10)\n",
    "k%10\n"
   ]
  },
  {
   "cell_type": "code",
   "execution_count": 78,
   "metadata": {},
   "outputs": [
    {
     "name": "stdout",
     "output_type": "stream",
     "text": [
      "30\n",
      "30\n",
      "30\n",
      "30\n"
     ]
    }
   ],
   "source": [
    "a=30\n",
    "print(a)\n"
   ]
  },
  {
   "cell_type": "code",
   "execution_count": null,
   "metadata": {},
   "outputs": [],
   "source": [
    "a = 10\n",
    "\n"
   ]
  },
  {
   "cell_type": "code",
   "execution_count": 4,
   "metadata": {},
   "outputs": [],
   "source": [
    "import numpy as np\n",
    "\n",
    "a=np.array([1,2,3])"
   ]
  },
  {
   "cell_type": "code",
   "execution_count": 7,
   "metadata": {},
   "outputs": [],
   "source": [
    "from  numpy import  *    # using namespace as std\n",
    "b= array([1,2,3])"
   ]
  },
  {
   "cell_type": "code",
   "execution_count": null,
   "metadata": {},
   "outputs": [],
   "source": []
  }
 ],
 "metadata": {
  "kernelspec": {
   "display_name": "Python 3 (ipykernel)",
   "language": "python",
   "name": "python3"
  },
  "language_info": {
   "codemirror_mode": {
    "name": "ipython",
    "version": 3
   },
   "file_extension": ".py",
   "mimetype": "text/x-python",
   "name": "python",
   "nbconvert_exporter": "python",
   "pygments_lexer": "ipython3",
   "version": "3.9.7"
  }
 },
 "nbformat": 4,
 "nbformat_minor": 4
}
