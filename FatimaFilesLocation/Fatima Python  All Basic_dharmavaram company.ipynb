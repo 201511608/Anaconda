{
 "cells": [
  {
   "cell_type": "code",
   "execution_count": 98,
   "metadata": {},
   "outputs": [],
   "source": [
    "### CONTENT\n",
    "### :: 1 BASCICS......\n",
    "### :: 2 LISTS........\n",
    "### :: 3 IF OR ELSE\n",
    "### :: 4 FOR LOOP\n",
    "### :: 5 FUNCTIONS\n",
    "### :: 6 LIBRARY BASED CALCULATIONS\n",
    "### :: 7 WHILE LOOP\n",
    "### :: 8 CLASSES\n",
    "### :: 9 TASKS ON ALGORITHMS\n",
    "### :: 10 GRAPHICS\n"
   ]
  },
  {
   "cell_type": "code",
   "execution_count": null,
   "metadata": {},
   "outputs": [],
   "source": [
    "# is use to do comment\n",
    "# \\n is new line\n",
    "# to int to string use str(anyinteger)\n",
    "# equations get from google (even 2n or odd 2n+1) \n",
    "\n",
    "# All Python Topics\n",
    "# https://www.w3schools.com/python/python_classes.asp\n",
    "#"
   ]
  },
  {
   "cell_type": "code",
   "execution_count": 97,
   "metadata": {},
   "outputs": [
    {
     "name": "stdout",
     "output_type": "stream",
     "text": [
      "                1 \n",
      "              1 2 1 \n",
      "            1 2 3 2 1 \n",
      "          1 2 3 4 3 2 1 \n",
      "        1 2 3 4 5 4 3 2 1 \n",
      "      1 2 3 4 5 6 5 4 3 2 1 \n",
      "    1 2 3 4 5 6 7 6 5 4 3 2 1 \n",
      "  1 2 3 4 5 6 7 8 7 6 5 4 3 2 1 \n",
      "1 2 3 4 5 6 7 8 9 8 7 6 5 4 3 2 1 \n"
     ]
    }
   ],
   "source": [
    "lines=9\n",
    "for eachline in range(1,lines+1):\n",
    "    \n",
    "    for eachspace in range(2*(lines-eachline)):\n",
    "        print(\" \",end=\"\")\n",
    "        \n",
    "    for eachnum in range(1,2*eachline):\n",
    "        if(eachnum<=eachline):\n",
    "            print(str(eachnum)+\" \",end=\"\")\n",
    "        else:\n",
    "            print(str(2*eachline-eachnum)+ \" \",end=\"\")\n",
    "    print(\"\")    "
   ]
  },
  {
   "cell_type": "code",
   "execution_count": null,
   "metadata": {},
   "outputs": [],
   "source": [
    "#1\n",
    "# Remainder\n",
    "print(3 % 2)"
   ]
  },
  {
   "cell_type": "code",
   "execution_count": null,
   "metadata": {},
   "outputs": [],
   "source": [
    "a=2\n",
    "print(str(a)+\" \"+\"take plate \")\n",
    "print(str(a)+\" take plate \")"
   ]
  },
  {
   "cell_type": "code",
   "execution_count": null,
   "metadata": {},
   "outputs": [],
   "source": [
    "print(\"fatima\" + \"Muzafar\")"
   ]
  },
  {
   "cell_type": "code",
   "execution_count": null,
   "metadata": {},
   "outputs": [],
   "source": [
    "print(\"fatima \\n \\n \\n \\n Muzafar\")   # remember this is \"\\n\" not this \"/n\""
   ]
  },
  {
   "cell_type": "code",
   "execution_count": null,
   "metadata": {},
   "outputs": [],
   "source": [
    "print(\"fatima\")\n",
    "print(\"\")\n",
    "print(\"muzafar\")\n",
    "\n",
    "# tariqa 2\n",
    "print(\"fatima \\n\")\n",
    "print(\"muzafar\")"
   ]
  },
  {
   "cell_type": "code",
   "execution_count": null,
   "metadata": {},
   "outputs": [],
   "source": []
  },
  {
   "cell_type": "code",
   "execution_count": null,
   "metadata": {},
   "outputs": [],
   "source": [
    "a=4;b=3;c=2  # assingened values are seperated by semicolon not by commas\n",
    "print(a+b+c)   "
   ]
  },
  {
   "cell_type": "code",
   "execution_count": null,
   "metadata": {},
   "outputs": [],
   "source": [
    "n=154156650;\n",
    "\n",
    "print(2*n)"
   ]
  },
  {
   "cell_type": "code",
   "execution_count": null,
   "metadata": {},
   "outputs": [],
   "source": [
    "#2 power 4 can be written as   2**4\n",
    "# (modulo) % this gives u the remainder of dividion of number \n",
    "# for example\n",
    "print(19%2)\n"
   ]
  },
  {
   "cell_type": "code",
   "execution_count": null,
   "metadata": {},
   "outputs": [],
   "source": [
    "# Introduction to python #24/01/2022\n",
    "print(5 / 8)\n",
    "print(7+10)\n",
    "print(2**4)\n"
   ]
  },
  {
   "cell_type": "code",
   "execution_count": null,
   "metadata": {},
   "outputs": [],
   "source": []
  },
  {
   "cell_type": "code",
   "execution_count": null,
   "metadata": {},
   "outputs": [],
   "source": [
    "#\n",
    "a=2\n",
    "print(str(a)+\" \"+\"take plate \")\n",
    "print(str(a)+\" take plate \")"
   ]
  },
  {
   "cell_type": "code",
   "execution_count": null,
   "metadata": {},
   "outputs": [],
   "source": [
    "print(\"fatima\") ;print(100)  #semi colon is used to write line by line but while writing we can write side by side usong semicolon\n",
    "a=10;b=20;c=30\n",
    "print(a+b+c)"
   ]
  },
  {
   "cell_type": "code",
   "execution_count": null,
   "metadata": {},
   "outputs": [],
   "source": [
    "# examples\n",
    "print(3*5)\n",
    "print(14/2)\n",
    "print(5**2)\n",
    "print(25%3)\n"
   ]
  },
  {
   "cell_type": "code",
   "execution_count": null,
   "metadata": {},
   "outputs": [],
   "source": [
    "#\n",
    "print(\"fatima \\n \\n \\n muzafar\") # \\n is new line"
   ]
  },
  {
   "cell_type": "code",
   "execution_count": null,
   "metadata": {},
   "outputs": [],
   "source": [
    "#examples\n",
    "# Addition, subtraction\n",
    "print(5 + 5)\n",
    "print(5 - 5)\n",
    "\n",
    "# Multiplication, division, modulo, and exponentiation\n",
    "print(3 * 5)\n",
    "print(10 / 2)\n",
    "print(18 % 7)\n",
    "print(4 ** 2)\n",
    "\n",
    "# How much is your $100 worth after 7 years?\n",
    "print(100*1.1**7)\n",
    "#100*1.1*1.1*1.1*1.1*1.1*1.1.1*1.1  can be written as above one"
   ]
  },
  {
   "cell_type": "code",
   "execution_count": null,
   "metadata": {},
   "outputs": [],
   "source": [
    "print(\"fatima\")\n",
    "print(\"\")\n",
    "print(\"muzafar\")\n",
    "\n",
    "# tariqa 2\n",
    "print(\"fatima \\n\")\n",
    "print(\"muzafar\")"
   ]
  },
  {
   "cell_type": "code",
   "execution_count": null,
   "metadata": {},
   "outputs": [],
   "source": [
    "#BMI=weight/(height^2)  \n",
    "      # or    \n",
    "#BMI=weught/heught**2   "
   ]
  },
  {
   "cell_type": "code",
   "execution_count": null,
   "metadata": {},
   "outputs": [],
   "source": [
    "#INTEGERS in are written as (int)\n",
    "#floats in py means point numbers like 1.2,2.3,34.4......etc \n",
    "# string (   str    )represents text which can be represented in both  double and single quotes like\n",
    "# x=\"body mass index\"\n",
    "# y= 'this works too'\n",
    "# boolean(  bool  ) means used for true or false ooorrr  yes or no\n",
    "# int ex  2 + 3\n",
    "# str ex  'ab' + 'cd'"
   ]
  },
  {
   "cell_type": "code",
   "execution_count": null,
   "metadata": {},
   "outputs": [],
   "source": [
    "# = in py represents assignment not equality"
   ]
  },
  {
   "cell_type": "code",
   "execution_count": null,
   "metadata": {},
   "outputs": [],
   "source": [
    " x = 100    \n",
    "print( x )  \n",
    "\n",
    "print(type(x))\n",
    "# remember the gaps here don not write closer  ask doubt   # doubt = instesd os x should we write savings  # nup"
   ]
  },
  {
   "cell_type": "code",
   "execution_count": null,
   "metadata": {},
   "outputs": [],
   "source": [
    "# Create a variable savings\n",
    "savings = 100\n",
    "\n",
    "# Create a variable growth_multiplier\n",
    "growth_multiplier = 1.1\n",
    "\n",
    "# Calculate result\n",
    "result = 100*1.1**7\n",
    "\n",
    "# Print out result\n",
    "print(result)"
   ]
  },
  {
   "cell_type": "code",
   "execution_count": null,
   "metadata": {},
   "outputs": [],
   "source": [
    "# Create a variable desc\n",
    "desc =\"compound interest\"\n",
    "\n",
    "# Create a variable profitable\n",
    "profitable = True               # remember here  for True or False  captilization is very imp"
   ]
  },
  {
   "cell_type": "code",
   "execution_count": null,
   "metadata": {},
   "outputs": [],
   "source": [
    "# https://campus.datacamp.com/courses/intro-to-python-for-data-science/chapter-1-python-basics?ex=11\n",
    "# types\n",
    "x = 100   \n",
    "print(\"x:\")\n",
    "print(str(type(x))+\"\\n\")\n",
    "\n",
    "x1 = 100.23    \n",
    "print(\"\\nx1:\")\n",
    "print(type(x1))\n",
    "\n",
    "x2 = \"100\" \n",
    "print(\"\\nx2:\")\n",
    "print(type(x2))"
   ]
  },
  {
   "cell_type": "code",
   "execution_count": null,
   "metadata": {},
   "outputs": [],
   "source": [
    "print( \"chips\"+\"\\n \\n \\n\"+\"banana\")"
   ]
  },
  {
   "cell_type": "code",
   "execution_count": null,
   "metadata": {},
   "outputs": [],
   "source": [
    "savings = 100\n",
    "growth_multiplier = 1.1\n",
    "desc = \"compound interest\"\n",
    "\n",
    "# growth_multiplier*savings=year1  // This is wrongs way computer do not understand\n",
    "year1 = growth_multiplier*savings"
   ]
  },
  {
   "cell_type": "code",
   "execution_count": null,
   "metadata": {},
   "outputs": [],
   "source": [
    "savings = 100\n",
    "growth_multiplier = 1.1\n",
    "desc = \"compound interest\"\n",
    "fatima=\"muzafar143\"\n",
    "# Assign product of growth_multiplier and savings to year1\n",
    "year1 = growth_multiplier*savings\n",
    "\n",
    "# Print the type of year1\n",
    "print(type (year1))\n",
    "\n",
    "# Assign sum of desc and desc to doubledesc\n",
    "doubledesc=desc + desc +desc+fatima+\"fatima\"\n",
    "\n",
    "# Print out doubledesc\n",
    "print(doubledesc)"
   ]
  },
  {
   "cell_type": "code",
   "execution_count": null,
   "metadata": {},
   "outputs": [],
   "source": [
    "savings = 100\n",
    "result = 100 * 1.10 ** 7\n",
    "\n",
    "# Fix the printout\n",
    "print(\"I started with $\" + str(savings) + \" and now have $\" + str(result) + \". Awesome!\")\n",
    "\n",
    "# Definition of pi_string\n",
    "pi_string = \"3.1415926\"\n",
    "\n",
    "# Convert pi_string into float: pi_float\n",
    "print(type(pi_string))\n",
    "print(pi_string+ pi_string)\n"
   ]
  },
  {
   "cell_type": "code",
   "execution_count": null,
   "metadata": {},
   "outputs": [],
   "source": [
    "x=\"5.353456\"\n",
    "print(x)\n",
    "print(type(x))\n",
    "y=float(x)\n",
    "print(y)\n",
    "z=int(y)\n",
    "print(z)   # if u wana change string to int follow ......str ..float...int ...directly it cannot happen\n"
   ]
  },
  {
   "cell_type": "code",
   "execution_count": null,
   "metadata": {},
   "outputs": [],
   "source": [
    "# conversion\n",
    "# int(), float() and bool()  str()\n",
    "pi_string = \"3.1415926\"\n",
    "print(pi_string +pi_string )\n",
    "\n",
    "pi_float = float(pi_string)\n",
    "print( pi_float + pi_float)\n",
    "\n",
    "print()\n",
    "pi_integer = int(float(pi_string))\n",
    "print(pi_integer)\n",
    "print( pi_integer + pi_integer)\n",
    "\n",
    "print()\n",
    "pi_bool = bool(pi_integer)\n",
    "print(pi_bool)\n",
    "print(pi_bool+pi_bool)         #true =any value other than zero and false =0\n",
    "\n",
    "print(bool(0))\n",
    "fatima_bool =True\n",
    "muzafar_bool = False\n",
    "print(fatima_bool)\n",
    "print(muzafar_bool)\n",
    "print(type(fatima_bool))\n",
    "print(fatima_bool == muzafar_bool)"
   ]
  },
  {
   "cell_type": "code",
   "execution_count": null,
   "metadata": {},
   "outputs": [],
   "source": [
    "fatima_bool =True\n",
    "muzafar_bool = False\n",
    "print(fatima_bool == fatima_bool)"
   ]
  },
  {
   "cell_type": "code",
   "execution_count": null,
   "metadata": {},
   "outputs": [],
   "source": [
    "\"I said \" + (\"Hey \" * 30) + \"Hey!\"\n",
    "# immmmmmmmmmmmmmmmmmpppppppppppp"
   ]
  },
  {
   "cell_type": "code",
   "execution_count": null,
   "metadata": {},
   "outputs": [],
   "source": [
    "print(True + False)\n",
    "\n",
    "\n",
    "\n",
    "print(True + True)\n",
    "\n",
    "\n",
    "print(False + False)\n",
    "\n"
   ]
  },
  {
   "cell_type": "code",
   "execution_count": null,
   "metadata": {},
   "outputs": [],
   "source": [
    "###2 LISTS.....\n",
    "\n"
   ]
  },
  {
   "cell_type": "code",
   "execution_count": null,
   "metadata": {},
   "outputs": [],
   "source": [
    "#list are writeen as [a,b,c]\n",
    "# area variables (in square meters)\n",
    "hall = 11.25\n",
    "kit = 18.0\n",
    "liv = 20.0\n",
    "bed = 10.75\n",
    "bath = 9.50\n",
    "\n",
    "# Create list areas\n",
    "areas=[[\"hall\",11.25],             #should we write both information\n",
    "       [\"kit\",18.0],\n",
    "       [\"liv\",20.0],\n",
    "       [\"bed\",10.75],\n",
    "       [\"bath\",9.50],]\n",
    "areas=[hall,kit,liv,bed,bath]\n",
    "# Print areas\n",
    "print(areas)\n",
    "\n"
   ]
  },
  {
   "cell_type": "code",
   "execution_count": null,
   "metadata": {
    "scrolled": true
   },
   "outputs": [],
   "source": [
    "# \"bathroom\" is a string, while bath is a variable that represents the float 9.50 you specified earlier.\n",
    "# area variables (in square meters)\n",
    "hall = 11.25\n",
    "kit = 18.0\n",
    "liv = 20.0\n",
    "bed = 10.75\n",
    "bath = 9.50\n",
    "\n",
    "# Adapt list areas\n",
    "areas = [\"hallway\",hall, \"kitchen\",kit, \"living room\", liv, \"bedroom\",bed, \"bathroom\", bath]\n",
    "\n",
    "# Print areas\n",
    "print(areas)\n",
    "\n",
    "###method 2\n",
    "# Adapt list areas\n",
    "areas2 = [\"hallway\",11.25, \"kitchen\",18.0, \"living room\", 20.0, \"bedroom\",10.75, \"bathroom\", 9.50]\n",
    "\n",
    "# Print areas\n",
    "print(areas2)\n",
    "\n",
    "\n",
    "#method3\n",
    "print(areas2[2] +\" \"   +    str(areas2[3]))\n",
    "\n",
    "\n",
    "# Method 4\n",
    "print()\n",
    "for i in range(10):\n",
    "    print(areas2[i] )\n",
    "    \n",
    "# method 5\n",
    "print()\n",
    "for i in range(0,10,2):\n",
    "    print(i)\n",
    "    print(str(areas2[i]) +\": \"   +    str(areas2[i+1]))\n",
    "    "
   ]
  },
  {
   "cell_type": "markdown",
   "metadata": {},
   "source": [
    "print(areas2[3])"
   ]
  },
  {
   "cell_type": "code",
   "execution_count": null,
   "metadata": {},
   "outputs": [],
   "source": [
    "print(areas2[2] +\" \"   +    str(areas2[3]))\n"
   ]
  },
  {
   "cell_type": "code",
   "execution_count": null,
   "metadata": {},
   "outputs": [],
   "source": [
    "a=[1, 3, 4, 2]\n",
    "b=[[1, 2, 3], [4, 5, 7]]\n",
    "c= [1 + 2, \"a\" * 5, 3]\n",
    "\n",
    "print(b[0][0])     #lists are started from 0,1,2.....\n",
    "print (type(a))"
   ]
  },
  {
   "cell_type": "code",
   "execution_count": null,
   "metadata": {},
   "outputs": [],
   "source": [
    "print(\"mf\\n\"*5)"
   ]
  },
  {
   "cell_type": "code",
   "execution_count": null,
   "metadata": {},
   "outputs": [],
   "source": [
    "a=[1, 3, 4, 2]\n",
    "b=[[a, 2, 3], [4, 5, 7]]\n",
    "c= [1 + 2,\"      a       \" * 5, 3]\n",
    "\n",
    "print(b[0][0])\n",
    "print(c[1])"
   ]
  },
  {
   "cell_type": "code",
   "execution_count": null,
   "metadata": {},
   "outputs": [],
   "source": [
    "# area variables (in square meters)\n",
    "hall = 11.25\n",
    "kit = 18.0\n",
    "liv = 20.0\n",
    "bed = 10.75\n",
    "bath = 9.50\n",
    "\n",
    "# house information as list of lists\n",
    "house = [[\"hallway\", hall],\n",
    "         [\"kitchen\", kit],\n",
    "         [\"living room\", liv],\n",
    "         [\"bedroom\",bed],\n",
    "         [\"bathroom\",bath]]\n",
    "\n",
    "# Print out house\n",
    "print(house)\n",
    "\n",
    "# Print out the type of house\n",
    "print(type(house))"
   ]
  },
  {
   "cell_type": "code",
   "execution_count": null,
   "metadata": {},
   "outputs": [],
   "source": [
    "fam=['liz',1.73,'emma',1.68,'mom',1.71,'dad',1.89]\n",
    "#liz as index 0, 1.73 asindex 1,emma as index2........\n",
    "#also we can count backwards using negative integers....like 1.89 as -1...\n",
    "print(fam[6])\n",
    "print(fam[-1])\n",
    "print(fam[7])"
   ]
  },
  {
   "cell_type": "code",
   "execution_count": null,
   "metadata": {},
   "outputs": [],
   "source": [
    "for f in range(0,7+1,2):\n",
    "    \n",
    "    print()\n",
    "    print(str(fam[f]) +\" \"+str(fam[f+1]))"
   ]
  },
  {
   "cell_type": "code",
   "execution_count": null,
   "metadata": {},
   "outputs": [],
   "source": [
    "fam=['liz',1.73,'emma',1.68,'mom',1.71,'dad',1.89]\n",
    "fam[4]"
   ]
  },
  {
   "cell_type": "code",
   "execution_count": null,
   "metadata": {},
   "outputs": [],
   "source": [
    "fam=['liz',1.73,'emma',1.68,'mom',1.71,'dad',1.89]       # here colon acts as range but here index before colon is included\n",
    "                                                 #and index after colon is not included so finally here u  r gng to get\n",
    "                                                 #only index 3,4\n",
    "fam[3:5]"
   ]
  },
  {
   "cell_type": "code",
   "execution_count": null,
   "metadata": {},
   "outputs": [],
   "source": [
    "fam=['liz',1.73,'emma',1.68,'mom',1.71,'dad',1.89]\n",
    "fam[1:4]         # here u r gng to get only index 1,2,3"
   ]
  },
  {
   "cell_type": "code",
   "execution_count": null,
   "metadata": {},
   "outputs": [],
   "source": [
    "fam=['liz',1.73,'emma',1.68,'mom',1.71,'dad',1.89]\n",
    "fam[:4]  # here no index before the colon means starting from index zero\n"
   ]
  },
  {
   "cell_type": "code",
   "execution_count": null,
   "metadata": {},
   "outputs": [],
   "source": [
    "fam=['liz',1.73,'emma',1.68,'mom',1.71,'dad',1.89]\n",
    "fam[5:]  # here no index after colon means including index 5 and upto end of the list"
   ]
  },
  {
   "cell_type": "code",
   "execution_count": null,
   "metadata": {},
   "outputs": [],
   "source": [
    "# Create the areas list\n",
    "areas = [\"hallway\", 11.25, \"kitchen\", 18.0, \"living room\", 20.0, \"bedroom\", 10.75, \"bathroom\", 9.50]\n",
    "\n",
    "# Sum of kitchen and bedroom area: eat_sleep_area\n",
    "eat_sleep_area=areas[3] + areas[-3]\n",
    "# eat_sleep_area=18.0 + 10.75\n",
    "\n",
    "# Print the variable eat_sleep_area\n",
    "print(eat_sleep_area)"
   ]
  },
  {
   "cell_type": "code",
   "execution_count": null,
   "metadata": {},
   "outputs": [],
   "source": [
    "# Slicing\n",
    "# Create the areas list\n",
    "areas = [\"hallway\", 11.25, \"kitchen\", 18.0, \"living room\", 20.0, \"bedroom\", 10.75, \"bathroom\", 9.50]\n",
    "\n",
    "# Use slicing to create downstairs\n",
    "muzafarArea = areas[0:4]   # muzafarArea = [\"hallway\", 11.25, \"kitchen\", 18.0]\n",
    "print(muzafarArea)\n",
    "\n",
    "# Use slicing to create upstairs\n",
    "fatimaArea = areas[6:9+1]\n",
    "print(fatimaArea)\n",
    "# Print out downstairs and upstairs\n",
    "coupleArea = fatimaArea + muzafarArea # adding two lists _\n",
    "print(coupleArea)"
   ]
  },
  {
   "cell_type": "code",
   "execution_count": null,
   "metadata": {},
   "outputs": [],
   "source": [
    "# Create the areas list\n",
    "areas = [\"hallway\", 11.25, \"kitchen\", 18.0, \"living room\", 20.0, \"bedroom\", 10.75, \"bathroom\", 9.50]\n",
    "\n",
    "# Use slicing to create downstairs\n",
    "downstairs=areas[0:6+1]\n",
    "\n",
    "# Use slicing to create upstairs\n",
    "upstairs=areas[-4:]\n",
    "\n",
    "# Print out downstairs and upstairs\n",
    "print(downstairs )\n",
    "print(upstairs)"
   ]
  },
  {
   "cell_type": "code",
   "execution_count": null,
   "metadata": {},
   "outputs": [],
   "source": [
    "# Create the areas list\n",
    "areas = [\"hallway\", 11.25, \"kitchen\", 18.0, \"living room\", 20.0, \"bedroom\", 10.75, \"bathroom\", 9.50]\n",
    "\n",
    "# Use slicing to create downstairs\n",
    "downstairs = areas[0:6]\n",
    "\n",
    "# Use slicing to create upstairs\n",
    "upstairs = areas[6:10]\n",
    "\n",
    "# Print out downstairs and upstairs\n",
    "print(downstairs)\n",
    "print(upstairs)"
   ]
  },
  {
   "cell_type": "code",
   "execution_count": null,
   "metadata": {},
   "outputs": [],
   "source": [
    "areas = [\"hallway\", 11.25, \"kitchen\", 18.0, \"living room\", 20.0, \"bedroom\", 10.75, \"bathroom\", 9.50]\n",
    "areas[3]=19.0\n",
    "areas"
   ]
  },
  {
   "cell_type": "code",
   "execution_count": null,
   "metadata": {},
   "outputs": [],
   "source": [
    "x[:]   # it includes full list..."
   ]
  },
  {
   "cell_type": "code",
   "execution_count": null,
   "metadata": {},
   "outputs": [],
   "source": [
    "#list manipulation\n",
    "fam=['liz',1.73,'emma',1.68,'mom',1.71,'dad',1.89] \n",
    "#if we wana change any of the height then do as follows\n",
    "fam[7]=1.86\n",
    "fam\n",
    "# another change\n",
    "fam[0:2]=[\"lisa\",1.74]\n",
    "fam"
   ]
  },
  {
   "cell_type": "code",
   "execution_count": null,
   "metadata": {},
   "outputs": [],
   "source": [
    "#adding and removing elements\n",
    "fam + [\"me\",1.79]\n"
   ]
  },
  {
   "cell_type": "code",
   "execution_count": null,
   "metadata": {},
   "outputs": [],
   "source": [
    "fam_ext =fam + [\"me\",1.79]"
   ]
  },
  {
   "cell_type": "code",
   "execution_count": null,
   "metadata": {},
   "outputs": [],
   "source": [
    "# deleting elements\n",
    "fam=['liz',1.73,'emma',1.68,'mom',1.71,'dad',1.89] \n",
    "print(fam)\n",
    "del(fam[2:4])\n",
    "print(fam)"
   ]
  },
  {
   "cell_type": "code",
   "execution_count": null,
   "metadata": {},
   "outputs": [],
   "source": [
    "# run more than one time and check the output: how its delets the elements\n",
    "# thumb rule delect the elements from right side or last elements\n",
    "print(fam)\n",
    "del(fam[0])\n",
    "print(fam)"
   ]
  },
  {
   "cell_type": "code",
   "execution_count": null,
   "metadata": {},
   "outputs": [],
   "source": [
    "# run more than one time and chech the output: how its delets the elements\n",
    "# thumb rule delect the elements from right side or last elements\n",
    "print(fam)\n",
    "del(fam[-1])\n",
    "print(fam)"
   ]
  },
  {
   "cell_type": "code",
   "execution_count": null,
   "metadata": {},
   "outputs": [],
   "source": [
    "# Copy  # same memory\n",
    "X = [\"a\",\"b\",\"c\"] # Meemory\n",
    "print(X)\n",
    "\n",
    "Y = X   # Y and X will have same memory # in list same memory # \n",
    "print(Y)\n",
    "\n",
    "X[0]=\"aChangedfromX\"\n",
    "\n",
    "print(X)\n",
    "print(Y)\n",
    "\n",
    "Y[1] = \"bchangedfromY\"\n",
    "\n",
    "print(X)\n",
    "print(Y)"
   ]
  },
  {
   "cell_type": "code",
   "execution_count": null,
   "metadata": {},
   "outputs": [],
   "source": [
    "me=[\"c\",\"o\",\"o\",\"l\"]\n",
    "you=me\n",
    "print(me)\n",
    "print(you)\n",
    "print()\n",
    "me[2:5]=\"l\",\"d\"\n",
    "print(me)\n",
    "print(you)"
   ]
  },
  {
   "cell_type": "code",
   "execution_count": null,
   "metadata": {},
   "outputs": [],
   "source": [
    "# Copy\n",
    "X = [\"a\",\"b\",\"c\"] # Meemory\n",
    "print(X)\n",
    "\n",
    "Y = list(X) # or Y = X[:]     # Y and X will have different memory\n",
    "print(Y)\n",
    "\n",
    "X[0]=\"aChangedfromX\"\n",
    "\n",
    "print(X)\n",
    "print(Y)\n",
    "\n",
    "Y[1] = \"bchangedfromY\"\n",
    "\n",
    "print(X)\n",
    "print(Y)"
   ]
  },
  {
   "cell_type": "code",
   "execution_count": null,
   "metadata": {},
   "outputs": [],
   "source": [
    "me=[\"c\",\"o\",\"o\",\"l\"]\n",
    "you=me[:] #or you=list(me)\n",
    "print(me)\n",
    "print(you)\n",
    "print()\n",
    "me[-1]=\"p\"\n",
    "print(me)\n",
    "print(you)\n",
    "you[0]=\"p\"\n",
    "print(me)\n",
    "print(you)\n",
    "\n"
   ]
  },
  {
   "cell_type": "code",
   "execution_count": null,
   "metadata": {},
   "outputs": [],
   "source": [
    "a=\"matter\"\n",
    "b=a\n",
    "print(a)\n",
    "print(b)\n",
    "\n",
    "a=15\n",
    "print(a)\n",
    "print(b)"
   ]
  },
  {
   "cell_type": "code",
   "execution_count": null,
   "metadata": {},
   "outputs": [],
   "source": [
    "# Create the areas list\n",
    "areas = [\"hallway\", 11.25, \"kitchen\", 18.0, \"living room\", 20.0, \"bedroom\", 10.75, \"bathroom\", 9.50]\n",
    "\n",
    "# Correct the bathroom area\n",
    "areas[-1]=10.50\n",
    "\n",
    "# Change \"living room\" to \"chill zone\"\n",
    "areas[4]=\"chill zone\""
   ]
  },
  {
   "cell_type": "code",
   "execution_count": null,
   "metadata": {},
   "outputs": [],
   "source": [
    "# Create the areas list and make some changes\n",
    "areas = [\"hallway\", 11.25, \"kitchen\", 18.0, \"chill zone\", 20.0,\n",
    "         \"bedroom\", 10.75, \"bathroom\", 10.50]\n",
    "\n",
    "# Add poolhouse data to areas, new list is areas_1\n",
    "areas_1=areas + [\"poolhouse\",24.5]\n",
    "\n",
    "# Add garage data to areas_1, new list is areas_2\n",
    "areas_2=areas_1 + [\"garage\",15.45]\n",
    "print(areas)\n",
    "print(areas_1)\n",
    "print(areas_2)"
   ]
  },
  {
   "cell_type": "code",
   "execution_count": null,
   "metadata": {},
   "outputs": [],
   "source": [
    "areas = [\"hallway\", 11.25, \"kitchen\", 18.0,\n",
    "        \"chill zone\", 20.0, \"bedroom\", 10.75,\n",
    "         \"bathroom\", 10.50, \"poolhouse\", 24.5,\n",
    "         \"garage\", 15.45]\n",
    "del(areas[10]);del(areas[11])  #this is wrong for removing poolhouse and its area it should be like del area 11 and then area10\n",
    "print(areas)"
   ]
  },
  {
   "cell_type": "code",
   "execution_count": null,
   "metadata": {},
   "outputs": [],
   "source": [
    "areas = [\"hallway\", 11.25, \"kitchen\", 18.0,\n",
    "        \"chill zone\", 20.0, \"bedroom\", 10.75,\n",
    "         \"bathroom\", 10.50, \"poolhouse\", 24.5,\n",
    "         \"garage\", 15.45]\n",
    "del(areas[10:11])\n",
    "print(areas)"
   ]
  },
  {
   "cell_type": "code",
   "execution_count": null,
   "metadata": {},
   "outputs": [],
   "source": [
    "areas = [\"hallway\", 11.25, \"kitchen\", 18.0,\n",
    "        \"chill zone\", 20.0, \"bedroom\", 10.75,\n",
    "         \"bathroom\", 10.50, \"poolhouse\", 24.5,\n",
    "         \"garage\", 15.45]\n",
    "del(areas[-4:-2])\n",
    "print (areas)"
   ]
  },
  {
   "cell_type": "code",
   "execution_count": null,
   "metadata": {},
   "outputs": [],
   "source": [
    "areas = [\"hallway\", 11.25, \"kitchen\", 18.0,\n",
    "        \"chill zone\", 20.0, \"bedroom\", 10.75,\n",
    "         \"bathroom\", 10.50, \"poolhouse\", 24.5,\n",
    "         \"garage\", 15.45]\n",
    "del(areas[-6:-4])\n",
    "print(areas)"
   ]
  },
  {
   "cell_type": "code",
   "execution_count": null,
   "metadata": {},
   "outputs": [],
   "source": [
    "# Create list areas\n",
    "areas = [11.25, 18.0, 20.0, 10.75, 9.50]\n",
    "\n",
    "# Create areas_copy\n",
    "areas_copy = areas[:]\n",
    "\n",
    "# Change areas_copy\n",
    "areas_copy[0] = 5.0\n",
    "\n",
    "# Print areas\n",
    "print(areas)\n",
    "print(areas_copy)"
   ]
  },
  {
   "cell_type": "code",
   "execution_count": null,
   "metadata": {},
   "outputs": [],
   "source": [
    "# Create list areas\n",
    "areas = [11.25, 18.0, 20.0, 10.75, 9.50]\n",
    "\n",
    "# Create areas_copy\n",
    "areas_copy = list(areas)\n",
    "\n",
    "# Change areas_copy\n",
    "areas_copy[0] = 5.0\n",
    "\n",
    "# Print areas\n",
    "print(areas)"
   ]
  },
  {
   "cell_type": "code",
   "execution_count": null,
   "metadata": {},
   "outputs": [],
   "source": [
    "##3 IF OR ELSE ......"
   ]
  },
  {
   "cell_type": "code",
   "execution_count": null,
   "metadata": {},
   "outputs": [],
   "source": [
    "# \n",
    "a=2\n",
    "if(a==1):\n",
    "    print(\"take plate \")\n",
    "    print(a)\n",
    "elif(a==2):\n",
    "    print(\"take plate \")\n",
    "    print(a) # a is my above value\n",
    "else:\n",
    "    print(\"any plate\")"
   ]
  },
  {
   "cell_type": "code",
   "execution_count": null,
   "metadata": {},
   "outputs": [],
   "source": [
    "#1 This is my first program\n",
    "# if elseif else\n",
    "\n",
    "a=2\n",
    "if(a==1):\n",
    "    print(\"take plate \"+ str(a))\n",
    "elif(a==2):\n",
    "    print(\"take plate \"+ str(a))\n",
    "else:\n",
    "    print(\"any plate\")"
   ]
  },
  {
   "cell_type": "code",
   "execution_count": null,
   "metadata": {},
   "outputs": [],
   "source": [
    "print(\"dress\")\n",
    "print(\"programme\")\n",
    "print (\"mission started\")\n",
    "a=123\n",
    "if(a==000):\n",
    "    print(\"dress\")\n",
    "elif(a==1110): \n",
    "    print(\"saree\")\n",
    "else:\n",
    "    print(\"skirt\")"
   ]
  },
  {
   "cell_type": "code",
   "execution_count": null,
   "metadata": {},
   "outputs": [],
   "source": [
    "##4 FOR LOOPS....."
   ]
  },
  {
   "cell_type": "code",
   "execution_count": null,
   "metadata": {},
   "outputs": [],
   "source": [
    "# for loop\n",
    "for x in range(10):\n",
    "    print(x)"
   ]
  },
  {
   "cell_type": "code",
   "execution_count": null,
   "metadata": {},
   "outputs": [],
   "source": [
    "#\n",
    "for x in range(10):\n",
    "    print(x+2)"
   ]
  },
  {
   "cell_type": "code",
   "execution_count": null,
   "metadata": {},
   "outputs": [],
   "source": [
    "# Even number\n",
    "for x in range(5):\n",
    "    print((x+1)*2)"
   ]
  },
  {
   "cell_type": "code",
   "execution_count": null,
   "metadata": {},
   "outputs": [],
   "source": [
    "# odd number\n",
    "for x in range(10):\n",
    "    print(2*(x)+1)"
   ]
  },
  {
   "cell_type": "code",
   "execution_count": null,
   "metadata": {},
   "outputs": [],
   "source": [
    "# odd number\n",
    "a=10;\n",
    "for x in range(1,(a+1)):\n",
    "    print(x)"
   ]
  },
  {
   "cell_type": "code",
   "execution_count": null,
   "metadata": {},
   "outputs": [],
   "source": [
    "n=10\n",
    "for x in range(1,n+1):\n",
    "    print(5%x)"
   ]
  },
  {
   "cell_type": "code",
   "execution_count": null,
   "metadata": {},
   "outputs": [],
   "source": [
    "# for and if\n",
    "# odd even\n",
    "a=20;\n",
    "for x in range(1,(a+1)):\n",
    "    if((x % 2)==0):\n",
    "        print(\"hi Even \" + str(x))\n",
    "    else:\n",
    "        print(\"hi Odd \" + str(x))"
   ]
  },
  {
   "cell_type": "code",
   "execution_count": null,
   "metadata": {},
   "outputs": [],
   "source": [
    "for x in range(1,11):\n",
    "    print(\"x value is: \" +str(x) + \" reaminder by dividing with 2 is: \" + str(x%2))\n"
   ]
  },
  {
   "cell_type": "code",
   "execution_count": null,
   "metadata": {},
   "outputs": [],
   "source": [
    "for x in range(1,11,2):\n",
    "    print(x)"
   ]
  },
  {
   "cell_type": "code",
   "execution_count": null,
   "metadata": {},
   "outputs": [],
   "source": [
    "for x in range(1,10000,3):\n",
    "    print(x)"
   ]
  },
  {
   "cell_type": "code",
   "execution_count": null,
   "metadata": {},
   "outputs": [],
   "source": [
    "for g in range(20,10):\n",
    "    print(g)"
   ]
  },
  {
   "cell_type": "code",
   "execution_count": null,
   "metadata": {},
   "outputs": [],
   "source": []
  },
  {
   "cell_type": "code",
   "execution_count": null,
   "metadata": {},
   "outputs": [],
   "source": [
    "##5 Fuctions\n",
    "\n",
    "\n"
   ]
  },
  {
   "cell_type": "code",
   "execution_count": null,
   "metadata": {},
   "outputs": [],
   "source": [
    "print(\"fatima\")\n",
    "print(\"muzafar\")\n",
    "print(\"muzafar and fatima childrens\")"
   ]
  },
  {
   "cell_type": "code",
   "execution_count": null,
   "metadata": {},
   "outputs": [],
   "source": [
    "print(\"fatima\")\n",
    "print(\"muzafar\")\n",
    "print(\"muzafar and fatima childrens\")"
   ]
  },
  {
   "cell_type": "code",
   "execution_count": null,
   "metadata": {},
   "outputs": [],
   "source": [
    "print(\"fatima\")\n",
    "print(\"muzafar\")\n",
    "print(\"muzafar and fatima childrens\")"
   ]
  },
  {
   "cell_type": "code",
   "execution_count": null,
   "metadata": {},
   "outputs": [],
   "source": [
    "# Functions\n",
    "def FatMuzFamily():\n",
    "    print(\"fatima\")\n",
    "    print(\"muzafar\")\n",
    "    print(\"muzafar and fatima childrens\")\n",
    "    print(\"muzafar and fatima childrens+\")\n",
    "    \n",
    "\n",
    "def Fatimajewelleries():\n",
    "    print(\"bangadia 2\")\n",
    "    print(\"rings 5\")\n",
    "    print(\"neckless 2\")"
   ]
  },
  {
   "cell_type": "code",
   "execution_count": null,
   "metadata": {},
   "outputs": [],
   "source": [
    "FatMuzFamily()\n",
    "Fatimajewelleries()"
   ]
  },
  {
   "cell_type": "code",
   "execution_count": null,
   "metadata": {},
   "outputs": [],
   "source": [
    "def EvenOddCheck(mynum=0):\n",
    "    num=mynum\n",
    "    if((num%2)==0):\n",
    "        print(\"Hi this  number is even\")\n",
    "        return(\"Hi this  number is even\")\n",
    "    else:\n",
    "        print(\"Hi this number is odd\")\n",
    "        return(\"Hi this number is odd\")\n",
    "    \n",
    "    "
   ]
  },
  {
   "cell_type": "code",
   "execution_count": null,
   "metadata": {},
   "outputs": [],
   "source": [
    "EvenOddCheck(78) "
   ]
  },
  {
   "cell_type": "code",
   "execution_count": null,
   "metadata": {},
   "outputs": [],
   "source": [
    "def Printnumbers(num):\n",
    "    n=num\n",
    "    for x in range(1,(n+1)):\n",
    "        print(x)\n",
    "        \n",
    "          \n",
    "        \n",
    "    \n",
    "    \n",
    "    \n",
    "   \n",
    "     \n",
    "\n",
    "    "
   ]
  },
  {
   "cell_type": "code",
   "execution_count": null,
   "metadata": {},
   "outputs": [],
   "source": [
    "a= 2\n",
    "b =3\n",
    "c = a + b\n",
    "print(c)"
   ]
  },
  {
   "cell_type": "code",
   "execution_count": null,
   "metadata": {},
   "outputs": [],
   "source": [
    "a= 20\n",
    "b =30\n",
    "c = a + b\n",
    "print(c)"
   ]
  },
  {
   "cell_type": "code",
   "execution_count": null,
   "metadata": {},
   "outputs": [],
   "source": [
    "def MyAddition():\n",
    "    a=2\n",
    "    b=3\n",
    "    c= a+b\n",
    "    print(c)\n",
    "    return(c)"
   ]
  },
  {
   "cell_type": "code",
   "execution_count": null,
   "metadata": {},
   "outputs": [],
   "source": [
    "MyAddition()"
   ]
  },
  {
   "cell_type": "code",
   "execution_count": null,
   "metadata": {},
   "outputs": [],
   "source": [
    "MyAddition()"
   ]
  },
  {
   "cell_type": "code",
   "execution_count": null,
   "metadata": {},
   "outputs": [],
   "source": [
    "def MyAddition(a,b):\n",
    "    c= a+b\n",
    "    print(c)\n",
    "    return(c)\n",
    "    \n",
    "  "
   ]
  },
  {
   "cell_type": "code",
   "execution_count": null,
   "metadata": {},
   "outputs": [],
   "source": [
    "MyAddition(2,3)"
   ]
  },
  {
   "cell_type": "code",
   "execution_count": null,
   "metadata": {},
   "outputs": [],
   "source": [
    "MyAddition(20,30)\n"
   ]
  },
  {
   "cell_type": "code",
   "execution_count": null,
   "metadata": {},
   "outputs": [],
   "source": [
    "\n",
    "x = MyAddition(100,200)\n",
    "print(x)"
   ]
  },
  {
   "cell_type": "code",
   "execution_count": null,
   "metadata": {},
   "outputs": [],
   "source": [
    "def MyAddition(a,b):\n",
    "    c= a+b\n",
    "    print(c)\n",
    "    return(c)\n"
   ]
  },
  {
   "cell_type": "code",
   "execution_count": null,
   "metadata": {},
   "outputs": [],
   "source": [
    "MyAddition(3,4)"
   ]
  },
  {
   "cell_type": "code",
   "execution_count": null,
   "metadata": {},
   "outputs": [],
   "source": [
    "x = MyAddition(100,200)\n",
    "print(x)\n",
    "y=x+x+x\n",
    "print(y)"
   ]
  },
  {
   "cell_type": "code",
   "execution_count": null,
   "metadata": {},
   "outputs": [],
   "source": [
    "def MyAddition1():\n",
    "    a=2\n",
    "    b=3\n",
    "    c= a+b\n",
    "    print(\"This is print c: \", c)\n",
    "    return (c)\n",
    "    \n",
    "    # good techinqe use , in print : not need to convert to str(c)\n",
    "\n",
    "a = MyAddition1();\n",
    "print(\"This is value of a: \",a)"
   ]
  },
  {
   "cell_type": "code",
   "execution_count": null,
   "metadata": {},
   "outputs": [],
   "source": [
    "def MyAddition(a,b,c):\n",
    "    d= a+b+c\n",
    "    print(d)\n",
    "    return(d*10)  # wapas dia    # if not return nothing \n"
   ]
  },
  {
   "cell_type": "code",
   "execution_count": null,
   "metadata": {},
   "outputs": [],
   "source": [
    "x3 = MyAddition(10, 20 , 30)\n",
    "#store"
   ]
  },
  {
   "cell_type": "code",
   "execution_count": null,
   "metadata": {},
   "outputs": [],
   "source": [
    "print(x3)"
   ]
  },
  {
   "cell_type": "code",
   "execution_count": null,
   "metadata": {},
   "outputs": [],
   "source": [
    "def MyAddition1():\n",
    "    a=2\n",
    "    b=3\n",
    "    c= a+b\n",
    "    print(c)\n",
    "    \n",
    "def MyAddition2(a,b):\n",
    "    c= a+b\n",
    "    print(c)\n",
    "    \n",
    "def MyAddition3(a,b,c):\n",
    "    d= a+b+c\n",
    "    print(d)\n",
    "    return(d*10)  # wapas dia    # if not return nothing \n"
   ]
  },
  {
   "cell_type": "code",
   "execution_count": null,
   "metadata": {},
   "outputs": [],
   "source": [
    "MyAddition1()\n",
    "MyAddition2(200,300)\n",
    "MyAddition3(100,200+200,300+300)"
   ]
  },
  {
   "cell_type": "code",
   "execution_count": null,
   "metadata": {},
   "outputs": [],
   "source": [
    "def FatimaDegreeToRadian(myDegree=45):\n",
    "    degree= myDegree\n",
    "    myDegreeToRadian = degree * (3.143/180)\n",
    "    print(myDegreeToRadian)\n",
    "    return myDegreeToRadian"
   ]
  },
  {
   "cell_type": "code",
   "execution_count": null,
   "metadata": {},
   "outputs": [],
   "source": [
    "FatimaDegreeToRadian(30)\n",
    "FatimaDegreeToRadian()"
   ]
  },
  {
   "cell_type": "code",
   "execution_count": null,
   "metadata": {},
   "outputs": [],
   "source": [
    "degreeToRadian = FatimaDegreeToRadian(30)\n",
    "print( degreeToRadian )\n",
    "print( fatima.sin(degreeToRadian) )\n",
    "print( fatima.cos(degreeToRadian) )\n",
    "print( fatima.tan(degreeToRadian) )"
   ]
  },
  {
   "cell_type": "code",
   "execution_count": null,
   "metadata": {},
   "outputs": [],
   "source": [
    "degree = 30\n",
    "myDegreeToRadian = degree * (3.143/180)\n",
    "print(myDegreeToRadian)"
   ]
  },
  {
   "cell_type": "code",
   "execution_count": null,
   "metadata": {},
   "outputs": [],
   "source": [
    "a=  FatimaDegreeToRadian(30)\n",
    "print( a )"
   ]
  },
  {
   "cell_type": "code",
   "execution_count": null,
   "metadata": {},
   "outputs": [],
   "source": [
    "def MuzafarCelToFahren(mycel=30):\n",
    "    cel=mycel\n",
    "    myceltofahren=(cel*1.8)+32\n",
    "    print(\"this is printing from function\")\n",
    "    print(myceltofahren)\n",
    "    print()\n",
    "    \n",
    "    return(myceltofahren)"
   ]
  },
  {
   "cell_type": "code",
   "execution_count": null,
   "metadata": {},
   "outputs": [],
   "source": [
    "MuzafarCelToFahren()"
   ]
  },
  {
   "cell_type": "code",
   "execution_count": null,
   "metadata": {},
   "outputs": [],
   "source": [
    "x=MuzafarCelToFahren(37)\n",
    "print(x)"
   ]
  },
  {
   "cell_type": "code",
   "execution_count": null,
   "metadata": {},
   "outputs": [],
   "source": [
    "def MuzafarFahrenToCel(myfah=98.6):\n",
    "    fah=myfah\n",
    "    myfahtocel=(myfah-32)*5/9\n",
    "    print(myfahtocel)\n",
    "    return(myfahtocel)"
   ]
  },
  {
   "cell_type": "code",
   "execution_count": null,
   "metadata": {},
   "outputs": [],
   "source": [
    "y=MuzafarFahrenToCel()\n",
    "print(y)"
   ]
  },
  {
   "cell_type": "code",
   "execution_count": null,
   "metadata": {},
   "outputs": [],
   "source": [
    "def MuzFathLv(mynum):\n",
    "    num=mynum\n",
    "    \n",
    "    if(mynum==143):\n",
    "        #print(1432)\n",
    "        return(1432)\n",
    "       # print(\"print after return check\")\n",
    "    \n",
    "    else:\n",
    "        #print(\"lvutwo\")\n",
    "        return(\"lvutwo\")\n",
    "        #print(\"print after return check\")\n",
    "        "
   ]
  },
  {
   "cell_type": "code",
   "execution_count": null,
   "metadata": {},
   "outputs": [],
   "source": [
    "\n",
    "x=MuzFathLv(143)\n",
    "print(x)"
   ]
  },
  {
   "cell_type": "code",
   "execution_count": null,
   "metadata": {},
   "outputs": [],
   "source": [
    "y=MuzFathLv(\"m\")\n",
    "print(y)"
   ]
  },
  {
   "cell_type": "code",
   "execution_count": null,
   "metadata": {},
   "outputs": [],
   "source": [
    "MuzFathLv(143)\n",
    "print(x)\n",
    "MuzFathLv(\"m\")\n",
    "print(y)"
   ]
  },
  {
   "cell_type": "code",
   "execution_count": null,
   "metadata": {},
   "outputs": [],
   "source": [
    "def PrintEvennumbers(num):\n",
    "    n=num\n",
    "    for x in range(n):\n",
    "        print((x+1)*2)"
   ]
  },
  {
   "cell_type": "code",
   "execution_count": null,
   "metadata": {},
   "outputs": [],
   "source": [
    " PrintEvennumbers(10)"
   ]
  },
  {
   "cell_type": "code",
   "execution_count": null,
   "metadata": {},
   "outputs": [],
   "source": [
    "def Primenumbers(num):\n",
    "    n=num\n",
    "    if(1):\n",
    "        print(\"no it is not a prime number\")\n",
    "    elif(n%1==0,n%n==0,n%m==1):\n",
    "        print(\"yes it is  a prime number\")\n",
    "    else:\n",
    "        print(\"no it is not a prime number\")"
   ]
  },
  {
   "cell_type": "code",
   "execution_count": null,
   "metadata": {},
   "outputs": [],
   "source": [
    "Primenumbers(2)"
   ]
  },
  {
   "cell_type": "code",
   "execution_count": null,
   "metadata": {},
   "outputs": [],
   "source": [
    "def PrimeNumbers(mynum):\n",
    "    num=mynum\n",
    "    isRzero=False\n",
    "\n",
    "    for eachnum in range(2,num):\n",
    "        if(num%eachnum==0):\n",
    "            isRzero=True\n",
    "            break\n",
    "    if(isRzero==True):\n",
    "        print(\"NP\") # return False\n",
    "    else:\n",
    "        print(\"p\") # return True"
   ]
  },
  {
   "cell_type": "code",
   "execution_count": null,
   "metadata": {},
   "outputs": [],
   "source": [
    "def PrimeNumberCheck(mynum):\n",
    "    num=mynum\n",
    "    isRzero=False\n",
    "\n",
    "    for eachnum in range(2,num):\n",
    "        if(num%eachnum==0):\n",
    "            isRzero=True\n",
    "            break\n",
    "    if(isRzero==True):\n",
    "         return False\n",
    "    else:\n",
    "         return True"
   ]
  },
  {
   "cell_type": "code",
   "execution_count": null,
   "metadata": {},
   "outputs": [],
   "source": [
    "PrimeNumbers(2)"
   ]
  },
  {
   "cell_type": "code",
   "execution_count": null,
   "metadata": {},
   "outputs": [],
   "source": [
    "def PrimeNumberCheck2(mynum):\n",
    "    num=mynum\n",
    "    isRzero=False\n",
    "\n",
    "    for eachnum in range(2,num):\n",
    "        if(num%eachnum==0):\n",
    "            return False\n",
    "    \n",
    "    return True\n",
    "    \n",
    " "
   ]
  },
  {
   "cell_type": "code",
   "execution_count": null,
   "metadata": {},
   "outputs": [],
   "source": [
    "def NoOfPrimeNumber(MyNoOfPrimeNumberRequire):\n",
    "    noOfPrimeNumberRequire = MyNoOfPrimeNumberRequire\n",
    "\n",
    "    primeCount = 1\n",
    "    primeNumberList = []\n",
    "    eachNumber =2\n",
    "\n",
    "    while(primeCount<=noOfPrimeNumberRequire):\n",
    "        if( PrimeNumberCheck2(eachNumber)  ):  \n",
    "            primeNumberList.append(eachNumber)\n",
    "            primeCount = primeCount +1 \n",
    "        #\n",
    "        eachNumber = eachNumber + 1\n",
    "        \n",
    "    return primeNumberList\n",
    "    "
   ]
  },
  {
   "cell_type": "code",
   "execution_count": null,
   "metadata": {},
   "outputs": [],
   "source": []
  },
  {
   "cell_type": "code",
   "execution_count": null,
   "metadata": {},
   "outputs": [],
   "source": []
  },
  {
   "cell_type": "code",
   "execution_count": null,
   "metadata": {},
   "outputs": [],
   "source": []
  },
  {
   "cell_type": "code",
   "execution_count": null,
   "metadata": {},
   "outputs": [],
   "source": []
  },
  {
   "cell_type": "code",
   "execution_count": null,
   "metadata": {},
   "outputs": [],
   "source": []
  },
  {
   "cell_type": "code",
   "execution_count": null,
   "metadata": {},
   "outputs": [],
   "source": []
  },
  {
   "cell_type": "code",
   "execution_count": null,
   "metadata": {},
   "outputs": [],
   "source": []
  },
  {
   "cell_type": "code",
   "execution_count": null,
   "metadata": {},
   "outputs": [],
   "source": [
    "###6 LIBRARY BASED CALCILATIONS.......\n",
    "##  IMPORT ___ AS ____"
   ]
  },
  {
   "cell_type": "code",
   "execution_count": null,
   "metadata": {},
   "outputs": [],
   "source": [
    "a=10.47869\n",
    "print(round(a))\n",
    "print(round(a,1))\n",
    "print(round(a,4))\n",
    "\n"
   ]
  },
  {
   "cell_type": "code",
   "execution_count": null,
   "metadata": {},
   "outputs": [],
   "source": [
    "import math as fatima\n",
    "a=10.4\n",
    "print(fatima.ceil(a))\n"
   ]
  },
  {
   "cell_type": "code",
   "execution_count": null,
   "metadata": {},
   "outputs": [],
   "source": [
    "a=89.1\n",
    "print(fatima.ceil(a))"
   ]
  },
  {
   "cell_type": "code",
   "execution_count": null,
   "metadata": {},
   "outputs": [],
   "source": [
    "import math as fatimaMath\n",
    "a=10.4\n",
    "print(fatima.floor(a))\n"
   ]
  },
  {
   "cell_type": "code",
   "execution_count": null,
   "metadata": {},
   "outputs": [],
   "source": [
    "a=79.9\n",
    "print(fatimaMath.floor(a))"
   ]
  },
  {
   "cell_type": "code",
   "execution_count": null,
   "metadata": {},
   "outputs": [],
   "source": [
    "fatimaMath.factorial(4)  #factorial of 4 is 4*3*2*1"
   ]
  },
  {
   "cell_type": "code",
   "execution_count": null,
   "metadata": {},
   "outputs": [],
   "source": [
    "fatima.pow(2+1,3)  # .pow is here it is 2+1**3"
   ]
  },
  {
   "cell_type": "code",
   "execution_count": null,
   "metadata": {},
   "outputs": [],
   "source": [
    "fatima.pow(2,fatima.pow(2,3))"
   ]
  },
  {
   "cell_type": "code",
   "execution_count": null,
   "metadata": {},
   "outputs": [],
   "source": [
    "fatima.sin(fatima.radians(30))"
   ]
  },
  {
   "cell_type": "code",
   "execution_count": null,
   "metadata": {},
   "outputs": [],
   "source": [
    "fatima.sin(90 )  # here it is taken as 90radians not as 90degrees"
   ]
  },
  {
   "cell_type": "code",
   "execution_count": null,
   "metadata": {},
   "outputs": [],
   "source": [
    "fatimaMath.radians(90)"
   ]
  },
  {
   "cell_type": "code",
   "execution_count": null,
   "metadata": {},
   "outputs": [],
   "source": [
    "fatima.sin( 1.5707963267948966 ) "
   ]
  },
  {
   "cell_type": "code",
   "execution_count": null,
   "metadata": {},
   "outputs": [],
   "source": [
    "fatimaMath.degrees(1.5707963267948966)"
   ]
  },
  {
   "cell_type": "code",
   "execution_count": null,
   "metadata": {},
   "outputs": [],
   "source": [
    "fatimaMath.asinh(30)"
   ]
  },
  {
   "cell_type": "code",
   "execution_count": null,
   "metadata": {},
   "outputs": [],
   "source": [
    "fatimaMath.degrees(90)"
   ]
  },
  {
   "cell_type": "code",
   "execution_count": null,
   "metadata": {},
   "outputs": [],
   "source": [
    "fatimaMath.sin(90*3.143/180)"
   ]
  },
  {
   "cell_type": "code",
   "execution_count": null,
   "metadata": {},
   "outputs": [],
   "source": [
    "fatimaMath.radians(60)"
   ]
  },
  {
   "cell_type": "code",
   "execution_count": null,
   "metadata": {},
   "outputs": [],
   "source": [
    "fatimaMath.cos(1.0471975511965976)"
   ]
  },
  {
   "cell_type": "code",
   "execution_count": null,
   "metadata": {},
   "outputs": [],
   "source": [
    "help(fatima.sin)"
   ]
  },
  {
   "cell_type": "code",
   "execution_count": null,
   "metadata": {},
   "outputs": [],
   "source": [
    "fatima.sin(30)"
   ]
  },
  {
   "cell_type": "code",
   "execution_count": null,
   "metadata": {},
   "outputs": [],
   "source": [
    "help(fatima.radians)"
   ]
  },
  {
   "cell_type": "code",
   "execution_count": null,
   "metadata": {},
   "outputs": [],
   "source": [
    "print(90*180/3.143)"
   ]
  },
  {
   "cell_type": "code",
   "execution_count": null,
   "metadata": {},
   "outputs": [],
   "source": [
    "fatima.sin(3.143/180 )"
   ]
  },
  {
   "cell_type": "code",
   "execution_count": null,
   "metadata": {},
   "outputs": [],
   "source": [
    "fatima.degrees(90)"
   ]
  },
  {
   "cell_type": "code",
   "execution_count": null,
   "metadata": {},
   "outputs": [],
   "source": [
    "fatima.radians(90)"
   ]
  },
  {
   "cell_type": "code",
   "execution_count": null,
   "metadata": {},
   "outputs": [],
   "source": [
    "(3.143/180) * 90\n"
   ]
  },
  {
   "cell_type": "code",
   "execution_count": null,
   "metadata": {},
   "outputs": [],
   "source": [
    "a=10.47869\n",
    "print(round(a))\n",
    "print(round(a,1))\n",
    "print(round(a,4))\n",
    "\n"
   ]
  },
  {
   "cell_type": "code",
   "execution_count": null,
   "metadata": {},
   "outputs": [],
   "source": [
    "count=0\n",
    "count=10\n",
    "count=100\n",
    "count=0\n",
    "evencount=0\n",
    "oddcount=0\n",
    "remainderzerocount=0\n",
    "checkthisprime=6\n",
    "\n",
    "for eachnumber in range(1,checkthisprime+1):\n",
    "    print(str(checkthisprime)+\"/\"+str(eachnumber))\n",
    "    print(checkthisprime%eachnumber)\n",
    "    if(eachnumber%2==0):\n",
    "        evencount=evencount+1\n",
    "    else:\n",
    "        oddcount=oddcount+1\n",
    "    count=count+1\n",
    "        \n",
    "    if(checkthisprime%eachnumber==0):\n",
    "        remainderzerocount=remainderzerocount+1\n",
    "    \n",
    "    print(\"count \"+str(count))\n",
    "    print()\n",
    "    \n",
    "print(count)\n",
    "print(evencount)\n",
    "print(oddcount)\n",
    "print(remainderzerocount)\n",
    "if(remainderzerocount==2):\n",
    "    print(\"yes it is a primenumbers\")\n",
    "else:\n",
    "    print(\"no it is not prime number\")\n"
   ]
  },
  {
   "cell_type": "code",
   "execution_count": null,
   "metadata": {},
   "outputs": [],
   "source": [
    "\n",
    "\n",
    "remainderzerocount=0\n",
    "checkthisprime=99999990897675879\n",
    "#for loop start\n",
    "for eachnumber in range(1,checkthisprime+1):    \n",
    "    if(checkthisprime%eachnumber==0):\n",
    "        remainderzerocount=remainderzerocount+1\n",
    "    \n",
    "    \n",
    "#for loop end    \n",
    "\n",
    "print(remainderzerocount)\n",
    "if(remainderzerocount==2):\n",
    "    print(\"yes it is a primenumbers\")\n",
    "else:\n",
    "    print(\"no it is not prime number\")\n"
   ]
  },
  {
   "cell_type": "code",
   "execution_count": null,
   "metadata": {},
   "outputs": [],
   "source": []
  },
  {
   "cell_type": "code",
   "execution_count": null,
   "metadata": {},
   "outputs": [],
   "source": [
    "####7 WHILE LOOP....."
   ]
  },
  {
   "cell_type": "code",
   "execution_count": null,
   "metadata": {},
   "outputs": [],
   "source": [
    "###\n",
    "condition = True\n",
    "while(condition):\n",
    "    print(\"hi\")\n",
    "    condition = False"
   ]
  },
  {
   "cell_type": "code",
   "execution_count": null,
   "metadata": {},
   "outputs": [],
   "source": [
    "count = 0\n",
    "while(count < 10):\n",
    "    count = count + 1\n",
    "    print(count)"
   ]
  },
  {
   "cell_type": "code",
   "execution_count": null,
   "metadata": {},
   "outputs": [],
   "source": [
    "count = 0\n",
    "while(count < 10):\n",
    "    print(count)\n",
    "    count = count + 1"
   ]
  },
  {
   "cell_type": "code",
   "execution_count": null,
   "metadata": {},
   "outputs": [],
   "source": [
    "####8 CLASSES.......\n",
    "\n",
    "\n"
   ]
  },
  {
   "cell_type": "code",
   "execution_count": null,
   "metadata": {},
   "outputs": [],
   "source": [
    "class MyClass:  # storing varibles only\n",
    "  x = 5\n",
    "  y = 10\n",
    "  z = 15  "
   ]
  },
  {
   "cell_type": "code",
   "execution_count": null,
   "metadata": {},
   "outputs": [],
   "source": [
    "p1 = MyClass()\n",
    "print(p1.x)\n",
    "print(p1.y)\n",
    "print(p1.z)"
   ]
  },
  {
   "cell_type": "code",
   "execution_count": null,
   "metadata": {},
   "outputs": [],
   "source": [
    "class MyHouse:  # storing varibles only\n",
    "  bedRoom = 2\n",
    "  bathRoom  = 1\n",
    "  kitchenRoom = 1  "
   ]
  },
  {
   "cell_type": "code",
   "execution_count": null,
   "metadata": {},
   "outputs": [],
   "source": [
    "h1 = MyHouse()\n",
    "print(\"bedRoom :\",h1.bedRoom,\" bathroom: \",  h1.bathRoom,\" kitchenroom: \",h1.kitchenRoom)"
   ]
  },
  {
   "cell_type": "code",
   "execution_count": null,
   "metadata": {},
   "outputs": [],
   "source": [
    "h1.bathRoom"
   ]
  },
  {
   "cell_type": "code",
   "execution_count": null,
   "metadata": {},
   "outputs": [],
   "source": [
    "del(h1) # deleting class"
   ]
  },
  {
   "cell_type": "code",
   "execution_count": null,
   "metadata": {},
   "outputs": [],
   "source": [
    "h1 # class deleted"
   ]
  },
  {
   "cell_type": "code",
   "execution_count": null,
   "metadata": {},
   "outputs": [],
   "source": []
  },
  {
   "cell_type": "code",
   "execution_count": null,
   "metadata": {},
   "outputs": [],
   "source": []
  },
  {
   "cell_type": "code",
   "execution_count": null,
   "metadata": {},
   "outputs": [],
   "source": []
  },
  {
   "cell_type": "code",
   "execution_count": null,
   "metadata": {},
   "outputs": [],
   "source": []
  },
  {
   "cell_type": "code",
   "execution_count": null,
   "metadata": {},
   "outputs": [],
   "source": [
    "\n",
    "\n",
    "\n",
    "\n"
   ]
  },
  {
   "cell_type": "code",
   "execution_count": null,
   "metadata": {
    "tags": []
   },
   "outputs": [],
   "source": [
    "class FATIMACLASS():  # Not a Standard  # this is with out __init__ # method 02\n",
    "    name = \"fatima\"\n",
    "    age = 500\n",
    "    \n",
    "    def Myname():\n",
    "        print(FATIMACLASS.name) # Myname\n",
    "    def Myage():\n",
    "        print(FATIMACLASS.age +FATIMACLASS.age) # use class name and variabel\n",
    "        \n",
    "    def MyAddition1():\n",
    "        a=2\n",
    "        b=3\n",
    "        c= a+b\n",
    "        print(c)\n",
    "        return (c)\n",
    "    \n",
    "    def MyAddition2(a,b):\n",
    "        c= a+b\n",
    "        print(c)\n",
    "\n",
    "    def MyAddition3(a,b,c):\n",
    "        d= a+b+c\n",
    "        print(d)\n",
    "        return(d*10)  # wapas dia    # if not return nothing \n",
    "\n",
    "    def FatimaDegreeToRadian(myDegree=45):\n",
    "        degree= myDegree\n",
    "        myDegreeToRadian = degree * (3.143/180)\n",
    "        print(myDegreeToRadian)\n",
    "        return myDegreeToRadian\n"
   ]
  },
  {
   "cell_type": "code",
   "execution_count": null,
   "metadata": {
    "tags": []
   },
   "outputs": [],
   "source": [
    "runFatimaClass = FATIMACLASS  \n",
    "# Note\n",
    "# () __init__ runs > then self in function/method(self) necessary   \n",
    "# runFatimaClass = FATIMACLASS() >   Myname(self)\n",
    "# if no () __init__ class do not run > then self is not require\n",
    "# runFatimaClass = FATIMACLASS >   Myname()"
   ]
  },
  {
   "cell_type": "code",
   "execution_count": null,
   "metadata": {},
   "outputs": [],
   "source": [
    "runFatimaClass.MyAddition1()\n",
    "print( runFatimaClass.name * 10)\n",
    "print( runFatimaClass.age * 10)\n",
    "runFatimaClass.Myname()"
   ]
  },
  {
   "cell_type": "code",
   "execution_count": null,
   "metadata": {
    "tags": []
   },
   "outputs": [],
   "source": [
    "runFatimaClass.FatimaDegreeToRadian()"
   ]
  },
  {
   "cell_type": "code",
   "execution_count": null,
   "metadata": {
    "tags": []
   },
   "outputs": [],
   "source": [
    "class MuzafarClass():\n",
    "    name = \"muzafar\"\n",
    "    def Name():\n",
    "        print(MuzafarClass.name)\n",
    "    def House():\n",
    "        print(\"Ravindra Nagar HOuse\")\n",
    "        \n",
    "    "
   ]
  },
  {
   "cell_type": "code",
   "execution_count": null,
   "metadata": {},
   "outputs": [],
   "source": [
    "myMuzafarClass = MuzafarClass\n",
    "myMuzafarClass.Name()\n",
    "myMuzafarClass.House()"
   ]
  },
  {
   "cell_type": "code",
   "execution_count": null,
   "metadata": {},
   "outputs": [],
   "source": [
    "class FatMuzBacha(FATIMACLASS,MuzafarClass): # InHeritance \n",
    "    def Age():\n",
    "        print(\"5 Years\")\n",
    "    #def Name():  # over ride function from MuzafarClass\n",
    "        #print(\"FatMuzBacha\")\n",
    "        "
   ]
  },
  {
   "cell_type": "code",
   "execution_count": null,
   "metadata": {},
   "outputs": [],
   "source": [
    "myFatMuzaBacha = FatMuzBacha\n",
    "myFatMuzaBacha.Age()\n",
    "myFatMuzaBacha.MyAddition2(2,3)\n",
    "myFatMuzaBacha.House()\n",
    "myFatMuzaBacha.Myname()"
   ]
  },
  {
   "cell_type": "code",
   "execution_count": null,
   "metadata": {},
   "outputs": [],
   "source": [
    "class Fatima2Class:   # Standard  # Learn this  # method 01\n",
    "    \n",
    "    def __init__(self):  # automatic Class # runs once first time when we call/run a class. (init : initialize) # consturctor\n",
    "        self.name=\"fatima2\"\n",
    "        self.age= 2500\n",
    "        print(\"__init__ autoamtic class\")\n",
    "        print(\" aaja ray ab tu SHURAVATH HI A\")\n",
    "        \n",
    "    def Fun1(self):  # SELF refers to this  belongs to Fatima2Class method/function\n",
    "        pass;  # remember\n",
    "    \n",
    "    def Fun2Name(self): \n",
    "        print(self.name)\n",
    "        \n",
    "    def Fun3Age(self):\n",
    "        print(self.age)\n",
    "        \n",
    "    def __del__(self):  # automatic exucute when deleted\n",
    "        print(\"__del__ automatically executed\")\n",
    "        print(\"maraja ja re tu\")\n",
    "        \n",
    "\n",
    "        "
   ]
  },
  {
   "cell_type": "code",
   "execution_count": null,
   "metadata": {},
   "outputs": [],
   "source": [
    "runFatima2Class = Fatima2Class()  # ()  # automatic execute __init method/function\n",
    "\n",
    "runFatima2Class.Fun1()\n",
    "runFatima2Class.Fun2Name()\n",
    "runFatima2Class.Fun3Age()\n",
    "runFatima2Class.age # can call variables\n",
    "runFatima2Class.name\n",
    "\n",
    "del(runFatima2Class)  # automatic executes __del__ method/function\n"
   ]
  },
  {
   "cell_type": "code",
   "execution_count": null,
   "metadata": {},
   "outputs": [],
   "source": [
    "del(runFatima2Class) "
   ]
  },
  {
   "cell_type": "code",
   "execution_count": null,
   "metadata": {},
   "outputs": [],
   "source": [
    "runFatima2Class = Fatima2Class  # No () in Fatima2Class so   __init method/function no executed\n"
   ]
  },
  {
   "cell_type": "code",
   "execution_count": null,
   "metadata": {},
   "outputs": [],
   "source": []
  },
  {
   "cell_type": "code",
   "execution_count": null,
   "metadata": {},
   "outputs": [],
   "source": [
    "class PersonClass:   # Standard  # Learn this  # method 01\n",
    "    \n",
    "    def __init__(self,myName, myAge): # self == this # automatic Class # runs once first time when we call/run a class. (init : initialize) # consturctor\n",
    "        self.name=myName\n",
    "        self.age= myAge\n",
    "        print(\"__init__ autoamtic class\")\n",
    "        print(\" object of \" + self.name)\n",
    "        print(\" aaja ray ab tu SHURAVATH HI A \\n\")\n",
    "        \n",
    "    def Fun1(self):  # SELF refers to this  belongs to Fatima2Class method/function\n",
    "        pass;  # remember\n",
    "    \n",
    "    def Fun2Name(self): \n",
    "        print(self.name)\n",
    "        \n",
    "    def Fun3Age(self):\n",
    "        print(500)\n",
    "        \n",
    "    def MyAddition4(self,a,b):\n",
    "        c= a+b\n",
    "        print(c)\n",
    "        \n",
    "    def __del__(self):  # automatic exucute when deleted # Disturctor\n",
    "        print(\"__del__ automatically executed\")\n",
    "        print(\"object of \" + self.name)\n",
    "        print(\"maraja ja re tu \\n\")\n",
    "        \n"
   ]
  },
  {
   "cell_type": "code",
   "execution_count": null,
   "metadata": {},
   "outputs": [],
   "source": [
    "\n",
    "p3 = PersonClass(\"Fatima3\",503)\n",
    "p4 = PersonClass(\"Fatima4\",504)\n",
    "p5 = PersonClass(\"Muzafar\",505)"
   ]
  },
  {
   "cell_type": "code",
   "execution_count": null,
   "metadata": {},
   "outputs": [],
   "source": [
    "del(p3)"
   ]
  },
  {
   "cell_type": "code",
   "execution_count": null,
   "metadata": {},
   "outputs": [],
   "source": [
    "p3.name # p3 is object of Fatima3"
   ]
  },
  {
   "cell_type": "code",
   "execution_count": null,
   "metadata": {},
   "outputs": [],
   "source": [
    "p3.age"
   ]
  },
  {
   "cell_type": "code",
   "execution_count": null,
   "metadata": {},
   "outputs": [],
   "source": [
    "p4.name # p4 is object of Fatima4\n"
   ]
  },
  {
   "cell_type": "code",
   "execution_count": null,
   "metadata": {},
   "outputs": [],
   "source": [
    "p3.MyAddition4(5,2)"
   ]
  },
  {
   "cell_type": "code",
   "execution_count": null,
   "metadata": {},
   "outputs": [],
   "source": [
    "class FatherClass:   # Standard  # Learn this  # method 01\n",
    "    \n",
    "    def __init__(self,myName, myAge): # self == this # automatic Class # runs once first time when we call/run a class. (init : initialize) # consturctor\n",
    "        self.name=myName\n",
    "        self.age= myAge\n",
    "        print(\"__init__ autoamtic FatherClass\")\n",
    "        print(\" object of \" + self.name)\n",
    "        print(\" aaja ray ab tu SHURAVATH HI A \\n\")\n",
    "        \n",
    "    def Fun1(self):  # SELF refers to this  belongs to Fatima2Class method/function\n",
    "        pass;  # remember\n",
    "    \n",
    "    def Fun2Name(self): \n",
    "        print(self.name)\n",
    "        \n",
    "    def Fun3Age(self):\n",
    "        print(500)\n",
    "        \n",
    "    def MyAddition4(self,a,b):\n",
    "        c= a+b\n",
    "        print(c)\n",
    "        \n",
    "    def __del__(self):  # automatic exucute when deleted # Disturctor\n",
    "        print(\"__del__ automatically executed FatherClass\")\n",
    "        print(\"object of \" + self.name)\n",
    "        print(\"maraja ja re tu \\n\")\n",
    "        "
   ]
  },
  {
   "cell_type": "code",
   "execution_count": null,
   "metadata": {},
   "outputs": [],
   "source": []
  },
  {
   "cell_type": "code",
   "execution_count": null,
   "metadata": {},
   "outputs": [],
   "source": [
    "class MotherClass:   # Standard  # Learn this  # method 01\n",
    "    \n",
    "    def __init__(self,myName, myAge): # self == this # automatic Class # runs once first time when we call/run a class. (init : initialize) # consturctor\n",
    "        self.name=myName\n",
    "        self.age= myAge\n",
    "        print(\"__init__ autoamtic MotherClass\")\n",
    "        print(\" object of \" + self.name)\n",
    "        print(\" aaja ray ab tu SHURAVATH HI A \\n\")\n",
    "        \n",
    "    def Fun1(self):  # SELF refers to this  belongs to Fatima2Class method/function\n",
    "        pass;  # remember\n",
    "    \n",
    "    def Fun2Name(self): \n",
    "        print(self.name)\n",
    "        \n",
    "    def Fun3Age(self):\n",
    "        print(500)\n",
    "        \n",
    "    def MyAddition4(self,a,b):\n",
    "        c= a+b\n",
    "        print(c)\n",
    "        \n",
    "    def __del__(self):  # automatic exucute when deleted # Disturctor\n",
    "        print(\"__del__ automatically executed MotherClass\")\n",
    "        print(\"object of \" + self.name)\n",
    "        print(\"maraja ja re tu \\n\")"
   ]
  },
  {
   "cell_type": "code",
   "execution_count": null,
   "metadata": {},
   "outputs": [],
   "source": [
    "class ChildClass(FatherClass,MotherClass):\n",
    "        def __init__(self,myName, myAge): # self == this # automatic Class # runs once first time when we call/run a class. (init : initialize) # consturctor\n",
    "            self.name=myName\n",
    "            self.age= myAge\n",
    "            print(\"__init__ autoamtic ChildClass\")\n",
    "            print(\" object of \" + self.name)\n",
    "            print(\" aaja ray ab tu SHURAVATH HI A \\n\")\n",
    "        \n",
    "        \n",
    "        def Fun2Name(self): \n",
    "            print(self.name)\n",
    "\n",
    "        def Fun3Age(self):\n",
    "            print(500)\n",
    "\n",
    "        def __del__(self):  # automatic exucute when deleted # Disturctor\n",
    "            print(\"__del__ automatically executed ChildClass\")\n",
    "            print(\"object of \" + self.name)\n",
    "            print(\"maraja ja re tu \\n\")\n",
    "    "
   ]
  },
  {
   "cell_type": "code",
   "execution_count": null,
   "metadata": {},
   "outputs": [],
   "source": [
    "C1=ChildClass('aaa','bbb')"
   ]
  },
  {
   "cell_type": "code",
   "execution_count": null,
   "metadata": {},
   "outputs": [],
   "source": [
    "del(C1)\n",
    "C1.Fun3Age()"
   ]
  },
  {
   "cell_type": "code",
   "execution_count": null,
   "metadata": {},
   "outputs": [],
   "source": [
    "C1 =ChildClass(\"fatMuzChild\",5)"
   ]
  },
  {
   "cell_type": "code",
   "execution_count": null,
   "metadata": {},
   "outputs": [],
   "source": [
    "C1.Fun2Name()"
   ]
  },
  {
   "cell_type": "code",
   "execution_count": null,
   "metadata": {},
   "outputs": [],
   "source": [
    "class ChildClass2(FatherClass,MotherClass):\n",
    "       \n",
    "\n",
    "        def Fun2Name(self): \n",
    "            print(self.name)\n",
    "\n",
    "        def Fun3Age(self):\n",
    "            print(500)\n",
    "\n",
    "        def __del__(self):  # automatic exucute when deleted # Disturctor\n",
    "            print(\"__del__ automatically executed ChildClass\")\n",
    "            print(\"object of \" + self.name)\n",
    "            print(\"maraja ja re tu \\n\")\n",
    "    "
   ]
  },
  {
   "cell_type": "code",
   "execution_count": null,
   "metadata": {},
   "outputs": [],
   "source": [
    "C12 =ChildClass2(\"fatMuzChild\",5)\n",
    "C12.name"
   ]
  },
  {
   "cell_type": "code",
   "execution_count": null,
   "metadata": {},
   "outputs": [],
   "source": [
    "class ChildClass3(MotherClass,FatherClass,):\n",
    "       \n",
    "\n",
    "        def Fun2Name(self): \n",
    "            print(self.name)\n",
    "\n",
    "        def Fun3Age(self):\n",
    "            print(500)\n",
    "\n",
    "        def __del__(self):  # automatic exucute when deleted # Disturctor\n",
    "            print(\"__del__ automatically executed ChildClass\")\n",
    "            print(\"object of \" + self.name)\n",
    "            print(\"maraja ja re tu \\n\")\n",
    "    "
   ]
  },
  {
   "cell_type": "code",
   "execution_count": null,
   "metadata": {},
   "outputs": [],
   "source": [
    "C13 =ChildClass3(\"fatMuzChild\",5)"
   ]
  },
  {
   "cell_type": "code",
   "execution_count": null,
   "metadata": {},
   "outputs": [],
   "source": [
    "\n",
    "\n"
   ]
  },
  {
   "cell_type": "code",
   "execution_count": null,
   "metadata": {},
   "outputs": [],
   "source": [
    "# \n",
    "class Employee:\n",
    "   # 'Common base class for all employees'\n",
    "\n",
    "   empCount = 0    # Class Variable# static # for all objects same # runs only once # ekich bar run hota \n",
    "   totalProfit = 0\n",
    "      \n",
    "   \n",
    "   #\n",
    "   def __init__(self, name, salary,myEmpCount_INIT=0):\n",
    "      self.name = name\n",
    "      self.salary = salary\n",
    "      Employee.empCount = Employee.empCount + 1  # Employee.empCount += 1  # both are same\n",
    "      self.empCount_INIT= myEmpCount_INIT\n",
    "      self._company =\"Google\"\n",
    "    \n",
    "   def Fun01TotalProfit(self):\n",
    "        Employee.totalProfit =1000 + Employee.totalProfit ;\n",
    "        \n",
    "   def Fun02EmpCount_INIT(self):\n",
    "        self.empCount_INIT =1000 + self.empCount_INIT ;\n",
    "      \n",
    "      \n",
    "\n",
    "  "
   ]
  },
  {
   "cell_type": "code",
   "execution_count": null,
   "metadata": {},
   "outputs": [],
   "source": [
    "E1 =Employee(\"Fatima\",1000)\n",
    "\n",
    "print(E1.empCount_INIT)\n",
    "\n",
    "E1.Fun02EmpCount_INIT()\n",
    "E1.Fun02EmpCount_INIT()\n",
    "E1.Fun02EmpCount_INIT()\n",
    "print(E1.empCount_INIT)\n",
    "\n",
    "E1.Fun01TotalProfit()\n",
    "print(E1.totalProfit)\n",
    "\n",
    "print(E1.empCount)"
   ]
  },
  {
   "cell_type": "code",
   "execution_count": null,
   "metadata": {},
   "outputs": [],
   "source": [
    "E1 =Employee(\"Fatima\",1000)                          # empCount and totalProfit : runs once \n",
    "print(Employee.empCount, \" \", E1.empCount_INIT,\" \",E1.name)\n",
    "\n",
    "print(Employee.totalProfit)\n",
    "\n",
    "E1.Fun02EmpCount_INIT()\n",
    "E1.Fun02EmpCount_INIT()\n",
    "E1.Fun02EmpCount_INIT()\n",
    "\n",
    "print(E1.empCount_INIT)\n",
    "\n",
    "\n",
    "# Method 1\n",
    "print(E1.empCount)\n",
    "# Method 2\n",
    "print(Employee.empCount)\n",
    "E1.Fun01TotalProfit()\n",
    "print(E1.totalProfit)\n",
    "\n",
    "print(E1._company)"
   ]
  },
  {
   "cell_type": "code",
   "execution_count": null,
   "metadata": {},
   "outputs": [],
   "source": [
    "E2 =Employee(\"Muzafar\",1000)\n",
    "print(E2.empCount, \" \", E2.empCount_INIT)\n",
    "E1.Fun01TotalProfit()\n",
    "print(E1.totalProfit)\n",
    "\n",
    "\n",
    "E2.Fun02EmpCount_INIT()\n",
    "E2.Fun02EmpCount_INIT()\n",
    "E2.Fun02EmpCount_INIT()\n",
    "\n",
    "print(E2.empCount_INIT)\n",
    "print(E2.empCount)"
   ]
  },
  {
   "cell_type": "code",
   "execution_count": null,
   "metadata": {},
   "outputs": [],
   "source": [
    "E3 =Employee(\"Muzafar\",1000)\n",
    "print(E3.empCount, \" \", E3.empCount_INIT)\n",
    "E3.Fun01TotalProfit()\n",
    "print(E3.totalProfit)"
   ]
  },
  {
   "cell_type": "code",
   "execution_count": null,
   "metadata": {},
   "outputs": [],
   "source": []
  },
  {
   "cell_type": "code",
   "execution_count": null,
   "metadata": {},
   "outputs": [],
   "source": [
    "# Default is public\n",
    "#company = None    # public # Instance Variable # copy or object     #  within out inherit\n",
    "#_company = None   # protected # Instance Variable # copy or object #  within ___ inherit   [# within out inherit] in python Exeptional  # for name sake it is here.\n",
    "#__company = None  # private # Instance Variable # copy or object   #  within ___ _______\n",
    "\n",
    "class Vehical:\n",
    "   \n",
    "   # Example\n",
    "   #company = None    # public # Instance Variable # copy or object     #  within out inherit\n",
    "   #_company = None   # protected # Instance Variable # copy or object #  within ___ inherit   [# within out inherit] in python Exeptional\n",
    "   #__company = None  # private # Instance Variable # copy or object   #  within ___ _______\n",
    "   \n",
    "   #\n",
    "   def __init__(self, name, cost,color):\n",
    "      self.name = name        # public\n",
    "      self._cost = cost       # Private\n",
    "      self.__color =color   # protected\n",
    "    \n",
    "   def Fun01Name(self):   # public function\n",
    "        print(self.name) \n",
    "        \n",
    "   def _Fun02Cost(self):   # protected  = public\n",
    "        print(self._cost) \n",
    "   \n",
    "   def __Fun03Color(self): # private function\n",
    "        print(self.__color)\n",
    "      \n",
    "    \n",
    "class Car(Vehical):\n",
    "    pass\n",
    "\n",
    "        \n",
    "    def fun(self):\n",
    "       self.__Fun03Color()\n",
    "    \n"
   ]
  },
  {
   "cell_type": "code",
   "execution_count": null,
   "metadata": {},
   "outputs": [],
   "source": [
    "C1 = Car(\"honda\",200000,\"silver\")\n",
    "C1.fun()"
   ]
  },
  {
   "cell_type": "code",
   "execution_count": null,
   "metadata": {},
   "outputs": [],
   "source": [
    "# Variable Public Private Protected\n",
    "print(C1.name)   # public\n",
    "print(C1._cost)  # protected    # In python protected behave as Public   protected = public\n",
    "print(C1.__color)# private"
   ]
  },
  {
   "cell_type": "code",
   "execution_count": null,
   "metadata": {},
   "outputs": [],
   "source": [
    "# Function Public Private Protected\n",
    "C1.Fun01Name()    # public\n",
    "C1._Fun02Cost()   # protected    # In python protected behave as Public   protected = public\n",
    "C1.__Fun03Color() # private"
   ]
  },
  {
   "cell_type": "code",
   "execution_count": null,
   "metadata": {},
   "outputs": [],
   "source": [
    "class Employee3(Employee2):\n",
    "    pass\n",
    "\n",
    "\n"
   ]
  },
  {
   "cell_type": "code",
   "execution_count": null,
   "metadata": {},
   "outputs": [],
   "source": [
    "E13 = Employee3(\"muz13\",13)"
   ]
  },
  {
   "cell_type": "code",
   "execution_count": null,
   "metadata": {},
   "outputs": [],
   "source": [
    "E13._company"
   ]
  },
  {
   "cell_type": "code",
   "execution_count": null,
   "metadata": {},
   "outputs": [],
   "source": [
    "import numpy as np\n",
    "\n",
    "class Enemy():\n",
    "    enemyCount = 0\n",
    "    \n",
    "    def __init__(self):\n",
    "        Enemy.enemyCount = Enemy.enemyCount + 1\n",
    "        self.enemyLife = np.random.randint(1,100)\n",
    "        print(Enemy.enemyCount)\n",
    "        \n",
    "    def life(self):\n",
    "        print(\"life: \", self.enemyLife)\n",
    "        \n",
    "    def __del__(self):\n",
    "        Enemy.enemyCount = Enemy.enemyCount - 1\n",
    "        print(\" delete executed \")"
   ]
  },
  {
   "cell_type": "code",
   "execution_count": null,
   "metadata": {},
   "outputs": [],
   "source": [
    "enemy1 =Enemy();\n",
    "enemy2 =Enemy();\n",
    "enemy3 =Enemy();"
   ]
  },
  {
   "cell_type": "code",
   "execution_count": null,
   "metadata": {},
   "outputs": [],
   "source": [
    "E1=Enemy()"
   ]
  },
  {
   "cell_type": "code",
   "execution_count": null,
   "metadata": {},
   "outputs": [],
   "source": [
    "enemy1.life()"
   ]
  },
  {
   "cell_type": "code",
   "execution_count": null,
   "metadata": {},
   "outputs": [],
   "source": [
    "enemy2.life()"
   ]
  },
  {
   "cell_type": "code",
   "execution_count": null,
   "metadata": {},
   "outputs": [],
   "source": [
    "enemy3.life()"
   ]
  },
  {
   "cell_type": "code",
   "execution_count": null,
   "metadata": {},
   "outputs": [],
   "source": [
    "enemylist = [enemy1, enemy2, enemy3]"
   ]
  },
  {
   "cell_type": "code",
   "execution_count": null,
   "metadata": {},
   "outputs": [],
   "source": [
    "enemylist[1].life()"
   ]
  },
  {
   "cell_type": "code",
   "execution_count": null,
   "metadata": {},
   "outputs": [],
   "source": [
    "for i in range(10):\n",
    "    Enemy()"
   ]
  },
  {
   "cell_type": "code",
   "execution_count": null,
   "metadata": {},
   "outputs": [],
   "source": [
    "enemylist = []\n",
    "for i in range(100):\n",
    "    enemylist.append(Enemy())\n",
    "    \n",
    "\n",
    "    \n",
    "    "
   ]
  },
  {
   "cell_type": "code",
   "execution_count": null,
   "metadata": {},
   "outputs": [],
   "source": [
    "print(type(enemylist[10]))\n",
    "enemylist[99].life()"
   ]
  },
  {
   "cell_type": "code",
   "execution_count": null,
   "metadata": {},
   "outputs": [],
   "source": [
    "for i in range(len(enemylist)):\n",
    "    enemylist[i].life()"
   ]
  },
  {
   "cell_type": "code",
   "execution_count": null,
   "metadata": {},
   "outputs": [],
   "source": [
    "print(Enemy.enemyCount)\n",
    "print(enemylist[0].enemyCount)"
   ]
  },
  {
   "cell_type": "code",
   "execution_count": null,
   "metadata": {},
   "outputs": [],
   "source": [
    "del(enemylist[-2])"
   ]
  },
  {
   "cell_type": "code",
   "execution_count": null,
   "metadata": {},
   "outputs": [],
   "source": [
    "class FatimaPracticeClass():\n",
    "    #classvariable\n",
    "    noOfTimesFPCCalled=0\n",
    "    # self\n",
    "\n",
    "    def __init__(fatimaSelf,myname,myage,mystudy,mycolour):\n",
    "        fatimaSelf.name=myname\n",
    "        fatimaSelf.age=myage\n",
    "        fatimaSelf.study=mystudy\n",
    "        fatimaSelf.colour=mycolour\n",
    "        FatimaPracticeClass.noOfTimesFPCCalled+=1\n",
    "        print(\"init excuted by fatima\")\n",
    "        print(\"noOfTimesFPCCalled : \",FatimaPracticeClass.noOfTimesFPCCalled)\n",
    "    def __del__(fatimaSelf):\n",
    "        print(\"delete excuted\")\n",
    "        \n",
    "    def Add(fatimaSelf,a,b):\n",
    "        c=a+b\n",
    "        print(c)\n",
    "    def Sub(fatimaSelf,a,b):\n",
    "        s=a-b\n",
    "        print(s)\n",
    "    def __Description(fatimaSelf):\n",
    "        print(\"my name is \", fatimaSelf.name)\n",
    "        \n",
    "    def InternalFunCall(fatimaSelf,a1,b1,c1,d1):\n",
    "        fatimaSelf.__Description()\n",
    "        fatimaSelf.Add(a1,b1)\n",
    "        fatimaSelf.Sub(c1,d1)\n",
    "        \n",
    "        \n"
   ]
  },
  {
   "cell_type": "code",
   "execution_count": null,
   "metadata": {},
   "outputs": [],
   "source": [
    "FPC1=FatimaPracticeClass(\"fatima1\",10,\"inter\",\"fair\")\n",
    "FPC2=FatimaPracticeClass(\"fatima2\",20,\"inter\",\"fair\")\n",
    "FPC3=FatimaPracticeClass(\"fatima3\",30,\"inter\",\"fair\")"
   ]
  },
  {
   "cell_type": "code",
   "execution_count": null,
   "metadata": {},
   "outputs": [],
   "source": [
    "FPC3.name =\"MASTAN\"\n"
   ]
  },
  {
   "cell_type": "code",
   "execution_count": null,
   "metadata": {},
   "outputs": [],
   "source": [
    "FPC3.__Description()"
   ]
  },
  {
   "cell_type": "code",
   "execution_count": null,
   "metadata": {},
   "outputs": [],
   "source": [
    "FPC1.InternalFunCall(10,20,30,40)"
   ]
  },
  {
   "cell_type": "code",
   "execution_count": null,
   "metadata": {},
   "outputs": [],
   "source": [
    "FPC1.Add(7,0)\n",
    "FPC1.Sub(9,7)"
   ]
  },
  {
   "cell_type": "code",
   "execution_count": null,
   "metadata": {},
   "outputs": [],
   "source": [
    "myFatimaList=[FPC1,FPC2,FPC3]\n"
   ]
  },
  {
   "cell_type": "code",
   "execution_count": null,
   "metadata": {},
   "outputs": [],
   "source": [
    "del(FPC1)"
   ]
  },
  {
   "cell_type": "code",
   "execution_count": null,
   "metadata": {},
   "outputs": [],
   "source": [
    "class MuzafarPracticeClass(FatimaPracticeClass):\n",
    "    pass\n",
    "    \n",
    "    "
   ]
  },
  {
   "cell_type": "code",
   "execution_count": null,
   "metadata": {},
   "outputs": [],
   "source": [
    "MPC=MuzafarPracticeClass(\"muz\",20,\"civil\",\"veryfair\")"
   ]
  },
  {
   "cell_type": "code",
   "execution_count": null,
   "metadata": {},
   "outputs": [],
   "source": [
    "MPC.colour\n"
   ]
  },
  {
   "cell_type": "code",
   "execution_count": null,
   "metadata": {},
   "outputs": [],
   "source": [
    "class MuzafarPracticeClass2(FatimaPracticeClass):\n",
    "    def __init__(muzafarSelf):\n",
    "        FatimaPracticeClass.__init__(muzafarSelf,\"FatimaMuz2\",20,\"civil\",\"veryfair\")\n",
    "    \n",
    "    "
   ]
  },
  {
   "cell_type": "code",
   "execution_count": null,
   "metadata": {},
   "outputs": [],
   "source": [
    "MPC2 =MuzafarPracticeClass2()"
   ]
  },
  {
   "cell_type": "code",
   "execution_count": null,
   "metadata": {},
   "outputs": [],
   "source": [
    "MPC2.name"
   ]
  },
  {
   "cell_type": "code",
   "execution_count": null,
   "metadata": {},
   "outputs": [],
   "source": [
    "PrimeNumbers(2)"
   ]
  },
  {
   "cell_type": "code",
   "execution_count": null,
   "metadata": {},
   "outputs": [],
   "source": []
  },
  {
   "cell_type": "code",
   "execution_count": null,
   "metadata": {},
   "outputs": [],
   "source": [
    "###9  TASKS ON ALGORITHMS....."
   ]
  },
  {
   "cell_type": "code",
   "execution_count": 1,
   "metadata": {},
   "outputs": [
    {
     "name": "stdout",
     "output_type": "stream",
     "text": [
      "start of Program\n",
      "this is Not a prime number\n",
      "End of Program\n"
     ]
    }
   ],
   "source": [
    "\n",
    "####  PRIME NUMBERS CASE..\n",
    "print(\"start of Program\")\n",
    "myNumber=9 ;\n",
    "checkZeroRemainder = True;\n",
    "\n",
    "\n",
    "if(myNumber==1):\n",
    "    checkZeroRemainder=False;\n",
    "    \n",
    "for eachNumber in range(2,myNumber):\n",
    "    remainder = myNumber%eachNumber\n",
    "    if(remainder==0):\n",
    "        checkZeroRemainder = False;\n",
    "        break # break break the loop   \n",
    "    \n",
    "if(checkZeroRemainder):\n",
    "    print(\"This is a prime Number\")\n",
    "else:\n",
    "    print(\"this is Not a prime number\")\n",
    "    \n",
    "    \n",
    "print(\"End of Program\")"
   ]
  },
  {
   "cell_type": "code",
   "execution_count": null,
   "metadata": {},
   "outputs": [],
   "source": [
    "noOfPrimeNumberRequire = 100\n",
    "\n",
    "primeCount = 0\n",
    "primeNumberList = []\n",
    "eachNumber =2\n",
    "\n",
    "while(primeCount<=noOfPrimeNumberRequire):\n",
    "    if( PrimeNumberCheck2(eachNumber)  ):  \n",
    "        primeNumberList.append(eachNumber)\n",
    "        primeCount = primeCount +1 \n",
    "    #\n",
    "    eachNumber = eachNumber + 1\n",
    "    \n",
    "    \n",
    "    "
   ]
  },
  {
   "cell_type": "code",
   "execution_count": null,
   "metadata": {},
   "outputs": [],
   "source": [
    "print(primeNumberList)"
   ]
  },
  {
   "cell_type": "code",
   "execution_count": null,
   "metadata": {},
   "outputs": [],
   "source": [
    "print(len(NoOfPrimeNumber(500)))"
   ]
  },
  {
   "cell_type": "code",
   "execution_count": null,
   "metadata": {},
   "outputs": [],
   "source": [
    "twinPrimeList=[]\n",
    "tempList =[]\n",
    "for index in range(len(primeNumberList)-1):\n",
    "    a=primeNumberList[index] \n",
    "    b=primeNumberList[index+1]\n",
    "    if((b-a)==2):\n",
    "        tempList=[a,b]\n",
    "        twinPrimeList.append(tempList)\n",
    "        "
   ]
  },
  {
   "cell_type": "code",
   "execution_count": null,
   "metadata": {},
   "outputs": [],
   "source": [
    "print(twinPrimeList)"
   ]
  },
  {
   "cell_type": "code",
   "execution_count": null,
   "metadata": {},
   "outputs": [],
   "source": []
  },
  {
   "cell_type": "code",
   "execution_count": null,
   "metadata": {},
   "outputs": [],
   "source": [
    "noOfTwinPrimeRequire = 100\n",
    "\n",
    "TwinprimeCount = 0\n",
    "TwinprimeNumberList = [] ; TempList= []\n",
    "eachNumber =2\n",
    "\n",
    "while(TwinprimeCount<noOfTwinPrimeRequire):\n",
    "    if( PrimeNumberCheck2(eachNumber)  and  PrimeNumberCheck2(eachNumber+2)):  \n",
    "        a= eachNumber\n",
    "        b= eachNumber + 2\n",
    "        TempList = [a,b]\n",
    "        TwinprimeNumberList.append(TempList)\n",
    "        TwinprimeCount = TwinprimeCount +1 \n",
    "    #\n",
    "    eachNumber = eachNumber + 1\n",
    "    \n",
    "    \n",
    "    "
   ]
  },
  {
   "cell_type": "code",
   "execution_count": null,
   "metadata": {},
   "outputs": [],
   "source": [
    "print(TwinprimeNumberList)"
   ]
  },
  {
   "cell_type": "code",
   "execution_count": null,
   "metadata": {},
   "outputs": [],
   "source": [
    "def NoOfTwinPrime(MyNoOfTwinPrimeRequire):\n",
    "    noOfTwinPrimeRequire = MyNoOfTwinPrimeRequire\n",
    "\n",
    "    TwinprimeCount = 1\n",
    "    TwinprimeNumberList = [] ; TempList= []\n",
    "    eachNumber =2\n",
    "\n",
    "    while(TwinprimeCount<=noOfTwinPrimeRequire):\n",
    "        if( PrimeNumberCheck2(eachNumber)  and  PrimeNumberCheck2(eachNumber+2)):  \n",
    "            a= eachNumber\n",
    "            b= eachNumber + 2\n",
    "            TempList = [a,b]\n",
    "            TwinprimeNumberList.append(TempList)\n",
    "            TwinprimeCount = TwinprimeCount +1 \n",
    "        #\n",
    "        eachNumber = eachNumber + 1\n",
    "        \n",
    "    return(TwinprimeNumberList)\n"
   ]
  },
  {
   "cell_type": "code",
   "execution_count": null,
   "metadata": {},
   "outputs": [],
   "source": [
    "TwinPrime = NoOfTwinPrime(200)\n",
    "print(TwinPrime)  # print(NoOfTwinPrime(200))\n"
   ]
  },
  {
   "cell_type": "code",
   "execution_count": null,
   "metadata": {},
   "outputs": [],
   "source": []
  },
  {
   "cell_type": "code",
   "execution_count": null,
   "metadata": {},
   "outputs": [],
   "source": [
    "# Prime number list with out functions\n",
    "noOfPrimeNumberRequire = 500\n",
    "\n",
    "primeCount = 0\n",
    "primeNumberList = []\n",
    "eachNumber =2\n",
    "\n",
    "while(primeCount<=noOfPrimeNumberRequire):\n",
    "    ##\n",
    "    num=eachNumber\n",
    "    isRzero=False\n",
    "\n",
    "    for eachnum in range(2,num):\n",
    "        if(num%eachnum==0):\n",
    "            isRzero=True\n",
    "            break\n",
    "    if(isRzero==False):\n",
    "        primeNumberList.append(eachNumber)\n",
    "        primeCount = primeCount +1 \n",
    "        \n",
    "    #\n",
    "    eachNumber = eachNumber + 1\n",
    "    \n",
    "print(primeNumberList)"
   ]
  },
  {
   "cell_type": "code",
   "execution_count": null,
   "metadata": {},
   "outputs": [],
   "source": []
  },
  {
   "cell_type": "code",
   "execution_count": null,
   "metadata": {},
   "outputs": [],
   "source": [
    "# Twin Prime with out functions\n",
    "noOfTwinPrimeRequire = 100\n",
    "\n",
    "TwinprimeCount = 0\n",
    "TwinprimeNumberList = [] ; TempList= []\n",
    "eachNumber =2\n",
    "\n",
    "while(TwinprimeCount<noOfTwinPrimeRequire):\n",
    "    num=eachNumber\n",
    "    isRzero1=False\n",
    "\n",
    "    for eachnum in range(2,num):\n",
    "        if(num%eachnum==0):\n",
    "            isRzero1=True\n",
    "            break\n",
    "    \n",
    "    num=eachNumber+2\n",
    "    isRzero2=False\n",
    "\n",
    "    for eachnum in range(2,num):\n",
    "        if(num%eachnum==0):\n",
    "            isRzero2=True\n",
    "            break\n",
    "        \n",
    "    if( isRzero1==False  and  isRzero2==False):  \n",
    "        a= eachNumber\n",
    "        b= eachNumber + 2\n",
    "        TempList = [a,b]\n",
    "        TwinprimeNumberList.append(TempList)\n",
    "        TwinprimeCount = TwinprimeCount +1 \n",
    "    #\n",
    "    eachNumber = eachNumber + 1\n",
    "    \n",
    "    \n",
    "print(TwinprimeNumberList)  "
   ]
  },
  {
   "cell_type": "code",
   "execution_count": 11,
   "metadata": {},
   "outputs": [
    {
     "name": "stdout",
     "output_type": "stream",
     "text": [
      "[1, 1, 2, 3, 5]\n"
     ]
    }
   ],
   "source": [
    "##Fibonaci series\n",
    "\n",
    "a=[1,1]\n",
    "for f in range(3):\n",
    "    b=a[-1] +a[-2]\n",
    "    a.append(b)\n",
    "    \n",
    "print(a)"
   ]
  },
  {
   "cell_type": "code",
   "execution_count": 9,
   "metadata": {},
   "outputs": [],
   "source": [
    "\n",
    "##Fibonaci series\n",
    "def FibonaciSeries(num):\n",
    "    a=[1,1]    \n",
    "    for f in range(num):\n",
    "        b=a[-1] +a[-2]\n",
    "        a.append(b)\n",
    "    \n",
    "    print(a)\n",
    "    return(a)\n",
    "    \n",
    "    \n",
    "    \n",
    "\n",
    "\n",
    "\n",
    "\n",
    "\n"
   ]
  },
  {
   "cell_type": "code",
   "execution_count": 10,
   "metadata": {},
   "outputs": [
    {
     "name": "stdout",
     "output_type": "stream",
     "text": [
      "[1, 1, 2, 3, 5, 8, 13, 21]\n"
     ]
    }
   ],
   "source": [
    "##Fibonaci series\n",
    "\n",
    "a=[1,1]\n",
    "for index in range(6):\n",
    "    b=a[index] +a[index+1]\n",
    "    a.append(b)\n",
    "    \n",
    "print(a)"
   ]
  },
  {
   "cell_type": "code",
   "execution_count": 23,
   "metadata": {},
   "outputs": [
    {
     "name": "stdout",
     "output_type": "stream",
     "text": [
      "[1, 1, 2, 3, 5, 8]\n",
      "8\n"
     ]
    }
   ],
   "source": [
    "a=FibonaciSeries(4)\n",
    "print(a[-1])"
   ]
  },
  {
   "cell_type": "code",
   "execution_count": 90,
   "metadata": {},
   "outputs": [
    {
     "name": "stdout",
     "output_type": "stream",
     "text": [
      "X\n",
      "XX\n",
      "XXX\n",
      "XXXX\n",
      "XXXXX\n",
      "XXXXXX\n",
      "XXXXXXX\n",
      "XXXXXXXX\n",
      "XXXXXXXXX\n",
      "XXXXXXXXXX\n"
     ]
    }
   ],
   "source": [
    "## standard\n",
    "lines =10\n",
    "for eachLine in range(1,lines+1): \n",
    "    \n",
    "    for i in range(eachLine):\n",
    "        \n",
    "        print(\"X\",end=\"\")\n",
    "        \n",
    "    print(\"\")\n",
    "    "
   ]
  },
  {
   "cell_type": "code",
   "execution_count": 220,
   "metadata": {},
   "outputs": [
    {
     "name": "stdout",
     "output_type": "stream",
     "text": [
      "X\n",
      "XX\n",
      "XXX\n",
      "XXXX\n",
      "XXXXX\n",
      "XXXXYX\n",
      "XXXXYXX\n",
      "XXXXXXXX\n",
      "XXXXXXXXX\n",
      "XXXXYXXXXX\n"
     ]
    }
   ],
   "source": [
    "\n",
    "lines =10\n",
    "for eachLine in range(1,lines+1): \n",
    "    \n",
    "    for eachX in range(eachLine):\n",
    "        if(( eachLine==6 or eachLine==7 or eachLine==10 )and eachX==5-1):\n",
    "            print(\"Y\",end=\"\")\n",
    "        else:\n",
    "            print(\"X\",end=\"\")\n",
    "            \n",
    "            \n",
    "        \n",
    "        \n",
    "    print(\"\")\n",
    "    "
   ]
  },
  {
   "cell_type": "code",
   "execution_count": 224,
   "metadata": {},
   "outputs": [
    {
     "name": "stdout",
     "output_type": "stream",
     "text": [
      "X\n",
      "XX\n",
      "XXX\n",
      "\n",
      "XXXXY\n",
      "XXXXYX\n",
      "XXXXYXX\n",
      "XXXXYXXX\n",
      "XXXXYXXXX\n",
      "XXXXYXXXXX\n"
     ]
    }
   ],
   "source": [
    "\n",
    "lines =10\n",
    "for eachLine in range(1,lines+1): \n",
    "    \n",
    "    for eachX in range(1,eachLine+1):\n",
    "        if(eachLine==4):\n",
    "            continue\n",
    "        if(eachLine>=5 and eachX==5):\n",
    "            print(\"Y\",end=\"\")\n",
    "        else:\n",
    "            \n",
    "            print(\"X\",end=\"\")\n",
    "        \n",
    "    print(\"\")\n",
    "    "
   ]
  },
  {
   "cell_type": "code",
   "execution_count": 238,
   "metadata": {},
   "outputs": [
    {
     "name": "stdout",
     "output_type": "stream",
     "text": [
      "X\n",
      "XX\n",
      "XXX\n",
      "\n",
      "XXXXY\n",
      "XXXXYX\n",
      "\n",
      "XXXXYXXX\n",
      "XXXXYXXXX\n",
      "XXXXYXXXXX\n"
     ]
    }
   ],
   "source": [
    "\n",
    "lines =10\n",
    "for eachLine in range(1,lines+1):\n",
    "    if(eachLine==4 or eachLine==7):\n",
    "        print(\"\\n\",end=\"\") # print(\"\")\n",
    "        continue\n",
    "    \n",
    "    for eachX in range(1,eachLine+1):\n",
    "        \n",
    "        if(eachLine>=5 and eachX==5):\n",
    "            print(\"Y\",end=\"\")\n",
    "        else:\n",
    "            \n",
    "            print(\"X\",end=\"\")\n",
    "        \n",
    "    print(\"\")\n",
    "    "
   ]
  },
  {
   "cell_type": "code",
   "execution_count": 205,
   "metadata": {},
   "outputs": [
    {
     "name": "stdout",
     "output_type": "stream",
     "text": [
      "X\n",
      "XX\n",
      "XXX\n",
      "XXXX\n",
      "XXXXXX\n",
      "XXXXXXX\n",
      "XXXXXXXX\n",
      "XXXXXXXXX\n",
      "XXXXXXXXXX\n"
     ]
    }
   ],
   "source": [
    "\n",
    "lines =10\n",
    "for eachLine in range(1,lines+1):\n",
    "    if(eachLine==5):\n",
    "        continue\n",
    "        \n",
    "    for i in range(eachLine):\n",
    "        print(\"X\",end=\"\")\n",
    "        \n",
    "    print(\"\")\n",
    "        "
   ]
  },
  {
   "cell_type": "code",
   "execution_count": 209,
   "metadata": {},
   "outputs": [
    {
     "name": "stdout",
     "output_type": "stream",
     "text": [
      "X\n",
      "XX\n",
      "XXX\n",
      "XXXX\n",
      "\n",
      "XXXXXX\n",
      "XXXXXXX\n",
      "XXXXXXXX\n",
      "XXXXXXXXX\n",
      "XXXXXXXXXX\n"
     ]
    }
   ],
   "source": [
    "## standard\n",
    "lines =10\n",
    "for eachLine in range(1,lines+1):\n",
    "   \n",
    "        \n",
    "    for i in range(eachLine):\n",
    "        if(eachLine==5):\n",
    "            continue\n",
    "        \n",
    "        print(\"X\",end=\"\")\n",
    "        \n",
    "        \n",
    "    print(\"\")\n",
    "        "
   ]
  },
  {
   "cell_type": "code",
   "execution_count": 83,
   "metadata": {},
   "outputs": [
    {
     "name": "stdout",
     "output_type": "stream",
     "text": [
      "X\n",
      "X\n",
      "X\n",
      "X\n",
      "X\n",
      "X\n",
      "X\n",
      "X\n",
      "X\n",
      "X\n"
     ]
    }
   ],
   "source": [
    "lines =10\n",
    "for eachline in range(lines):\n",
    "    print(\"X\")\n",
    "    "
   ]
  },
  {
   "cell_type": "code",
   "execution_count": 1,
   "metadata": {},
   "outputs": [
    {
     "name": "stdout",
     "output_type": "stream",
     "text": [
      "X\n",
      "XXX\n",
      "XXXXX\n",
      "XXXXXXX\n",
      "XXXXXXXXX\n"
     ]
    }
   ],
   "source": [
    "\n",
    "lines =10\n",
    "for eachLine in range(1,lines+1,2): \n",
    "    \n",
    "    for i in range(eachLine):\n",
    "        print(\"X\",end=\"\")\n",
    "        \n",
    "    print(\"\")\n",
    "    "
   ]
  },
  {
   "cell_type": "code",
   "execution_count": 106,
   "metadata": {},
   "outputs": [
    {
     "name": "stdout",
     "output_type": "stream",
     "text": [
      "X\n",
      "XXX\n",
      "XXXXX\n",
      "XXXXXXX\n",
      "XXXXXXXXX\n",
      "XXXXXXXXXXX\n",
      "XXXXXXXXXXXXX\n",
      "XXXXXXXXXXXXXXX\n",
      "XXXXXXXXXXXXXXXXX\n",
      "XXXXXXXXXXXXXXXXXXX\n"
     ]
    }
   ],
   "source": [
    "\n",
    "lines =10\n",
    "for eachLine in range(1,lines+1): \n",
    "    \n",
    "    tempX = 2*eachLine -1\n",
    "    for i in range(tempX):\n",
    "        print(\"X\",end=\"\")\n",
    "        \n",
    "    print(\"\")\n",
    "    "
   ]
  },
  {
   "cell_type": "code",
   "execution_count": 103,
   "metadata": {},
   "outputs": [
    {
     "name": "stdout",
     "output_type": "stream",
     "text": [
      "X\n",
      "XX\n",
      "XXX\n",
      "XXXX\n",
      "XXXXX\n",
      "XXXXXX\n",
      "XXXXXXX\n",
      "XXXXXXXX\n",
      "XXXXXXXXX\n",
      "XXXXXXXXXX\n"
     ]
    }
   ],
   "source": [
    "n=5\n",
    "lines =n*2\n",
    "for eachLine in range(1,lines+1): \n",
    "    \n",
    "    for i in range(eachLine):\n",
    "        print(\"X\",end=\"\")\n",
    "        \n",
    "    print(\"\")\n",
    "    "
   ]
  },
  {
   "cell_type": "code",
   "execution_count": 107,
   "metadata": {},
   "outputs": [
    {
     "name": "stdout",
     "output_type": "stream",
     "text": [
      "X\n",
      "XXX\n",
      "XXXXX\n",
      "XXXXXXX\n",
      "XXXXXXXXX\n",
      "XXXXXXXXXXX\n",
      "XXXXXXXXXXXXX\n",
      "XXXXXXXXXXXXXXX\n",
      "XXXXXXXXXXXXXXXXX\n",
      "XXXXXXXXXXXXXXXXXXX\n"
     ]
    }
   ],
   "source": [
    "# No to this method\n",
    "lines =10\n",
    "for eachLine in range(1,lines+1): \n",
    "    \n",
    "    tempX = 2*eachLine -1\n",
    "    print(\"X\" * tempX,end=\"\")\n",
    "        \n",
    "    print(\"\")\n",
    "    "
   ]
  },
  {
   "cell_type": "code",
   "execution_count": 45,
   "metadata": {},
   "outputs": [
    {
     "name": "stdout",
     "output_type": "stream",
     "text": [
      "X Y Z"
     ]
    }
   ],
   "source": [
    "print(\"X \",end=\"\")##end=\"\"  means next line me nakko jare ba kato\n",
    "print(\"Y \", end=\"\")\n",
    "print(\"Z\",end=\"\")\n"
   ]
  },
  {
   "cell_type": "code",
   "execution_count": 2,
   "metadata": {},
   "outputs": [
    {
     "name": "stdout",
     "output_type": "stream",
     "text": [
      "X \n",
      "Y \n",
      "Z\n"
     ]
    }
   ],
   "source": [
    "print(\"X \")\n",
    "print(\"Y \")\n",
    "print(\"Z\")\n"
   ]
  },
  {
   "cell_type": "code",
   "execution_count": 153,
   "metadata": {},
   "outputs": [
    {
     "name": "stdout",
     "output_type": "stream",
     "text": [
      "XXXXX\n",
      "XXXX\n",
      "XXX\n",
      "XX\n",
      "X\n"
     ]
    }
   ],
   "source": [
    "\n",
    "\n",
    "lines =5\n",
    "for eachLine in range(1,lines+1): \n",
    "    \n",
    "    for i in range(lines+1-(eachLine)):\n",
    "        print(\"X\",end=\"\")\n",
    "        \n",
    "    print(\"\")"
   ]
  },
  {
   "cell_type": "code",
   "execution_count": null,
   "metadata": {},
   "outputs": [],
   "source": [
    "# Muzafar\n",
    "\n",
    "num=int(input(\"Enter the number   \"))\n",
    "\n",
    "sum =0\n",
    "while(num>0):\n",
    "    k=num%10\n",
    "    sum= sum +k\n",
    "    num =int(num/10)\n",
    "    \n",
    "print(sum)"
   ]
  },
  {
   "cell_type": "code",
   "execution_count": 245,
   "metadata": {},
   "outputs": [
    {
     "name": "stdout",
     "output_type": "stream",
     "text": [
      "XXXXXXXXXX\n",
      "XXXXXXXXX\n",
      "XXXXXXXX\n",
      "XXXXXXX\n",
      "XXXXXX\n",
      "XXXXX\n",
      "XXXX\n",
      "XXX\n",
      "XX\n",
      "X\n"
     ]
    }
   ],
   "source": [
    "lines =10\n",
    "for eachLine in range(10,0,-1): \n",
    "    \n",
    "    for i in range(eachLine):\n",
    "        print(\"X\",end=\"\")\n",
    "        \n",
    "    print(\"\")\n",
    "    "
   ]
  },
  {
   "cell_type": "code",
   "execution_count": 188,
   "metadata": {},
   "outputs": [
    {
     "name": "stdout",
     "output_type": "stream",
     "text": [
      "1\n",
      "1\n",
      "2\n",
      "3\n",
      "5\n",
      "8\n"
     ]
    }
   ],
   "source": [
    "a1=1\n",
    "b1=1\n",
    "print(a1)\n",
    "print(b1)\n",
    "for x in range(4):\n",
    "    c1=a1+b1\n",
    "    print(c1)\n",
    "    a1=b1\n",
    "    b1=c1\n",
    "    "
   ]
  },
  {
   "cell_type": "code",
   "execution_count": 189,
   "metadata": {},
   "outputs": [
    {
     "name": "stdout",
     "output_type": "stream",
     "text": [
      "1\n",
      "1\n",
      "2\n",
      "4\n",
      "7\n",
      "13\n",
      "24\n"
     ]
    }
   ],
   "source": [
    "a1=1\n",
    "b1=1\n",
    "c1=2\n",
    "print(a1)\n",
    "print(b1)\n",
    "print(c1)\n",
    "for x in range(4):\n",
    "    d1=a1+b1+c1\n",
    "    print(d1)\n",
    "    a1=b1\n",
    "    b1=c1\n",
    "    c1=d1"
   ]
  },
  {
   "cell_type": "code",
   "execution_count": 295,
   "metadata": {},
   "outputs": [
    {
     "name": "stdout",
     "output_type": "stream",
     "text": [
      "X\n",
      "XX\n",
      "XXX\n",
      "XXXX\n",
      "XXXXX\n",
      "XXXXXX\n",
      "XXXXXXX\n",
      "XXXXXXXX\n",
      "XXXXXXXXX\n"
     ]
    }
   ],
   "source": [
    "lines =5\n",
    "for eachLine in range(1,2*lines): \n",
    "    \n",
    "    for eachX in range(1,eachLine+1):\n",
    "        if( eachLine==4 and eachX==lines):\n",
    "            break\n",
    "        \n",
    "        print(\"X\",end=\"\")\n",
    "        \n",
    "    print(\"\")"
   ]
  },
  {
   "cell_type": "code",
   "execution_count": 314,
   "metadata": {},
   "outputs": [
    {
     "name": "stdout",
     "output_type": "stream",
     "text": [
      "X\n",
      "XX\n",
      "XXX\n",
      "XX\n",
      "X\n"
     ]
    }
   ],
   "source": [
    "lines =3\n",
    "for eachLine in range(1,2*lines): \n",
    "    \n",
    "    for eachX in range(1,eachLine+1):\n",
    "        if( eachLine>lines ):\n",
    "            for eachBX in range(2*lines-eachLine):\n",
    "                print(\"X\",end=\"\")\n",
    "            break\n",
    "        \n",
    "        print(\"X\",end=\"\")\n",
    "        \n",
    "    print(\"\")"
   ]
  },
  {
   "cell_type": "code",
   "execution_count": 329,
   "metadata": {},
   "outputs": [
    {
     "name": "stdout",
     "output_type": "stream",
     "text": [
      "X\n",
      "XX\n",
      "XXX\n",
      "XX\n",
      "X\n"
     ]
    }
   ],
   "source": [
    "lines=3\n",
    "for eachLine in range(1,2*lines):\n",
    "    if(eachLine>lines):\n",
    "        x=2*lines-eachLine\n",
    "        y=0\n",
    "        z=-1\n",
    "    else:\n",
    "        x=1\n",
    "        y=eachLine+1\n",
    "        z=1\n",
    "    for eachX in range(x,y,z):\n",
    "        print(\"X\",end=\"\")\n",
    "    print(\"\")    \n",
    "\n"
   ]
  },
  {
   "cell_type": "code",
   "execution_count": 376,
   "metadata": {},
   "outputs": [
    {
     "name": "stdout",
     "output_type": "stream",
     "text": [
      "X\n",
      "XX\n",
      "XXX\n",
      "XXXX\n",
      "XXXXX\n",
      "XXXX\n",
      "XXX\n",
      "XX\n",
      "X\n",
      "\n"
     ]
    }
   ],
   "source": [
    "\n",
    "lines =5\n",
    "for eachLine in range(1,lines+1): \n",
    "    \n",
    "    for i in range(eachLine):\n",
    "        \n",
    "        print(\"X\",end=\"\")\n",
    "        \n",
    "    print(\"\")\n",
    "\n",
    "    \n",
    "\n",
    "\n",
    "\n",
    "for eachLine in range(1,lines+1): \n",
    "    \n",
    "    for i in range(lines-(eachLine)):\n",
    "        print(\"X\",end=\"\")\n",
    "        \n",
    "    print(\"\")"
   ]
  },
  {
   "cell_type": "code",
   "execution_count": 377,
   "metadata": {},
   "outputs": [
    {
     "name": "stdout",
     "output_type": "stream",
     "text": [
      "1\n",
      "22\n",
      "333\n",
      "22\n",
      "1\n"
     ]
    }
   ],
   "source": [
    "\n",
    "newlines=3\n",
    "lines =newlines\n",
    "for eachLine in range(1,lines+1): \n",
    "    \n",
    "    for i in range(1,eachLine+1):\n",
    "        \n",
    "        print(eachLine,end=\"\")\n",
    "        \n",
    "    print(\"\")\n",
    "\n",
    "    \n",
    "\n",
    "\n",
    "lines =newlines-1\n",
    "for eachLine in range(1,lines+1): \n",
    "    \n",
    "    for i in range(lines+1-(eachLine)):\n",
    "        print(lines-eachLine+1,end=\"\")\n",
    "        \n",
    "    print(\"\")"
   ]
  },
  {
   "cell_type": "code",
   "execution_count": 378,
   "metadata": {},
   "outputs": [
    {
     "name": "stdout",
     "output_type": "stream",
     "text": [
      "1\n",
      "12\n",
      "123\n",
      "1234\n",
      "12345\n",
      "1234\n",
      "123\n",
      "12\n",
      "1\n"
     ]
    }
   ],
   "source": [
    "\n",
    "newlines=5\n",
    "lines =newlines\n",
    "for eachLine in range(1,lines+1): \n",
    "    \n",
    "    for i in range(1,eachLine+1):\n",
    "        \n",
    "        print(i,end=\"\")\n",
    "        \n",
    "    print(\"\")\n",
    "\n",
    "    \n",
    "\n",
    "\n",
    "lines =newlines-1\n",
    "for eachLine in range(1,lines+1): \n",
    "    \n",
    "    for i in range(lines+1-(eachLine)):\n",
    "        print(i+1,end=\"\")\n",
    "        \n",
    "    print(\"\")"
   ]
  },
  {
   "cell_type": "code",
   "execution_count": 396,
   "metadata": {},
   "outputs": [
    {
     "name": "stdout",
     "output_type": "stream",
     "text": [
      "    X \n",
      "   X X \n",
      "  X X X \n",
      " X X X X \n",
      "X X X X X \n"
     ]
    }
   ],
   "source": [
    "lines=5\n",
    "for eachline in range(1,lines+1):\n",
    "    \n",
    "    for eachspace in range(lines-eachline):\n",
    "        print(\" \",end=\"\")\n",
    "    for eachX in range(1,eachline+1):\n",
    "        print(\"X \",end=\"\")\n",
    "    print(\"\")    "
   ]
  },
  {
   "cell_type": "code",
   "execution_count": 8,
   "metadata": {},
   "outputs": [
    {
     "name": "stdout",
     "output_type": "stream",
     "text": [
      "         X                   X \n",
      "        X X                 X X \n",
      "       X X X               X X X \n",
      "      X X X X             X X X X \n",
      "     X X X X X           X X X X X \n",
      "    X X X X X X         X X X X X X \n",
      "   X X X X X X X       X X X X X X X \n",
      "  X X X X X X X X     X X X X X X X X \n",
      " X X X X X X X X X   X X X X X X X X X \n",
      "X X X X X X X X X X X X X X X X X X X X \n"
     ]
    }
   ],
   "source": [
    "lines=10\n",
    "for eachline in range(1,lines+1):\n",
    "    \n",
    "    for eachspace in range(lines-eachline):\n",
    "        print(\" \",end=\"\")\n",
    "    for eachX in range(1,eachline+1):\n",
    "        print(\"X \",end=\"\")\n",
    "    for eachspace in range(2*(lines-eachline)):\n",
    "        print(\" \",end=\"\")\n",
    "    for eachX in range(1,eachline+1):\n",
    "        print(\"X \",end=\"\")\n",
    "    print(\"\")  \n",
    "      \n",
    "    "
   ]
  },
  {
   "cell_type": "code",
   "execution_count": 462,
   "metadata": {},
   "outputs": [
    {
     "name": "stdout",
     "output_type": "stream",
     "text": [
      "X X X X X \n",
      " X X X X \n",
      "  X X X \n",
      "   X X \n",
      "    X \n"
     ]
    }
   ],
   "source": [
    "lines=5\n",
    "for eachline in range(lines,0,-1):\n",
    "\n",
    "    \n",
    "    for eachspace in range(lines-eachline):\n",
    "        print(\" \",end=\"\")\n",
    "    for eachX in range(1,eachline+1):\n",
    "        print(\"X \",end=\"\")\n",
    "    print(\"\")    "
   ]
  },
  {
   "cell_type": "code",
   "execution_count": 405,
   "metadata": {},
   "outputs": [
    {
     "name": "stdout",
     "output_type": "stream",
     "text": [
      "    X \n",
      "   X X \n",
      "  X X X \n",
      " X X X X \n",
      "X X X X X \n",
      " X X X X \n",
      "  X X X \n",
      "   X X \n",
      "    X \n"
     ]
    }
   ],
   "source": [
    "newlines=5\n",
    "lines=newlines\n",
    "for eachline in range(1,lines+1):\n",
    "    \n",
    "    for eachspace in range(lines-eachline):\n",
    "        print(\" \",end=\"\")\n",
    "    for eachX in range(1,eachline+1):\n",
    "        print(\"X \",end=\"\")\n",
    "    print(\"\")\n",
    "    \n",
    "lines=newlines-1\n",
    "\n",
    "for eachline in range(lines,0,-1):\n",
    "    \n",
    "    for eachspace in range(lines+1-(eachline)):\n",
    "        print(\" \",end=\"\")\n",
    "    for eachX in range(1,eachline+1):\n",
    "        print(\"X \",end=\"\")\n",
    "    print(\"\")        "
   ]
  },
  {
   "cell_type": "code",
   "execution_count": 101,
   "metadata": {},
   "outputs": [],
   "source": [
    "def stars(newlines=10):\n",
    "    lines=newlines\n",
    "    for eachline in range(1,lines+1):\n",
    "\n",
    "        for eachspace in range(lines-eachline):\n",
    "            print(\" \",end=\"\")\n",
    "        for eachX in range(1,eachline+1):\n",
    "            print(\"X \",end=\"\")\n",
    "        print(\"\")\n",
    "\n",
    "    lines=newlines-1\n",
    "\n",
    "    for eachline in range(lines,0,-1):\n",
    "\n",
    "        for eachspace in range(lines+1-(eachline)):\n",
    "            print(\" \",end=\"\")\n",
    "        for eachX in range(1,eachline+1):\n",
    "            print(\"X \",end=\"\")\n",
    "        print(\"\")        "
   ]
  },
  {
   "cell_type": "code",
   "execution_count": 415,
   "metadata": {},
   "outputs": [
    {
     "name": "stdout",
     "output_type": "stream",
     "text": [
      "Enter line :6\n",
      "     X X X X X X \n",
      "    X X X X X X \n",
      "   X X X X X X \n",
      "  X X X X X X \n",
      " X X X X X X \n",
      "X X X X X X \n",
      "X X X X X X \n",
      " X X X X X X \n",
      "  X X X X X X \n",
      "   X X X X X X \n",
      "    X X X X X X \n",
      "     X X X X X X \n"
     ]
    }
   ],
   "source": [
    "newlines=int(input(\"Enter line :\"))\n",
    "lines=newlines\n",
    "for eachline in range(1,lines+1):\n",
    "    \n",
    "    for eachspace in range(lines-eachline):\n",
    "        print(\" \",end=\"\")\n",
    "    for eachX in range(1,lines+1):\n",
    "        print(\"X \",end=\"\")\n",
    "    print(\"\")  \n",
    "    \n",
    "    \n",
    "lines=newlines\n",
    "for eachline in range(lines,0,-1):\n",
    "    \n",
    "    for eachspace in range(lines-eachline):\n",
    "        print(\" \",end=\"\")\n",
    "    for eachX in range(1,lines+1):\n",
    "        print(\"X \",end=\"\")\n",
    "    print(\"\")        "
   ]
  },
  {
   "cell_type": "code",
   "execution_count": 423,
   "metadata": {},
   "outputs": [
    {
     "name": "stdout",
     "output_type": "stream",
     "text": [
      "Enter line : 10\n",
      "Enter noOFstars : 6\n",
      "Enter symbol : X\n",
      "         X X X X X X \n",
      "        X X X X X X \n",
      "       X X X X X X \n",
      "      X X X X X X \n",
      "     X X X X X X \n",
      "    X X X X X X \n",
      "   X X X X X X \n",
      "  X X X X X X \n",
      " X X X X X X \n",
      "X X X X X X \n",
      "X X X X X X \n",
      " X X X X X X \n",
      "  X X X X X X \n",
      "   X X X X X X \n",
      "    X X X X X X \n",
      "     X X X X X X \n",
      "      X X X X X X \n",
      "       X X X X X X \n",
      "        X X X X X X \n",
      "         X X X X X X \n"
     ]
    }
   ],
   "source": [
    "newlines=int(input(\"Enter line : \"))\n",
    "stars=int(input(\"Enter noOFstars : \"))\n",
    "symbol=input(\"Enter symbol : \")\n",
    "\n",
    "lines=newlines\n",
    "for eachline in range(1,lines+1):\n",
    "    \n",
    "    for eachspace in range(lines-eachline):\n",
    "        print(\" \",end=\"\")\n",
    "    for eachX in range(1,stars+1):\n",
    "        print(symbol+\" \",end=\"\")\n",
    "    print(\"\")  \n",
    "    \n",
    "    \n",
    "lines=newlines\n",
    "for eachline in range(lines,0,-1):\n",
    "    \n",
    "    for eachspace in range(lines-eachline):\n",
    "        print(\" \",end=\"\")\n",
    "    for eachX in range(1,stars+1):\n",
    "        print(symbol+\" \",end=\"\")\n",
    "    print(\"\")        "
   ]
  },
  {
   "cell_type": "code",
   "execution_count": 411,
   "metadata": {},
   "outputs": [
    {
     "name": "stdout",
     "output_type": "stream",
     "text": [
      "    X X X X X \n",
      "   X X X X X \n",
      "  X X X X X \n",
      " X X X X X \n",
      "X X X X X \n",
      " X X X X X \n",
      "  X X X X X \n",
      "   X X X X X \n",
      "    X X X X X \n",
      "     X X X X X \n",
      "    X X X X X \n",
      "   X X X X X \n",
      "  X X X X X \n",
      " X X X X X \n",
      "X X X X X \n",
      " X X X X X \n",
      "  X X X X X \n",
      "   X X X X X \n",
      "    X X X X X \n",
      "     X X X X X \n"
     ]
    }
   ],
   "source": [
    "lines=\n",
    "for eachline in range(1,lines+1):\n",
    "    \n",
    "    for eachspace in range(lines-eachline):\n",
    "        print(\" \",end=\"\")\n",
    "    for eachX in range(1,lines+1):\n",
    "        print(\"X \",end=\"\")\n",
    "    print(\"\")    \n",
    "    \n",
    "for eachline in range(1,lines+1):\n",
    "    \n",
    "    for eachspace in range(eachline):\n",
    "        print(\" \",end=\"\")\n",
    "    for eachX in range(1,lines+1):\n",
    "        print(\"X \",end=\"\")\n",
    "    print(\"\")    \n",
    "\n",
    "for eachline in range(1,lines+1):\n",
    "    \n",
    "    for eachspace in range(lines-eachline):\n",
    "        print(\" \",end=\"\")\n",
    "    for eachX in range(1,lines+1):\n",
    "        print(\"X \",end=\"\")\n",
    "    print(\"\")    \n",
    "    \n",
    "for eachline in range(1,lines+1):\n",
    "    \n",
    "    for eachspace in range(eachline):\n",
    "        print(\" \",end=\"\")\n",
    "    for eachX in range(1,lines+1):\n",
    "        print(\"X \",end=\"\")\n",
    "    print(\"\")    "
   ]
  },
  {
   "cell_type": "code",
   "execution_count": 15,
   "metadata": {},
   "outputs": [
    {
     "name": "stdout",
     "output_type": "stream",
     "text": [
      "Enter the number : 12340\n",
      "10\n"
     ]
    }
   ],
   "source": [
    "a=input(\"Enter the number : \")\n",
    "num=int(a)\n",
    "k=0;sum=0\n",
    "while(num!=0):\n",
    "    r=num%10\n",
    "    sum=sum+r\n",
    "    z=num/10\n",
    "    num=int(z)\n",
    "print(sum)\n",
    "    "
   ]
  },
  {
   "cell_type": "code",
   "execution_count": 14,
   "metadata": {},
   "outputs": [
    {
     "name": "stdout",
     "output_type": "stream",
     "text": [
      "not leap year\n"
     ]
    }
   ],
   "source": [
    "year=1800\n",
    "a= year%4==0\n",
    "b= year%100==0\n",
    "c= year%400==0\n",
    "if((a and b and c) or (a and b==False and c==False) ):\n",
    "    print(\" leap year\")\n",
    "else:\n",
    "    print(\"not leap year\")"
   ]
  },
  {
   "cell_type": "code",
   "execution_count": 446,
   "metadata": {},
   "outputs": [
    {
     "name": "stdout",
     "output_type": "stream",
     "text": [
      "leap year\n"
     ]
    }
   ],
   "source": [
    "year=1200\n",
    "\n",
    "a= year%4==0\n",
    "b= year%100==0\n",
    "c= year%400==0\n",
    "if(a==True):\n",
    "    \n",
    "    if(b==True):  \n",
    "        \n",
    "        if(c==True):   \n",
    "            print(\"leap year\")\n",
    "        else:\n",
    "            print(\"not a leap year\")\n",
    "            \n",
    "    else:\n",
    "         print(\"leap year\") \n",
    "            \n",
    "else:\n",
    "    print(\"not leap year\")\n",
    "    \n",
    "        \n",
    "        "
   ]
  },
  {
   "cell_type": "code",
   "execution_count": 461,
   "metadata": {},
   "outputs": [
    {
     "name": "stdout",
     "output_type": "stream",
     "text": [
      "LeapYear\n"
     ]
    }
   ],
   "source": [
    "year=2000\n",
    "\n",
    "a= year%4==0\n",
    "b= year%100==0\n",
    "c= year%400==0\n",
    "leapAllCheck = False\n",
    "\n",
    "if(a and b and c):\n",
    "    leapAllCheck = True\n",
    "    \n",
    "if(a and not(b) and not(c)):\n",
    "    leapAllCheck = True\n",
    "\n",
    "\n",
    "if(leapAllCheck):\n",
    "    print(\"LeapYear\")\n",
    "else:\n",
    "    print(\"Not a LeapYear\")"
   ]
  },
  {
   "cell_type": "code",
   "execution_count": 517,
   "metadata": {},
   "outputs": [
    {
     "name": "stdout",
     "output_type": "stream",
     "text": [
      "    1 \n",
      "  1 2 1 \n",
      "1 2 3 2 1 \n"
     ]
    }
   ],
   "source": [
    "lines=3\n",
    "for eachline in range(1,lines+1):\n",
    "    \n",
    "    for eachspace in range(2*(lines-eachline)):\n",
    "        print(\" \",end=\"\")\n",
    "    for eachnumLeft in range(1,eachline+1):\n",
    "        print(str(eachnumLeft)+\" \",end=\"\")\n",
    "    for eachnumRight in range(eachline-1,0,-1):\n",
    "        print(str(eachnumRight)+\" \",end=\"\")\n",
    "    print(\"\")    \n",
    "            "
   ]
  },
  {
   "cell_type": "code",
   "execution_count": 17,
   "metadata": {},
   "outputs": [
    {
     "name": "stdout",
     "output_type": "stream",
     "text": [
      "[4, 5, 3, 2, 1]\n",
      "[4, 3, 5, 2, 1]\n",
      "[4, 3, 2, 5, 1]\n",
      "[4, 3, 2, 1, 5]\n"
     ]
    }
   ],
   "source": [
    "##BubbleSort\n",
    "list=[5,4,3,2,1]\n",
    "\n",
    "for index in range(len(list)-1):\n",
    "    temp=list[index]\n",
    "    if(list[index]>list[index+1]):\n",
    "        list[index]=list[index+1]\n",
    "        list[index+1]=temp\n",
    "   \n",
    "    print(list)    \n",
    "        "
   ]
  },
  {
   "cell_type": "code",
   "execution_count": 19,
   "metadata": {},
   "outputs": [
    {
     "name": "stdout",
     "output_type": "stream",
     "text": [
      "[3, 4, 2, 1, 5]\n",
      "[3, 2, 4, 1, 5]\n",
      "[3, 2, 1, 4, 5]\n",
      "[3, 2, 1, 4, 5]\n"
     ]
    }
   ],
   "source": [
    "list=[4, 3, 2, 1, 5]\n",
    "\n",
    "for index in range(len(list)-1):\n",
    "    temp=list[index]\n",
    "    if(list[index]>list[index+1]):\n",
    "        list[index]=list[index+1]\n",
    "        list[index+1]=temp\n",
    "   \n",
    "    print(list)    \n",
    "        "
   ]
  },
  {
   "cell_type": "code",
   "execution_count": 20,
   "metadata": {},
   "outputs": [
    {
     "name": "stdout",
     "output_type": "stream",
     "text": [
      "[2, 3, 1, 4, 5]\n",
      "[2, 1, 3, 4, 5]\n",
      "[2, 1, 3, 4, 5]\n",
      "[2, 1, 3, 4, 5]\n"
     ]
    }
   ],
   "source": [
    "list=[3, 2, 1, 4, 5]\n",
    "\n",
    "\n",
    "for index in range(len(list)-1):\n",
    "    temp=list[index]\n",
    "    if(list[index]>list[index+1]):\n",
    "        list[index]=list[index+1]\n",
    "        list[index+1]=temp\n",
    "   \n",
    "    print(list)    \n",
    "        "
   ]
  },
  {
   "cell_type": "code",
   "execution_count": 26,
   "metadata": {},
   "outputs": [
    {
     "name": "stdout",
     "output_type": "stream",
     "text": [
      "[1, 2, 3, 4, 5]\n",
      "[1, 2, 3, 4, 5]\n",
      "[1, 2, 3, 4, 5]\n",
      "[1, 2, 3, 4, 5]\n"
     ]
    }
   ],
   "source": [
    "list=[2, 1, 3, 4, 5]\n",
    "\n",
    "for index in range(len(list)-1):\n",
    "    temp=list[index]\n",
    "    if(list[index]>list[index+1]):\n",
    "        list[index]=list[index+1]\n",
    "        list[index+1]=temp\n",
    "   \n",
    "    print(list)    \n",
    "        "
   ]
  },
  {
   "cell_type": "code",
   "execution_count": 7,
   "metadata": {},
   "outputs": [
    {
     "name": "stdout",
     "output_type": "stream",
     "text": [
      "start : False\n",
      "[3, 1, 4, 2, 5, 8]\n",
      "end: True\n",
      "\n",
      "start : False\n",
      "[1, 3, 2, 4, 5, 8]\n",
      "end: True\n",
      "\n",
      "start : False\n",
      "[1, 2, 3, 4, 5, 8]\n",
      "end: True\n",
      "\n",
      "start : False\n"
     ]
    }
   ],
   "source": [
    "list=[3,5,1,4,2,8]\n",
    "\n",
    "for runs in range(len(list)):\n",
    "    Isswapdone=False\n",
    "    \n",
    "    print(\"start :\",Isswapdone)\n",
    "    \n",
    "    for index in range(len(list)-1):\n",
    "        temp=list[index]\n",
    "        if(list[index]>list[index+1]):\n",
    "            list[index]=list[index+1]\n",
    "            list[index+1]=temp\n",
    "            Isswapdone=True\n",
    "    if(Isswapdone==False):\n",
    "            break    \n",
    "               \n",
    "    print(list)\n",
    "    print(\"end:\",Isswapdone)\n",
    "    print()\n",
    "        "
   ]
  },
  {
   "cell_type": "code",
   "execution_count": 15,
   "metadata": {},
   "outputs": [],
   "source": [
    "\n",
    "def BubbleSort(list):\n",
    "    \n",
    "    for runs in range(len(list)):\n",
    "\n",
    "        for index in range(len(list)-1):\n",
    "            temp=list[index]\n",
    "            if(list[index]>list[index+1]):\n",
    "                list[index]=list[index+1]\n",
    "                list[index+1]=temp\n",
    "\n",
    "        print(list)    \n",
    "    return list\n"
   ]
  },
  {
   "cell_type": "code",
   "execution_count": 2,
   "metadata": {},
   "outputs": [],
   "source": [
    "##standard\n",
    "def BubbleSortOPtimizedAscend(list):\n",
    "    \n",
    "\n",
    "    for runs in range(len(list)):\n",
    "        Isswapdone=False\n",
    "\n",
    "        #print(\"start :\",Isswapdone)\n",
    "\n",
    "        for index in range(len(list)-1):\n",
    "            temp=list[index]\n",
    "            if(list[index]>list[index+1]):\n",
    "                list[index]=list[index+1]\n",
    "                list[index+1]=temp\n",
    "                Isswapdone=True\n",
    "        if(Isswapdone==False):\n",
    "                break    \n",
    "\n",
    "        #print(list)\n",
    "    return(list)\n",
    "        #print(\"end:\",Isswapdone)\n",
    "        #print()\n"
   ]
  },
  {
   "cell_type": "code",
   "execution_count": null,
   "metadata": {},
   "outputs": [],
   "source": [
    "##standard\n",
    "##Both Ascending and Desecending...\n",
    "def BubbleSortOPtimized(list,isReverse=False):\n",
    "    \n",
    "\n",
    "    for runs in range(len(list)):\n",
    "        Isswapdone=False\n",
    "\n",
    "        #print(\"start :\",Isswapdone)\n",
    "\n",
    "        for index in range(len(list)-1):\n",
    "            temp=list[index]\n",
    "            if(list[index]>list[index+1] and isReverse==False):\n",
    "                list[index]=list[index+1]\n",
    "                list[index+1]=temp\n",
    "                Isswapdone=True\n",
    "            elif(list[index]<list[index+1] and isReverse==True):\n",
    "                list[index]=list[index+1]\n",
    "                list[index+1]=temp\n",
    "                Isswapdone=True\n",
    "            \n",
    "        if(Isswapdone==False):\n",
    "                break    \n",
    "\n",
    "        print(list)\n",
    "    \n",
    "        #print(\"end:\",Isswapdone)\n",
    "        #print()\n"
   ]
  },
  {
   "cell_type": "code",
   "execution_count": 94,
   "metadata": {},
   "outputs": [
    {
     "name": "stdout",
     "output_type": "stream",
     "text": [
      "[9, 6, 3, 5, 4, 8, 2, 225, 4, 99, 3, 23, 25, -8]\n",
      "[9, 6, 5, 4, 8, 3, 225, 4, 99, 3, 23, 25, 2, -8]\n",
      "[9, 6, 5, 8, 4, 225, 4, 99, 3, 23, 25, 3, 2, -8]\n",
      "[9, 6, 8, 5, 225, 4, 99, 4, 23, 25, 3, 3, 2, -8]\n",
      "[9, 8, 6, 225, 5, 99, 4, 23, 25, 4, 3, 3, 2, -8]\n",
      "[9, 8, 225, 6, 99, 5, 23, 25, 4, 4, 3, 3, 2, -8]\n",
      "[9, 225, 8, 99, 6, 23, 25, 5, 4, 4, 3, 3, 2, -8]\n",
      "[225, 9, 99, 8, 23, 25, 6, 5, 4, 4, 3, 3, 2, -8]\n",
      "[225, 99, 9, 23, 25, 8, 6, 5, 4, 4, 3, 3, 2, -8]\n",
      "[225, 99, 23, 25, 9, 8, 6, 5, 4, 4, 3, 3, 2, -8]\n",
      "[225, 99, 25, 23, 9, 8, 6, 5, 4, 4, 3, 3, 2, -8]\n"
     ]
    }
   ],
   "source": [
    "a=[9,6,3,2,5,4,8,-8,225,4,99,3,23,25]\n",
    "BubbleSortOPtimized(a)\n"
   ]
  },
  {
   "cell_type": "code",
   "execution_count": 92,
   "metadata": {},
   "outputs": [],
   "source": [
    "##standard\n",
    "##Descending order\n",
    "def BubbleSortOPtimizedDescend(list):\n",
    "    \n",
    "\n",
    "    for runs in range(len(list)):\n",
    "        Isswapdone=False\n",
    "\n",
    "        #print(\"start :\",Isswapdone)\n",
    "\n",
    "        for index in range(len(list)-1):\n",
    "            temp=list[index]\n",
    "            if(list[index]<list[index+1]):\n",
    "                list[index]=list[index+1]\n",
    "                list[index+1]=temp\n",
    "                Isswapdone=True\n",
    "        if(Isswapdone==False):\n",
    "                break    \n",
    "\n",
    "        print(list)\n",
    "        #print(\"end:\",Isswapdone)\n",
    "        #print()\n"
   ]
  },
  {
   "cell_type": "code",
   "execution_count": 87,
   "metadata": {},
   "outputs": [],
   "source": [
    "##MIN VALUE..\n",
    "\n",
    "def MinValue(list):\n",
    "\n",
    "    min = list[0]\n",
    "    for index in range(1,len(list)):\n",
    "        if(list[index]<min):\n",
    "            min=list[index]\n",
    "    print(min)    "
   ]
  },
  {
   "cell_type": "code",
   "execution_count": 88,
   "metadata": {},
   "outputs": [
    {
     "name": "stdout",
     "output_type": "stream",
     "text": [
      "2\n"
     ]
    }
   ],
   "source": [
    "a=[4,6,3,2,4,5]\n",
    "MinValue(a)"
   ]
  },
  {
   "cell_type": "code",
   "execution_count": 90,
   "metadata": {},
   "outputs": [],
   "source": [
    "##MAX VALUE..\n",
    "\n",
    "def MaxValue(list):\n",
    "    \n",
    "    max = list[0]\n",
    "    for index in range(1,len(list)):\n",
    "        if(list[index]>max):\n",
    "            max=list[index]\n",
    "    print(max)    "
   ]
  },
  {
   "cell_type": "code",
   "execution_count": 91,
   "metadata": {},
   "outputs": [
    {
     "name": "stdout",
     "output_type": "stream",
     "text": [
      "6\n"
     ]
    }
   ],
   "source": [
    "a=[4,6,3,2,4,5]\n",
    "MaxValue(a)\n"
   ]
  },
  {
   "cell_type": "code",
   "execution_count": 9,
   "metadata": {},
   "outputs": [
    {
     "name": "stdout",
     "output_type": "stream",
     "text": [
      "minvalue : 11 ,index : 4\n",
      "[11, 25, 12, 22, 64]\n"
     ]
    }
   ],
   "source": [
    "list=[64 ,25, 12, 22, 11]\n",
    "min = list[0]\n",
    "minindex=None\n",
    "temp=list[0]\n",
    "for index in range(1,len(list)):\n",
    "    if(list[index]<min):\n",
    "        min=list[index]\n",
    "        minindex=index\n",
    "\n",
    "print(\"minvalue :\" ,min,\",index :\",minindex) \n",
    "list[minindex]=temp\n",
    "list[0]=min\n",
    "print(list)"
   ]
  },
  {
   "cell_type": "code",
   "execution_count": 20,
   "metadata": {},
   "outputs": [
    {
     "name": "stdout",
     "output_type": "stream",
     "text": [
      "minvalue : 12 ,index : 2\n",
      "[11, 12, 25, 22, 64]\n"
     ]
    }
   ],
   "source": [
    "list=[11, 25, 12, 22, 64]\n",
    "\n",
    "min = list[1]\n",
    "minindex=1\n",
    "temp=list[1]\n",
    "\n",
    "for index in range(2,len(list)):\n",
    "    if(list[index]<min):\n",
    "        min=list[index]\n",
    "        minindex=index\n",
    "\n",
    "print(\"minvalue :\" ,min,\",index :\",minindex) \n",
    "\n",
    "list[minindex]=temp\n",
    "list[1]=min\n",
    "print(list)"
   ]
  },
  {
   "cell_type": "code",
   "execution_count": 22,
   "metadata": {},
   "outputs": [
    {
     "name": "stdout",
     "output_type": "stream",
     "text": [
      "minvalue : 11 ,index : 4\n",
      "minvalue : 12 ,index : 2\n",
      "minvalue : 22 ,index : 3\n",
      "minvalue : 25 ,index : 3\n",
      "[11, 12, 22, 25, 64]\n"
     ]
    }
   ],
   "source": [
    "list=[64 ,25, 12, 22, 11]\n",
    "for runX in range(len(list)-1):\n",
    "    min = list[runX]\n",
    "    minindex=runX\n",
    "    temp=list[runX]\n",
    "\n",
    "    for index in range(runX,len(list)):\n",
    "        if(list[index]<min):\n",
    "            min=list[index]\n",
    "            minindex=index\n",
    "\n",
    "    print(\"minvalue :\" ,min,\",index :\",minindex) \n",
    "\n",
    "    list[minindex]=temp\n",
    "    list[runX]=min\n",
    "print(list)"
   ]
  },
  {
   "cell_type": "code",
   "execution_count": 24,
   "metadata": {},
   "outputs": [
    {
     "name": "stdout",
     "output_type": "stream",
     "text": [
      "minvalue : 12 ,index : 0\n",
      "minvalue : 23 ,index : 2\n",
      "minvalue : 45 ,index : 3\n",
      "minvalue : 56 ,index : 3\n",
      "[12, 23, 45, 56, 78]\n"
     ]
    }
   ],
   "source": [
    "list=[12,56,23,45,78]\n",
    "for runX in range(len(list)-1):\n",
    "    min = list[runX]\n",
    "    minindex=runX\n",
    "    temp=list[runX]\n",
    "\n",
    "    for index in range(runX,len(list)):\n",
    "        if(list[index]<min):\n",
    "            min=list[index]\n",
    "            minindex=index\n",
    "\n",
    "    print(\"minvalue :\" ,min,\",index :\",minindex) \n",
    "\n",
    "    list[minindex]=temp\n",
    "    list[runX]=min\n",
    "print(list)"
   ]
  },
  {
   "cell_type": "code",
   "execution_count": 103,
   "metadata": {},
   "outputs": [
    {
     "name": "stdout",
     "output_type": "stream",
     "text": [
      "[4, 6, 56, 8, 9, 5, 3, 7, 1]\n",
      "[4, 6, 56, 56, 9, 5, 3, 7, 1]\n",
      "[4, 6, 8, 56, 56, 5, 3, 7, 1]\n",
      "[4, 6, 8, 9, 56, 56, 3, 7, 1]\n",
      "[4, 6, 8, 9, 9, 56, 3, 7, 1]\n",
      "[4, 6, 8, 8, 9, 56, 3, 7, 1]\n",
      "[4, 6, 6, 8, 9, 56, 3, 7, 1]\n",
      "[4, 5, 6, 8, 9, 56, 56, 7, 1]\n",
      "[4, 5, 6, 8, 9, 9, 56, 7, 1]\n",
      "[4, 5, 6, 8, 8, 9, 56, 7, 1]\n",
      "[4, 5, 6, 6, 8, 9, 56, 7, 1]\n",
      "[4, 5, 5, 6, 8, 9, 56, 7, 1]\n",
      "[3, 4, 5, 6, 8, 9, 56, 56, 1]\n",
      "[3, 4, 5, 6, 8, 9, 9, 56, 1]\n",
      "[3, 4, 5, 6, 8, 8, 9, 56, 1]\n",
      "[3, 4, 5, 6, 7, 8, 9, 56, 56]\n",
      "[3, 4, 5, 6, 7, 8, 9, 9, 56]\n",
      "[3, 4, 5, 6, 7, 8, 8, 9, 56]\n",
      "[3, 4, 5, 6, 7, 7, 8, 9, 56]\n",
      "[3, 4, 5, 6, 6, 7, 8, 9, 56]\n",
      "[3, 4, 5, 5, 6, 7, 8, 9, 56]\n",
      "[3, 4, 4, 5, 6, 7, 8, 9, 56]\n",
      "[1, 3, 4, 5, 6, 7, 8, 9, 56]\n"
     ]
    }
   ],
   "source": [
    "# Method 01\n",
    "a=[4,6,56,8,9,5,3,7,1]\n",
    "print(a)\n",
    "\n",
    "temp=None\n",
    "for i in range(1,len(a)):\n",
    "    temp=a[i]\n",
    "    for j in range(i-1,-1,-1):\n",
    "        if(temp<a[j]):\n",
    "            a[j+1]=a[j]   \n",
    "            if(j==0):\n",
    "                a[j]=temp;\n",
    "                break\n",
    "        else:\n",
    "            a[j+1]=temp\n",
    "            break\n",
    "            \n",
    "        print(a)\n",
    "          \n",
    "            \n",
    "  \n",
    "\n",
    "print(a)"
   ]
  },
  {
   "cell_type": "code",
   "execution_count": 79,
   "metadata": {},
   "outputs": [
    {
     "name": "stdout",
     "output_type": "stream",
     "text": [
      "[4, 6, 56, 8, 9, 5, 3, 7, 1]\n",
      "[4, 6, 56, 8, 9, 5, 3, 7, 1]\n",
      "[4, 6, 56, 8, 9, 5, 3, 7, 1]\n",
      "[4, 6, 56, 8, 9, 5, 3, 7, 1]\n",
      "[4, 6, 56, 56, 9, 5, 3, 7, 1]\n",
      "[4, 6, 8, 56, 9, 5, 3, 7, 1]\n",
      "[4, 6, 8, 56, 56, 5, 3, 7, 1]\n",
      "[4, 6, 8, 9, 56, 5, 3, 7, 1]\n",
      "[4, 6, 8, 9, 56, 56, 3, 7, 1]\n",
      "[4, 6, 8, 9, 9, 56, 3, 7, 1]\n",
      "[4, 6, 8, 8, 9, 56, 3, 7, 1]\n",
      "[4, 6, 6, 8, 9, 56, 3, 7, 1]\n",
      "[4, 5, 6, 8, 9, 56, 3, 7, 1]\n",
      "[4, 5, 6, 8, 9, 56, 56, 7, 1]\n",
      "[4, 5, 6, 8, 9, 9, 56, 7, 1]\n",
      "[4, 5, 6, 8, 8, 9, 56, 7, 1]\n",
      "[4, 5, 6, 6, 8, 9, 56, 7, 1]\n",
      "[4, 5, 5, 6, 8, 9, 56, 7, 1]\n",
      "[3, 4, 5, 6, 8, 9, 56, 7, 1]\n",
      "[3, 4, 5, 6, 8, 9, 56, 56, 1]\n",
      "[3, 4, 5, 6, 8, 9, 9, 56, 1]\n",
      "[3, 4, 5, 6, 8, 8, 9, 56, 1]\n",
      "[3, 4, 5, 6, 7, 8, 9, 56, 1]\n",
      "[3, 4, 5, 6, 7, 8, 9, 56, 56]\n",
      "[3, 4, 5, 6, 7, 8, 9, 9, 56]\n",
      "[3, 4, 5, 6, 7, 8, 8, 9, 56]\n",
      "[3, 4, 5, 6, 7, 7, 8, 9, 56]\n",
      "[3, 4, 5, 6, 6, 7, 8, 9, 56]\n",
      "[3, 4, 5, 5, 6, 7, 8, 9, 56]\n",
      "[3, 4, 4, 5, 6, 7, 8, 9, 56]\n",
      "[1, 3, 4, 5, 6, 7, 8, 9, 56]\n"
     ]
    }
   ],
   "source": [
    "#Method 02\n",
    "a=[4,6,56,8,9,5,3,7,1]\n",
    "print(a)\n",
    "\n",
    "temp=None\n",
    "for i in range(1,len(a)):          \n",
    "    temp=a[i];\n",
    "    for j in range(i-1,-1,-1):\n",
    "        print(a)\n",
    "        if(temp<a[j] and j!=0):\n",
    "            a[j+1]=a[j]   \n",
    "        elif(temp<a[j] and j==0):\n",
    "            a[j+1]=a[j]   \n",
    "            a[j]=temp;\n",
    "        else:\n",
    "            a[j+1]=temp\n",
    "            break\n",
    "            \n",
    "          \n",
    "print(a)"
   ]
  },
  {
   "cell_type": "code",
   "execution_count": 98,
   "metadata": {},
   "outputs": [
    {
     "name": "stdout",
     "output_type": "stream",
     "text": [
      "[4, 6, 56, 8, 9, 5, 3, 7, 1]\n",
      "[1, 3, 4, 5, 6, 7, 8, 9, 56]\n"
     ]
    }
   ],
   "source": [
    "#Method 03 # With Out temp\n",
    "a=[4,6,56,8,9,5,3,7,1]\n",
    "print(a)\n",
    "\n",
    "for i in range(1,len(a)):            \n",
    "    for j in range(i,0,-1):\n",
    "        if(a[j-1]>a[j]):\n",
    "            temp=a[j];a[j]=a[j-1];a[j-1]=temp  \n",
    "            \n",
    "            \n",
    "\n",
    "            \n",
    "          \n",
    "print(a)\n"
   ]
  },
  {
   "cell_type": "code",
   "execution_count": 99,
   "metadata": {},
   "outputs": [
    {
     "name": "stdout",
     "output_type": "stream",
     "text": [
      "[9, 6, 3, 2, -2, -1, 7, 0]\n",
      "[9, 6, 3, 2, -2, -1, 7, 0]\n",
      "[6, 9, 3, 2, -2, -1, 7, 0]\n",
      "[6, 3, 9, 2, -2, -1, 7, 0]\n",
      "[3, 6, 9, 2, -2, -1, 7, 0]\n",
      "[3, 6, 2, 9, -2, -1, 7, 0]\n",
      "[3, 2, 6, 9, -2, -1, 7, 0]\n",
      "[2, 3, 6, 9, -2, -1, 7, 0]\n",
      "[2, 3, 6, -2, 9, -1, 7, 0]\n",
      "[2, 3, -2, 6, 9, -1, 7, 0]\n",
      "[2, -2, 3, 6, 9, -1, 7, 0]\n",
      "[-2, 2, 3, 6, 9, -1, 7, 0]\n",
      "[-2, 2, 3, 6, -1, 9, 7, 0]\n",
      "[-2, 2, 3, -1, 6, 9, 7, 0]\n",
      "[-2, 2, -1, 3, 6, 9, 7, 0]\n",
      "[-2, -1, 2, 3, 6, 9, 7, 0]\n",
      "[-2, -1, 2, 3, 6, 9, 7, 0]\n",
      "[-2, -1, 2, 3, 6, 7, 9, 0]\n",
      "[-2, -1, 2, 3, 6, 7, 9, 0]\n",
      "[-2, -1, 2, 3, 6, 7, 0, 9]\n",
      "[-2, -1, 2, 3, 6, 0, 7, 9]\n",
      "[-2, -1, 2, 3, 0, 6, 7, 9]\n",
      "[-2, -1, 2, 0, 3, 6, 7, 9]\n",
      "[-2, -1, 0, 2, 3, 6, 7, 9]\n",
      "[-2, -1, 0, 2, 3, 6, 7, 9]\n"
     ]
    }
   ],
   "source": [
    "#Method 04 # optimized in short steps\n",
    "a=[9,6,3,2,-2,-1,7,0]\n",
    "print(a)\n",
    "\n",
    "for i in range(1,len(a)):            \n",
    "    for j in range(i,0,-1):\n",
    "        print(a)\n",
    "        if(a[j-1]>a[j]):\n",
    "            temp=a[j];a[j]=a[j-1];a[j-1]=temp  \n",
    "        else:\n",
    "            break\n",
    "\n",
    "            \n",
    "          \n",
    "print(a)\n"
   ]
  },
  {
   "cell_type": "code",
   "execution_count": 77,
   "metadata": {},
   "outputs": [
    {
     "name": "stdout",
     "output_type": "stream",
     "text": [
      "[5, 7, 8, 2, 4, 6, 3]\n",
      "[5, 7, 8, 2, 4, 6, 3]\n",
      "[2, 5, 7, 8, 4, 6, 3]\n",
      "[2, 4, 5, 7, 8, 6, 3]\n",
      "[2, 4, 5, 6, 7, 8, 3]\n",
      "[2, 3, 4, 5, 6, 7, 8]\n"
     ]
    }
   ],
   "source": [
    "list=[5,7,8,2,4,6,3]\n",
    "\n",
    "for index in range(1,len(list)):\n",
    "    if(list[index]<list[index-1]):\n",
    "        temp=list[index]\n",
    "        tempind=index\n",
    "        list[index]=list[index-1]\n",
    "        for ind in range(tempind,1,-1):\n",
    "            if(temp<list[ind-2]):\n",
    "                list[ind-1]=list[ind-2]\n",
    "            elif(temp>list[ind-2]):\n",
    "                list[ind-1]=temp\n",
    "                break\n",
    "            if(temp<list[0] and ind-2==0):\n",
    "                list[0]=temp\n",
    "    print(list)            \n",
    "                "
   ]
  },
  {
   "cell_type": "code",
   "execution_count": 43,
   "metadata": {},
   "outputs": [
    {
     "name": "stdout",
     "output_type": "stream",
     "text": [
      "[2, 6, 9, 8, 4, 5, 7]\n",
      "[2, 6, 9, 8, 4, 5, 7]\n",
      "[2, 6, 8, 9, 4, 5, 7]\n",
      "[2, 4, 6, 8, 9, 5, 7]\n",
      "[2, 4, 5, 6, 8, 9, 7]\n",
      "[2, 4, 5, 6, 7, 8, 9]\n"
     ]
    }
   ],
   "source": [
    "list=[2,6,9,8,4,5,7]\n",
    "\n",
    "for index in range(1,len(list)):\n",
    "    if(list[index]<list[index-1]):\n",
    "        temp=list[index]\n",
    "        tempind=index\n",
    "        list[index]=list[index-1]\n",
    "        for ind in range(tempind,1,-1):\n",
    "            if(temp<list[ind-2]):\n",
    "                list[ind-1]=list[ind-2]\n",
    "            elif(temp>list[ind-2]):\n",
    "                list[ind-1]=temp\n",
    "                break\n",
    "            if(temp<list[0] and ind-2==0):\n",
    "                list[0]=temp\n",
    "    print(list)            \n",
    "                "
   ]
  },
  {
   "cell_type": "code",
   "execution_count": 108,
   "metadata": {},
   "outputs": [
    {
     "name": "stdout",
     "output_type": "stream",
     "text": [
      "[7, 7, 10, 3, 2, -2, -1, 7, 0]\n",
      "[7, 7, 10, 3, 2, -2, -1, 7, 0]\n",
      "[3, 7, 7, 10, 2, -2, -1, 7, 0]\n",
      "[2, 3, 7, 7, 10, -2, -1, 7, 0]\n",
      "[-2, 2, 3, 7, 7, 10, -1, 7, 0]\n",
      "[-2, -1, 2, 3, 7, 7, 10, 7, 0]\n",
      "[-2, -1, 2, 3, 7, 7, 10, 10, 0]\n",
      "[-2, -1, 0, 2, 3, 7, 7, 10, 10]\n"
     ]
    }
   ],
   "source": [
    "list=[7,6,10,3,2,-2,-1,7,0]\n",
    "\n",
    "for index in range(1,len(list)):\n",
    "    if(list[index]<list[index-1]):\n",
    "        temp=list[index]\n",
    "        tempind=index\n",
    "        list[index]=list[index-1]\n",
    "        for ind in range(tempind,1,-1):\n",
    "            if(temp<list[ind-2]):\n",
    "                list[ind-1]=list[ind-2]\n",
    "            elif(temp>list[ind-2]):\n",
    "                list[ind-1]=temp\n",
    "                break\n",
    "            if(temp<list[0] and ind-2==0):\n",
    "                list[0]=temp\n",
    "    print(list)            \n",
    "                "
   ]
  },
  {
   "cell_type": "code",
   "execution_count": 114,
   "metadata": {},
   "outputs": [
    {
     "name": "stdout",
     "output_type": "stream",
     "text": [
      "[7, 6, 10]\n",
      "\n",
      "6\n",
      "[7, 7, 10]\n",
      "[7, 7, 10]\n",
      "[7, 7, 10]\n"
     ]
    }
   ],
   "source": [
    "list=[7,6,10]\n",
    "print(list)\n",
    "for index in range(1,len(list)):\n",
    "    if(list[index]<list[index-1]):\n",
    "        temp=list[index]\n",
    "        tempind=index\n",
    "        list[index]=list[index-1]\n",
    "        print()\n",
    "        print(temp)\n",
    "        for ind in range(tempind,-1,-1):\n",
    "            print(list)\n",
    "            if(temp<list[ind-2]):\n",
    "                if(ind-2<0):\n",
    "                    break\n",
    "                list[ind-1]=list[ind-2]\n",
    "            \n",
    "            elif(temp>list[ind-2]):\n",
    "                list[ind-1]=temp\n",
    "                break\n",
    "            if(temp<list[0] and ind-2==0):\n",
    "                list[0]=temp\n",
    "    print(list)            \n",
    "                "
   ]
  },
  {
   "cell_type": "code",
   "execution_count": 119,
   "metadata": {},
   "outputs": [
    {
     "name": "stdout",
     "output_type": "stream",
     "text": [
      "[9, 6, 3, 2, -2, -1, 7, 0]\n",
      "\n",
      "6\n",
      "[6, 9, 3, 2, -2, -1, 7, 0]\n",
      "[6, 9, 3, 2, -2, -1, 7, 0]\n",
      "\n",
      "3\n",
      "[6, 3, 9, 2, -2, -1, 7, 0]\n",
      "[3, 6, 9, 2, -2, -1, 7, 0]\n",
      "[3, 6, 9, 2, -2, -1, 7, 0]\n",
      "\n",
      "2\n",
      "[3, 6, 2, 9, -2, -1, 7, 0]\n",
      "[3, 6, 6, 9, -2, -1, 7, 0]\n",
      "[2, 3, 6, 9, -2, -1, 7, 0]\n",
      "[2, 3, 6, 9, -2, -1, 7, 0]\n",
      "\n",
      "-2\n",
      "[2, 3, 6, -2, 9, -1, 7, 0]\n",
      "[2, 3, 6, 6, 9, -1, 7, 0]\n",
      "[2, 3, 3, 6, 9, -1, 7, 0]\n",
      "[-2, 2, 3, 6, 9, -1, 7, 0]\n",
      "[-2, 2, 3, 6, 9, -1, 7, 0]\n",
      "\n",
      "-1\n",
      "[-2, 2, 3, 6, -1, 9, 7, 0]\n",
      "[-2, 2, 3, 6, 6, 9, 7, 0]\n",
      "[-2, 2, 3, 3, 6, 9, 7, 0]\n",
      "[-2, 2, 2, 3, 6, 9, 7, 0]\n",
      "[-2, -1, 2, 3, 6, 9, 7, 0]\n",
      "\n",
      "7\n",
      "[-2, -1, 2, 3, 6, 7, 9, 0]\n",
      "[-2, -1, 2, 3, 6, 7, 9, 0]\n",
      "\n",
      "0\n",
      "[-2, -1, 2, 3, 6, 7, 0, 9]\n",
      "[-2, -1, 2, 3, 6, 7, 7, 9]\n",
      "[-2, -1, 2, 3, 6, 6, 7, 9]\n",
      "[-2, -1, 2, 3, 3, 6, 7, 9]\n",
      "[-2, -1, 2, 2, 3, 6, 7, 9]\n",
      "[-2, -1, 0, 2, 3, 6, 7, 9]\n"
     ]
    }
   ],
   "source": [
    "##Insetion Sort\n",
    "list=[9,6,3,2,-2,-1,7,0]\n",
    "print(list)\n",
    "for index in range(1,len(list)):\n",
    "    if(list[index]<list[index-1]):\n",
    "        temp=list[index]\n",
    "        tempind=index\n",
    "        list[index]=list[index-1]\n",
    "        list[index-1]=temp\n",
    "        print()\n",
    "        print(temp)\n",
    "        for ind in range(tempind,-1,-1):\n",
    "            print(list)\n",
    "            if(temp<list[ind-2]):\n",
    "                if(ind-2<0):\n",
    "                    break\n",
    "                list[ind-1]=list[ind-2]\n",
    "            \n",
    "            elif(temp>list[ind-2]):\n",
    "                list[ind-1]=temp\n",
    "                break\n",
    "            if(temp<list[0] and ind-2==0):\n",
    "                list[0]=temp\n",
    "    print(list)            \n",
    "                      \n",
    "                "
   ]
  },
  {
   "cell_type": "code",
   "execution_count": 135,
   "metadata": {},
   "outputs": [
    {
     "name": "stdout",
     "output_type": "stream",
     "text": [
      "[1, 2, 3, 4, 6]\n"
     ]
    }
   ],
   "source": [
    "##Insertion SortSwap\n",
    "a=[1,4,3,6,2]\n",
    "temp=0\n",
    "for eachvalue in range(1,len(a)):\n",
    "    \n",
    "    for index in range(eachvalue,-1,-1):\n",
    "        if(a[index]<a[index-1]):\n",
    "                temp=a[index];a[index]=a[index-1];a[index-1]=temp\n",
    "        else:\n",
    "            break\n",
    "        \n",
    "print(a)            "
   ]
  },
  {
   "cell_type": "code",
   "execution_count": 55,
   "metadata": {},
   "outputs": [
    {
     "data": {
      "text/plain": [
       "'6'"
      ]
     },
     "execution_count": 55,
     "metadata": {},
     "output_type": "execute_result"
    }
   ],
   "source": [
    "a=\"156\"\n",
    "a[-1]"
   ]
  },
  {
   "cell_type": "code",
   "execution_count": 50,
   "metadata": {},
   "outputs": [
    {
     "name": "stdout",
     "output_type": "stream",
     "text": [
      "[8, 1, 5, 2]\n"
     ]
    }
   ],
   "source": [
    "num=\"8152\"\n",
    "temp=1\n",
    "mylist=[]\n",
    "for eachdigit in range(len(num)+1):\n",
    "    \n",
    "    myint=int(num)\n",
    "    a=myint/temp\n",
    "    b=int(a)\n",
    "    if(b<10):\n",
    "        #print(b)\n",
    "        mylist.append(b)\n",
    "        #print(mylist)\n",
    "        break\n",
    "    c=b%10\n",
    "    tempa=temp*10\n",
    "    temp=tempa\n",
    "    mylist.append(c)\n",
    "    \n",
    "    #print(c)\n",
    "    #print(mylist)\n",
    "    \n",
    "mylist.reverse()\n",
    "print(mylist)\n",
    "\n",
    "\n"
   ]
  },
  {
   "cell_type": "code",
   "execution_count": 54,
   "metadata": {},
   "outputs": [
    {
     "name": "stdout",
     "output_type": "stream",
     "text": [
      "[8, 1, 5, 2]\n"
     ]
    }
   ],
   "source": [
    "#number interms of list\n",
    "#method1\n",
    "myint=8152\n",
    "temp=1\n",
    "mylist=[]\n",
    "while(True):    \n",
    "    a=myint/temp\n",
    "    b=int(a)\n",
    "    if(b<10):\n",
    "        mylist.append(b)\n",
    "        break\n",
    "    c=b%10\n",
    "    tempa=temp*10\n",
    "    temp=tempa\n",
    "    mylist.append(c)\n",
    "    \n",
    "   \n",
    "    \n",
    "mylist.reverse()\n",
    "print(mylist)\n"
   ]
  },
  {
   "cell_type": "code",
   "execution_count": 1,
   "metadata": {},
   "outputs": [
    {
     "name": "stdout",
     "output_type": "stream",
     "text": [
      "[2, 4, 5]\n"
     ]
    }
   ],
   "source": [
    "#method2\n",
    "num='245'\n",
    "numList =list( map(int,num) )\n",
    "print(numList)\n",
    "\n"
   ]
  },
  {
   "cell_type": "code",
   "execution_count": 59,
   "metadata": {},
   "outputs": [
    {
     "name": "stdout",
     "output_type": "stream",
     "text": [
      "[3, 4, 2]\n"
     ]
    }
   ],
   "source": [
    "#method3\n",
    "num=342\n",
    "numlist=[ int(x) for x in str(num)]\n",
    "print(numlist)"
   ]
  },
  {
   "cell_type": "code",
   "execution_count": 52,
   "metadata": {},
   "outputs": [
    {
     "name": "stdout",
     "output_type": "stream",
     "text": [
      "[1, 2, 3, 4]\n",
      "[4]\n",
      "[1, 2, 4, 3]\n"
     ]
    }
   ],
   "source": [
    "##Next Greatest number\n",
    "myint=1234\n",
    "temp=1\n",
    "mylist=[]\n",
    "while(True):    \n",
    "    a=myint/temp\n",
    "    b=int(a)\n",
    "    if(b<10):\n",
    "        mylist.append(b)\n",
    "        break\n",
    "    c=b%10\n",
    "    tempa=temp*10\n",
    "    temp=tempa\n",
    "    mylist.append(c)\n",
    "    \n",
    "   \n",
    "    \n",
    "mylist.reverse()\n",
    "print(mylist)\n",
    "\n",
    "\n",
    "listdone=False\n",
    "for i in range(1,len(mylist)):\n",
    "    if(listdone==True):\n",
    "        break\n",
    "    if(mylist[-i-1]<mylist[-i]):\n",
    "        tempvalue=mylist[-i-1]\n",
    "        templist=mylist[-i: ]\n",
    "        #print(templist)\n",
    "        BubbleSortOPtimizedAscend(templist)\n",
    "        #print(templist)\n",
    "        #print(\"this is temp list\")\n",
    "        for nexti in range(len(templist)):\n",
    "            if(templist[nexti]>tempvalue):\n",
    "                NGtemplist=templist[nexti]\n",
    "                mylist[-i-1]=NGtemplist\n",
    "                templist[nexti]=tempvalue\n",
    "                #print()\n",
    "                #print(templist)\n",
    "                #print(mylist)\n",
    "                mylist[-i:  ]=templist\n",
    "                listdone=True\n",
    "                break\n",
    "        print(mylist)    \n",
    "        "
   ]
  },
  {
   "cell_type": "code",
   "execution_count": 67,
   "metadata": {},
   "outputs": [],
   "source": [
    "##Next Greatest number\n",
    "def NextGreatestNumber(myint):\n",
    "\n",
    "    temp=1\n",
    "    mylist=[]\n",
    "    while(True):    \n",
    "        a=myint/temp\n",
    "        b=int(a)\n",
    "        if(b<10):\n",
    "            mylist.append(b)\n",
    "            break\n",
    "        c=b%10\n",
    "        tempa=temp*10\n",
    "        temp=tempa\n",
    "        mylist.append(c)\n",
    "\n",
    "\n",
    "\n",
    "    mylist.reverse()\n",
    "    print(mylist)\n",
    "\n",
    "\n",
    "    listdone=False\n",
    "    for i in range(1,len(mylist)):\n",
    "        if(listdone==True):\n",
    "            break\n",
    "        if(mylist[-i-1]<mylist[-i]):\n",
    "            tempvalue=mylist[-i-1]\n",
    "            templist=mylist[-i: ]\n",
    "            #print(templist)\n",
    "            BubbleSortOPtimizedAscend(templist)\n",
    "            #print(templist)\n",
    "            #print(\"this is temp list\")\n",
    "            for nexti in range(len(templist)):\n",
    "                if(templist[nexti]>tempvalue):\n",
    "                    NGtemplist=templist[nexti]\n",
    "                    mylist[-i-1]=NGtemplist\n",
    "                    templist[nexti]=tempvalue\n",
    "                    #print()\n",
    "                    #print(templist)\n",
    "                    #print(mylist)\n",
    "                    mylist[-i:  ]=templist\n",
    "                    listdone=True\n",
    "                    break\n",
    "            print(mylist)    \n"
   ]
  },
  {
   "cell_type": "code",
   "execution_count": 68,
   "metadata": {},
   "outputs": [
    {
     "name": "stdout",
     "output_type": "stream",
     "text": [
      "[1, 5, 2]\n",
      "[2, 1, 5]\n"
     ]
    }
   ],
   "source": [
    "NextGreatestNumber(152)"
   ]
  },
  {
   "cell_type": "code",
   "execution_count": 57,
   "metadata": {},
   "outputs": [
    {
     "name": "stdout",
     "output_type": "stream",
     "text": [
      "[1, 2, 3, 6]\n",
      "[6]\n",
      "[1, 2, 6, 3]\n"
     ]
    }
   ],
   "source": [
    "#ONLY IN PYTHON\n",
    "num=1236\n",
    "mylist =list( map(int,str(num) ))\n",
    "print(mylist)\n",
    "\n",
    "\n",
    "listdone=False\n",
    "for i in range(1,len(mylist)):\n",
    "    if(listdone==True):\n",
    "        break\n",
    "    if(mylist[-i-1]<mylist[-i]):\n",
    "        tempvalue=mylist[-i-1]\n",
    "        templist=mylist[-i: ]\n",
    "        #print(templist)\n",
    "        BubbleSortOPtimizedAscend(templist)\n",
    "        #print(templist)\n",
    "        #print(\"this is temp list\")\n",
    "        for nexti in range(len(templist)):\n",
    "            if(templist[nexti]>tempvalue):\n",
    "                NGtemplist=templist[nexti]\n",
    "                mylist[-i-1]=NGtemplist\n",
    "                templist[nexti]=tempvalue\n",
    "                #print()\n",
    "                #print(templist)\n",
    "                #print(mylist)\n",
    "                mylist[-i:  ]=templist\n",
    "                listdone=True\n",
    "                break\n",
    "        print(mylist)  \n"
   ]
  },
  {
   "cell_type": "code",
   "execution_count": 93,
   "metadata": {},
   "outputs": [],
   "source": [
    "#linear search\n",
    "a=[40,50,60,70,10,20,30]\n",
    "x=30\n",
    "myindex=-1\n",
    "for index in range(len(a)):\n",
    "       \n",
    "    if(x==a[index]):\n",
    "        myindex=index\n",
    "        break \n",
    "print(myindex)  \n",
    "        \n",
    "    "
   ]
  },
  {
   "cell_type": "code",
   "execution_count": 103,
   "metadata": {},
   "outputs": [],
   "source": [
    "#linear search\n",
    "def LinearSearch(mylist,x):\n",
    "    \n",
    "    myindex=-1\n",
    "    for index in range(len(mylist)):\n",
    "\n",
    "        if(x==mylist[index]):\n",
    "            myindex=index\n",
    "            break \n",
    "    print(myindex)  \n",
    "    return(myindex)    \n",
    "    "
   ]
  },
  {
   "cell_type": "code",
   "execution_count": 104,
   "metadata": {},
   "outputs": [
    {
     "name": "stdout",
     "output_type": "stream",
     "text": [
      "3\n"
     ]
    },
    {
     "data": {
      "text/plain": [
       "3"
      ]
     },
     "execution_count": 104,
     "metadata": {},
     "output_type": "execute_result"
    }
   ],
   "source": [
    "a=[40,50,60,70,10,20,30]\n",
    "LinearSearch(a,70)"
   ]
  },
  {
   "cell_type": "code",
   "execution_count": 54,
   "metadata": {},
   "outputs": [
    {
     "name": "stdout",
     "output_type": "stream",
     "text": [
      "[2, 5, 8, 10]\n",
      "8\n",
      "10\n",
      "10 3\n"
     ]
    }
   ],
   "source": [
    "myList=[2, 5, 8,10] \n",
    "BubbleSortOPtimizedAscend(myList)\n",
    "print(myList)\n",
    "num=10\n",
    "\n",
    "startIndex =0\n",
    "endIndex = len(myList)    # =>  [2, 5, 8,10,DUMMY]   Dummy will never get because of Int  # Not -1  because int will take one lens ex (ave is 2.5 it take as 2) # -1 is kept last number will get eleminated\n",
    "aveIndex = int((startIndex+endIndex)/2)\n",
    "\n",
    "for run in range(len(myList)):\n",
    "    print(myList[aveIndex])\n",
    "    \n",
    "    \n",
    "    if(myList[aveIndex]==num):   #If match Break\n",
    "        print(myList[aveIndex], aveIndex)\n",
    "        break      \n",
    "    elif(myList[aveIndex]<num):  #If > take [Mid to left]               [              Ave   num   Left]\n",
    "        startIndex =aveIndex\n",
    "        endIndex = endIndex\n",
    "        aveIndex = int((startIndex+endIndex)/2)\n",
    "    elif(myList[aveIndex]>num):  #If < take [right to Mid]              [Right  num    Ave             ]\n",
    "        startIndex = startIndex\n",
    "        endIndex = aveIndex\n",
    "        aveIndex = int((startIndex+endIndex)/2)\n",
    "        \n",
    "        \n",
    "     \n"
   ]
  },
  {
   "cell_type": "code",
   "execution_count": 97,
   "metadata": {},
   "outputs": [
    {
     "name": "stdout",
     "output_type": "stream",
     "text": [
      "[1, 2, 10]\n",
      "2\n"
     ]
    }
   ],
   "source": [
    "##BinarysearchlongMethod\n",
    "a=[1,2,10]\n",
    "BubbleSortOPtimizedAscend(a)\n",
    "print(a)\n",
    "num=10\n",
    "start=0\n",
    "end=len(a)\n",
    "x=start\n",
    "y=end\n",
    "Avg=x+y/2\n",
    "myavg=int(Avg)\n",
    "#if(num==a[myavg]):\n",
    "    #print(myavg)\n",
    "if(num>a[myavg]):\n",
    "    midR=myavg\n",
    "    x=midR\n",
    "    y=end\n",
    "    for Right in range(end-midR):\n",
    "        \n",
    "       \n",
    "        Avg=(x+y)/2\n",
    "        myavgR=int(Avg)\n",
    "        if(num>a[myavgR]):\n",
    "            x=myavgR\n",
    "            y=end\n",
    "            \n",
    "        if(num<a[myavgR]):\n",
    "            x=myavgR\n",
    "            y=midR\n",
    "        if(num==a[myavgR]):\n",
    "            print(myavgR)\n",
    "            break\n",
    "    #print(myavgR)        \n",
    "    if(num!=a[myavgR]):\n",
    "        print(-1)\n",
    "            \n",
    "if(num<a[myavg]):\n",
    "    midL=myavg\n",
    "    x=midL\n",
    "    y=start\n",
    "    for Left in range(midL,-1,-1):\n",
    "        \n",
    "        Avg=(x+y)/2\n",
    "        myavgL=int(Avg)\n",
    "        if(num>a[myavgL]):\n",
    "            x=myavgL\n",
    "            y=midL\n",
    "        if(num<a[myavgL]):\n",
    "            x=start\n",
    "            y=myavgL\n",
    "        if(num==a[myavgL]):\n",
    "            print(myavgL)\n",
    "            break\n",
    "    #print(myavgL)        \n",
    "            \n",
    "    if(num!=a[myavgL]):\n",
    "        print(-1)\n"
   ]
  },
  {
   "cell_type": "code",
   "execution_count": 98,
   "metadata": {},
   "outputs": [
    {
     "name": "stdout",
     "output_type": "stream",
     "text": [
      "[1, 2, 5, 7, 10]\n",
      "3\n"
     ]
    }
   ],
   "source": [
    "##BinarySearchoptimised\n",
    "\n",
    "a=[1,2,10,5,7]\n",
    "BubbleSortOPtimizedAscend(a)\n",
    "print(a)\n",
    "num=7\n",
    "\n",
    "start=0\n",
    "end=len(a)+1\n",
    "x=start\n",
    "y=end\n",
    "Avg=(x+y)/2\n",
    "myavg=int(Avg)\n",
    "\n",
    "       \n",
    "for x in range(len(a)):\n",
    "\n",
    "    Avg=(x+y)/2\n",
    "    myavg1=int(Avg)\n",
    "    if(num>a[myavg1]):\n",
    "        x=myavg1\n",
    "        y=myavg\n",
    "    if(num<a[myavg1]):\n",
    "        x=start\n",
    "        y=myavg1\n",
    "    if(num==a[myavg1]):\n",
    "        print(myavg1)\n",
    "        break\n",
    "#print(myavgL)        \n",
    "\n",
    "if(num!=a[myavg1]):\n",
    "    print(-1)\n"
   ]
  },
  {
   "cell_type": "code",
   "execution_count": 99,
   "metadata": {},
   "outputs": [],
   "source": [
    "##BinarySearch\n",
    "def BinarySearch(list,num):\n",
    "    a=list\n",
    "    BubbleSortOPtimizedAscend(a)\n",
    "    print(a)\n",
    "\n",
    "\n",
    "    start=0\n",
    "    end=len(a)+1\n",
    "    x=start\n",
    "    y=end\n",
    "    Avg=(x+y)/2\n",
    "    myavg=int(Avg)\n",
    "\n",
    "\n",
    "    for x in range(len(a)):\n",
    "\n",
    "        Avg=(x+y)/2\n",
    "        myavg1=int(Avg)\n",
    "        if(num>a[myavg1]):\n",
    "            x=myavg1\n",
    "            y=myavg\n",
    "        if(num<a[myavg1]):\n",
    "            x=start\n",
    "            y=myavg1\n",
    "        if(num==a[myavg1]):\n",
    "            print(myavg1)\n",
    "            break\n",
    "    #print(myavgL)        \n",
    "\n",
    "    if(num!=a[myavg1]):\n",
    "        print(-1)\n"
   ]
  },
  {
   "cell_type": "code",
   "execution_count": 96,
   "metadata": {},
   "outputs": [
    {
     "name": "stdout",
     "output_type": "stream",
     "text": [
      "[2, 4, 5, 6, 7, 8]\n",
      "3\n"
     ]
    }
   ],
   "source": [
    "BinarySearch([5,2,6,8,4,7],6)"
   ]
  },
  {
   "cell_type": "code",
   "execution_count": null,
   "metadata": {},
   "outputs": [],
   "source": []
  },
  {
   "cell_type": "code",
   "execution_count": null,
   "metadata": {},
   "outputs": [],
   "source": []
  },
  {
   "cell_type": "code",
   "execution_count": null,
   "metadata": {},
   "outputs": [],
   "source": [
    "###10 GRAPHICS....."
   ]
  },
  {
   "cell_type": "code",
   "execution_count": 157,
   "metadata": {},
   "outputs": [],
   "source": [
    "# GUI\n",
    "import tkinter\n",
    "import tkinter.messagebox\n",
    "\n",
    "\n",
    "# Function\n",
    "def helloCallBack():\n",
    "    tkinter.messagebox.showinfo(\"Message Box name Fatima\",\"I love you Muzafar i guess\")\n",
    "\n",
    "def FatiamaHello():\n",
    "    print(\"Hello Fatiam Angry Fatiam\")\n",
    "    \n",
    "    # Main Program\n",
    "top = tkinter.Tk()\n",
    "top.title(\"MyFirstBox\")\n",
    "\n",
    "B = tkinter.Button(top, text =\"Hello\", command = helloCallBack)\n",
    "B.pack()\n",
    "B2 = tkinter.Button(top, text =\"Fatiam 2 Hello Button\", command = FatiamaHello)\n",
    "B2.pack()\n",
    "B3 = tkinter.Button(top, text =\"Stars\", command = stars)\n",
    "B3.pack()\n",
    "B4 = tkinter.Button(top, text =\"Quit\", command = top.destroy)\n",
    "B4.pack()\n",
    "\n",
    "\n",
    "top.mainloop()\n",
    "\n"
   ]
  },
  {
   "cell_type": "code",
   "execution_count": 545,
   "metadata": {},
   "outputs": [],
   "source": [
    "?tkinter.Tk"
   ]
  },
  {
   "cell_type": "code",
   "execution_count": 8,
   "metadata": {},
   "outputs": [],
   "source": [
    "# Links\n",
    "# https://stackoverflow.com/questions/2395431/using-tkinter-in-python-to-edit-the-title-bar\n",
    "# https://www.tutorialspoint.com/python/python_gui_programming.htm\n",
    "# https://docs.python.org/3/library/tkinter.html#a-hello-world-program\n",
    "# https://www.w3schools.com/python/\n"
   ]
  },
  {
   "cell_type": "code",
   "execution_count": 158,
   "metadata": {},
   "outputs": [],
   "source": [
    "import tkinter\n",
    "import tkinter.messagebox\n",
    "   \n",
    "def lvchecking():\n",
    "    tkinter.messagebox.showinfo(\"do Fatima Lv Muzafar\",\"offcourse yess\")\n",
    "\n",
    "def Mode():\n",
    "    print(\"Fatima is Happy and feels Lucky \")\n",
    "    \n",
    "up=tkinter.Tk()\n",
    "up.title(\"LoveTesting\")\n",
    "  \n",
    "    \n",
    "B=tkinter.Button(up,text =\"Test\",command=lvchecking)\n",
    "B.pack()\n",
    "B2=tkinter.Button(up,text =\"Fatima Mode\",command=Mode)\n",
    "B2.pack()\n",
    "B3 = tkinter.Button(up, text =\"Exit\", command = up.destroy)\n",
    "B3.pack()\n",
    "\n",
    "\n",
    "C = tkinter.Canvas(up,bd=2 , bg=\"pink\", height=300, width=400)\n",
    "\n",
    "coord = 10, 60, 200, 200\n",
    "arc = C.create_arc(coord, start=40, extent=290, fill=\"green\")\n",
    "\n",
    "C.pack()\n",
    "\n",
    "\n",
    "up.mainloop()\n",
    "    "
   ]
  },
  {
   "cell_type": "code",
   "execution_count": 161,
   "metadata": {},
   "outputs": [],
   "source": [
    "import tkinter\n",
    "import tkinter.messagebox\n",
    "   \n",
    "def lvchecking():\n",
    "    tkinter.messagebox.showinfo(\"do Fatima Lv Muzafar\",\"offcourse yess\")\n",
    "\n",
    "def Mode():\n",
    "    print(\"Fatima is Happy and feels Lucky \")\n",
    "    \n",
    "    \n",
    "    \n",
    "    \n",
    "up=tkinter.Tk()\n",
    "up.title(\"LoveTesting\")\n",
    "  \n",
    "    \n",
    "B=tkinter.Button(up,text =\"Test\",command=lvchecking)\n",
    "B.pack()\n",
    "B2=tkinter.Button(up,text =\"Fatima Mode\",command=Mode)\n",
    "B2.pack()\n",
    "B3 = tkinter.Button(up, text =\"Exit\", command = up.destroy)\n",
    "B3.pack()\n",
    "\n",
    "\n",
    "C = tkinter.Canvas(up,bd=2 , bg=\"pink\", height=300, width=400)\n",
    "\n",
    "coord = 10, 60, 200, 200\n",
    "arc = C.create_arc(coord, start=40, extent=290, fill=\"green\")\n",
    "\n",
    "C.pack()\n",
    "\n",
    "C2 = tkinter.Canvas(up,bd=2 , bg=\"skyblue\", height=300, width=400)\n",
    "\n",
    "coord = 10, 60, 200, 200\n",
    "arc = C2.create_arc(coord, start=40, extent=290, fill=\"lightgreen\")\n",
    "\n",
    "C2.pack()\n",
    "\n",
    "\n",
    "\n",
    "\n",
    "\n",
    "\n",
    "up.mainloop()\n",
    "    "
   ]
  },
  {
   "cell_type": "code",
   "execution_count": 159,
   "metadata": {},
   "outputs": [],
   "source": [
    "from tkinter import *\n",
    "import tkinter\n",
    "import tkinter.messagebox\n",
    "   \n",
    "def lvchecking():\n",
    "    tkinter.messagebox.showinfo(\"do Fatima Lv Muzafar\",\"offcourse yess\")\n",
    "\n",
    "def Mode():\n",
    "    if(CheckVar1.get() and not( CheckVar2.get() )):\n",
    "        print(\"Fatima is Happy and feels Lucky \")  \n",
    "    elif(CheckVar2.get() and not( CheckVar1.get() )):\n",
    "        print(\"Fatima  is  Angry\")   \n",
    "    elif(CheckVar1.get() and CheckVar2.get()):\n",
    "        print(\"Fatima is Normal/Nutral\")\n",
    "    else:\n",
    "        print(\"Don't know\")\n",
    "        \n",
    "up=tkinter.Tk()\n",
    "up.title(\"LoveTesting\")\n",
    "  \n",
    "    \n",
    "B=tkinter.Button(up,text =\"Test\",command=lvchecking)\n",
    "B.pack()\n",
    "B2=tkinter.Button(up,text =\"Fatima Mode\",command=Mode)\n",
    "B2.pack()\n",
    "B3 = tkinter.Button(up, text =\"Exit\", command = up.destroy)\n",
    "B3.pack()\n",
    "\n",
    "C = tkinter.Canvas(up,bd=2 , bg=\"pink\", height=300, width=400)\n",
    "\n",
    "coord = 10, 60, 200, 200\n",
    "arc = C.create_arc(coord, start=40, extent=290, fill=\"green\")\n",
    "\n",
    "C.pack()\n",
    "\n",
    "\n",
    "\n",
    "CheckVar1 = IntVar()\n",
    "CheckVar2 = IntVar()\n",
    "C1 = Checkbutton(up, text = \"GoodMode\", variable = CheckVar1, \\\n",
    "                 onvalue = 1 , offvalue = 0, height=5, \\\n",
    "                 width = 20,underline=0,fg=\"red\",font=5)\n",
    "\n",
    "C2 = Checkbutton(up, text = \"BadMode\", variable = CheckVar2, \\\n",
    "                 onvalue = 1, offvalue = 0, height=5, \\\n",
    "                 width = 20,underline=0,fg=\"brown\" )\n",
    "C1.pack()\n",
    "C2.pack()\n",
    "\n",
    "\n",
    "\n",
    "up.mainloop()\n",
    "    "
   ]
  },
  {
   "cell_type": "code",
   "execution_count": 2,
   "metadata": {},
   "outputs": [
    {
     "ename": "NameError",
     "evalue": "name 'Label' is not defined",
     "output_type": "error",
     "traceback": [
      "\u001b[1;31m---------------------------------------------------------------------------\u001b[0m",
      "\u001b[1;31mNameError\u001b[0m                                 Traceback (most recent call last)",
      "\u001b[1;32m~\\AppData\\Local\\Temp/ipykernel_26808/2681912281.py\u001b[0m in \u001b[0;36m<module>\u001b[1;34m\u001b[0m\n\u001b[1;32m----> 1\u001b[1;33m \u001b[0mL1\u001b[0m \u001b[1;33m=\u001b[0m \u001b[0mLabel\u001b[0m\u001b[1;33m(\u001b[0m\u001b[0mtop\u001b[0m\u001b[1;33m,\u001b[0m \u001b[0mtext\u001b[0m\u001b[1;33m=\u001b[0m\u001b[1;34m\"User Name\"\u001b[0m\u001b[1;33m)\u001b[0m\u001b[1;33m\u001b[0m\u001b[1;33m\u001b[0m\u001b[0m\n\u001b[0m\u001b[0;32m      2\u001b[0m \u001b[0mL1\u001b[0m\u001b[1;33m.\u001b[0m\u001b[0mpack\u001b[0m\u001b[1;33m(\u001b[0m \u001b[0mside\u001b[0m \u001b[1;33m=\u001b[0m \u001b[0mLEFT\u001b[0m\u001b[1;33m)\u001b[0m\u001b[1;33m\u001b[0m\u001b[1;33m\u001b[0m\u001b[0m\n\u001b[0;32m      3\u001b[0m \u001b[0mE1\u001b[0m \u001b[1;33m=\u001b[0m \u001b[0mEntry\u001b[0m\u001b[1;33m(\u001b[0m\u001b[0mtop\u001b[0m\u001b[1;33m,\u001b[0m \u001b[0mbd\u001b[0m \u001b[1;33m=\u001b[0m\u001b[1;36m5\u001b[0m\u001b[1;33m)\u001b[0m\u001b[1;33m\u001b[0m\u001b[1;33m\u001b[0m\u001b[0m\n\u001b[0;32m      4\u001b[0m \u001b[0mE1\u001b[0m\u001b[1;33m.\u001b[0m\u001b[0mpack\u001b[0m\u001b[1;33m(\u001b[0m\u001b[0mside\u001b[0m \u001b[1;33m=\u001b[0m \u001b[0mRIGHT\u001b[0m\u001b[1;33m)\u001b[0m\u001b[1;33m\u001b[0m\u001b[1;33m\u001b[0m\u001b[0m\n",
      "\u001b[1;31mNameError\u001b[0m: name 'Label' is not defined"
     ]
    }
   ],
   "source": [
    "L1 = Label(top, text=\"User Name\")\n",
    "L1.pack( side = LEFT)\n",
    "E1 = Entry(top, bd =5)\n",
    "E1.pack(side = RIGHT)\n"
   ]
  },
  {
   "cell_type": "code",
   "execution_count": 162,
   "metadata": {},
   "outputs": [
    {
     "data": {
      "text/plain": [
       "list"
      ]
     },
     "execution_count": 162,
     "metadata": {},
     "output_type": "execute_result"
    }
   ],
   "source": [
    "string = \"5,8,6,10,9\"\n",
    "a=string.split(\",\")\n",
    "type(a)"
   ]
  },
  {
   "cell_type": "code",
   "execution_count": 188,
   "metadata": {},
   "outputs": [],
   "source": [
    "import tkinter\n",
    "import tkinter.messagebox\n",
    "   \n",
    "def lvchecking():\n",
    "    \n",
    "    givenList = E1.get().split(\",\"); givenList = [int(i) for i in givenList];print(givenList)\n",
    "    BL=BubbleSort(givenList)\n",
    "    tkinter.messagebox.showinfo(\"do Fatima Lv Muzafar\",\"offcourse yess \" + str(BL))\n",
    "    \n",
    "    \n",
    "\n",
    "def Mode():\n",
    "    print(\"Fatima is Happy and feels Lucky \" )\n",
    "up=tkinter.Tk()\n",
    "up.title(\"LoveTesting\")\n",
    "  \n",
    "    \n",
    "B=tkinter.Button(up,text =\"Test\",command=lvchecking)\n",
    "B.pack()\n",
    "B2=tkinter.Button(up,text =\"Fatima Mode\",command=Mode)\n",
    "B2.pack()\n",
    "B3 = tkinter.Button(up, text =\"Exit\", command = up.destroy)\n",
    "B3.pack()\n",
    "\n",
    "\n",
    "C = tkinter.Canvas(up,bd=2 , bg=\"pink\", height=300, width=400)\n",
    "\n",
    "coord = 10, 60, 200, 200\n",
    "arc = C.create_arc(coord, start=40, extent=290, fill=\"green\")\n",
    "\n",
    "C.pack()\n",
    "\n",
    "\n",
    "L1 = Label(up, text=\"User Name\")\n",
    "L1.pack( side = LEFT)\n",
    "E1 = Entry(up, bd =20)\n",
    "E1.pack(side = LEFT)\n",
    "\n",
    "up.mainloop()\n",
    "    "
   ]
  },
  {
   "cell_type": "code",
   "execution_count": 111,
   "metadata": {},
   "outputs": [],
   "source": [
    "from tkinter import *\n",
    "\n",
    "root = Tk()\n",
    "frame = Frame(root)\n",
    "frame.pack()\n",
    "\n",
    "bottomframe = Frame(root)\n",
    "bottomframe.pack( side = BOTTOM )\n",
    "\n",
    "redbutton = Button(frame, text=\"Red\", fg=\"red\")\n",
    "redbutton.pack( side = LEFT)\n",
    "\n",
    "greenbutton = Button(frame, text=\"Brown\", fg=\"brown\")\n",
    "greenbutton.pack( side = LEFT )\n",
    "\n",
    "bluebutton = Button(frame, text=\"Blue\", fg=\"blue\")\n",
    "bluebutton.pack( side = LEFT )\n",
    "\n",
    "blackbutton = Button(bottomframe, text=\"Black\", fg=\"black\")\n",
    "blackbutton.pack( side = BOTTOM)\n",
    "\n",
    "root.mainloop()"
   ]
  },
  {
   "cell_type": "code",
   "execution_count": 142,
   "metadata": {},
   "outputs": [],
   "source": [
    "from tkinter import *\n",
    "import tkinter\n",
    "import tkinter.messagebox\n",
    "   \n",
    "def lvchecking():\n",
    "    tkinter.messagebox.showinfo(\"do Fatima Lv Muzafar\",\"offcourse yess\")\n",
    "\n",
    "def Mode():\n",
    "    if(CheckVar1.get() and not( CheckVar2.get() )):\n",
    "        print(\"Fatima is Happy and feels Lucky \")  \n",
    "    elif(CheckVar2.get() and not( CheckVar1.get() )):\n",
    "        print(\"Fatima  is  Angry\")   \n",
    "    elif(CheckVar1.get() and CheckVar2.get()):\n",
    "        print(\"Fatima is Normal/Nutral\")\n",
    "    else:\n",
    "        print(\"Don't know\")\n",
    "        \n",
    "up=tkinter.Tk()\n",
    "up.title(\"LoveTesting\")\n",
    "  \n",
    "    \n",
    "B=tkinter.Button(up,text =\"Test\",command=lvchecking)\n",
    "B.pack()\n",
    "B2=tkinter.Button(up,text =\"Fatima Mode\",command=Mode)\n",
    "B2.pack()\n",
    "B3 = tkinter.Button(up, text =\"Exit\", command = up.destroy)\n",
    "B3.pack()\n",
    "\n",
    "C = tkinter.Canvas(up,bd=2 , bg=\"pink\", height=300, width=400)\n",
    "\n",
    "coord = 10, 60, 200, 200\n",
    "arc = C.create_arc(coord, start=40, extent=290, fill=\"green\")\n",
    "\n",
    "C.pack()\n",
    "\n",
    "\n",
    "\n",
    "CheckVar1 = IntVar()\n",
    "CheckVar2 = IntVar()\n",
    "C1 = Checkbutton(up, text = \"GoodMode\", variable = CheckVar1, \\\n",
    "                 onvalue = 1 , offvalue = 0, height=5, \\\n",
    "                 width = 20,underline=0,fg=\"red\",font=5)\n",
    "\n",
    "C2 = Checkbutton(up, text = \"BadMode\", variable = CheckVar2, \\\n",
    "                 onvalue = 1, offvalue = 0, height=5, \\\n",
    "                 width = 20,underline=0,fg=\"brown\" )\n",
    "C1.pack()\n",
    "C2.pack()\n",
    "\n",
    "\n",
    "\n",
    "\n",
    "\n",
    "up.mainloop()\n",
    "    "
   ]
  },
  {
   "cell_type": "code",
   "execution_count": 187,
   "metadata": {},
   "outputs": [],
   "source": [
    "from tkinter import *\n",
    "import tkinter\n",
    "import tkinter.messagebox\n",
    "   \n",
    "\n",
    "root = Tk()\n",
    "var = StringVar()\n",
    "label = Label( root, textvariable=var, relief=RAISED )\n",
    "\n",
    "var.set(\"Hey!? How are you doing?\")\n",
    "label.pack()\n",
    "root.mainloop()"
   ]
  },
  {
   "cell_type": "code",
   "execution_count": 146,
   "metadata": {},
   "outputs": [],
   "source": [
    "import tkinter as tk\n",
    "import tkinter.messagebox\n",
    "r = tk.Tk()\n",
    "r.title('ON , OFF Button')\n",
    "##ON\n",
    "def helloCallBackOn():\n",
    "    tkinter.messagebox.showinfo( \"ButtonON\", \"ON\")\n",
    "    \n",
    "button = tk.Button(r, text='ON', width=25, command=helloCallBackOn)\n",
    "button.pack()\n",
    "##OFF\n",
    "def helloCallBackOff():\n",
    "    tkinter.messagebox.showinfo( \"ButtonOFF\", \"OFF\")\n",
    "    \n",
    "\n",
    "button = tk.Button(r, text='OFF', width=25, command=helloCallBackOff)\n",
    "button.pack()\n",
    "\n",
    "r.mainloop()\n"
   ]
  },
  {
   "cell_type": "code",
   "execution_count": 2,
   "metadata": {},
   "outputs": [
    {
     "name": "stdout",
     "output_type": "stream",
     "text": [
      "__main__\n",
      "__main__\n"
     ]
    }
   ],
   "source": [
    "\n",
    "\n",
    "\n",
    "from datetime import datetime,timedelta\n",
    "from threading import Timer\n",
    "#import RPi.GPIO as GPIO\n",
    "from time import sleep\n",
    "\n",
    "class Garden2():\n",
    "    def __init__(self,myDaysRun=1):\n",
    "        self.daysRun=myDaysRun\n",
    "        self.today=datetime.today()\n",
    "       # GPIO.setwarnings(True)\n",
    "        #GPIO.setmode(GPIO.BOARD)\n",
    "        \n",
    "        #GPIO.setup(7, GPIO.OUT, initial=GPIO.LOW)\n",
    "\n",
    "    def hello_world(self):\n",
    "        print (\"hello world\")\n",
    "\n",
    "    def ON(self):\n",
    "        print(\"ON Executed\")\n",
    "        #GPIO.output(7, GPIO.HIGH)\n",
    "    def OFF(self):\n",
    "        print(\"OFF Executed\")\n",
    "        #GPIO.output(7, GPIO.LOW)\n",
    "    def SetON(self,myHours,myMinute): \n",
    "        daysOn = self.daysRun\n",
    "        x=self.today       \n",
    "        for i in range(daysOn):\n",
    "            y=x.replace(day=x.day, hour=myHours,minute=myMinute,second=0,microsecond=0) + timedelta(days=i)# (seconds=i) replace for test\n",
    "            delta_t=y-x; secs=delta_t.seconds + delta_t.days * 3600 * 24;\n",
    "            if(secs < 0):\n",
    "                continue;\n",
    "            t =Timer(secs, self.ON)\n",
    "            print(t,secs,\" Timer on set\",delta_t,y)\n",
    "            t.start()\n",
    "\n",
    "    def SetOFF(self,myHours,myMinute):   \n",
    "        daysOn = self.daysRun\n",
    "        x=self.today       \n",
    "        for i in range(daysOn):\n",
    "            y=x.replace(day=x.day, hour=myHours,minute=myMinute,second=0,microsecond=0) + timedelta(days=i)# (seconds=i) replace for test\n",
    "            delta_t=y-x; secs=delta_t.seconds + delta_t.days * 3600 * 24;\n",
    "            if(secs < 0):\n",
    "                continue;\n",
    "            t =Timer(secs, self.OFF)\n",
    "            print(t,secs,\" Timer off Set\",delta_t,y)\n",
    "            t.start()\n",
    "\n",
    "    def SetOnOff(self,onHour,onMinute,offHour,offMinute):\n",
    "        self.SetON(onHour,onMinute)\n",
    "        self.SetOFF(offHour,offMinute)\n",
    "\n",
    "\n",
    "    def SetONbyDateTime(self, myDateTime= (datetime.today()+timedelta(seconds=2)) ) :  # dt = datetime(2022,3,3,21,25,45,20) \n",
    "        delta_t=myDateTime-self.today; ##change self. todatetime ask\n",
    "        secs=delta_t.seconds+1            \n",
    "        t =Timer(secs, self.ON)\n",
    "        t.start()\n",
    "\n",
    "    def SetOFFbyDateTime(self, myDateTime= (datetime.today()+timedelta(seconds=10)) ) :   \n",
    "        delta_t=myDateTime-self.today;\n",
    "        secs=delta_t.seconds+1            \n",
    "        t =Timer(secs, self.OFF)\n",
    "        t.start()\n",
    "print(__name__)\n",
    "if(__name__ =='__main__'):\n",
    "    print(__name__)\n",
    "    mygarden=Garden2()#30 Days run program\n",
    "\n"
   ]
  },
  {
   "cell_type": "code",
   "execution_count": 237,
   "metadata": {},
   "outputs": [
    {
     "name": "stdout",
     "output_type": "stream",
     "text": [
      "ON Executed\n",
      "OFF Executed\n"
     ]
    }
   ],
   "source": []
  },
  {
   "cell_type": "code",
   "execution_count": 4,
   "metadata": {},
   "outputs": [
    {
     "name": "stdout",
     "output_type": "stream",
     "text": [
      "<class 'int'>\n",
      "ON Executed\n"
     ]
    }
   ],
   "source": [
    "\n",
    "from datetime import datetime,timedelta\n",
    "\n",
    "\n",
    "sliderValue = 1\n",
    "print(type(sliderValue))\n",
    "mydateON=datetime.today()\n",
    "mydateOFF=datetime.today()+timedelta(minutes=sliderValue)\n",
    "#print(mydateON)\n",
    "#print(mydateOFF)\n",
    "mygarden2=Garden2()\n",
    "mygarden2.SetONbyDateTime(mydateON)\n",
    "mygarden2.SetOFFbyDateTime(mydateOFF)\n",
    "                                  "
   ]
  },
  {
   "cell_type": "code",
   "execution_count": 241,
   "metadata": {},
   "outputs": [
    {
     "name": "stdout",
     "output_type": "stream",
     "text": [
      "ON Executed\n",
      "OFF Executed\n"
     ]
    }
   ],
   "source": [
    "import tkinter as tk\n",
    "import tkinter.messagebox\n",
    "r = tk.Tk()\n",
    "r.title('ON , OFF Button')\n",
    "##ON\n",
    "G1=Garden2()\n",
    "\n",
    "def helloCallBackOn():\n",
    "    G1.ON()\n",
    "    buttonON.configure(bg=\"#00ff33\")\n",
    "    buttonOFF.configure(bg=\"#ffffff\")\n",
    "    \n",
    "    #tkinter.messagebox.showinfo( \"ON\", \"ONExecuted\")\n",
    "    \n",
    "    \n",
    "buttonON = tk.Button(r, text='ON', width=25, command=helloCallBackOn,bg='#ffffff')\n",
    "buttonON.pack()\n",
    "##OFF\n",
    "def helloCallBackOff():\n",
    "    G1.OFF()\n",
    "    buttonOFF.configure(bg=\"#ff3333\")\n",
    "    buttonON.configure(bg=\"#ffffff\")\n",
    "    \n",
    "    \n",
    "    #tkinter.messagebox.showinfo( \"OFF\", \"OFFExecuted\")\n",
    "    \n",
    "\n",
    "buttonOFF = tk.Button(r, text='OFF', width=25, command=helloCallBackOff,bg='#ffffff')\n",
    "buttonOFF.pack()\n",
    "\n",
    "r.mainloop()\n"
   ]
  },
  {
   "cell_type": "code",
   "execution_count": 183,
   "metadata": {},
   "outputs": [],
   "source": [
    "#help(button)\n"
   ]
  },
  {
   "cell_type": "code",
   "execution_count": 7,
   "metadata": {},
   "outputs": [
    {
     "name": "stdout",
     "output_type": "stream",
     "text": [
      "1\n",
      "ON Executed\n",
      "OFF Executed\n"
     ]
    },
    {
     "ename": "KeyboardInterrupt",
     "evalue": "",
     "output_type": "error",
     "traceback": [
      "\u001b[1;31m---------------------------------------------------------------------------\u001b[0m",
      "\u001b[1;31mKeyboardInterrupt\u001b[0m                         Traceback (most recent call last)",
      "\u001b[1;32m~\\AppData\\Local\\Temp/ipykernel_19232/1926489232.py\u001b[0m in \u001b[0;36m<module>\u001b[1;34m\u001b[0m\n\u001b[0;32m     26\u001b[0m \u001b[0mlabel\u001b[0m\u001b[1;33m.\u001b[0m\u001b[0mpack\u001b[0m\u001b[1;33m(\u001b[0m\u001b[1;33m)\u001b[0m\u001b[1;33m\u001b[0m\u001b[1;33m\u001b[0m\u001b[0m\n\u001b[0;32m     27\u001b[0m \u001b[1;33m\u001b[0m\u001b[0m\n\u001b[1;32m---> 28\u001b[1;33m \u001b[0mroot\u001b[0m\u001b[1;33m.\u001b[0m\u001b[0mmainloop\u001b[0m\u001b[1;33m(\u001b[0m\u001b[1;33m)\u001b[0m\u001b[1;33m\u001b[0m\u001b[1;33m\u001b[0m\u001b[0m\n\u001b[0m",
      "\u001b[1;32m~\\anaconda3\\lib\\tkinter\\__init__.py\u001b[0m in \u001b[0;36mmainloop\u001b[1;34m(self, n)\u001b[0m\n\u001b[0;32m   1427\u001b[0m     \u001b[1;32mdef\u001b[0m \u001b[0mmainloop\u001b[0m\u001b[1;33m(\u001b[0m\u001b[0mself\u001b[0m\u001b[1;33m,\u001b[0m \u001b[0mn\u001b[0m\u001b[1;33m=\u001b[0m\u001b[1;36m0\u001b[0m\u001b[1;33m)\u001b[0m\u001b[1;33m:\u001b[0m\u001b[1;33m\u001b[0m\u001b[1;33m\u001b[0m\u001b[0m\n\u001b[0;32m   1428\u001b[0m         \u001b[1;34m\"\"\"Call the mainloop of Tk.\"\"\"\u001b[0m\u001b[1;33m\u001b[0m\u001b[1;33m\u001b[0m\u001b[0m\n\u001b[1;32m-> 1429\u001b[1;33m         \u001b[0mself\u001b[0m\u001b[1;33m.\u001b[0m\u001b[0mtk\u001b[0m\u001b[1;33m.\u001b[0m\u001b[0mmainloop\u001b[0m\u001b[1;33m(\u001b[0m\u001b[0mn\u001b[0m\u001b[1;33m)\u001b[0m\u001b[1;33m\u001b[0m\u001b[1;33m\u001b[0m\u001b[0m\n\u001b[0m\u001b[0;32m   1430\u001b[0m \u001b[1;33m\u001b[0m\u001b[0m\n\u001b[0;32m   1431\u001b[0m     \u001b[1;32mdef\u001b[0m \u001b[0mquit\u001b[0m\u001b[1;33m(\u001b[0m\u001b[0mself\u001b[0m\u001b[1;33m)\u001b[0m\u001b[1;33m:\u001b[0m\u001b[1;33m\u001b[0m\u001b[1;33m\u001b[0m\u001b[0m\n",
      "\u001b[1;31mKeyboardInterrupt\u001b[0m: "
     ]
    }
   ],
   "source": [
    "from datetime import datetime,timedelta\n",
    "from tkinter import *\n",
    "G2=Garden2()\n",
    "def OnClick():\n",
    "    sliderValue=int(var.get())\n",
    "    print(sliderValue)\n",
    "    label.config(text = \"Value = \" + str(var.get()))\n",
    "    mydateON=datetime.today()\n",
    "    mydateOFF=datetime.today()+timedelta(minutes=sliderValue)\n",
    "    G2.SetONbyDateTime(mydateON)\n",
    "    G2.SetOFFbyDateTime(mydateOFF) \n",
    "\n",
    "def SliderPrint(text=\"Fatima\"):\n",
    "   selection = \"Value = \" + text\n",
    "   label.config(text = selection)\n",
    "\n",
    "root = Tk()\n",
    "var = DoubleVar()\n",
    "scale = Scale( root, variable = var ,fg=\"red\",from_=1,to=60,length=200,orient=HORIZONTAL,command=SliderPrint )\n",
    "scale.pack(anchor=CENTER)\n",
    "\n",
    "button = Button(root, text=\"Get Scale Value\", command=OnClick)\n",
    "button.pack(anchor=CENTER)\n",
    "\n",
    "label = Label(root)\n",
    "label.pack()\n",
    "\n",
    "root.mainloop()"
   ]
  },
  {
   "cell_type": "code",
   "execution_count": 20,
   "metadata": {},
   "outputs": [
    {
     "data": {
      "text/plain": [
       "30"
      ]
     },
     "execution_count": 20,
     "metadata": {},
     "output_type": "execute_result"
    },
    {
     "name": "stdout",
     "output_type": "stream",
     "text": [
      "OFF Executed\n",
      "OFF Executed\n",
      "OFF Executed\n",
      "OFF Executed\n"
     ]
    }
   ],
   "source": [
    "import tkinter as tk\n",
    "import tkinter.messagebox\n",
    "from datetime import datetime,timedelta\n",
    "from tkinter import *\n",
    "\n",
    "def OnButtonOn():\n",
    "    G1.ON()\n",
    "    buttonON.configure(bg=\"#00ff33\")\n",
    "    buttonOFF.configure(bg=\"#ffffff\") \n",
    "    #tkinter.messagebox.showinfo( \"ON\", \"ONExecuted\")\n",
    "    \n",
    "    \n",
    "def OnButtonOff():\n",
    "    G1.OFF()\n",
    "    buttonOFF.configure(bg=\"#ff3333\")\n",
    "    buttonON.configure(bg=\"#ffffff\")\n",
    "    #tkinter.messagebox.showinfo( \"OFF\", \"OFFExecuted\")\n",
    "    \n",
    "\n",
    "def OnClickSlider():\n",
    "    sliderValue=int(var.get())\n",
    "    print(sliderValue)\n",
    "    label.config(text = \"Value = \" + str(var.get()))\n",
    "    mydateON=datetime.today()\n",
    "    mydateOFF=datetime.today()+timedelta(minutes=sliderValue)\n",
    "    G1.SetONbyDateTime(mydateON)\n",
    "    G1.SetOFFbyDateTime(mydateOFF) \n",
    "    buttonOFF.configure(bg=\"#ffffff\")\n",
    "def OnSlidingPrint(text=\"Fatima\"):\n",
    "   selection = \"Value = \" + text\n",
    "   label.config(text = selection)\n",
    "    \n",
    "    \n",
    "G1=Garden2()\n",
    "    \n",
    "root = tk.Tk()\n",
    "root.title(' FMGarden')\n",
    "buttonON = tk.Button(root, text='ON', width=40,height=2,command=OnButtonOn,bg='#ffffff')\n",
    "buttonON.pack()\n",
    "\n",
    "buttonOFF = tk.Button(root, text='OFF', width=40,height=2, command=OnButtonOff,bg='#ffffff')\n",
    "buttonOFF.pack()\n",
    "\n",
    "var = DoubleVar()\n",
    "scale = Scale( root, variable = var ,fg=\"blue\",bg='#ffffff',troughcolor='#ffccff',bd=5,from_=1,to=60,length=290,width=15,orient=HORIZONTAL,command=OnSlidingPrint )\n",
    "scale.pack(anchor=CENTER)\n",
    "\n",
    "button = Button(root, text=\"Garden Scale Value ON/OFF\",bg='#ffffff', width=40,height=2, command=OnClickSlider)\n",
    "button.pack(anchor=CENTER)\n",
    "\n",
    "label = Label(root)\n",
    "label.pack()\n",
    "\n",
    "root.mainloop()\n"
   ]
  },
  {
   "cell_type": "code",
   "execution_count": 1,
   "metadata": {},
   "outputs": [],
   "source": [
    "from tkinter import *\n",
    "import tkinter as tk\n",
    "import tkinter.messagebox\n",
    "root = tk.Tk()\n",
    "root.title('ON , OFF Button')\n",
    "##ON\n",
    "def helloCallBackOn():\n",
    "    tkinter.messagebox.showinfo( \"ButtonON\", \"ON\")\n",
    "    \n",
    "button = tk.Button(root, text='ON', width=25, command=helloCallBackOn)\n",
    "button.pack()\n",
    "##OFF\n",
    "def helloCallBackOff():\n",
    "    tkinter.messagebox.showinfo( \"ButtonOFF\", \"OFF\")\n",
    "    \n",
    "\n",
    "button = tk.Button(root, text='OFF', width=25, command=helloCallBackOff)\n",
    "button.pack()\n",
    "\n",
    "##\n",
    "mb=  Menubutton ( root, text=\"ON/OFF Button\" ,relief=RAISED )\n",
    "#mb.grid()\n",
    "mb.menu =  Menu ( mb, tearoff = 0 )\n",
    "mb[\"menu\"] =  mb.menu\n",
    "\n",
    "mayoVar = IntVar()\n",
    "ketchVar = IntVar()\n",
    "\n",
    "mb.menu.add_checkbutton ( label=\"ON\",\n",
    "                          variable=mayoVar )\n",
    "mb.menu.add_checkbutton ( label=\"OFF\",\n",
    "                          variable=ketchVar )\n",
    "\n",
    "mb.pack()\n",
    "##\n",
    "def sel():\n",
    "   selection = \"You selected the option \" + str(var.get())\n",
    "   label.config(text = selection)\n",
    "\n",
    "var = IntVar()\n",
    "R1 = Radiobutton(root, text=\"Option ON\", variable=var, value=1,\n",
    "                  command=sel)\n",
    "R1.pack( anchor = W )\n",
    "\n",
    "R2 = Radiobutton(root, text=\"Option OFF\", variable=var, value=2,\n",
    "                  command=sel)\n",
    "R2.pack( anchor = W )\n",
    "\n",
    "\n",
    "\n",
    "label = Label(root)\n",
    "label.pack()\n",
    "##\n",
    "scrollbar = Scrollbar(root)\n",
    "scrollbar.pack( side = RIGHT, fill = Y )\n",
    "\n",
    "mylist = Listbox(root, yscrollcommand = scrollbar.set )\n",
    "for line in range(1,60):\n",
    "   mylist.insert(END, \"This is line number \" + str(line))\n",
    "\n",
    "mylist.pack( side = LEFT, fill = BOTH )\n",
    "scrollbar.config( command = mylist.yview )\n",
    "\n",
    "mainloop()\n",
    "\n",
    "root.mainloop()"
   ]
  },
  {
   "cell_type": "code",
   "execution_count": null,
   "metadata": {},
   "outputs": [],
   "source": []
  },
  {
   "cell_type": "code",
   "execution_count": null,
   "metadata": {},
   "outputs": [],
   "source": []
  },
  {
   "cell_type": "code",
   "execution_count": null,
   "metadata": {},
   "outputs": [],
   "source": []
  },
  {
   "cell_type": "code",
   "execution_count": null,
   "metadata": {},
   "outputs": [],
   "source": []
  }
 ],
 "metadata": {
  "kernelspec": {
   "display_name": "Python 3 (ipykernel)",
   "language": "python",
   "name": "python3"
  },
  "language_info": {
   "codemirror_mode": {
    "name": "ipython",
    "version": 3
   },
   "file_extension": ".py",
   "mimetype": "text/x-python",
   "name": "python",
   "nbconvert_exporter": "python",
   "pygments_lexer": "ipython3",
   "version": "3.9.7"
  }
 },
 "nbformat": 4,
 "nbformat_minor": 4
}
