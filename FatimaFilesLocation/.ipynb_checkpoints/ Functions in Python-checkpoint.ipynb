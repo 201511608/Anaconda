{
 "cells": [
  {
   "cell_type": "code",
   "execution_count": 1,
   "id": "b6accc75",
   "metadata": {},
   "outputs": [],
   "source": [
    "def count_letter(content, letter):\n",
    "  \"\"\"Count the number of times `letter` appears in `content`.\n",
    "\n",
    "  Args:\n",
    "    content (str): The string to search.\n",
    "    letter (str): The letter to search for.\n",
    "\n",
    "  Returns:\n",
    "    int\n",
    "\n",
    "  # Add a section detailing what errors might be raised\n",
    "  Raises:\n",
    "    ValueError: If `letter` is not a one-character string.\n",
    "  \"\"\"\n",
    "  if (not isinstance(letter, str)) or len(letter) != 1:\n",
    "    raise ValueError('`letter` must be a single character string.')\n",
    "  return len([char for char in content if char == letter])"
   ]
  },
  {
   "cell_type": "code",
   "execution_count": 3,
   "id": "786199c6",
   "metadata": {},
   "outputs": [
    {
     "name": "stdout",
     "output_type": "stream",
     "text": [
      "############################\n",
      "Count the number of times `letter` appears in `content`.\n",
      "\n",
      "  Args:\n",
      "    content (str): The string to search.\n",
      "    letter (str): The letter to search for.\n",
      "\n",
      "  Returns:\n",
      "    int\n",
      "\n",
      "  # Add a section detailing what errors might be raised\n",
      "  Raises:\n",
      "    ValueError: If `letter` is not a one-character string.\n",
      "  \n",
      "############################\n"
     ]
    }
   ],
   "source": [
    "# Get the \"count_letter\" docstring by using an attribute of the function\n",
    "docstring = count_letter.__doc__    ###SHOWS ABOUT FUNCTION INFO  WE HAVE WRITTEN method 1\n",
    "\n",
    "border = '#' * 28\n",
    "print('{}\\n{}\\n{}'.format(border, docstring, border))"
   ]
  },
  {
   "cell_type": "code",
   "execution_count": null,
   "id": "91eb7580",
   "metadata": {},
   "outputs": [],
   "source": [
    "import inspect  ###SHOWS ABOUT FUNCTION INFO  WE HAVE WRITTEN method 2\n",
    "\n",
    "# Inspect the count_letter() function to get its docstring\n",
    "docstring = inspect.getdoc(count_letter)\n",
    "\n",
    "border = '#' * 28\n",
    "print('{}\\n{}\\n{}'.format(border, docstring, border))"
   ]
  },
  {
   "cell_type": "code",
   "execution_count": 12,
   "id": "e1316978",
   "metadata": {},
   "outputs": [
    {
     "name": "stdout",
     "output_type": "stream",
     "text": [
      "Count the number of times `letter` appears in `content`.\n",
      "\n",
      "Args:\n",
      "  content (str): The string to search.\n",
      "  letter (str): The letter to search for.\n",
      "\n",
      "Returns:\n",
      "  int\n",
      "\n",
      "# Add a section detailing what errors might be raised\n",
      "Raises:\n",
      "  ValueError: If `letter` is not a one-character string.\n",
      "None\n",
      "range(stop) -> range object\n",
      "range(start, stop[, step]) -> range object\n",
      "\n",
      "Return an object that produces a sequence of integers from start (inclusive)\n",
      "to stop (exclusive) by step.  range(i, j) produces i, i+1, i+2, ..., j-1.\n",
      "start defaults to 0, and stop is omitted!  range(4) produces 0, 1, 2, 3.\n",
      "These are exactly the valid indices for a list of 4 elements.\n",
      "When step is given, it specifies the increment (or decrement).\n",
      "None\n",
      "print(value, ..., sep=' ', end='\\n', file=sys.stdout, flush=False)\n",
      "\n",
      "Prints the values to a stream, or to sys.stdout by default.\n",
      "Optional keyword arguments:\n",
      "file:  a file-like object (stream); defaults to the current sys.stdout.\n",
      "sep:   string inserted between values, default a space.\n",
      "end:   string appended after the last value, default a newline.\n",
      "flush: whether to forcibly flush the stream.\n",
      "None\n"
     ]
    }
   ],
   "source": [
    "## Automatic function for docstring\n",
    "import inspect\n",
    "\n",
    "def build_tooltip(function):\n",
    "  \"\"\"Create a tooltip for any function that shows the\n",
    "  function's docstring.\n",
    "\n",
    "  Args:\n",
    "    function (callable): The function we want a tooltip for.\n",
    "\n",
    "  Returns:\n",
    "    str\n",
    "  \"\"\"\n",
    "  # Get the docstring for the \"function\" argument by using inspect\n",
    "  docstring = inspect.getdoc(function)\n",
    "  print(docstring)\n",
    "\n",
    "print(build_tooltip(count_letter))\n",
    "print(build_tooltip(range))\n",
    "print(build_tooltip(print))"
   ]
  },
  {
   "cell_type": "code",
   "execution_count": 13,
   "id": "79b8cbc0",
   "metadata": {},
   "outputs": [
    {
     "name": "stdout",
     "output_type": "stream",
     "text": [
      "Convert a string or number to a floating point number, if possible.\n"
     ]
    }
   ],
   "source": [
    "build_tooltip(float)"
   ]
  },
  {
   "cell_type": "code",
   "execution_count": 14,
   "id": "ed2b0679",
   "metadata": {},
   "outputs": [
    {
     "name": "stdout",
     "output_type": "stream",
     "text": [
      "Create a tooltip for any function that shows the\n",
      "function's docstring.\n",
      "\n",
      "Args:\n",
      "  function (callable): The function we want a tooltip for.\n",
      "\n",
      "Returns:\n",
      "  str\n"
     ]
    }
   ],
   "source": [
    "build_tooltip(build_tooltip)"
   ]
  },
  {
   "cell_type": "code",
   "execution_count": 15,
   "id": "80ac2028",
   "metadata": {},
   "outputs": [
    {
     "ename": "AttributeError",
     "evalue": "module 'numpy' has no attribute 'leyud'",
     "output_type": "error",
     "traceback": [
      "\u001b[1;31m---------------------------------------------------------------------------\u001b[0m",
      "\u001b[1;31mAttributeError\u001b[0m                            Traceback (most recent call last)",
      "\u001b[1;32m~\\AppData\\Local\\Temp/ipykernel_12820/2577210164.py\u001b[0m in \u001b[0;36m<module>\u001b[1;34m\u001b[0m\n\u001b[0;32m      1\u001b[0m \u001b[1;32mimport\u001b[0m \u001b[0mnumpy\u001b[0m\u001b[1;33m\u001b[0m\u001b[1;33m\u001b[0m\u001b[0m\n\u001b[1;32m----> 2\u001b[1;33m \u001b[0mbuild_tooltip\u001b[0m\u001b[1;33m(\u001b[0m\u001b[0mnumpy\u001b[0m\u001b[1;33m.\u001b[0m\u001b[0mleyud\u001b[0m\u001b[1;33m)\u001b[0m\u001b[1;33m\u001b[0m\u001b[1;33m\u001b[0m\u001b[0m\n\u001b[0m",
      "\u001b[1;32m~\\anaconda3\\lib\\site-packages\\numpy\\__init__.py\u001b[0m in \u001b[0;36m__getattr__\u001b[1;34m(attr)\u001b[0m\n\u001b[0;32m    301\u001b[0m                 \u001b[1;32mreturn\u001b[0m \u001b[0mTester\u001b[0m\u001b[1;33m\u001b[0m\u001b[1;33m\u001b[0m\u001b[0m\n\u001b[0;32m    302\u001b[0m \u001b[1;33m\u001b[0m\u001b[0m\n\u001b[1;32m--> 303\u001b[1;33m             raise AttributeError(\"module {!r} has no attribute \"\n\u001b[0m\u001b[0;32m    304\u001b[0m                                  \"{!r}\".format(__name__, attr))\n\u001b[0;32m    305\u001b[0m \u001b[1;33m\u001b[0m\u001b[0m\n",
      "\u001b[1;31mAttributeError\u001b[0m: module 'numpy' has no attribute 'leyud'"
     ]
    }
   ],
   "source": [
    "import numpy\n",
    "build_tooltip(numpy.leyud)"
   ]
  },
  {
   "cell_type": "code",
   "execution_count": 16,
   "id": "1baffaa7",
   "metadata": {},
   "outputs": [
    {
     "ename": "NameError",
     "evalue": "name 'df' is not defined",
     "output_type": "error",
     "traceback": [
      "\u001b[1;31m---------------------------------------------------------------------------\u001b[0m",
      "\u001b[1;31mNameError\u001b[0m                                 Traceback (most recent call last)",
      "\u001b[1;32m~\\AppData\\Local\\Temp/ipykernel_12820/3073685755.py\u001b[0m in \u001b[0;36m<module>\u001b[1;34m\u001b[0m\n\u001b[0;32m     13\u001b[0m \u001b[1;33m\u001b[0m\u001b[0m\n\u001b[0;32m     14\u001b[0m \u001b[1;31m# Use the standardize() function to calculate the z-scores\u001b[0m\u001b[1;33m\u001b[0m\u001b[1;33m\u001b[0m\u001b[0m\n\u001b[1;32m---> 15\u001b[1;33m \u001b[0mdf\u001b[0m\u001b[1;33m[\u001b[0m\u001b[1;34m'y1_z'\u001b[0m\u001b[1;33m]\u001b[0m \u001b[1;33m=\u001b[0m \u001b[0mstandardize\u001b[0m\u001b[1;33m(\u001b[0m\u001b[0mdf\u001b[0m\u001b[1;33m.\u001b[0m\u001b[0my1_gpa\u001b[0m\u001b[1;33m)\u001b[0m\u001b[1;33m\u001b[0m\u001b[1;33m\u001b[0m\u001b[0m\n\u001b[0m\u001b[0;32m     16\u001b[0m \u001b[0mdf\u001b[0m\u001b[1;33m[\u001b[0m\u001b[1;34m'y2_z'\u001b[0m\u001b[1;33m]\u001b[0m \u001b[1;33m=\u001b[0m \u001b[0mstandardize\u001b[0m\u001b[1;33m(\u001b[0m\u001b[0mdf\u001b[0m\u001b[1;33m.\u001b[0m\u001b[0my2_gpa\u001b[0m\u001b[1;33m)\u001b[0m\u001b[1;33m\u001b[0m\u001b[1;33m\u001b[0m\u001b[0m\n\u001b[0;32m     17\u001b[0m \u001b[0mdf\u001b[0m\u001b[1;33m[\u001b[0m\u001b[1;34m'y3_z'\u001b[0m\u001b[1;33m]\u001b[0m \u001b[1;33m=\u001b[0m \u001b[0mstandardize\u001b[0m\u001b[1;33m(\u001b[0m\u001b[0mdf\u001b[0m\u001b[1;33m.\u001b[0m\u001b[0my3_gpa\u001b[0m\u001b[1;33m)\u001b[0m\u001b[1;33m\u001b[0m\u001b[1;33m\u001b[0m\u001b[0m\n",
      "\u001b[1;31mNameError\u001b[0m: name 'df' is not defined"
     ]
    }
   ],
   "source": [
    "def standardize(column):\n",
    "  \"\"\"Standardize the values in a column.\n",
    "\n",
    "  Args:\n",
    "    column (pandas Series): The data to standardize.\n",
    "\n",
    "  Returns:\n",
    "    pandas Series: the values as z-scores\n",
    "  \n",
    "  \"\"\"\n",
    "##Note: df is a pandas DataFrame where each row is a student with 4 columns of yearly student GPAs: y1_gpa, y2_gpa, y3_gpa, y4_gpa\n",
    "  # Finish the function so that it returns the z-scores\n",
    "  z_score = (column - column.mean()) / column.std()\n",
    "  return z_score\n",
    "\n",
    "# Use the standardize() function to calculate the z-scores\n",
    "df['y1_z'] = standardize(df.y1_gpa)\n",
    "df['y2_z'] = standardize(df.y2_gpa)\n",
    "df['y3_z'] = standardize(df.y3_gpa)\n",
    "df['y4_z'] = standardize(df.y4_gpa)"
   ]
  },
  {
   "cell_type": "code",
   "execution_count": 20,
   "id": "51413077",
   "metadata": {},
   "outputs": [
    {
     "data": {
      "text/plain": [
       "sklearn.utils.Bunch"
      ]
     },
     "execution_count": 20,
     "metadata": {},
     "output_type": "execute_result"
    }
   ],
   "source": [
    "from sklearn.datasets import load_iris\n",
    "\n",
    "iris = load_iris()\n",
    "type(iris)"
   ]
  },
  {
   "cell_type": "code",
   "execution_count": 38,
   "id": "764931a4",
   "metadata": {},
   "outputs": [
    {
     "name": "stdout",
     "output_type": "stream",
     "text": [
      "   sepal_length  sepal_width  petal_length  petal_width species\n",
      "0           5.1          3.5           1.4          0.2  setosa\n",
      "1           4.9          3.0           1.4          0.2  setosa\n",
      "2           4.7          3.2           1.3          0.2  setosa\n",
      "3           4.6          3.1           1.5          0.2  setosa\n",
      "4           5.0          3.6           1.4          0.2  setosa\n"
     ]
    },
    {
     "data": {
      "text/plain": [
       "0      1.4\n",
       "1      1.4\n",
       "2      1.3\n",
       "3      1.5\n",
       "4      1.4\n",
       "      ... \n",
       "145    5.2\n",
       "146    5.0\n",
       "147    5.2\n",
       "148    5.4\n",
       "149    5.1\n",
       "Name: petal_length, Length: 150, dtype: float64"
      ]
     },
     "execution_count": 38,
     "metadata": {},
     "output_type": "execute_result"
    }
   ],
   "source": [
    "import seaborn as sns\n",
    "##iris is a pandas  type data\n",
    "iris = sns.load_dataset('iris')\n",
    "print(iris.head())\n",
    "iris[ \"petal_length\"]\n",
    "#iris[ : ,2]"
   ]
  },
  {
   "cell_type": "code",
   "execution_count": 23,
   "id": "a41d3342",
   "metadata": {},
   "outputs": [
    {
     "data": {
      "text/plain": [
       "pandas.core.frame.DataFrame"
      ]
     },
     "execution_count": 23,
     "metadata": {},
     "output_type": "execute_result"
    }
   ],
   "source": [
    "type(iris)"
   ]
  },
  {
   "cell_type": "code",
   "execution_count": 42,
   "id": "7167186c",
   "metadata": {},
   "outputs": [
    {
     "name": "stdout",
     "output_type": "stream",
     "text": [
      "3\n"
     ]
    }
   ],
   "source": [
    "def bar(x):\n",
    "    \n",
    "    x = x + 90    \n",
    "my_var = 3\n",
    "bar(my_var)\n",
    "print(my_var)\n"
   ]
  },
  {
   "cell_type": "code",
   "execution_count": 46,
   "id": "1468f663",
   "metadata": {},
   "outputs": [],
   "source": [
    "def store_lower(_dict, _string):\n",
    "  \"\"\"Add a mapping between `_string` and a lowercased version of `_string` to `_dict`\n",
    "\n",
    "  Args:\n",
    "    _dict (dict): The dictionary to update.\n",
    "    _string (str): The string to add.\n",
    "  \"\"\"\n",
    "  orig_string = _string\n",
    "  _string = _string.lower()\n",
    "  _dict[orig_string] = _string\n",
    "\n",
    "d = {}\n",
    "s = 'Hello'\n",
    "\n",
    "store_lower(d, s)\n",
    "\n",
    "#answer\n",
    "d = {'Hello': 'hello'}, s = 'Hello'  ##coz string is immutable  but not dict"
   ]
  },
  {
   "cell_type": "code",
   "execution_count": 48,
   "id": "3531eb82",
   "metadata": {},
   "outputs": [],
   "source": [
    "# Use an immutable variable for the default argument\n",
    "def better_add_column(values, df=None):\n",
    "  \"\"\"Add a column of `values` to a DataFrame `df`.\n",
    "  The column will be named \"col_<n>\" where \"n\" is\n",
    "  the numerical index of the column.\n",
    "\n",
    "  Args:\n",
    "    values (iterable): The values of the new column\n",
    "    df (DataFrame, optional): The DataFrame to update.\n",
    "      If no DataFrame is passed, one is created by default.\n",
    "\n",
    "  Returns:\n",
    "    DataFrame\n",
    "  \"\"\"\n",
    "  # Update the function to create a default DataFrame\n",
    "  if df is None:\n",
    "    df = pandas.DataFrame()\n",
    "  df['col_{}'.format(len(df.columns))] = values\n",
    "  return df\n",
    "##When you need to set a mutable variable as a default argument, always use None and then set the value in the body of the function. This prevents unexpected behavior like adding multiple columns if you call the function more than once."
   ]
  },
  {
   "cell_type": "code",
   "execution_count": 50,
   "id": "6aad615e",
   "metadata": {},
   "outputs": [
    {
     "ename": "NameError",
     "evalue": "name 'get_image_from_instagram' is not defined",
     "output_type": "error",
     "traceback": [
      "\u001b[1;31m---------------------------------------------------------------------------\u001b[0m",
      "\u001b[1;31mNameError\u001b[0m                                 Traceback (most recent call last)",
      "\u001b[1;32m~\\AppData\\Local\\Temp/ipykernel_12820/541253495.py\u001b[0m in \u001b[0;36m<module>\u001b[1;34m\u001b[0m\n\u001b[1;32m----> 1\u001b[1;33m \u001b[0mimage\u001b[0m \u001b[1;33m=\u001b[0m \u001b[0mget_image_from_instagram\u001b[0m\u001b[1;33m(\u001b[0m\u001b[1;33m)\u001b[0m\u001b[1;33m\u001b[0m\u001b[1;33m\u001b[0m\u001b[0m\n\u001b[0m\u001b[0;32m      2\u001b[0m \u001b[1;33m\u001b[0m\u001b[0m\n\u001b[0;32m      3\u001b[0m \u001b[1;31m# Time how long process_with_numpy(image) takes to run\u001b[0m\u001b[1;33m\u001b[0m\u001b[1;33m\u001b[0m\u001b[0m\n\u001b[0;32m      4\u001b[0m \u001b[1;32mwith\u001b[0m \u001b[0mtimer\u001b[0m\u001b[1;33m(\u001b[0m\u001b[1;33m)\u001b[0m\u001b[1;33m:\u001b[0m\u001b[1;33m\u001b[0m\u001b[1;33m\u001b[0m\u001b[0m\n\u001b[0;32m      5\u001b[0m   \u001b[0mprint\u001b[0m\u001b[1;33m(\u001b[0m\u001b[1;34m'Numpy version'\u001b[0m\u001b[1;33m)\u001b[0m\u001b[1;33m\u001b[0m\u001b[1;33m\u001b[0m\u001b[0m\n",
      "\u001b[1;31mNameError\u001b[0m: name 'get_image_from_instagram' is not defined"
     ]
    }
   ],
   "source": [
    "image = get_image_from_instagram()\n",
    "\n",
    "# Time how long process_with_numpy(image) takes to run\n",
    "with timer():\n",
    "  print('Numpy version')\n",
    "  process_with_numpy(image)\n",
    "\n",
    "# Time how long process_with_pytorch(image) takes to run\n",
    "with timer():\n",
    "  print('Pytorch version')\n",
    "  process_with_pytorch(image)"
   ]
  },
  {
   "cell_type": "code",
   "execution_count": 53,
   "id": "57926963",
   "metadata": {},
   "outputs": [],
   "source": [
    "def in_dir(directory):\n",
    "  \"\"\"Change current working directory to `directory`,\n",
    "  allow the user to run some code, and change back.\n",
    "\n",
    "  Args:\n",
    "    directory (str): The path to a directory to work in.\n",
    "  \"\"\"\n",
    "  current_dir = os.getcwd()\n",
    "  os.chdir(directory)\n",
    "\n",
    "  # Add code that lets you handle errors\n",
    "  try:\n",
    "    yield\n",
    "  # Ensure the directory is reset,\n",
    "  # whether there was an error or not\n",
    "  finally:\n",
    "    os.chdir(current_dir)"
   ]
  },
  {
   "cell_type": "code",
   "execution_count": 54,
   "id": "e60fca53",
   "metadata": {},
   "outputs": [
    {
     "name": "stdout",
     "output_type": "stream",
     "text": [
      "An exception occurred\n"
     ]
    }
   ],
   "source": [
    "try:\n",
    "  print(x)\n",
    "except:\n",
    "  print(\"An exception occurred\")"
   ]
  },
  {
   "cell_type": "code",
   "execution_count": 57,
   "id": "d4772969",
   "metadata": {},
   "outputs": [
    {
     "name": "stdout",
     "output_type": "stream",
     "text": [
      "1\n"
     ]
    }
   ],
   "source": [
    "try:\n",
    "  print(x)\n",
    "except NameError:\n",
    "  print(\"Variable x is not defined\")\n",
    "except:\n",
    "  print(\"Something else went wrong\")\n"
   ]
  },
  {
   "cell_type": "code",
   "execution_count": 59,
   "id": "13292e20",
   "metadata": {},
   "outputs": [
    {
     "name": "stdout",
     "output_type": "stream",
     "text": [
      "Something went wrong\n"
     ]
    }
   ],
   "source": [
    "try:\n",
    "  print(\"Hello\")\n",
    "except:\n",
    "  print(\"Something went wrong\")\n",
    "else:\n",
    "  print(\"Nothing went wrong\")\n",
    "## the else keyword to define a block of code to be executed if no errors were raised"
   ]
  },
  {
   "cell_type": "code",
   "execution_count": 60,
   "id": "6e76b946",
   "metadata": {},
   "outputs": [
    {
     "name": "stdout",
     "output_type": "stream",
     "text": [
      "Something went wrong\n"
     ]
    }
   ],
   "source": [
    "try:\n",
    "  print(x)\n",
    "except:\n",
    "  print(\"Something went wrong\")\n",
    "else:\n",
    "  print(\"Nothing went wrong\")\n",
    "## the else keyword to define a block of code to be executed if no errors were raised"
   ]
  },
  {
   "cell_type": "code",
   "execution_count": 62,
   "id": "7bbaa0f8",
   "metadata": {},
   "outputs": [
    {
     "name": "stdout",
     "output_type": "stream",
     "text": [
      "1\n",
      "The 'try except' is finished\n"
     ]
    }
   ],
   "source": [
    "try:\n",
    "  print(1)\n",
    "except:\n",
    "  print(\"Something went wrong\")\n",
    "finally:\n",
    "  print(\"The 'try except' is finished\")\n",
    "###finally block, if specified, will be executed regardless if the try block raises an error or not."
   ]
  },
  {
   "cell_type": "code",
   "execution_count": 63,
   "id": "8c7e2c81",
   "metadata": {},
   "outputs": [
    {
     "ename": "NameError",
     "evalue": "name 'mean' is not defined",
     "output_type": "error",
     "traceback": [
      "\u001b[1;31m---------------------------------------------------------------------------\u001b[0m",
      "\u001b[1;31mNameError\u001b[0m                                 Traceback (most recent call last)",
      "\u001b[1;32m~\\AppData\\Local\\Temp/ipykernel_12820/713004682.py\u001b[0m in \u001b[0;36m<module>\u001b[1;34m\u001b[0m\n\u001b[0;32m      1\u001b[0m \u001b[1;31m# Add the missing function references to the function map\u001b[0m\u001b[1;33m\u001b[0m\u001b[1;33m\u001b[0m\u001b[0m\n\u001b[0;32m      2\u001b[0m function_map = {\n\u001b[1;32m----> 3\u001b[1;33m   \u001b[1;34m'mean'\u001b[0m\u001b[1;33m:\u001b[0m \u001b[0mmean\u001b[0m\u001b[1;33m,\u001b[0m\u001b[1;33m\u001b[0m\u001b[1;33m\u001b[0m\u001b[0m\n\u001b[0m\u001b[0;32m      4\u001b[0m   \u001b[1;34m'std'\u001b[0m\u001b[1;33m:\u001b[0m \u001b[0mstd\u001b[0m\u001b[1;33m,\u001b[0m\u001b[1;33m\u001b[0m\u001b[1;33m\u001b[0m\u001b[0m\n\u001b[0;32m      5\u001b[0m   \u001b[1;34m'minimum'\u001b[0m\u001b[1;33m:\u001b[0m \u001b[0mminimum\u001b[0m\u001b[1;33m,\u001b[0m\u001b[1;33m\u001b[0m\u001b[1;33m\u001b[0m\u001b[0m\n",
      "\u001b[1;31mNameError\u001b[0m: name 'mean' is not defined"
     ]
    }
   ],
   "source": [
    "# Add the missing function references to the function map\n",
    "function_map = {\n",
    "  'mean': mean,\n",
    "  'std': std,\n",
    "  'minimum': minimum,\n",
    "  'maximum': maximum\n",
    "}\n",
    "\n",
    "data = load_data()\n",
    "print(data)\n",
    "\n",
    "func_name = get_user_input()\n",
    "### The function get_user_input() in this exercise is a mock version of asking the user to enter a command. It randomly returns one of the four function names. In real life, you would ask for input and wait until the user entered a value.\n",
    "\n",
    "# Call the chosen function and pass \"data\" as an argument\n",
    "function_map[func_name](data)"
   ]
  },
  {
   "cell_type": "code",
   "execution_count": 71,
   "id": "0137967b",
   "metadata": {},
   "outputs": [
    {
     "ename": "NameError",
     "evalue": "name 'add' is not defined",
     "output_type": "error",
     "traceback": [
      "\u001b[1;31m---------------------------------------------------------------------------\u001b[0m",
      "\u001b[1;31mNameError\u001b[0m                                 Traceback (most recent call last)",
      "\u001b[1;32m~\\AppData\\Local\\Temp/ipykernel_12820/73611562.py\u001b[0m in \u001b[0;36m<module>\u001b[1;34m\u001b[0m\n\u001b[0;32m      1\u001b[0m \u001b[0mcreate_math_function\u001b[0m\u001b[1;33m(\u001b[0m\u001b[1;34m'add'\u001b[0m\u001b[1;33m)\u001b[0m\u001b[1;33m\u001b[0m\u001b[1;33m\u001b[0m\u001b[0m\n\u001b[1;32m----> 2\u001b[1;33m \u001b[0madd\u001b[0m\u001b[1;33m(\u001b[0m\u001b[1;36m1\u001b[0m\u001b[1;33m,\u001b[0m\u001b[1;36m2\u001b[0m\u001b[1;33m)\u001b[0m\u001b[1;33m\u001b[0m\u001b[1;33m\u001b[0m\u001b[0m\n\u001b[0m",
      "\u001b[1;31mNameError\u001b[0m: name 'add' is not defined"
     ]
    }
   ],
   "source": [
    "create_math_function('add')\n",
    "add(1,2)"
   ]
  },
  {
   "cell_type": "code",
   "execution_count": 76,
   "id": "6769bfb5",
   "metadata": {},
   "outputs": [
    {
     "data": {
      "text/plain": [
       "9"
      ]
     },
     "execution_count": 76,
     "metadata": {},
     "output_type": "execute_result"
    }
   ],
   "source": [
    "def create_math_function(func_name):\n",
    "    \n",
    "  if func_name == 'add':\n",
    "    def add(a, b,c):\n",
    "      return a + b +c\n",
    "    return add\n",
    "  elif func_name == 'subtract':\n",
    "    # Define the subtract() function\n",
    "    def subtract(a,b):\n",
    "      return a-b\n",
    "    return subtract\n",
    "  else:\n",
    "    print(\"I don't know that one\")\n",
    "    \n",
    "x = create_math_function('add')\n",
    "x(5, 2)\n",
    "\n",
    "\n"
   ]
  },
  {
   "cell_type": "code",
   "execution_count": 78,
   "id": "11e2661c",
   "metadata": {},
   "outputs": [
    {
     "data": {
      "text/plain": [
       "3"
      ]
     },
     "execution_count": 78,
     "metadata": {},
     "output_type": "execute_result"
    }
   ],
   "source": [
    "x = create_math_function('subtract')\n",
    "x(5, 2)\n"
   ]
  },
  {
   "cell_type": "code",
   "execution_count": 84,
   "id": "245e9812",
   "metadata": {},
   "outputs": [
    {
     "data": {
      "text/plain": [
       "'fatima'"
      ]
     },
     "execution_count": 84,
     "metadata": {},
     "output_type": "execute_result"
    }
   ],
   "source": [
    "def create_math_function2():\n",
    "\n",
    "    def add(a, b,c):\n",
    "      return a + b +c\n",
    "\n",
    "\n",
    "    def subtract(a,b):\n",
    "      return a-b\n",
    "    \n",
    "    def name():\n",
    "      return \"fatima\"\n",
    "    \n",
    "    return name\n",
    "    \n",
    "x = create_math_function2()\n",
    "x()\n",
    "\n",
    "\n"
   ]
  },
  {
   "cell_type": "code",
   "execution_count": 95,
   "id": "ce8a74bf",
   "metadata": {},
   "outputs": [
    {
     "name": "stdout",
     "output_type": "stream",
     "text": [
      "Work done? True\n"
     ]
    }
   ],
   "source": [
    "import random \n",
    "def wait_until_done():\n",
    "    \n",
    "  def check_is_done():\n",
    "    # Add a keyword so that wait_until_done() \n",
    "    # doesn't run forever\n",
    "    \n",
    "    global done\n",
    "    done = False\n",
    "    if random.random() < 0.1:\n",
    "       done = True\n",
    "      \n",
    "  while not done:\n",
    "    check_is_done()\n",
    "\n",
    "    \n",
    "    \n",
    "done = False\n",
    "wait_until_done()\n",
    "\n",
    "print('Work done? {}'.format(done))"
   ]
  },
  {
   "cell_type": "code",
   "execution_count": 96,
   "id": "906df24b",
   "metadata": {},
   "outputs": [
    {
     "name": "stdout",
     "output_type": "stream",
     "text": [
      "True\n"
     ]
    }
   ],
   "source": [
    "def return_a_func(arg1, arg2):\n",
    "  def new_func():\n",
    "    print('arg1 was {}'.format(arg1))\n",
    "    print('arg2 was {}'.format(arg2))\n",
    "  return new_func\n",
    "    \n",
    "my_func = return_a_func(2, 17)\n",
    "\n",
    "# Show that my_func()'s closure is not None\n",
    "print(my_func.__closure__ is not None)"
   ]
  },
  {
   "cell_type": "code",
   "execution_count": 97,
   "id": "d749d5e6",
   "metadata": {},
   "outputs": [
    {
     "name": "stdout",
     "output_type": "stream",
     "text": [
      "True\n",
      "True\n"
     ]
    }
   ],
   "source": [
    "def return_a_func(arg1, arg2):\n",
    "  def new_func():\n",
    "    print('arg1 was {}'.format(arg1))\n",
    "    print('arg2 was {}'.format(arg2))\n",
    "  return new_func\n",
    "    \n",
    "my_func = return_a_func(2, 17)\n",
    "\n",
    "print(my_func.__closure__ is not None)\n",
    "\n",
    "# Show that there are two variables in the closure\n",
    "print(len(my_func.__closure__) == 2)"
   ]
  },
  {
   "cell_type": "code",
   "execution_count": null,
   "id": "c6de3ab7",
   "metadata": {},
   "outputs": [],
   "source": [
    "##Each item in the closure is called a \"cell\".\n",
    "##Each cell has \"contents\" that stores the value of one variable."
   ]
  },
  {
   "cell_type": "code",
   "execution_count": 98,
   "id": "70fc8604",
   "metadata": {},
   "outputs": [
    {
     "name": "stdout",
     "output_type": "stream",
     "text": [
      "You are running my_special_function()\n"
     ]
    }
   ],
   "source": [
    "def my_special_function():\n",
    "  print('You are running my_special_function()')\n",
    "  \n",
    "def get_new_func(func):\n",
    "  def call_func():\n",
    "    func()\n",
    "  return call_func\n",
    "\n",
    "new_func = get_new_func(my_special_function)\n",
    "\n",
    "# Redefine my_special_function() to just print \"hello\"\n",
    "def my_special_function():\n",
    "  print(\"hello\")\n",
    "\n",
    "new_func()"
   ]
  },
  {
   "cell_type": "code",
   "execution_count": 99,
   "id": "f6e28e44",
   "metadata": {},
   "outputs": [
    {
     "name": "stdout",
     "output_type": "stream",
     "text": [
      "You are running my_special_function()\n"
     ]
    }
   ],
   "source": [
    "new_func()"
   ]
  },
  {
   "cell_type": "code",
   "execution_count": 100,
   "id": "264d88e4",
   "metadata": {},
   "outputs": [
    {
     "name": "stdout",
     "output_type": "stream",
     "text": [
      "You are running my_special_function()\n"
     ]
    }
   ],
   "source": [
    "def my_special_function():\n",
    "  print('You are running my_special_function()')\n",
    "  \n",
    "def get_new_func(func):\n",
    "  def call_func():\n",
    "    func()\n",
    "  return call_func\n",
    "\n",
    "new_func = get_new_func(my_special_function)\n",
    "\n",
    "# Delete my_special_function()\n",
    "del(my_special_function)\n",
    "\n",
    "new_func()"
   ]
  },
  {
   "cell_type": "code",
   "execution_count": 101,
   "id": "825b072e",
   "metadata": {},
   "outputs": [
    {
     "ename": "NameError",
     "evalue": "name 'my_special_function' is not defined",
     "output_type": "error",
     "traceback": [
      "\u001b[1;31m---------------------------------------------------------------------------\u001b[0m",
      "\u001b[1;31mNameError\u001b[0m                                 Traceback (most recent call last)",
      "\u001b[1;32m~\\AppData\\Local\\Temp/ipykernel_12820/1706126921.py\u001b[0m in \u001b[0;36m<module>\u001b[1;34m\u001b[0m\n\u001b[0;32m      9\u001b[0m   \u001b[1;32mreturn\u001b[0m \u001b[0mcall_func\u001b[0m\u001b[1;33m\u001b[0m\u001b[1;33m\u001b[0m\u001b[0m\n\u001b[0;32m     10\u001b[0m \u001b[1;33m\u001b[0m\u001b[0m\n\u001b[1;32m---> 11\u001b[1;33m \u001b[0mnew_func\u001b[0m \u001b[1;33m=\u001b[0m \u001b[0mget_new_func\u001b[0m\u001b[1;33m(\u001b[0m\u001b[0mmy_special_function\u001b[0m\u001b[1;33m)\u001b[0m\u001b[1;33m\u001b[0m\u001b[1;33m\u001b[0m\u001b[0m\n\u001b[0m\u001b[0;32m     12\u001b[0m \u001b[1;33m\u001b[0m\u001b[0m\n\u001b[0;32m     13\u001b[0m \u001b[1;31m# Delete my_special_function()\u001b[0m\u001b[1;33m\u001b[0m\u001b[1;33m\u001b[0m\u001b[0m\n",
      "\u001b[1;31mNameError\u001b[0m: name 'my_special_function' is not defined"
     ]
    }
   ],
   "source": [
    "def my_special_function():\n",
    "  print('You are running my_special_function()')\n",
    "del(my_special_function)\n",
    "\n",
    "  \n",
    "def get_new_func(func):\n",
    "  def call_func():\n",
    "    func()\n",
    "  return call_func\n",
    "\n",
    "new_func = get_new_func(my_special_function)\n",
    "\n",
    "# Delete my_special_function()\n",
    "\n",
    "new_func()"
   ]
  },
  {
   "cell_type": "code",
   "execution_count": 102,
   "id": "2b92f815",
   "metadata": {},
   "outputs": [
    {
     "name": "stdout",
     "output_type": "stream",
     "text": [
      "You are running my_special_function()\n",
      "You are running my_special_function()\n",
      "hello\n"
     ]
    }
   ],
   "source": [
    "def my_special_function():\n",
    "  print('You are running my_special_function()')\n",
    "  \n",
    "def get_new_func(func):\n",
    "  def call_func():\n",
    "    func()\n",
    "    print(\"hello\")\n",
    "  \n",
    "  return call_func\n",
    "\n",
    "# Overwrite `my_special_function` with the new function\n",
    "new_func = get_new_func(my_special_function)\n",
    "\n",
    "my_special_function()\n",
    "new_func()"
   ]
  },
  {
   "cell_type": "code",
   "execution_count": 103,
   "id": "fb3a18c8",
   "metadata": {},
   "outputs": [
    {
     "name": "stdout",
     "output_type": "stream",
     "text": [
      "You are running my_special_function()\n"
     ]
    }
   ],
   "source": [
    "def my_special_function():\n",
    "  print('You are running my_special_function()')\n",
    "  \n",
    "def get_new_func(func):\n",
    "  def call_func():\n",
    "    func()\n",
    "  return call_func\n",
    "\n",
    "# Overwrite `my_special_function` with the new function\n",
    "new_func = get_new_func(my_special_function)\n",
    "\n",
    "my_special_function()"
   ]
  },
  {
   "cell_type": "code",
   "execution_count": 104,
   "id": "a4cbdc8f",
   "metadata": {},
   "outputs": [
    {
     "name": "stdout",
     "output_type": "stream",
     "text": [
      "You are running my_special_function()\n"
     ]
    }
   ],
   "source": [
    "def my_special_function():\n",
    "  print('You are running my_special_function()')\n",
    "  \n",
    "def get_new_func(func):\n",
    "  def call_func():\n",
    "    func()\n",
    "  return call_func\n",
    "\n",
    "# Overwrite `my_special_function` with the new function\n",
    "my_special_function = get_new_func(my_special_function)\n",
    "\n",
    "my_special_function()"
   ]
  },
  {
   "cell_type": "code",
   "execution_count": 8,
   "id": "f8ecb642",
   "metadata": {},
   "outputs": [
    {
     "name": "stdout",
     "output_type": "stream",
     "text": [
      "14\n"
     ]
    }
   ],
   "source": [
    "import datetime\n",
    "\n",
    "x = datetime.datetime.now()\n",
    "print(x.hour)\n"
   ]
  },
  {
   "cell_type": "code",
   "execution_count": 110,
   "id": "e5c01b1c",
   "metadata": {},
   "outputs": [
    {
     "data": {
      "text/plain": [
       "'Return date object with same year, month and day.'"
      ]
     },
     "execution_count": 110,
     "metadata": {},
     "output_type": "execute_result"
    }
   ],
   "source": [
    "import inspect\n",
    "inspect.getdoc(datetime.datetime.date)\n"
   ]
  },
  {
   "cell_type": "code",
   "execution_count": 113,
   "id": "b42160a7",
   "metadata": {},
   "outputs": [
    {
     "name": "stdout",
     "output_type": "stream",
     "text": [
      "Help on method_descriptor:\n",
      "\n",
      "date(...)\n",
      "    Return date object with same year, month and day.\n",
      "\n"
     ]
    }
   ],
   "source": [
    "help(datetime.datetime.date)"
   ]
  },
  {
   "cell_type": "code",
   "execution_count": 117,
   "id": "c524bf7e",
   "metadata": {},
   "outputs": [
    {
     "name": "stdout",
     "output_type": "stream",
     "text": [
      "02 PM\n"
     ]
    }
   ],
   "source": [
    "import datetime\n",
    "\n",
    "x = datetime.datetime.now()\n",
    "\n",
    "print(x.strftime(\"%I\") +\" \"+ x.strftime(\"%p\"))\n"
   ]
  },
  {
   "cell_type": "code",
   "execution_count": 120,
   "id": "76784da9",
   "metadata": {},
   "outputs": [
    {
     "name": "stdout",
     "output_type": "stream",
     "text": [
      "Sep 15 2018 00:00:00\n"
     ]
    }
   ],
   "source": [
    "import datetime\n",
    "\n",
    "x = datetime.datetime(2018, 9, 15)\n",
    "\n",
    "print(x.strftime(\"%b %d %Y %H:%M:%S\"))\n"
   ]
  },
  {
   "cell_type": "code",
   "execution_count": null,
   "id": "e47e9fcd",
   "metadata": {},
   "outputs": [],
   "source": [
    "import schedule   # pip install schedule\n",
    "import time\n",
    "\n",
    "def job(t):\n",
    "    if(t=='ON'):\n",
    "        print(\"ON\")\n",
    "    elif (t=='OFF'):\n",
    "        print(\"OFF\")\n",
    "        \n",
    "        \n",
    "    \n",
    "\n",
    "schedule.every().day.at(\"14:46\").do(job,'ON')\n",
    "schedule.every().day.at(\"14:47\").do(job,'OFF')\n",
    "schedule.every().day.at(\"14:48\").do(job,'ON')\n",
    "schedule.every().day.at(\"14:49\").do(job,'OFF')\n",
    "\n",
    "\n",
    "\n",
    "\n",
    "\n",
    "while True:\n",
    "    schedule.run_pending()\n",
    "    time.sleep(60)"
   ]
  },
  {
   "cell_type": "code",
   "execution_count": 1,
   "id": "8128a3db",
   "metadata": {},
   "outputs": [
    {
     "name": "stdout",
     "output_type": "stream",
     "text": [
      "ON\n",
      "OFF\n",
      "StopProgram\n"
     ]
    }
   ],
   "source": [
    "import schedule   # pip install schedule\n",
    "import time\n",
    "\n",
    "def job(t):\n",
    "    if(t=='ON'):\n",
    "        print(\"ON\")\n",
    "    elif (t=='OFF'):\n",
    "        print(\"OFF\")\n",
    "                        \n",
    "def StopProgram():\n",
    "    print(\"StopProgram\")\n",
    "    global run\n",
    "    run=False            \n",
    "            \n",
    "def SetTimeON(mytime):\n",
    "    schedule.every().day.at(mytime).do(job,'ON')\n",
    "def SetTimeOFF(mytime):\n",
    "    schedule.every().day.at(mytime).do(job,'OFF')    \n",
    "def SetTimeStopProgram(mytime):\n",
    "    schedule.every().day.at(mytime).do(StopProgram)    \n",
    "\n",
    "    \n",
    "    \n",
    "SetTimeON(\"15:12\")\n",
    "SetTimeOFF(\"15:13\")\n",
    "SetTimeStopProgram(\"15:14\")\n",
    "run=True\n",
    "while run==True:\n",
    "    schedule.run_pending()\n",
    "    time.sleep(60)"
   ]
  },
  {
   "cell_type": "code",
   "execution_count": 6,
   "id": "b7f6b65c",
   "metadata": {},
   "outputs": [
    {
     "name": "stdout",
     "output_type": "stream",
     "text": [
      "Note: you may need to restart the kernel to use updated packages.\n"
     ]
    },
    {
     "name": "stderr",
     "output_type": "stream",
     "text": [
      "ERROR: Could not find a version that satisfies the requirement python-rpi.gpio (from versions: none)\n",
      "ERROR: No matching distribution found for python-rpi.gpio\n"
     ]
    }
   ],
   "source": []
  },
  {
   "cell_type": "code",
   "execution_count": 149,
   "id": "8fae2e6a",
   "metadata": {},
   "outputs": [],
   "source": [
    "\n",
    "import schedule   # pip install schedule\n",
    "import time\n",
    "class Garden1():\n",
    "    def __init__(self):\n",
    "        self.run= True\n",
    "        pass\n",
    "    \n",
    "    def job(self,t):\n",
    "        if(t=='ON'):\n",
    "            print(\"ON\")\n",
    "        elif (t=='OFF'):\n",
    "            print(\"OFF\")\n",
    "\n",
    "    def StopProgram(self):\n",
    "        print(\"StopProgram\")\n",
    "        self.run=False            \n",
    "\n",
    "    def SetTimeON(self,mytime):\n",
    "        schedule.every().day.at(mytime).do(self.job,'ON')\n",
    "    def SetTimeOFF(self,mytime):\n",
    "        schedule.every().day.at(mytime).do(self.job,'OFF')    \n",
    "    def SetTimeStopProgram(self,mytime):\n",
    "        schedule.every().day.at(mytime).do(self.StopProgram)    \n",
    "    \n",
    "    def SetTimesOnOffStop(self, SetTimeON,SetTimeOFF,SetTimeStopProgram):\n",
    "        self.SetTimeON(SetTimeON)\n",
    "        self.SetTimeOFF(SetTimeOFF)\n",
    "        self.SetTimeStopProgram(SetTimeStopProgram)\n",
    "    \n",
    "    def SetTimesOnOff(self, SetTimeON,SetTimeOFF):\n",
    "        self.SetTimeON(SetTimeON)\n",
    "        self.SetTimeOFF(SetTimeOFF)\n",
    "        \n",
    "    \n",
    "    \n",
    "    def Run(self):\n",
    "        self.run=True\n",
    "        while self.run==True:           \n",
    "            time.sleep(60)\n",
    "            schedule.run_pending()\n",
    "        \n",
    "    \n",
    "    \n"
   ]
  },
  {
   "cell_type": "code",
   "execution_count": 16,
   "id": "537f95cb",
   "metadata": {},
   "outputs": [
    {
     "name": "stdout",
     "output_type": "stream",
     "text": [
      "OFF\n",
      "ON\n",
      "OFF\n",
      "StopProgram\n"
     ]
    }
   ],
   "source": [
    "mygarden=Garden()\n",
    "mygarden.SetTimesOnOff('06:00','06:15')\n",
    "mygarden.SetTimesOnOff('12:00','12:20')\n",
    "mygarden.SetTimesOnOff('14:00','14:05')\n",
    "mygarden.SetTimesOnOff('16:00','16:05')\n",
    "mygarden.SetTimesOnOff('18:00','18:10')\n",
    "\n",
    "\n",
    "#mygarden.SetTimesOnOffStop('16:12','16:13','16:14')\n",
    "mygarden.Run()"
   ]
  },
  {
   "cell_type": "code",
   "execution_count": 3,
   "id": "cad83a7f",
   "metadata": {},
   "outputs": [
    {
     "ename": "ModuleNotFoundError",
     "evalue": "No module named 'RPi'",
     "output_type": "error",
     "traceback": [
      "\u001b[1;31m---------------------------------------------------------------------------\u001b[0m",
      "\u001b[1;31mModuleNotFoundError\u001b[0m                       Traceback (most recent call last)",
      "\u001b[1;32m~\\AppData\\Local\\Temp/ipykernel_17200/182149774.py\u001b[0m in \u001b[0;36m<module>\u001b[1;34m\u001b[0m\n\u001b[0;32m      1\u001b[0m \u001b[1;32mfrom\u001b[0m \u001b[0mdatetime\u001b[0m \u001b[1;32mimport\u001b[0m \u001b[0mdatetime\u001b[0m\u001b[1;33m,\u001b[0m\u001b[0mtimedelta\u001b[0m\u001b[1;33m\u001b[0m\u001b[1;33m\u001b[0m\u001b[0m\n\u001b[0;32m      2\u001b[0m \u001b[1;32mfrom\u001b[0m \u001b[0mthreading\u001b[0m \u001b[1;32mimport\u001b[0m \u001b[0mTimer\u001b[0m\u001b[1;33m\u001b[0m\u001b[1;33m\u001b[0m\u001b[0m\n\u001b[1;32m----> 3\u001b[1;33m \u001b[1;32mimport\u001b[0m \u001b[0mRPi\u001b[0m\u001b[1;33m.\u001b[0m\u001b[0mGPIO\u001b[0m \u001b[1;32mas\u001b[0m \u001b[0mGPIO\u001b[0m\u001b[1;33m\u001b[0m\u001b[1;33m\u001b[0m\u001b[0m\n\u001b[0m\u001b[0;32m      4\u001b[0m \u001b[1;32mfrom\u001b[0m \u001b[0mtime\u001b[0m \u001b[1;32mimport\u001b[0m \u001b[0msleep\u001b[0m\u001b[1;33m\u001b[0m\u001b[1;33m\u001b[0m\u001b[0m\n\u001b[0;32m      5\u001b[0m \u001b[1;33m\u001b[0m\u001b[0m\n",
      "\u001b[1;31mModuleNotFoundError\u001b[0m: No module named 'RPi'"
     ]
    }
   ],
   "source": [
    "from datetime import datetime,timedelta\n",
    "from threading import Timer\n",
    "import RPi.GPIO as GPIO\n",
    "from time import sleep\n",
    "\n",
    "class Garden2():\n",
    "    def __init__(self,myDaysRun=1):\n",
    "        self.daysRun=myDaysRun\n",
    "        self.today=datetime.today()\n",
    "        GPIO.setwarnings(True)\n",
    "        GPIO.setmode(GPIO.BOARD)\n",
    "        GPIO.setup(7, GPIO.OUT, intial=GPIO.LOW)\n",
    "\n",
    "    def hello_world(self):\n",
    "        print (\"hello world\")\n",
    "\n",
    "    def ON(self):\n",
    "        print(\"ON Executed\")\n",
    "        GPIO.output(7, GPIO.HIGH)\n",
    "    def OFF(self):\n",
    "        print(\"OFF Executed\")\n",
    "        GPIO.output(7, GPIO.LOW)\n",
    "    def SetON(self,myHours,myMinute): \n",
    "        daysOn = self.daysRun\n",
    "        x=self.today       \n",
    "        for i in range(daysOn):\n",
    "            y=x.replace(hour=myHours,minute=myMinute,second=0,microsecond=0) + timedelta(seconds=i)\n",
    "            delta_t=y-x; secs=delta_t.seconds+1            \n",
    "            t =Timer(secs, self.ON)\n",
    "            t.start()\n",
    "\n",
    "    def SetOFF(self,myHours,myMinute):   \n",
    "        daysOn = self.daysRun\n",
    "        x=self.today       \n",
    "        for i in range(daysOn):\n",
    "            y=x.replace(day=x.day, hour=myHours,minute=myMinute,second=0,microsecond=0) + timedelta(seconds=i)\n",
    "            delta_t=y-x; secs=delta_t.seconds+1\n",
    "            t =Timer(secs, self.OFF)\n",
    "            t.start()\n",
    "\n",
    "    def SetOnOff(self,onHour,onMinute,offHour,offMinute):\n",
    "        self.SetON(onHour,onMinute)\n",
    "        self.SetOFF(offHour,offMinute)\n",
    "\n",
    "\n",
    "    def SetONbyDateTime(self, myDateTime= (datetime.today()+timedelta(seconds=2)) ) :  # dt = datetime(2022,3,3,21,25,45,20) \n",
    "        delta_t=myDateTime-self.today;\n",
    "        secs=delta_t.seconds+1            \n",
    "        t =Timer(secs, self.ON)\n",
    "        t.start()\n",
    "\n",
    "    def SetOFFbyDateTime(self, myDateTime= (datetime.today()+timedelta(seconds=4)) ) :   \n",
    "        delta_t=myDateTime-self.today;\n",
    "        secs=delta_t.seconds+1            \n",
    "        t =Timer(secs, self.OFF)\n",
    "        t.start()\n",
    "    \n"
   ]
  },
  {
   "cell_type": "code",
   "execution_count": 4,
   "id": "1dcd2352",
   "metadata": {},
   "outputs": [],
   "source": [
    "mygarden=Garden2(100)\n",
    "mygarden.SetOnOff(6,0,6,15)\n",
    "mygarden.SetOnOff(12,0,12,20)\n",
    "mygarden.SetOnOff(14,0,14,10)\n",
    "mygarden.SetOnOff(16,0,16,10)\n",
    "mygarden.SetOnOff(18,0,18,10)\n",
    "\n",
    "\n"
   ]
  },
  {
   "cell_type": "code",
   "execution_count": null,
   "id": "b9474188",
   "metadata": {},
   "outputs": [],
   "source": [
    "import RPi.GPIO as GPIO\n",
    "from time import sleep\n",
    "\n",
    "GPIO.setwarnings(True)\n",
    "GPIO.setmode(GPIO.BOARD)\n",
    "GPIO.setup(7, GPIO.OUT, intial=GPIO.LOW)"
   ]
  },
  {
   "cell_type": "code",
   "execution_count": 2,
   "id": "2d3c4c87",
   "metadata": {},
   "outputs": [
    {
     "name": "stdout",
     "output_type": "stream",
     "text": [
      "ON Executed\n",
      "OFF Executed\n"
     ]
    }
   ],
   "source": [
    "mygarden=Garden2()\n",
    "mygarden.SetONbyDateTime()\n",
    "mygarden.SetOFFbyDateTime()"
   ]
  },
  {
   "cell_type": "code",
   "execution_count": 11,
   "id": "bdb70d01",
   "metadata": {},
   "outputs": [
    {
     "ename": "TypeError",
     "evalue": "tzinfo argument must be None or of a tzinfo subclass, not type 'int'",
     "output_type": "error",
     "traceback": [
      "\u001b[1;31m---------------------------------------------------------------------------\u001b[0m",
      "\u001b[1;31mTypeError\u001b[0m                                 Traceback (most recent call last)",
      "\u001b[1;32m~\\AppData\\Local\\Temp/ipykernel_30896/3756723433.py\u001b[0m in \u001b[0;36m<module>\u001b[1;34m\u001b[0m\n\u001b[0;32m      1\u001b[0m \u001b[0mmygarden\u001b[0m\u001b[1;33m=\u001b[0m\u001b[0mGarden2\u001b[0m\u001b[1;33m(\u001b[0m\u001b[1;36m100\u001b[0m\u001b[1;33m)\u001b[0m\u001b[1;33m\u001b[0m\u001b[1;33m\u001b[0m\u001b[0m\n\u001b[1;32m----> 2\u001b[1;33m \u001b[0mdt\u001b[0m \u001b[1;33m=\u001b[0m \u001b[0mdatetime\u001b[0m\u001b[1;33m(\u001b[0m\u001b[1;36m2022\u001b[0m\u001b[1;33m,\u001b[0m\u001b[1;36m3\u001b[0m\u001b[1;33m,\u001b[0m\u001b[1;36m3\u001b[0m\u001b[1;33m,\u001b[0m\u001b[1;36m21\u001b[0m\u001b[1;33m,\u001b[0m\u001b[1;36m25\u001b[0m\u001b[1;33m,\u001b[0m\u001b[1;36m45\u001b[0m\u001b[1;33m,\u001b[0m\u001b[1;36m20\u001b[0m\u001b[1;33m,\u001b[0m\u001b[1;36m10\u001b[0m\u001b[1;33m)\u001b[0m\u001b[1;33m\u001b[0m\u001b[1;33m\u001b[0m\u001b[0m\n\u001b[0m\u001b[0;32m      3\u001b[0m \u001b[0mmygarden\u001b[0m\u001b[1;33m.\u001b[0m\u001b[0mSetONbyDateTime\u001b[0m\u001b[1;33m(\u001b[0m\u001b[0mdt\u001b[0m\u001b[1;33m)\u001b[0m\u001b[1;33m\u001b[0m\u001b[1;33m\u001b[0m\u001b[0m\n\u001b[0;32m      4\u001b[0m \u001b[0mmygarden\u001b[0m\u001b[1;33m.\u001b[0m\u001b[0mSetOFFbyDateTime\u001b[0m\u001b[1;33m(\u001b[0m\u001b[0mdt\u001b[0m\u001b[1;33m+\u001b[0m\u001b[0mtimedelta\u001b[0m\u001b[1;33m(\u001b[0m\u001b[0mseconds\u001b[0m\u001b[1;33m=\u001b[0m\u001b[1;36m5\u001b[0m\u001b[1;33m)\u001b[0m\u001b[1;33m)\u001b[0m\u001b[1;33m\u001b[0m\u001b[1;33m\u001b[0m\u001b[0m\n",
      "\u001b[1;31mTypeError\u001b[0m: tzinfo argument must be None or of a tzinfo subclass, not type 'int'"
     ]
    }
   ],
   "source": [
    "mygarden=Garden2(100)\n",
    "dt = datetime(2022,3,3,21,25,45,20)\n",
    "mygarden.SetONbyDateTime(dt)\n",
    "mygarden.SetOFFbyDateTime(dt+timedelta(seconds=5))\n"
   ]
  },
  {
   "cell_type": "code",
   "execution_count": 125,
   "id": "f2065ad2",
   "metadata": {},
   "outputs": [
    {
     "ename": "AttributeError",
     "evalue": "'int' object has no attribute 'day'",
     "output_type": "error",
     "traceback": [
      "\u001b[1;31m---------------------------------------------------------------------------\u001b[0m",
      "\u001b[1;31mAttributeError\u001b[0m                            Traceback (most recent call last)",
      "\u001b[1;32m~\\AppData\\Local\\Temp/ipykernel_16448/2170754677.py\u001b[0m in \u001b[0;36m<module>\u001b[1;34m\u001b[0m\n\u001b[1;32m----> 1\u001b[1;33m \u001b[0mSetON\u001b[0m\u001b[1;33m(\u001b[0m\u001b[1;36m19\u001b[0m\u001b[1;33m,\u001b[0m\u001b[1;36m24\u001b[0m\u001b[1;33m,\u001b[0m\u001b[1;36m30\u001b[0m\u001b[1;33m,\u001b[0m\u001b[1;36m25\u001b[0m\u001b[1;33m)\u001b[0m\u001b[1;33m\u001b[0m\u001b[1;33m\u001b[0m\u001b[0m\n\u001b[0m",
      "\u001b[1;32m~\\AppData\\Local\\Temp/ipykernel_16448/3904730811.py\u001b[0m in \u001b[0;36mSetON\u001b[1;34m(myHours, myMinute, mySeconds, myDay)\u001b[0m\n\u001b[0;32m      1\u001b[0m \u001b[1;32mdef\u001b[0m \u001b[0mSetON\u001b[0m\u001b[1;33m(\u001b[0m\u001b[0mmyHours\u001b[0m\u001b[1;33m,\u001b[0m\u001b[0mmyMinute\u001b[0m\u001b[1;33m,\u001b[0m\u001b[0mmySeconds\u001b[0m\u001b[1;33m=\u001b[0m\u001b[1;36m0\u001b[0m\u001b[1;33m,\u001b[0m\u001b[0mmyDay\u001b[0m\u001b[1;33m=\u001b[0m\u001b[0mdatetime\u001b[0m\u001b[1;33m.\u001b[0m\u001b[0mtoday\u001b[0m\u001b[1;33m(\u001b[0m\u001b[1;33m)\u001b[0m\u001b[1;33m)\u001b[0m\u001b[1;33m:\u001b[0m\u001b[1;33m\u001b[0m\u001b[1;33m\u001b[0m\u001b[0m\n\u001b[0;32m      2\u001b[0m     \u001b[0mx\u001b[0m\u001b[1;33m=\u001b[0m\u001b[0mdatetime\u001b[0m\u001b[1;33m.\u001b[0m\u001b[0mtoday\u001b[0m\u001b[1;33m(\u001b[0m\u001b[1;33m)\u001b[0m\u001b[1;33m\u001b[0m\u001b[1;33m\u001b[0m\u001b[0m\n\u001b[1;32m----> 3\u001b[1;33m     \u001b[0my\u001b[0m\u001b[1;33m=\u001b[0m\u001b[0mx\u001b[0m\u001b[1;33m.\u001b[0m\u001b[0mreplace\u001b[0m\u001b[1;33m(\u001b[0m\u001b[0mday\u001b[0m\u001b[1;33m=\u001b[0m\u001b[0mmyDay\u001b[0m\u001b[1;33m.\u001b[0m\u001b[0mday\u001b[0m\u001b[1;33m,\u001b[0m\u001b[0mhour\u001b[0m\u001b[1;33m=\u001b[0m\u001b[0mmyHours\u001b[0m\u001b[1;33m,\u001b[0m\u001b[0mminute\u001b[0m\u001b[1;33m=\u001b[0m\u001b[0mmyMinute\u001b[0m\u001b[1;33m,\u001b[0m\u001b[0msecond\u001b[0m\u001b[1;33m=\u001b[0m\u001b[0mmySeconds\u001b[0m\u001b[1;33m,\u001b[0m\u001b[0mmicrosecond\u001b[0m\u001b[1;33m=\u001b[0m\u001b[1;36m0\u001b[0m\u001b[1;33m)\u001b[0m\u001b[1;33m\u001b[0m\u001b[1;33m\u001b[0m\u001b[0m\n\u001b[0m\u001b[0;32m      4\u001b[0m     \u001b[0mprint\u001b[0m\u001b[1;33m(\u001b[0m\u001b[0my\u001b[0m\u001b[1;33m)\u001b[0m\u001b[1;33m\u001b[0m\u001b[1;33m\u001b[0m\u001b[0m\n\u001b[0;32m      5\u001b[0m     \u001b[0mdelta_t\u001b[0m\u001b[1;33m=\u001b[0m\u001b[0my\u001b[0m\u001b[1;33m-\u001b[0m\u001b[0mx\u001b[0m\u001b[1;33m;\u001b[0m \u001b[0msecs\u001b[0m\u001b[1;33m=\u001b[0m\u001b[0mdelta_t\u001b[0m\u001b[1;33m.\u001b[0m\u001b[0mseconds\u001b[0m\u001b[1;33m+\u001b[0m\u001b[1;36m1\u001b[0m\u001b[1;33m\u001b[0m\u001b[1;33m\u001b[0m\u001b[0m\n",
      "\u001b[1;31mAttributeError\u001b[0m: 'int' object has no attribute 'day'"
     ]
    },
    {
     "name": "stdout",
     "output_type": "stream",
     "text": [
      "ON\n",
      "ON\n"
     ]
    }
   ],
   "source": [
    "SetON(19,24,30,25) "
   ]
  },
  {
   "cell_type": "code",
   "execution_count": 14,
   "id": "e54684ec",
   "metadata": {},
   "outputs": [],
   "source": [
    "def add ( a,b=15 ):\n",
    "    print(a+b)"
   ]
  },
  {
   "cell_type": "code",
   "execution_count": 16,
   "id": "b216f7ec",
   "metadata": {},
   "outputs": [
    {
     "name": "stdout",
     "output_type": "stream",
     "text": [
      "20\n"
     ]
    }
   ],
   "source": [
    "add(5)"
   ]
  },
  {
   "cell_type": "code",
   "execution_count": 58,
   "id": "ef78bb11",
   "metadata": {},
   "outputs": [
    {
     "name": "stdout",
     "output_type": "stream",
     "text": [
      "2022-03-04 18:20:00\n",
      "2022-03-05 18:20:00\n",
      "2022-03-06 18:20:00\n",
      "2022-03-07 18:20:00\n",
      "2022-03-08 18:20:00\n",
      "2022-03-09 18:20:00\n",
      "2022-03-10 18:20:00\n",
      "2022-03-11 18:20:00\n",
      "2022-03-12 18:20:00\n",
      "2022-03-13 18:20:00\n",
      "2022-03-14 18:20:00\n",
      "2022-03-15 18:20:00\n",
      "2022-03-16 18:20:00\n",
      "2022-03-17 18:20:00\n",
      "2022-03-18 18:20:00\n",
      "2022-03-19 18:20:00\n",
      "2022-03-20 18:20:00\n",
      "2022-03-21 18:20:00\n",
      "2022-03-22 18:20:00\n",
      "2022-03-23 18:20:00\n",
      "2022-03-24 18:20:00\n",
      "2022-03-25 18:20:00\n",
      "2022-03-26 18:20:00\n",
      "2022-03-27 18:20:00\n",
      "2022-03-28 18:20:00\n",
      "2022-03-29 18:20:00\n",
      "2022-03-30 18:20:00\n",
      "2022-03-31 18:20:00\n",
      "2022-04-01 18:20:00\n",
      "2022-04-02 18:20:00\n",
      "2022-04-03 18:20:00\n",
      "2022-04-04 18:20:00\n",
      "2022-04-05 18:20:00\n",
      "2022-04-06 18:20:00\n",
      "2022-04-07 18:20:00\n",
      "2022-04-08 18:20:00\n",
      "2022-04-09 18:20:00\n",
      "2022-04-10 18:20:00\n",
      "2022-04-11 18:20:00\n",
      "2022-04-12 18:20:00\n",
      "2022-04-13 18:20:00\n",
      "2022-04-14 18:20:00\n",
      "2022-04-15 18:20:00\n",
      "2022-04-16 18:20:00\n",
      "2022-04-17 18:20:00\n",
      "2022-04-18 18:20:00\n",
      "2022-04-19 18:20:00\n",
      "2022-04-20 18:20:00\n",
      "2022-04-21 18:20:00\n",
      "2022-04-22 18:20:00\n",
      "2022-04-23 18:20:00\n",
      "2022-04-24 18:20:00\n",
      "2022-04-25 18:20:00\n",
      "2022-04-26 18:20:00\n",
      "2022-04-27 18:20:00\n",
      "2022-04-28 18:20:00\n",
      "2022-04-29 18:20:00\n",
      "2022-04-30 18:20:00\n",
      "2022-05-01 18:20:00\n",
      "2022-05-02 18:20:00\n",
      "2022-05-03 18:20:00\n",
      "2022-05-04 18:20:00\n",
      "2022-05-05 18:20:00\n",
      "2022-05-06 18:20:00\n",
      "2022-05-07 18:20:00\n",
      "2022-05-08 18:20:00\n",
      "2022-05-09 18:20:00\n",
      "2022-05-10 18:20:00\n",
      "2022-05-11 18:20:00\n",
      "2022-05-12 18:20:00\n",
      "2022-05-13 18:20:00\n",
      "2022-05-14 18:20:00\n",
      "2022-05-15 18:20:00\n",
      "2022-05-16 18:20:00\n",
      "2022-05-17 18:20:00\n",
      "2022-05-18 18:20:00\n",
      "2022-05-19 18:20:00\n",
      "2022-05-20 18:20:00\n",
      "2022-05-21 18:20:00\n",
      "2022-05-22 18:20:00\n",
      "2022-05-23 18:20:00\n",
      "2022-05-24 18:20:00\n",
      "2022-05-25 18:20:00\n",
      "2022-05-26 18:20:00\n",
      "2022-05-27 18:20:00\n",
      "2022-05-28 18:20:00\n",
      "2022-05-29 18:20:00\n",
      "2022-05-30 18:20:00\n",
      "2022-05-31 18:20:00\n",
      "2022-06-01 18:20:00\n",
      "2022-06-02 18:20:00\n",
      "2022-06-03 18:20:00\n",
      "2022-06-04 18:20:00\n",
      "2022-06-05 18:20:00\n",
      "2022-06-06 18:20:00\n",
      "2022-06-07 18:20:00\n",
      "2022-06-08 18:20:00\n",
      "2022-06-09 18:20:00\n",
      "2022-06-10 18:20:00\n",
      "2022-06-11 18:20:00\n",
      "2022-06-12 18:20:00\n",
      "2022-06-13 18:20:00\n",
      "2022-06-14 18:20:00\n",
      "2022-06-15 18:20:00\n",
      "2022-06-16 18:20:00\n",
      "2022-06-17 18:20:00\n",
      "2022-06-18 18:20:00\n",
      "2022-06-19 18:20:00\n",
      "2022-06-20 18:20:00\n",
      "2022-06-21 18:20:00\n",
      "2022-06-22 18:20:00\n",
      "2022-06-23 18:20:00\n",
      "2022-06-24 18:20:00\n",
      "2022-06-25 18:20:00\n",
      "2022-06-26 18:20:00\n",
      "2022-06-27 18:20:00\n",
      "2022-06-28 18:20:00\n",
      "2022-06-29 18:20:00\n",
      "2022-06-30 18:20:00\n",
      "2022-07-01 18:20:00\n",
      "2022-07-02 18:20:00\n",
      "2022-07-03 18:20:00\n",
      "2022-07-04 18:20:00\n",
      "2022-07-05 18:20:00\n",
      "2022-07-06 18:20:00\n",
      "2022-07-07 18:20:00\n",
      "2022-07-08 18:20:00\n",
      "2022-07-09 18:20:00\n",
      "2022-07-10 18:20:00\n",
      "2022-07-11 18:20:00\n",
      "2022-07-12 18:20:00\n",
      "2022-07-13 18:20:00\n",
      "2022-07-14 18:20:00\n",
      "2022-07-15 18:20:00\n",
      "2022-07-16 18:20:00\n",
      "2022-07-17 18:20:00\n",
      "2022-07-18 18:20:00\n",
      "2022-07-19 18:20:00\n",
      "2022-07-20 18:20:00\n",
      "2022-07-21 18:20:00\n",
      "2022-07-22 18:20:00\n",
      "2022-07-23 18:20:00\n",
      "2022-07-24 18:20:00\n",
      "2022-07-25 18:20:00\n",
      "2022-07-26 18:20:00\n",
      "2022-07-27 18:20:00\n",
      "2022-07-28 18:20:00\n",
      "2022-07-29 18:20:00\n",
      "2022-07-30 18:20:00\n",
      "2022-07-31 18:20:00\n",
      "2022-08-01 18:20:00\n",
      "2022-08-02 18:20:00\n",
      "2022-08-03 18:20:00\n",
      "2022-08-04 18:20:00\n",
      "2022-08-05 18:20:00\n",
      "2022-08-06 18:20:00\n",
      "2022-08-07 18:20:00\n",
      "2022-08-08 18:20:00\n",
      "2022-08-09 18:20:00\n",
      "2022-08-10 18:20:00\n",
      "2022-08-11 18:20:00\n",
      "2022-08-12 18:20:00\n",
      "2022-08-13 18:20:00\n",
      "2022-08-14 18:20:00\n",
      "2022-08-15 18:20:00\n",
      "2022-08-16 18:20:00\n",
      "2022-08-17 18:20:00\n",
      "2022-08-18 18:20:00\n",
      "2022-08-19 18:20:00\n",
      "2022-08-20 18:20:00\n",
      "2022-08-21 18:20:00\n",
      "2022-08-22 18:20:00\n",
      "2022-08-23 18:20:00\n",
      "2022-08-24 18:20:00\n",
      "2022-08-25 18:20:00\n",
      "2022-08-26 18:20:00\n",
      "2022-08-27 18:20:00\n",
      "2022-08-28 18:20:00\n",
      "2022-08-29 18:20:00\n",
      "2022-08-30 18:20:00\n",
      "2022-08-31 18:20:00\n",
      "2022-09-01 18:20:00\n",
      "2022-09-02 18:20:00\n",
      "2022-09-03 18:20:00\n",
      "2022-09-04 18:20:00\n",
      "2022-09-05 18:20:00\n",
      "2022-09-06 18:20:00\n",
      "2022-09-07 18:20:00\n",
      "2022-09-08 18:20:00\n",
      "2022-09-09 18:20:00\n",
      "2022-09-10 18:20:00\n",
      "2022-09-11 18:20:00\n",
      "2022-09-12 18:20:00\n",
      "2022-09-13 18:20:00\n",
      "2022-09-14 18:20:00\n",
      "2022-09-15 18:20:00\n",
      "2022-09-16 18:20:00\n",
      "2022-09-17 18:20:00\n",
      "2022-09-18 18:20:00\n",
      "2022-09-19 18:20:00\n",
      "2022-09-20 18:20:00\n",
      "2022-09-21 18:20:00\n",
      "2022-09-22 18:20:00\n",
      "2022-09-23 18:20:00\n",
      "2022-09-24 18:20:00\n",
      "2022-09-25 18:20:00\n",
      "2022-09-26 18:20:00\n",
      "2022-09-27 18:20:00\n",
      "2022-09-28 18:20:00\n",
      "2022-09-29 18:20:00\n",
      "2022-09-30 18:20:00\n",
      "2022-10-01 18:20:00\n",
      "2022-10-02 18:20:00\n",
      "2022-10-03 18:20:00\n",
      "2022-10-04 18:20:00\n",
      "2022-10-05 18:20:00\n",
      "2022-10-06 18:20:00\n",
      "2022-10-07 18:20:00\n",
      "2022-10-08 18:20:00\n",
      "2022-10-09 18:20:00\n",
      "2022-10-10 18:20:00\n",
      "2022-10-11 18:20:00\n",
      "2022-10-12 18:20:00\n",
      "2022-10-13 18:20:00\n",
      "2022-10-14 18:20:00\n",
      "2022-10-15 18:20:00\n",
      "2022-10-16 18:20:00\n",
      "2022-10-17 18:20:00\n",
      "2022-10-18 18:20:00\n",
      "2022-10-19 18:20:00\n",
      "2022-10-20 18:20:00\n",
      "2022-10-21 18:20:00\n",
      "2022-10-22 18:20:00\n",
      "2022-10-23 18:20:00\n",
      "2022-10-24 18:20:00\n",
      "2022-10-25 18:20:00\n",
      "2022-10-26 18:20:00\n",
      "2022-10-27 18:20:00\n",
      "2022-10-28 18:20:00\n",
      "2022-10-29 18:20:00\n",
      "2022-10-30 18:20:00\n",
      "2022-10-31 18:20:00\n",
      "2022-11-01 18:20:00\n",
      "2022-11-02 18:20:00\n",
      "2022-11-03 18:20:00\n",
      "2022-11-04 18:20:00\n",
      "2022-11-05 18:20:00\n",
      "2022-11-06 18:20:00\n",
      "2022-11-07 18:20:00\n",
      "2022-11-08 18:20:00\n",
      "2022-11-09 18:20:00\n",
      "2022-11-10 18:20:00\n",
      "2022-11-11 18:20:00\n",
      "2022-11-12 18:20:00\n",
      "2022-11-13 18:20:00\n",
      "2022-11-14 18:20:00\n",
      "2022-11-15 18:20:00\n",
      "2022-11-16 18:20:00\n",
      "2022-11-17 18:20:00\n",
      "2022-11-18 18:20:00\n",
      "2022-11-19 18:20:00\n",
      "2022-11-20 18:20:00\n",
      "2022-11-21 18:20:00\n",
      "2022-11-22 18:20:00\n",
      "2022-11-23 18:20:00\n",
      "2022-11-24 18:20:00\n",
      "2022-11-25 18:20:00\n",
      "2022-11-26 18:20:00\n",
      "2022-11-27 18:20:00\n",
      "2022-11-28 18:20:00\n",
      "2022-11-29 18:20:00\n",
      "2022-11-30 18:20:00\n",
      "2022-12-01 18:20:00\n",
      "2022-12-02 18:20:00\n",
      "2022-12-03 18:20:00\n",
      "2022-12-04 18:20:00\n",
      "2022-12-05 18:20:00\n",
      "2022-12-06 18:20:00\n",
      "2022-12-07 18:20:00\n",
      "2022-12-08 18:20:00\n",
      "2022-12-09 18:20:00\n",
      "2022-12-10 18:20:00\n",
      "2022-12-11 18:20:00\n",
      "2022-12-12 18:20:00\n",
      "2022-12-13 18:20:00\n",
      "2022-12-14 18:20:00\n",
      "2022-12-15 18:20:00\n",
      "2022-12-16 18:20:00\n",
      "2022-12-17 18:20:00\n",
      "2022-12-18 18:20:00\n",
      "2022-12-19 18:20:00\n",
      "2022-12-20 18:20:00\n",
      "2022-12-21 18:20:00\n",
      "2022-12-22 18:20:00\n",
      "2022-12-23 18:20:00\n",
      "2022-12-24 18:20:00\n",
      "2022-12-25 18:20:00\n",
      "2022-12-26 18:20:00\n",
      "2022-12-27 18:20:00\n",
      "2022-12-28 18:20:00\n",
      "2022-12-29 18:20:00\n",
      "2022-12-30 18:20:00\n",
      "2022-12-31 18:20:00\n",
      "2023-01-01 18:20:00\n",
      "2023-01-02 18:20:00\n",
      "2023-01-03 18:20:00\n",
      "2023-01-04 18:20:00\n",
      "2023-01-05 18:20:00\n",
      "2023-01-06 18:20:00\n",
      "2023-01-07 18:20:00\n",
      "2023-01-08 18:20:00\n",
      "2023-01-09 18:20:00\n",
      "2023-01-10 18:20:00\n",
      "2023-01-11 18:20:00\n",
      "2023-01-12 18:20:00\n",
      "2023-01-13 18:20:00\n",
      "2023-01-14 18:20:00\n",
      "2023-01-15 18:20:00\n",
      "2023-01-16 18:20:00\n",
      "2023-01-17 18:20:00\n",
      "2023-01-18 18:20:00\n",
      "2023-01-19 18:20:00\n",
      "2023-01-20 18:20:00\n",
      "2023-01-21 18:20:00\n",
      "2023-01-22 18:20:00\n",
      "2023-01-23 18:20:00\n",
      "2023-01-24 18:20:00\n",
      "2023-01-25 18:20:00\n",
      "2023-01-26 18:20:00\n",
      "2023-01-27 18:20:00\n",
      "2023-01-28 18:20:00\n",
      "2023-01-29 18:20:00\n",
      "2023-01-30 18:20:00\n",
      "2023-01-31 18:20:00\n",
      "2023-02-01 18:20:00\n",
      "2023-02-02 18:20:00\n",
      "2023-02-03 18:20:00\n",
      "2023-02-04 18:20:00\n",
      "2023-02-05 18:20:00\n",
      "2023-02-06 18:20:00\n",
      "2023-02-07 18:20:00\n",
      "2023-02-08 18:20:00\n",
      "2023-02-09 18:20:00\n",
      "2023-02-10 18:20:00\n",
      "2023-02-11 18:20:00\n",
      "2023-02-12 18:20:00\n",
      "2023-02-13 18:20:00\n",
      "2023-02-14 18:20:00\n",
      "2023-02-15 18:20:00\n",
      "2023-02-16 18:20:00\n",
      "2023-02-17 18:20:00\n",
      "2023-02-18 18:20:00\n",
      "2023-02-19 18:20:00\n",
      "2023-02-20 18:20:00\n",
      "2023-02-21 18:20:00\n",
      "2023-02-22 18:20:00\n",
      "2023-02-23 18:20:00\n",
      "2023-02-24 18:20:00\n",
      "2023-02-25 18:20:00\n",
      "2023-02-26 18:20:00\n",
      "2023-02-27 18:20:00\n",
      "2023-02-28 18:20:00\n",
      "2023-03-01 18:20:00\n",
      "2023-03-02 18:20:00\n",
      "2023-03-03 18:20:00\n"
     ]
    }
   ],
   "source": [
    "y=x.replace(day=x.day, hour=18,minute=20,second=0,microsecond=0)\n",
    "for i in range(30):\n",
    "    y=y+ timedelta (days=1);\n",
    "    print(y)"
   ]
  },
  {
   "cell_type": "code",
   "execution_count": 93,
   "id": "d81722db",
   "metadata": {},
   "outputs": [
    {
     "name": "stdout",
     "output_type": "stream",
     "text": [
      "2024-11-27 18:46:40.856824\n",
      "ON\n",
      "ON\n",
      "ON\n",
      "ON\n"
     ]
    }
   ],
   "source": []
  },
  {
   "cell_type": "code",
   "execution_count": null,
   "id": "65f598ae",
   "metadata": {},
   "outputs": [],
   "source": []
  }
 ],
 "metadata": {
  "kernelspec": {
   "display_name": "Python 3 (ipykernel)",
   "language": "python",
   "name": "python3"
  },
  "language_info": {
   "codemirror_mode": {
    "name": "ipython",
    "version": 3
   },
   "file_extension": ".py",
   "mimetype": "text/x-python",
   "name": "python",
   "nbconvert_exporter": "python",
   "pygments_lexer": "ipython3",
   "version": "3.9.7"
  }
 },
 "nbformat": 4,
 "nbformat_minor": 5
}
