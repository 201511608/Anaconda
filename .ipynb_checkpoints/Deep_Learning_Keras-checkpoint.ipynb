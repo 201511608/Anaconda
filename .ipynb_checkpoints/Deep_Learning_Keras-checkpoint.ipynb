{
 "cells": [
  {
   "cell_type": "code",
   "execution_count": 82,
   "metadata": {},
   "outputs": [],
   "source": [
    "# Common Functions\n",
    "\n",
    "#Numpy array to DataFrame\n",
    "def Array2DataFrame(array):\n",
    "    import numpy as np\n",
    "    df = pd.DataFrame(data=array)\n",
    "    return df\n",
    "\n",
    "#Numpy array to DataFrame to SaveFile\n",
    "def Array2SaveCSV(NpArray,filename='Delete'):\n",
    "    import numpy as np\n",
    "    df = pd.DataFrame(data=NpArray)\n",
    "    df.to_csv(filename)\n"
   ]
  },
  {
   "cell_type": "code",
   "execution_count": 43,
   "metadata": {},
   "outputs": [],
   "source": [
    "#Deep_Learning_Keras \n",
    "#1 Arch : how many layers Activation\n",
    "#2 Compile :: loss and how it works\n",
    "#3 Fit :: Froword and Back \n",
    "#4 Predict\n",
    "\n",
    "#MIT Licensed\n",
    "\n",
    "#Scale Data :: Getting data in to similar average value\n",
    " \n",
    "#Regression       Y=f(x)\n",
    "#Classification  Predictiong from set of descrete Options\n",
    "\n",
    "#Deep Learning on Large Data Set"
   ]
  },
  {
   "cell_type": "code",
   "execution_count": 44,
   "metadata": {},
   "outputs": [],
   "source": [
    "#1.1\n",
    "#import\n",
    "import numpy as np\n",
    "import pandas\n",
    "from keras.layers import Dense\n",
    "from keras.models import Sequential"
   ]
  },
  {
   "cell_type": "code",
   "execution_count": 45,
   "metadata": {},
   "outputs": [],
   "source": [
    "#1.2\n",
    "#Import Data\n",
    "df = pandas.read_csv('hourly_wages.csv')\n",
    "predictors=np.delete(df.values,0,1) # Detete a Column  [1->column 0->row]\n",
    "target=df.values[:,0]\n",
    "n_cols = predictors.shape[1]"
   ]
  },
  {
   "cell_type": "code",
   "execution_count": 46,
   "metadata": {},
   "outputs": [],
   "source": [
    "#1.3\n",
    "#1 Arch\n",
    "\n",
    "# Model 1)Sequential 2)  Check other models very complex connections  Very important   ??????????\n",
    "model = Sequential()\n",
    "\n",
    "# Dense :: All the Nodes in previous layers connect all the nodes in the current layer\n",
    "model.add(Dense(100, activation= 'relu',input_shape=(n_cols,))) # (n_cols,) = any no of rows\\data\n",
    "model.add(Dense(100, activation='relu'))\n",
    "model.add(Dense(1))"
   ]
  },
  {
   "cell_type": "code",
   "execution_count": 47,
   "metadata": {},
   "outputs": [],
   "source": [
    "#1.4\n",
    "#Compile\n",
    "#2 Compile\n",
    "#Optimizer Learing rate\n",
    "#Adam is Best for Optimizer\n",
    "#loss function Mean SquareError\n",
    "model.compile(optimizer='adam', loss='mean_squared_error')"
   ]
  },
  {
   "cell_type": "code",
   "execution_count": 48,
   "metadata": {},
   "outputs": [
    {
     "name": "stdout",
     "output_type": "stream",
     "text": [
      "Epoch 1/1\n",
      "534/534 [==============================] - 98s 184ms/step - loss: 27.1264\n"
     ]
    },
    {
     "data": {
      "text/plain": [
       "<keras.callbacks.History at 0x1f005898>"
      ]
     },
     "execution_count": 48,
     "metadata": {},
     "output_type": "execute_result"
    }
   ],
   "source": [
    "#1.5\n",
    "#Fit\n",
    "#Do Forword and Backword Propogation\n",
    "model.fit(predictors, target)\n"
   ]
  },
  {
   "cell_type": "code",
   "execution_count": 49,
   "metadata": {},
   "outputs": [
    {
     "data": {
      "text/plain": [
       "array([[  8.48613453],\n",
       "       [ 11.24972343],\n",
       "       [  7.92303801],\n",
       "       [  8.43539429],\n",
       "       [ 10.4601059 ],\n",
       "       [ 10.11528206],\n",
       "       [ 10.028265  ],\n",
       "       [  9.39352798],\n",
       "       [ 12.23272514],\n",
       "       [  9.39352798]], dtype=float32)"
      ]
     },
     "execution_count": 49,
     "metadata": {},
     "output_type": "execute_result"
    }
   ],
   "source": [
    "#1.6\n",
    "#prediction\n",
    "model.predict(predictors[0:10])"
   ]
  },
  {
   "cell_type": "code",
   "execution_count": null,
   "metadata": {},
   "outputs": [],
   "source": [
    "#1.8 \n",
    "#Saving \n",
    "model.save('model_hourly_wages.h5')\n"
   ]
  },
  {
   "cell_type": "code",
   "execution_count": null,
   "metadata": {},
   "outputs": [],
   "source": [
    "#1.9\n",
    "#Loading Model\n",
    "my_model=load_model('model_hourly_wages.h5')"
   ]
  },
  {
   "cell_type": "code",
   "execution_count": 21,
   "metadata": {},
   "outputs": [
    {
     "name": "stdout",
     "output_type": "stream",
     "text": [
      "_________________________________________________________________\n",
      "Layer (type)                 Output Shape              Param #   \n",
      "=================================================================\n",
      "dense_3 (Dense)              (None, 100)               1000      \n",
      "_________________________________________________________________\n",
      "dense_4 (Dense)              (None, 100)               10100     \n",
      "_________________________________________________________________\n",
      "dense_5 (Dense)              (None, 1)                 101       \n",
      "=================================================================\n",
      "Total params: 11,201\n",
      "Trainable params: 11,201\n",
      "Non-trainable params: 0\n",
      "_________________________________________________________________\n"
     ]
    }
   ],
   "source": [
    "#1.10\n",
    "#Check the Architure of Model\n",
    "model.summary()"
   ]
  },
  {
   "cell_type": "code",
   "execution_count": 22,
   "metadata": {},
   "outputs": [
    {
     "name": "stdout",
     "output_type": "stream",
     "text": [
      "Loss function: mean_squared_error\n"
     ]
    }
   ],
   "source": [
    "#1.11\n",
    "# Print\n",
    "print(\"Loss function: \" + model.loss)\n"
   ]
  },
  {
   "cell_type": "code",
   "execution_count": 2,
   "metadata": {},
   "outputs": [
    {
     "name": "stdout",
     "output_type": "stream",
     "text": [
      "Epoch 1/1\n",
      "534/534 [==============================] - 1s 1ms/step - loss: 50.6288\n"
     ]
    },
    {
     "data": {
      "text/plain": [
       "<keras.callbacks.History at 0xd039860>"
      ]
     },
     "execution_count": 2,
     "metadata": {},
     "output_type": "execute_result"
    }
   ],
   "source": [
    "#3\n",
    "#Hourly_wages\n",
    "import numpy as np\n",
    "import pandas\n",
    "from keras.layers import Dense\n",
    "from keras.models import Sequential\n",
    "\n",
    "#Import Data\n",
    "df = pandas.read_csv('hourly_wages.csv')\n",
    "predictors=np.delete(df.values,0,1) # Detete a Column  [1->column 0->row]\n",
    "target=df.values[:,0] # or # df.wage_per_hour\n",
    "n_cols = predictors.shape[1]\n",
    "\n",
    "# Model\n",
    "model = Sequential()\n",
    "model.add(Dense(100, activation= 'relu',input_shape=(n_cols,))) \n",
    "model.add(Dense(100, activation='relu'))\n",
    "model.add(Dense(1))\n",
    "\n",
    "#compile\n",
    "model.compile(optimizer='adam', loss='mean_squared_error')\n",
    "\n",
    "#Fit\n",
    "model.fit(predictors, target)"
   ]
  },
  {
   "cell_type": "code",
   "execution_count": 48,
   "metadata": {},
   "outputs": [
    {
     "data": {
      "text/html": [
       "<div>\n",
       "<style>\n",
       "    .dataframe thead tr:only-child th {\n",
       "        text-align: right;\n",
       "    }\n",
       "\n",
       "    .dataframe thead th {\n",
       "        text-align: left;\n",
       "    }\n",
       "\n",
       "    .dataframe tbody tr th {\n",
       "        vertical-align: top;\n",
       "    }\n",
       "</style>\n",
       "<table border=\"1\" class=\"dataframe\">\n",
       "  <thead>\n",
       "    <tr style=\"text-align: right;\">\n",
       "      <th></th>\n",
       "      <th>wage_per_hour</th>\n",
       "      <th>union</th>\n",
       "      <th>education_yrs</th>\n",
       "      <th>experience_yrs</th>\n",
       "      <th>age</th>\n",
       "      <th>female</th>\n",
       "      <th>marr</th>\n",
       "      <th>south</th>\n",
       "      <th>manufacturing</th>\n",
       "      <th>construction</th>\n",
       "    </tr>\n",
       "  </thead>\n",
       "  <tbody>\n",
       "    <tr>\n",
       "      <th>0</th>\n",
       "      <td>5.10</td>\n",
       "      <td>0</td>\n",
       "      <td>8</td>\n",
       "      <td>21</td>\n",
       "      <td>35</td>\n",
       "      <td>1</td>\n",
       "      <td>1</td>\n",
       "      <td>0</td>\n",
       "      <td>1</td>\n",
       "      <td>0</td>\n",
       "    </tr>\n",
       "    <tr>\n",
       "      <th>1</th>\n",
       "      <td>4.95</td>\n",
       "      <td>0</td>\n",
       "      <td>9</td>\n",
       "      <td>42</td>\n",
       "      <td>57</td>\n",
       "      <td>1</td>\n",
       "      <td>1</td>\n",
       "      <td>0</td>\n",
       "      <td>1</td>\n",
       "      <td>0</td>\n",
       "    </tr>\n",
       "    <tr>\n",
       "      <th>2</th>\n",
       "      <td>6.67</td>\n",
       "      <td>0</td>\n",
       "      <td>12</td>\n",
       "      <td>1</td>\n",
       "      <td>19</td>\n",
       "      <td>0</td>\n",
       "      <td>0</td>\n",
       "      <td>0</td>\n",
       "      <td>1</td>\n",
       "      <td>0</td>\n",
       "    </tr>\n",
       "    <tr>\n",
       "      <th>3</th>\n",
       "      <td>4.00</td>\n",
       "      <td>0</td>\n",
       "      <td>12</td>\n",
       "      <td>4</td>\n",
       "      <td>22</td>\n",
       "      <td>0</td>\n",
       "      <td>0</td>\n",
       "      <td>0</td>\n",
       "      <td>0</td>\n",
       "      <td>0</td>\n",
       "    </tr>\n",
       "    <tr>\n",
       "      <th>4</th>\n",
       "      <td>7.50</td>\n",
       "      <td>0</td>\n",
       "      <td>12</td>\n",
       "      <td>17</td>\n",
       "      <td>35</td>\n",
       "      <td>0</td>\n",
       "      <td>1</td>\n",
       "      <td>0</td>\n",
       "      <td>0</td>\n",
       "      <td>0</td>\n",
       "    </tr>\n",
       "  </tbody>\n",
       "</table>\n",
       "</div>"
      ],
      "text/plain": [
       "   wage_per_hour  union  education_yrs  experience_yrs  age  female  marr  \\\n",
       "0           5.10      0              8              21   35       1     1   \n",
       "1           4.95      0              9              42   57       1     1   \n",
       "2           6.67      0             12               1   19       0     0   \n",
       "3           4.00      0             12               4   22       0     0   \n",
       "4           7.50      0             12              17   35       0     1   \n",
       "\n",
       "   south  manufacturing  construction  \n",
       "0      0              1             0  \n",
       "1      0              1             0  \n",
       "2      0              1             0  \n",
       "3      0              0             0  \n",
       "4      0              0             0  "
      ]
     },
     "execution_count": 48,
     "metadata": {},
     "output_type": "execute_result"
    }
   ],
   "source": [
    "df.values\n",
    "df.describe()\n",
    "df.index\n",
    "df.head()"
   ]
  },
  {
   "cell_type": "code",
   "execution_count": 8,
   "metadata": {},
   "outputs": [
    {
     "name": "stdout",
     "output_type": "stream",
     "text": [
      "[1 2 3]\n",
      "[[ 0.  1.  0.  0.]\n",
      " [ 0.  0.  1.  0.]\n",
      " [ 0.  0.  0.  1.]]\n",
      "\n",
      " [0 1 2 3]\n",
      "[[ 1.  0.  0.  0.]\n",
      " [ 0.  1.  0.  0.]\n",
      " [ 0.  0.  1.  0.]\n",
      " [ 0.  0.  0.  1.]]\n",
      "\n",
      " [ 0  1  2 13]\n",
      "[[ 1.  0.  0.  0.  0.  0.  0.  0.  0.  0.  0.  0.  0.  0.]\n",
      " [ 0.  1.  0.  0.  0.  0.  0.  0.  0.  0.  0.  0.  0.  0.]\n",
      " [ 0.  0.  1.  0.  0.  0.  0.  0.  0.  0.  0.  0.  0.  0.]\n",
      " [ 0.  0.  0.  0.  0.  0.  0.  0.  0.  0.  0.  0.  0.  1.]]\n"
     ]
    }
   ],
   "source": [
    "#4\n",
    "# Categorical\n",
    "# Single -> Multi Column Convertion\n",
    "from keras.utils import to_categorical\n",
    "a=np.array([1,2,3])\n",
    "cat1=to_categorical(a)\n",
    "print(a)\n",
    "print(cat1)\n",
    "\n",
    "b=np.array([0,1,2,3])\n",
    "cat2=to_categorical(b)\n",
    "print(\"\\n\",b)\n",
    "print(cat2)\n",
    "\n",
    "c=np.array([0,1,2,13])\n",
    "cat3=to_categorical(c)\n",
    "print(\"\\n\",c)\n",
    "print(cat3)"
   ]
  },
  {
   "cell_type": "code",
   "execution_count": 94,
   "metadata": {},
   "outputs": [],
   "source": [
    "#5\n",
    "# Classification \n",
    "# To Select from Bunch of Options\n",
    "# Similar to Regression Only Few things are Different\n",
    "# Loss function :: Categorical_crossentropy\n",
    "# Log Loss\n",
    "# Metric = ['accuracy'] Print accuracy at end of each epoch\n",
    "# optimizer = 'sgd' 'adam'\n",
    "# Output  Have Softmax activation  = Pridiction Sum to One  :: To Check Proabilities "
   ]
  },
  {
   "cell_type": "code",
   "execution_count": 86,
   "metadata": {
    "scrolled": true
   },
   "outputs": [
    {
     "name": "stdout",
     "output_type": "stream",
     "text": [
      "Epoch 1/1\n",
      "891/891 [==============================] - 1s 2ms/step - loss: 2.5718 - acc: 0.6128\n",
      "data\n",
      "    survived  pclass   age  sibsp  parch     fare  male  age_was_missing  \\\n",
      "0         0       3  22.0      1      0   7.2500     1            False   \n",
      "1         1       1  38.0      1      0  71.2833     0            False   \n",
      "\n",
      "   embarked_from_cherbourg  embarked_from_queenstown  \\\n",
      "0                        0                         0   \n",
      "1                        1                         0   \n",
      "\n",
      "   embarked_from_southampton  \n",
      "0                          1  \n",
      "1                          0  \n",
      "\n",
      "Predictors\n",
      " [3 22.0 1 0 7.25 1 False 0 0 1]\n",
      "\n",
      "Target\n",
      " [ 1.  0.]\n",
      "\n",
      "Predictors Shape\n",
      " (91, 2)\n",
      "\n",
      "Probabilities of Survival\n",
      "Yes  No\n",
      " [[  1.84627413e-06   9.99998212e-01]\n",
      " [  6.81351253e-10   1.00000000e+00]]\n"
     ]
    }
   ],
   "source": [
    "# 5\n",
    "# Titanic\n",
    "# sgd :: Stochastic Gradient descent\n",
    "#Output  : Dead or Alive    Yes or No\n",
    "import numpy as np\n",
    "import pandas\n",
    "from keras.layers import Dense\n",
    "from keras.models import Sequential\n",
    "from keras.utils import to_categorical\n",
    "\n",
    "#Import Data\n",
    "df = pandas.read_csv('Titanic_data.csv')\n",
    "predictors=np.delete(df.values,0,1) # Detete a Column  [1->column 0->row]\n",
    "target=to_categorical(df.survived)\n",
    "pred_data=np.delete(pandas.read_csv('Titanic_pred_data.csv').values,0,1)\n",
    "n_cols = predictors.shape[1]\n",
    "\n",
    "#\n",
    "model= Sequential()\n",
    "model.add(Dense(32,activation='relu',input_shape=(n_cols,)))\n",
    "model.add(Dense(2,activation='softmax')) # Output Survived or Died\n",
    "\n",
    "#\n",
    "model.compile(optimizer='sgd',loss='categorical_crossentropy',metrics=['accuracy'])\n",
    "\n",
    "#\n",
    "model.fit(predictors, target)\n",
    "\n",
    "#\n",
    "predictions = model.predict(pred_data)\n",
    "probability_true =predictions\n",
    "\n",
    "#Print\n",
    "print(\"data\\n\",df.head(2))\n",
    "print(\"\\nPredictors\\n\",predictors[0])\n",
    "print(\"\\nTarget\\n\",target[0])\n",
    "print(\"\\nPredictors Shape\\n\",predictions.shape)\n",
    "print(\"\\nProbabilities of Survival\\nYes  No\\n\",probability_true[0:2])"
   ]
  },
  {
   "cell_type": "code",
   "execution_count": 81,
   "metadata": {},
   "outputs": [
    {
     "name": "stdout",
     "output_type": "stream",
     "text": [
      "Unsupervised Instance Begin\n"
     ]
    }
   ],
   "source": [
    "#6 Optimisation\n",
    "# Smart Optimizer  'Adams'   'Stochastic graient descent SGD'\n",
    "# Learning Rate\n",
    "# Dying Nuron Problem i.e   NEURON -> 0  | No effect to out put |\n",
    "# Vanishing gradiend i.e too low slopes updates almost to O | Ex tanhx function\n",
    "# Lower value of loss function is Good"
   ]
  },
  {
   "cell_type": "code",
   "execution_count": 90,
   "metadata": {},
   "outputs": [
    {
     "name": "stdout",
     "output_type": "stream",
     "text": [
      "\n",
      "\n",
      "Testing model with learning rate: 0.000001\n",
      "\n",
      "Epoch 1/1\n",
      "891/891 [==============================] - 154s 173ms/step - loss: 9.1388 - acc: 0.3737\n",
      "\n",
      "\n",
      "Testing model with learning rate: 0.010000\n",
      "\n",
      "Epoch 1/1\n",
      "891/891 [==============================] - 2s 2ms/step - loss: 3.1238 - acc: 0.5825\n",
      "\n",
      "\n",
      "Testing model with learning rate: 1.000000\n",
      "\n",
      "Epoch 1/1\n",
      "891/891 [==============================] - 2s 2ms/step - loss: 9.5846 - acc: 0.4018\n"
     ]
    }
   ],
   "source": [
    "#7 Learning Rates Different\n",
    "# Titanic Data\n",
    "from keras.optimizers import SGD # Import the SGD optimizer\n",
    "import numpy as np\n",
    "import pandas\n",
    "from keras.layers import Dense\n",
    "from keras.models import Sequential\n",
    "from keras.utils import to_categorical\n",
    "\n",
    "#Import Data\n",
    "df = pandas.read_csv('Titanic_data.csv')\n",
    "predictors=np.delete(df.values,0,1) # Detete a Column  [1->column 0->row]\n",
    "target=to_categorical(df.survived)\n",
    "pred_data=np.delete(pandas.read_csv('Titanic_pred_data.csv').values,0,1)\n",
    "n_cols = predictors.shape[1]\n",
    "\n",
    "\n",
    "\n",
    "lr_to_test = [.000001, 0.01, 1]\n",
    "\n",
    "for lr in lr_to_test:\n",
    "    print('\\n\\nTesting model with learning rate: %f\\n'%lr )\n",
    "    model= Sequential()\n",
    "    model.add(Dense(32,activation='relu',input_shape=(n_cols,)))\n",
    "    model.add(Dense(2,activation='softmax'))  \n",
    "    my_optimizer = SGD(lr=lr) # Optimizear\n",
    "    model.compile(optimizer=my_optimizer, loss='categorical_crossentropy',metrics=['accuracy'])\n",
    "    model.fit(predictors, target)\n"
   ]
  },
  {
   "cell_type": "code",
   "execution_count": 92,
   "metadata": {},
   "outputs": [
    {
     "name": "stdout",
     "output_type": "stream",
     "text": [
      "Train on 623 samples, validate on 268 samples\n",
      "Epoch 1/1\n",
      "623/623 [==============================] - 0s 128us/step - loss: 9.7536 - acc: 0.3949 - val_loss: 10.3444 - val_acc: 0.3582\n"
     ]
    },
    {
     "data": {
      "text/plain": [
       "<keras.callbacks.History at 0x234ec588>"
      ]
     },
     "execution_count": 92,
     "metadata": {},
     "output_type": "execute_result"
    }
   ],
   "source": [
    "#Validation split Data\n",
    "#Split data as per percentage\n",
    "#8\n",
    "model.fit(predictors, target,validation_split=0.3)"
   ]
  },
  {
   "cell_type": "code",
   "execution_count": null,
   "metadata": {},
   "outputs": [],
   "source": [
    "#epochs\n",
    "#Do Forword and backword Propogatin for Learning\n",
    "#An epoch is one forward pass and one backward pass of all training examples\n",
    "#One epoch consists of one full training cycle on the training set\n",
    "#5 epochs as pybrain advice, the dataset will be divided into 5 subsets\n",
    "#and the wights will update 5 times as maximum\n",
    "#9\n",
    "model.fit(predictors, target,validation_split=0.3,epochs=5)"
   ]
  },
  {
   "cell_type": "code",
   "execution_count": 99,
   "metadata": {},
   "outputs": [
    {
     "name": "stdout",
     "output_type": "stream",
     "text": [
      "Train on 623 samples, validate on 268 samples\n",
      "Epoch 1/20\n",
      "623/623 [==============================] - 0s 82us/step - loss: 9.7536 - acc: 0.3949 - val_loss: 10.3444 - val_acc: 0.3582\n",
      "Epoch 2/20\n",
      "623/623 [==============================] - 0s 64us/step - loss: 9.7536 - acc: 0.3949 - val_loss: 10.3444 - val_acc: 0.3582\n",
      "Epoch 3/20\n",
      "623/623 [==============================] - 0s 125us/step - loss: 9.7536 - acc: 0.3949 - val_loss: 10.3444 - val_acc: 0.3582\n",
      "Epoch 4/20\n",
      "623/623 [==============================] - 0s 48us/step - loss: 9.7536 - acc: 0.3949 - val_loss: 10.3444 - val_acc: 0.3582\n"
     ]
    },
    {
     "data": {
      "text/plain": [
       "<keras.callbacks.History at 0x2351c5f8>"
      ]
     },
     "execution_count": 99,
     "metadata": {},
     "output_type": "execute_result"
    }
   ],
   "source": [
    "#Early Stopping\n",
    "#How many epoch before stopping training\n",
    "#Call Early Stopping Through Callbacks  :: This take List as input\n",
    "#9\n",
    "from keras.callbacks import EarlyStopping\n",
    "early_stopping_monitor = EarlyStopping(patience=3)\n",
    "model.fit(predictors, target,validation_split=0.3, epochs=20,callbacks = [early_stopping_monitor])"
   ]
  },
  {
   "cell_type": "code",
   "execution_count": null,
   "metadata": {},
   "outputs": [],
   "source": []
  },
  {
   "cell_type": "code",
   "execution_count": null,
   "metadata": {},
   "outputs": [],
   "source": []
  }
 ],
 "metadata": {
  "kernelspec": {
   "display_name": "Python 3",
   "language": "python",
   "name": "python3"
  },
  "language_info": {
   "codemirror_mode": {
    "name": "ipython",
    "version": 3
   },
   "file_extension": ".py",
   "mimetype": "text/x-python",
   "name": "python",
   "nbconvert_exporter": "python",
   "pygments_lexer": "ipython3",
   "version": "3.6.1"
  }
 },
 "nbformat": 4,
 "nbformat_minor": 2
}
