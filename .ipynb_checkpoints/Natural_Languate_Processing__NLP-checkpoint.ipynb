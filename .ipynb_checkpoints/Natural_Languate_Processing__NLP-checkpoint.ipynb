{
 "cells": [
  {
   "cell_type": "code",
   "execution_count": 7,
   "metadata": {},
   "outputs": [
    {
     "data": {
      "text/plain": [
       "<_sre.SRE_Match object; span=(0, 22), match='abcdefghijklmnabcdefgh'>"
      ]
     },
     "execution_count": 7,
     "metadata": {},
     "output_type": "execute_result"
    }
   ],
   "source": [
    "# Regex Keys Note\n",
    "import re  # regex library\n",
    "r -> capitalized_words = r\"[A-Z]\\w+\"  #Prefix r    \\n read and as \\  and  n   . if not r then it reads as enter(\\n)\n",
    "# https://stackoverflow.com/questions/2241600/python-regex-r-prefix\n",
    "\n",
    "\n",
    "'\\s+' -> list of spaces\n",
    "'\\s'  -> list of inividual spaces\n",
    "'\\S+' -> list of words in between spaces\n",
    "'\\S'  -> list of individual words\n",
    "'\\w'  -> list of individual words\n",
    "'\\w+'  -> list of individual words\n",
    "'[a-z]'  -> list of individual words\n",
    "'[a-z]+'  -> list of individual words\n",
    "\n",
    "|  -> OR\n",
    "() -> Group\n",
    "[] -> Range\n"
   ]
  },
  {
   "cell_type": "code",
   "execution_count": 50,
   "metadata": {},
   "outputs": [
    {
     "name": "stdout",
     "output_type": "stream",
     "text": [
      "Start\n",
      "\n",
      "\n",
      "End\n",
      "Start\n",
      "\\n\n",
      "End\n",
      "Start\n",
      "\\s\n",
      "End\n",
      "Start\n",
      "\\s\n",
      "End\n",
      "Start\n",
      "\u000b",
      "\n",
      "End\n",
      "Start\n",
      "\\v\n",
      "End\n"
     ]
    }
   ],
   "source": [
    "# r R Importance\n",
    "print('Start')\n",
    "print('\\n')\n",
    "print('End')\n",
    "\n",
    "print('Start')\n",
    "print(r'\\n')\n",
    "print('End')\n",
    "\n",
    "print('Start')\n",
    "print('\\s')\n",
    "print('End')\n",
    "\n",
    "print('Start')\n",
    "print(r'\\s')\n",
    "print('End')\n",
    "\n",
    "print('Start')\n",
    "print('\\v')\n",
    "print('End')\n",
    "\n",
    "print('Start')\n",
    "print(r'\\v')\n",
    "print('End')\n"
   ]
  },
  {
   "cell_type": "code",
   "execution_count": 76,
   "metadata": {},
   "outputs": [
    {
     "name": "stdout",
     "output_type": "stream",
     "text": [
      "Match\n",
      "<_sre.SRE_Match object; span=(0, 3), match='abc'>\n",
      "<_sre.SRE_Match object; span=(0, 3), match='Let'>\n",
      "Search\n",
      "<_sre.SRE_Match object; span=(4, 6), match='ef'>\n",
      "Findall\n",
      "['Let', 'RegEx', 'Won', 'Can', 'Or']\n",
      "split\n",
      "[\"Let's\", 'write', 'RegEx!', \"Won't\", 'that', 'be', 'fun?', 'I', 'sure', 'think', 'so.', 'Can', 'you', 'find', '4', 'sentences?', 'Or', 'perhaps,', 'all', '19', 'words?']\n",
      "REGEXP_tokenizer\n",
      "['Let', 's', 'write', 'RegEx', 'Won', 't', 'that', 'be', 'fun', 'I', 'sure', 'think', 'so', 'Can', 'you', 'find', '4', 'sentences', 'Or', 'perhaps', 'all', '19', 'words']\n",
      "TweetTokenizer\n",
      "[\"Let's\", 'write', 'RegEx', '!', \"Won't\", 'that', 'be', 'fun', '?', 'I', 'sure', 'think', 'so', '.', 'Can', 'you', 'find', '4', 'sentences', '?', 'Or', 'perhaps', ',', 'all', '19', 'words', '?']\n",
      "\n",
      "Word_tokenize\n",
      "['Let', \"'s\", 'write', 'RegEx', '!', 'Wo', \"n't\", 'that', 'be', 'fun', '?', 'I', 'sure', 'think', 'so', '.', 'Can', 'you', 'find', '4', 'sentences', '?', 'Or', 'perhaps', ',', 'all', '19', 'words', '?']\n",
      "\n",
      "sent_tokenize\n",
      "[\"Let's write RegEx!\", \"Won't that be fun?\", 'I sure think so.', 'Can you find 4 sentences?', 'Or perhaps, all 19 words?']\n"
     ]
    }
   ],
   "source": [
    "#1\n",
    "import re\n",
    "my_string=\"Let's write RegEx!  Won't that be fun?  I sure think so.  Can you find 4 sentences?  Or perhaps, all 19 words?\"\n",
    "\n",
    "#1.1 match    #Match entire or starting   (one match only)\n",
    "print(\"Match\")\n",
    "print(re.match('abc','abcdefghijklmnabcdefgh hi abcthere'))\n",
    "print(re.match('\\w+',my_string))\n",
    "\n",
    "#1.2 Search   #Match in Between  (one match only)  // show first occurance\n",
    "print(\"Search\")\n",
    "print(re.search('ef','abcdefghijklmnabcdefgh hi abcdethere'))\n",
    "\n",
    "\n",
    "#1.3 findall\n",
    "print(\"Findall\")\n",
    "print(re.findall(\"[A-Z]\\w+\",my_string))\n",
    "\n",
    "#1.4 split  As per delimiter\n",
    "print(\"split\")\n",
    "print(re.split(\"\\s+\",my_string))\n",
    "\n",
    "\n",
    "#1.5  regexp_tokenize    search for every line/word  (Multi match only)\n",
    "from nltk.tokenize import regexp_tokenize\n",
    "print(\"REGEXP_tokenizer\")\n",
    "a=regexp_tokenize(my_string,r\"\\w+\") # 2 inputs  (string,regex)\n",
    "print(a)\n",
    "\n",
    "#1.7   TweetTokenizer    smart tokenizer(saperator) Lib function\n",
    "from nltk.tokenize import TweetTokenizer\n",
    "tknzr = TweetTokenizer()\n",
    "a=tknzr.tokenize(my_string)\n",
    "print(\"TweetTokenizer\")\n",
    "print(a)\n",
    "\n",
    "#1.8  word_tokenize\n",
    "from nltk.tokenize import word_tokenize\n",
    "a=word_tokenize(my_string)\n",
    "print()\n",
    "print(\"Word_tokenize\")\n",
    "print(a)\n",
    "\n",
    "#1.9 sentence_tokenize\n",
    "from nltk.tokenize import sent_tokenize\n",
    "sentences = sent_tokenize(my_string)\n",
    "print()\n",
    "print(\"sent_tokenize\")\n",
    "print(sentences)\n",
    "\n"
   ]
  },
  {
   "cell_type": "code",
   "execution_count": 72,
   "metadata": {},
   "outputs": [
    {
     "name": "stdout",
     "output_type": "stream",
     "text": [
      "\n",
      "sent_tokenize\n",
      "['SCENE 1: [wind] [clop clop clop] \\nKING ARTHUR: Whoa there!', '[clop clop clop] \\nSOLDIER #1: Halt!', 'Who goes there?', 'ARTHUR: It is I, Arthur, son of Uther Pendragon, from the castle of Camelot.', 'King of the Britons, defeator of the Saxons, sovereign of all England!', 'SOLDIER #1: Pull the other one!', 'ARTHUR: I am, ...  and this is my trusty servant Patsy.', 'We have ridden the length and breadth of the land in search of knights who will join me in my court at Camelot.', 'I must speak with your lord and master.', 'SOLDIER #1: What?', 'Ridden on a horse?', 'ARTHUR: Yes!', \"SOLDIER #1: You're using coconuts!\", 'ARTHUR: What?', \"SOLDIER #1: You've got two empty halves of coconut and you're bangin' 'em together.\", 'ARTHUR: So?', \"We have ridden since the snows of winter covered this land, through the kingdom of Mercea, through--\\nSOLDIER #1: Where'd you get the coconuts?\", 'ARTHUR: We found them.', 'SOLDIER #1: Found them?', 'In Mercea?', \"The coconut's tropical!\", 'ARTHUR: What do you mean?', 'SOLDIER #1: Well, this is a temperate zone.', 'ARTHUR: The swallow may fly south with the sun or the house martin or the plover may seek warmer climes in winter, yet these are not strangers to our land?', 'SOLDIER #1: Are you suggesting coconuts migrate?', 'ARTHUR: Not at all.', 'They could be carried.', 'SOLDIER #1: What?', 'A swallow carrying a coconut?', 'ARTHUR: It could grip it by the husk!', \"SOLDIER #1: It's not a question of where he grips it!\", \"It's a simple question of weight ratios!\", 'A five ounce bird could not carry a one pound coconut.', \"ARTHUR: Well, it doesn't matter.\", 'Will you go and tell your master that Arthur from the Court of Camelot is here.', 'SOLDIER #1: Listen.', 'In order to maintain air-speed velocity, a swallow needs to beat its wings forty-three times every second, right?', 'ARTHUR: Please!', 'SOLDIER #1: Am I right?', \"ARTHUR: I'm not interested!\", 'SOLDIER #2: It could be carried by an African swallow!', 'SOLDIER #1: Oh, yeah, an African swallow maybe, but not a European swallow.', \"That's my point.\", 'SOLDIER #2: Oh, yeah, I agree with that.', 'ARTHUR: Will you ask your master if he wants to join my court at Camelot?!', 'SOLDIER #1: But then of course a-- African swallows are non-migratory.', 'SOLDIER #2: Oh, yeah...', \"SOLDIER #1: So they couldn't bring a coconut back anyway...  [clop clop clop] \\nSOLDIER #2: Wait a minute!\", 'Supposing two swallows carried it together?', \"SOLDIER #1: No, they'd have to have it on a line.\", 'SOLDIER #2: Well, simple!', \"They'd just use a strand of creeper!\", 'SOLDIER #1: What, held under the dorsal guiding feathers?', 'SOLDIER #2: Well, why not?']\n",
      "\n",
      "word_tokenize\n",
      "['King', 'of', 'the', 'Britons', ',', 'defeator', 'of', 'the', 'Saxons', ',', 'sovereign', 'of', 'all', 'England', '!']\n",
      "\n",
      "sent_tokenize and set\n",
      "{'these', 'suggesting', 'our', 'together', 'in', 'get', 'bring', 'Uther', 'mean', 'held', 'Yes', '2', 'by', 'join', '!', 'pound', 'ask', 'African', 'yeah', 'ridden', 'a', 'zone', 'European', 'wants', ':', 'be', 'this', 'using', 'strangers', 'Found', 'They', \"'ve\", ',', 'guiding', 'speak', 'found', 'if', 'breadth', 'The', 'ounce', 'me', 'court', 'defeator', 'carrying', 'castle', \"n't\", 'son', 'from', 'Will', 'Patsy', 'But', 'KING', 'master', 'at', 'ARTHUR', 'coconuts', 'there', 'Arthur', 'go', 'Saxons', '1', 'What', 'they', 'carry', 'servant', 'fly', 'here', 'Listen', 'Not', 'trusty', 'A', 'carried', 'Oh', 'land', 'plover', '...', 'ratios', 'bird', 'it', 'grips', 'or', 'other', 'then', 'must', 'migrate', 'that', 'seek', \"'m\", 'my', 'sovereign', 'anyway', 'lord', 'just', 'course', 'does', 'non-migratory', 'goes', \"'re\", \"'\", 'agree', 'That', 'swallows', 'wind', 'Who', 'but', \"'em\", 'do', \"'s\", 'Mercea', 'times', 'tropical', 'five', 'Well', 'Am', 'wings', 'length', 'right', 'is', 'coconut', 'maintain', 'martin', 'Wait', 'Ridden', 'sun', 'where', 'Britons', 'empty', 'to', '#', 'use', 'needs', 'interested', 'am', 'search', 'on', 'velocity', 'may', 'weight', 'the', 'Pull', 'clop', 'matter', 'feathers', 'grip', 'who', 'swallow', 'of', 'England', 'back', 'yet', 'will', 'not', 'through', 'Supposing', 'have', 'every', 'Whoa', 'temperate', 'Please', 'air-speed', 'all', 'Court', 'you', 'dorsal', 'knights', 'winter', 'its', 'covered', 'husk', 'SOLDIER', 'King', 'second', 'Pendragon', 'Where', 'question', 'strand', \"'d\", 'your', 'Are', 'warmer', 'creeper', 'why', '.', 'south', 'It', 'two', 'So', '?', 'one', 'house', 'bangin', 'got', 'an', 'I', 'since', 'and', 'could', 'climes', '--', 'line', ']', 'order', 'he', 'No', 'halves', 'them', 'horse', 'Camelot', 'beat', 'snows', 'maybe', 'simple', 'forty-three', 'tell', 'with', 'are', 'In', 'under', 'minute', 'point', 'We', '[', 'You', 'Halt', 'kingdom', 'SCENE'}\n"
     ]
    }
   ],
   "source": [
    "#2 Tokenization\n",
    "from nltk.tokenize import sent_tokenize\n",
    "from nltk.tokenize import word_tokenize\n",
    "#import nltk\n",
    "#nltk.download('punkt')\n",
    "\n",
    "\n",
    "scene=\"SCENE 1: [wind] [clop clop clop] \\nKING ARTHUR: Whoa there!  [clop clop clop] \\nSOLDIER #1: Halt!  Who goes there?\\nARTHUR: It is I, Arthur, son of Uther Pendragon, from the castle of Camelot.  King of the Britons, defeator of the Saxons, sovereign of all England!\\nSOLDIER #1: Pull the other one!\\nARTHUR: I am, ...  and this is my trusty servant Patsy.  We have ridden the length and breadth of the land in search of knights who will join me in my court at Camelot.  I must speak with your lord and master.\\nSOLDIER #1: What?  Ridden on a horse?\\nARTHUR: Yes!\\nSOLDIER #1: You're using coconuts!\\nARTHUR: What?\\nSOLDIER #1: You've got two empty halves of coconut and you're bangin' 'em together.\\nARTHUR: So?  We have ridden since the snows of winter covered this land, through the kingdom of Mercea, through--\\nSOLDIER #1: Where'd you get the coconuts?\\nARTHUR: We found them.\\nSOLDIER #1: Found them?  In Mercea?  The coconut's tropical!\\nARTHUR: What do you mean?\\nSOLDIER #1: Well, this is a temperate zone.\\nARTHUR: The swallow may fly south with the sun or the house martin or the plover may seek warmer climes in winter, yet these are not strangers to our land?\\nSOLDIER #1: Are you suggesting coconuts migrate?\\nARTHUR: Not at all.  They could be carried.\\nSOLDIER #1: What?  A swallow carrying a coconut?\\nARTHUR: It could grip it by the husk!\\nSOLDIER #1: It's not a question of where he grips it!  It's a simple question of weight ratios!  A five ounce bird could not carry a one pound coconut.\\nARTHUR: Well, it doesn't matter.  Will you go and tell your master that Arthur from the Court of Camelot is here.\\nSOLDIER #1: Listen.  In order to maintain air-speed velocity, a swallow needs to beat its wings forty-three times every second, right?\\nARTHUR: Please!\\nSOLDIER #1: Am I right?\\nARTHUR: I'm not interested!\\nSOLDIER #2: It could be carried by an African swallow!\\nSOLDIER #1: Oh, yeah, an African swallow maybe, but not a European swallow.  That's my point.\\nSOLDIER #2: Oh, yeah, I agree with that.\\nARTHUR: Will you ask your master if he wants to join my court at Camelot?!\\nSOLDIER #1: But then of course a-- African swallows are non-migratory.\\nSOLDIER #2: Oh, yeah...\\nSOLDIER #1: So they couldn't bring a coconut back anyway...  [clop clop clop] \\nSOLDIER #2: Wait a minute!  Supposing two swallows carried it together?\\nSOLDIER #1: No, they'd have to have it on a line.\\nSOLDIER #2: Well, simple!  They'd just use a strand of creeper!\\nSOLDIER #1: What, held under the dorsal guiding feathers?\\nSOLDIER #2: Well, why not?\\n\"\n",
    "#2.1  # sentence_tokenize\n",
    "sentences = sent_tokenize(scene)\n",
    "print()\n",
    "print(\"sent_tokenize\")\n",
    "print(sentences)\n",
    "\n",
    "#2.21  # sentence_tokenize\n",
    "unique_tokens = word_tokenize(sentences[4])\n",
    "print()\n",
    "print(\"word_tokenize\")\n",
    "print(unique_tokens)\n",
    "\n",
    "#2.22    Set and word_tokenize\n",
    "unique_tokens = set(word_tokenize(scene))  #set No duplicates\n",
    "print()\n",
    "print(\"word_tokenize and set\")\n",
    "print(unique_tokens)\n"
   ]
  },
  {
   "cell_type": "code",
   "execution_count": 77,
   "metadata": {},
   "outputs": [
    {
     "name": "stdout",
     "output_type": "stream",
     "text": [
      "<_sre.SRE_Match object; span=(0, 5), match='match'>\n",
      "<_sre.SRE_Match object; span=(0, 35), match='match lowercase spaces nums like 12'>\n",
      "<_sre.SRE_Match object; span=(0, 50), match='match lowercase spaces nums like 12, but no comma>\n"
     ]
    }
   ],
   "source": [
    "#3  Advance Tokenization \n",
    "import re\n",
    "my_str='match lowercase spaces nums like 12, but no commas'\n",
    "print(re.match(r'[a-z0-9]+',my_str))\n",
    "print(re.match(r'[a-z0-9 ]+',my_str)) # Include space\n",
    "print(re.match(r'[a-z0-9 ,]+',my_str))# Include space and comma\n"
   ]
  },
  {
   "cell_type": "code",
   "execution_count": 78,
   "metadata": {},
   "outputs": [
    {
     "name": "stdout",
     "output_type": "stream",
     "text": [
      "['#nlp', '#python']\n",
      "['@datacamp', '#nlp', '#python']\n",
      "[['This', 'is', 'the', 'best', '#nlp', 'exercise', 'ive', 'found', 'online', '!', '#python'], ['#NLP', 'is', 'super', 'fun', '!', '<3', '#learning'], ['Thanks', '@datacamp', ':)', '#nlp', '#python']]\n"
     ]
    }
   ],
   "source": [
    "#4\n",
    "from nltk.tokenize import regexp_tokenize,  TweetTokenizer\n",
    "\n",
    "#4.1\n",
    "Tweets=['This is the best #nlp exercise ive found online! #python',\n",
    "        '#NLP is super fun! <3 #learning',\n",
    "        'Thanks @datacamp :) #nlp #python']\n",
    "pattern1 = r\"#\\w+\"\n",
    "a=regexp_tokenize(Tweets[0],pattern1)\n",
    "print(a)\n",
    "\n",
    "pattern2 = r\"([@|#]\\w+)\"  #[@|#] [@#]\n",
    "a=regexp_tokenize(Tweets[-1],pattern2) # Last list \n",
    "print(a)\n",
    "\n",
    "\n",
    "tknzr=TweetTokenizer()\n",
    "all_tokens = [tknzr.tokenize(t) for t in Tweets]\n",
    "print(all_tokens)\n",
    "\n"
   ]
  },
  {
   "cell_type": "code",
   "execution_count": 82,
   "metadata": {},
   "outputs": [
    {
     "name": "stdout",
     "output_type": "stream",
     "text": [
      "['🍕', '🚕']\n"
     ]
    }
   ],
   "source": [
    "#5   imoje  tokenize a\n",
    "text='Wann gehen wir zum Pizza? 🍕 Und fährst du mit Über? 🚕'\n",
    "emoji = \"['\\U0001F300-\\U0001F5FF'|'\\U0001F600-\\U0001F64F'|'\\U0001F680-\\U0001F6FF'|'\\u2600-\\u26FF\\u2700-\\u27BF']\" #unicode\n",
    "a=regexp_tokenize(text, emoji)\n",
    "print(a)\n"
   ]
  },
  {
   "cell_type": "code",
   "execution_count": 95,
   "metadata": {},
   "outputs": [
    {
     "name": "stdout",
     "output_type": "stream",
     "text": [
      "['this', 'is', 'a', 'pretty', 'cool', 'tool', '!'] \n",
      " [4, 2, 1, 6, 4, 4, 1]\n"
     ]
    },
    {
     "data": {
      "image/png": "[encoded data removed]",
      "text/plain": [
       "<matplotlib.figure.Figure at 0xb9c0940>"
      ]
     },
     "metadata": {},
     "output_type": "display_data"
    }
   ],
   "source": [
    "#6\n",
    "from matplotlib import pyplot as plt\n",
    "from nltk.tokenize import word_tokenize\n",
    "\n",
    "words=word_tokenize(\"this is a pretty cool tool!\")\n",
    "\n",
    "word_lengths =[len(w) for w in words]\n",
    "print(words,\"\\n\",word_lengths)\n",
    "plt.hist(word_lengths)\n",
    "plt.xlabel(\"Words Length\")\n",
    "plt.ylabel(\"Number of Times occur\")\n",
    "plt.show()"
   ]
  },
  {
   "cell_type": "code",
   "execution_count": 99,
   "metadata": {},
   "outputs": [
    {
     "name": "stdout",
     "output_type": "stream",
     "text": [
      "SOLDIER #1: You've got two empty halves of coconut and you're bangin' 'em together.\n",
      " You've got two empty halves of coconut and you're bangin' 'em together.\n"
     ]
    },
    {
     "data": {
      "image/png": "[encoded data removed]",
      "text/plain": [
       "<matplotlib.figure.Figure at 0xb8a3550>"
      ]
     },
     "metadata": {},
     "output_type": "display_data"
    }
   ],
   "source": [
    "#7\n",
    "from matplotlib import pyplot as plt\n",
    "holy_grail=\"SCENE 1: [wind] [clop clop clop] \\nKING ARTHUR: Whoa there!  [clop clop clop] \\nSOLDIER #1: Halt!  Who goes there?\\nARTHUR: It is I, Arthur, son of Uther Pendragon, from the castle of Camelot.  King of the Britons, defeator of the Saxons, sovereign of all England!\\nSOLDIER #1: Pull the other one!\\nARTHUR: I am, ...  and this is my trusty servant Patsy.  We have ridden the length and breadth of the land in search of knights who will join me in my court at Camelot.  I must speak with your lord and master.\\nSOLDIER #1: What?  Ridden on a horse?\\nARTHUR: Yes!\\nSOLDIER #1: You're using coconuts!\\nARTHUR: What?\\nSOLDIER #1: You've got two empty halves of coconut and you're bangin' 'em together.\\nARTHUR: So?  We have ridden since the snows of winter covered this land, through the kingdom of Mercea, through--\\nSOLDIER #1: Where'd you get the coconuts?\\nARTHUR: We found them.\\nSOLDIER #1: Found them?  In Mercea?  The coconut's tropical!\\nARTHUR: What do you mean?\\nSOLDIER #1: Well, this is a temperate zone.\\nARTHUR: The swallow may fly south with the sun or the house martin or the plover may seek warmer climes in winter, yet these are not strangers to our land?\\nSOLDIER #1: Are you suggesting coconuts migrate?\\nARTHUR: Not at all.  They could be carried.\\nSOLDIER #1: What?  A swallow carrying a coconut?\\nARTHUR: It could grip it by the husk!\\nSOLDIER #1: It's not a question of where he grips it!  It's a simple question of weight ratios!  A five ounce bird could not carry a one pound coconut.\\nARTHUR: Well, it doesn't matter.  Will you go and tell your master that Arthur from the Court of Camelot is here.\\nSOLDIER #1: Listen.  In order to maintain air-speed velocity, a swallow needs to beat its wings forty-three times every second, right?\\nARTHUR: Please!\\nSOLDIER #1: Am I right?\\nARTHUR: I'm not interested!\\nSOLDIER #2: It could be carried by an African swallow!\\nSOLDIER #1: Oh, yeah, an African swallow maybe, but not a European swallow.  That's my point.\\nSOLDIER #2: Oh, yeah, I agree with that.\\nARTHUR: Will you ask your master if he wants to join my court at Camelot?!\\nSOLDIER #1: But then of course a-- African swallows are non-migratory.\\nSOLDIER #2: Oh, yeah...\\nSOLDIER #1: So they couldn't bring a coconut back anyway...  [clop clop clop] \\nSOLDIER #2: Wait a minute!  Supposing two swallows carried it together?\\nSOLDIER #1: No, they'd have to have it on a line.\\nSOLDIER #2: Well, simple!  They'd just use a strand of creeper!\\nSOLDIER #1: What, held under the dorsal guiding feathers?\\nSOLDIER #2: Well, why not?\\nSCENE 2: [thud] [clang] \\nCART-MASTER: Bring out your dead!  [clang] Bring out your dead!  [clang] Bring out your dead!  [clang] Bring out your dead!  [clang] Bring out your dead!  [cough cough...] [clang] [... cough cough] Bring out your dead!  [clang] Bring out your dead!  [clang] Bring out your dead!  Ninepence.  [clang] Bring out your dead!  [clang] Bring out your dead!  [clang] Bring out...  [rewr!] ... your dead!  [rewr!] [clang] Bring out your dead!\\nCUSTOMER: Here's one.\\nCART-MASTER: Ninepence.\\nDEAD PERSON: I'm not dead!\\nCART-MASTER: What?\\nCUSTOMER: Nothing.  Here's your ninepence.\\nDEAD PERSON: I'm not dead!\\nCART-MASTER: 'Ere.  He says he's not dead!\\nCUSTOMER: Yes he is.\\nDEAD PERSON: I'm not!\\nCART-MASTER: He isn't?\\nCUSTOMER: Well, he will be soon.  He's very ill.\\nDEAD PERSON: I'm getting better!  \\nCUSTOMER: No you're not.  You'll be stone dead in a moment.\\nCART-MASTER: Oh, I can't take him like that.  It's against regulations.\\nDEAD PERSON: I don't want to go on the cart!\\nCUSTOMER: Oh, don't be such a baby.\\nCART-MASTER: I can't take him.\\nDEAD PERSON: I feel fine!\\nCUSTOMER: Well, do us a favor.\\nCART-MASTER: I can't.\\nCUSTOMER: Well, can you hang around a couple of minutes?  He won't be long.\\nCART-MASTER: No, I've got to go to the Robinson's.  They've lost nine today.\\nCUSTOMER: Well, when's your next round?\\nCART-MASTER: Thursday.\\nDEAD PERSON: I think I'll go for a walk.\\nCUSTOMER: You're not fooling anyone you know.  Look, isn't there something you can do?\\nDEAD PERSON: [singing] I feel happy...  I feel happy.  [whop] \\nCUSTOMER: Ah, thanks very much.\\nCART-MASTER: Not at all.  See you on Thursday.\\nCUSTOMER: Right.  All right.  [howl] [clop clop clop] Who's that then?\\nCART-MASTER: I dunno.  Must be a king.\\nCUSTOMER: Why?\\nCART-MASTER: He hasn't got shit all over him.\\nSCENE 3: [thud] [King Arthur music] [thud thud thud] [King Arthur music stops] \\nARTHUR: Old woman!\\nDENNIS: Man!\\nARTHUR: Man.  Sorry.  What knight live in that castle over there?\\nDENNIS: I'm thirty-seven.\\nARTHUR: I-- what?\\nDENNIS: I'm thirty-seven.  I'm not old.\\nARTHUR: Well, I can't just call you 'Man'.\\nDENNIS: Well, you could say 'Dennis'.\\nARTHUR: Well, I didn't know you were called 'Dennis'.\\nDENNIS: Well, you didn't bother to find out, did you?\\nARTHUR: I did say 'sorry' about the 'old woman', but from the behind you looked--\\nDENNIS: What I object to is that you automatically treat me like an inferior!\\nARTHUR: Well, I am king!\\nDENNIS: Oh king, eh, very nice.  And how d'you get that, eh?  By exploiting the workers!  By 'anging on to outdated imperialist dogma which perpetuates the economic and social differences in our society.  If there's ever going to be any progress with the--\\nWOMAN: Dennis, there's some lovely filth down here.  Oh!  How d'you do?\\nARTHUR: How do you do, good lady.  I am Arthur, King of the Britons.  Who's castle is that?\\nWOMAN: King of the who?\\nARTHUR: The Britons.\\nWOMAN: Who are the Britons?\\nARTHUR: Well, we all are.  We are all Britons, and I am your king.\\nWOMAN: I didn't know we had a king.  I thought we were an autonomous collective.\\nDENNIS: You're fooling yourself.  We're living in a dictatorship.  A self-perpetuating autocracy in which the working classes--\\nWOMAN: Oh, there you go, bringing class into it again.\\nDENNIS: That's what it's all about.  If only people would hear of--\\nARTHUR: Please, please good people.  I am in haste.  Who lives in that castle?\\nWOMAN: No one live there.\\nARTHUR: Then who is your lord?\\nWOMAN: We don't have a lord.\\nARTHUR: What?\\nDENNIS: I told you.  We're an anarcho-syndicalist commune.  We take it in turns to act as a sort of executive officer for the week.\\nARTHUR: Yes.\\nDENNIS: But all the decision of that officer have to be ratified at a special bi-weekly meeting--\\nARTHUR: Yes, I see.\\nDENNIS: By a simple majority in the case of purely internal affairs,--\\nARTHUR: Be quiet!\\nDENNIS: But by a two-thirds majority in the case of more major--\\nARTHUR: Be quiet!  I order you to be quiet!\\nWOMAN: Order, eh?  Who does he think he is?  Heh.\\nARTHUR: I am your king!\\nWOMAN: Well, I didn't vote for you.\\nARTHUR: You don't vote for kings.\\nWOMAN: Well, how did you become king then?\\nARTHUR: The Lady of the Lake, ... [angels sing] ... her arm clad in the purest shimmering samite, held aloft Excalibur from the bosom of the water signifying by Divine Providence that I, Arthur, was to carry Excalibur. [singing stops] That is why I am your king!\\nDENNIS: Listen, strange women lying in ponds distributing swords is no basis for a system of government.  Supreme executive power derives from a mandate from the masses, not from some farcical aquatic ceremony.\\nARTHUR: Be quiet!\\nDENNIS: Well, but you can't expect to wield supreme executive power just 'cause some watery tart threw a sword at you!\\nARTHUR: Shut up!\\nDENNIS: I mean, if I went 'round saying I was an emperor just because some moistened bint had lobbed a scimitar at me, they'd put me away!\\nARTHUR: Shut up, will you.  Shut up!\\nDENNIS: Ah, now we see the violence inherent in the system.\\nARTHUR: Shut up!\\nDENNIS: Oh!  Come and see the violence inherent in the system!  Help, help!  I'm being repressed!\\nARTHUR: Bloody peasant!\\nDENNIS: Oh, what a give-away.  Did you hear that?  Did you hear that, eh?  That's what I'm on about.  Did you see him repressing me?  You saw it, didn't you\\nSCENE 4: [King Arthur music] [music sto\"\n",
    "# Split the script into lines: lines\n",
    "lines = holy_grail.split('\\n')\n",
    "print(lines[10])\n",
    "# Replace all script lines for speaker\n",
    "pattern = \"[A-Z]{2,}(\\s)?(#\\d)?([A-Z]{2,})?:\"\n",
    "lines = [re.sub(pattern, '', l) for l in lines]\n",
    "print(lines[10])\n",
    "# Tokenize each line: tokenized_lines\n",
    "tokenized_lines = [regexp_tokenize(s,'\\w+') for s in lines]\n",
    "\n",
    "# Make a frequency list of lengths: line_num_words\n",
    "line_num_words = [len(t_line) for t_line in tokenized_lines]\n",
    "\n",
    "# Plot a histogram of the line lengths\n",
    "plt.hist(line_num_words)\n",
    "\n",
    "# Show the plot\n",
    "plt.show()\n"
   ]
  },
  {
   "cell_type": "code",
   "execution_count": null,
   "metadata": {
    "collapsed": true
   },
   "outputs": [],
   "source": []
  }
 ],
 "metadata": {
  "kernelspec": {
   "display_name": "Python 3",
   "language": "python",
   "name": "python3"
  },
  "language_info": {
   "codemirror_mode": {
    "name": "ipython",
    "version": 3
   },
   "file_extension": ".py",
   "mimetype": "text/x-python",
   "name": "python",
   "nbconvert_exporter": "python",
   "pygments_lexer": "ipython3",
   "version": "3.6.3"
  }
 },
 "nbformat": 4,
 "nbformat_minor": 2
}
