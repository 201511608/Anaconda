{
 "cells": [
  {
   "cell_type": "code",
   "execution_count": null,
   "metadata": {},
   "outputs": [],
   "source": [
    "# :: 4 \n",
    "##################################################################################################################\n",
    "#####################################################################################\n",
    "# Supervised Class\n",
    "    # :: 1   \n",
    "    # :: 2   \n",
    "\n",
    "\n",
    "class Supervised:\n",
    "    \n",
    "    def __init__( self):\n",
    "        print(\"Supervised Instance Begin\") \n",
    "        \n",
    "    def __del__(self):\n",
    "        print(\"Supervised Instance Destroyed\")\n",
    "    \n",
    "    def check():\n",
    "        print(\"In Supervised class\")\n",
    "    \n",
    "    # My Supervised Learning Functions\n",
    "    "
   ]
  }
 ],
 "metadata": {
  "kernelspec": {
   "display_name": "Python 3",
   "language": "python",
   "name": "python3"
  },
  "language_info": {
   "codemirror_mode": {
    "name": "ipython",
    "version": 3
   },
   "file_extension": ".py",
   "mimetype": "text/x-python",
   "name": "python",
   "nbconvert_exporter": "python",
   "pygments_lexer": "ipython3",
   "version": "3.6.1"
  }
 },
 "nbformat": 4,
 "nbformat_minor": 2
}
