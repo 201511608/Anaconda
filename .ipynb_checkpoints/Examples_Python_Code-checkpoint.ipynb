{
 "cells": [
  {
   "cell_type": "code",
   "execution_count": null,
   "metadata": {
    "collapsed": true
   },
   "outputs": [],
   "source": [
    "#1\n",
    "#class\n",
    "class Point:\n",
    "    \n",
    "    def __init__( self, x=0, y=0):\n",
    "        self.x = x\n",
    "        print(\"begin\")\n",
    "        self.y = y\n",
    "    def __del__(self):\n",
    "        class_name = self.__class__.__name__\n",
    "       # print ( \"destroyed\",class_name)\n",
    "        print(\"destroyed\")\n",
    "    def display(self,a):\n",
    "        print(\"in point class funcion\")\n",
    "\n",
    "pt1 = Point()\n",
    "pt2 = pt1\n",
    "pt3 = pt1\n",
    "print (id(pt1), id(pt2), id(pt3)) # prints the ids of the obejcts\n",
    "pt1.display(1)\n",
    "del pt1\n",
    "del pt2\n",
    "del pt3\n"
   ]
  },
  {
   "cell_type": "code",
   "execution_count": 16,
   "metadata": {},
   "outputs": [
    {
     "name": "stdout",
     "output_type": "stream",
     "text": [
      "After local assignment: test spam\n",
      "After nonlocal assignment: nonlocal spam\n",
      "After global assignment: nonlocal spam\n",
      "In global scope: global spam\n"
     ]
    }
   ],
   "source": [
    "#2\n",
    "#Local global and non local\n",
    "def scope_test():\n",
    "    def do_local():\n",
    "        spam = \"local spam\"\n",
    "\n",
    "    def do_nonlocal():\n",
    "        nonlocal spam\n",
    "        spam = \"nonlocal spam\"\n",
    "\n",
    "    def do_global():\n",
    "        global spam\n",
    "        spam = \"global spam\"\n",
    "\n",
    "    spam = \"test spam\"\n",
    "    do_local()\n",
    "    print(\"After local assignment:\", spam)\n",
    "    do_nonlocal()\n",
    "    print(\"After nonlocal assignment:\", spam)\n",
    "    do_global()\n",
    "    print(\"After global assignment:\", spam)\n",
    "\n",
    "    \n",
    "scope_test()\n",
    "print(\"In global scope:\", spam)"
   ]
  },
  {
   "cell_type": "code",
   "execution_count": 17,
   "metadata": {},
   "outputs": [],
   "source": [
    "#3\n",
    "#Saving and loading data to file\n",
    "import numpy as np\n",
    "# Save np in file\n",
    "sm_data=[1,2,3,6,5]\n",
    "np.savetxt('test_data.txt',  sm_data, fmt='%f')\n",
    "\n",
    "#load np in variable from file\n",
    "a=np.loadtxt('test_data.txt')   # np.loadtxt('test1.txt', dtype=int)\n"
   ]
  },
  {
   "cell_type": "code",
   "execution_count": 15,
   "metadata": {},
   "outputs": [
    {
     "data": {
      "image/png": "[encoded data removed]",
      "text/plain": [
       "<matplotlib.figure.Figure at 0x9df5780>"
      ]
     },
     "metadata": {},
     "output_type": "display_data"
    }
   ],
   "source": [
    "#4\n",
    "# Loop all at One time\n",
    "import matplotlib.pyplot as plt\n",
    "\n",
    "xs=[1,2,3,6,5]\n",
    "ys=[11,22,33,66,55]\n",
    "companies=[\"Afzal\",\"Masood\",\"Muzafar\",\"Mansoor\",\"Hero\"]\n",
    "\n",
    "plt.scatter(xs, ys, alpha=0.5)\n",
    "for x, y, company in zip(xs, ys , companies):\n",
    "    plt.annotate(company, (x, y), fontsize=10, alpha=0.75)\n",
    "plt.show()"
   ]
  },
  {
   "cell_type": "code",
   "execution_count": 24,
   "metadata": {},
   "outputs": [
    {
     "data": {
      "image/png": "[encoded data removed]",
      "text/plain": [
       "<matplotlib.figure.Figure at 0x83fac50>"
      ]
     },
     "metadata": {},
     "output_type": "display_data"
    }
   ],
   "source": [
    "#5\n",
    "# Circles  Plot\n",
    "import matplotlib.pyplot as plt\n",
    "x=[1,2]\n",
    "y=[1,2]\n",
    "#plt.plot(x,y)\n",
    "circle1=plt.Circle((00.5, 0.5), 0.2, color='b',alpha=.3)\n",
    "circle2=plt.Circle((0.6, 0.5), 0.2, color='r',alpha=.3)\n",
    "fig, ax = plt.subplots()\n",
    "ax.add_artist(circle1)\n",
    "ax.add_artist(circle2)\n",
    "plt.show()"
   ]
  },
  {
   "cell_type": "code",
   "execution_count": 25,
   "metadata": {},
   "outputs": [
    {
     "name": "stdout",
     "output_type": "stream",
     "text": [
      "{'key1': 'value1', 'key2': 'WHY?!'}\n",
      "{'key1': 'value1', 'key2': 'WHY?!'}\n",
      "\n",
      "{'key1': 'value1', 'key2': 'value2'}\n",
      "{'key1': 'value1', 'key2': 'WHY?!'}\n"
     ]
    }
   ],
   "source": [
    "#6\n",
    "# Reference\n",
    "dict1 = {\"key1\": \"value1\", \"key2\": \"value2\"}\n",
    "dict2 = dict1\n",
    "dict2[\"key2\"] = \"WHY?!\"\n",
    "print(dict1)\n",
    "print(dict2)\n",
    "\n",
    "\n",
    "# New Copy\n",
    "dict1 = {\"key1\": \"value1\", \"key2\": \"value2\"}\n",
    "dict2 = dict(dict1)\n",
    "dict2[\"key2\"] = \"WHY?!\"\n",
    "\n",
    "print()\n",
    "print(dict1)\n",
    "print(dict2)"
   ]
  },
  {
   "cell_type": "code",
   "execution_count": 26,
   "metadata": {},
   "outputs": [],
   "source": [
    "#7\n",
    "#Dict copy\n",
    "import numpy as np\n",
    "HLW={'Node11':np.array([2, -2]),\n",
    "     'Node12':np.array([4, -1]),\n",
    "     'Node21':np.array([0, 1]),\n",
    "     'Node22':np.array([2, 3]),\n",
    "     'Output':np.array([1,2])    }\n",
    "HLW_A1=dict(HLW)\n",
    "\n",
    "\n",
    "#\n",
    "import copy\n",
    "input_data = np.array([0.5, 1])  \n",
    "HLW={'Node11':np.array([2, -2]),\n",
    "     'Node12':np.array([4, -1]),\n",
    "     'Node21':np.array([0, 1]),\n",
    "     'Node22':np.array([2, 3]),\n",
    "     'Output':np.array([1,2])    }\n",
    "HLW_A1=copy.deepcopy(HLW)\n",
    "#Even for functions give    \n"
   ]
  },
  {
   "cell_type": "code",
   "execution_count": 22,
   "metadata": {},
   "outputs": [],
   "source": [
    "#Dict Pass by reference / Pass by value\n",
    "#8\n",
    "def fun(dictonary):\n",
    "    print (dictonary)\n",
    "fun(copy.deepcopy(HLW))  # if pass by value\n",
    "fun(HLW)                 # Pass by reference\n"
   ]
  },
  {
   "cell_type": "code",
   "execution_count": 8,
   "metadata": {},
   "outputs": [
    {
     "data": {
      "text/plain": [
       "array([[  2.  ,  34.  ,   0.  ,   0.  ,  13.  ,   1.  ,   0.  ,   0.  ,\n",
       "          0.  ,   1.  ],\n",
       "       [  2.  ,  31.  ,   1.  ,   1.  ,  26.25,   0.  ,   0.  ,   0.  ,\n",
       "          0.  ,   1.  ]])"
      ]
     },
     "execution_count": 8,
     "metadata": {},
     "output_type": "execute_result"
    }
   ],
   "source": [
    "#numpy arrasy Save Load\n",
    "#Temperory save \n",
    "#If restarted no file\n",
    "#9\n",
    "import numpy as np\n",
    "from tempfile import TemporaryFile\n",
    "outfile = TemporaryFile()\n",
    "\n",
    "pred_data=np.array([[2, 34.0, 0, 0, 13.0, 1, False, 0, 0, 1],\n",
    "       [2, 31.0, 1, 1, 26.25, 0, False, 0, 0, 1]])\n",
    "np.save(outfile, pred_data) # Save\n",
    "outfile.seek(0)\n",
    "np.load(outfile)            # Load"
   ]
  },
  {
   "cell_type": "code",
   "execution_count": 58,
   "metadata": {},
   "outputs": [],
   "source": [
    "#save Numpy -> Dataframe\n",
    "#10\n",
    "pred_data=np.array([[2, 34.0, 0, 0, 13.0, 1, False, 0, 0, 1],[2, 31.0, 1, 1, 26.25, 0, False, 0, 0, 1]])\n",
    "import pandas as pd \n",
    "df = pd.DataFrame(data=pred_data)\n",
    "df.to_csv('Titanic_pred_data.csv')"
   ]
  },
  {
   "cell_type": "code",
   "execution_count": null,
   "metadata": {},
   "outputs": [],
   "source": [
    "#save Numpy -> Save2CSV\n",
    "#11\n",
    "pred_data=np.array([[2, 34.0, 0, 0, 13.0, 1, False, 0, 0, 1],[2, 31.0, 1, 1, 26.25, 0, False, 0, 0, 1]])\n",
    "import pandas as pd \n",
    "df = pd.DataFrame(data=pred_data)\n",
    "df.to_csv('Delete.csv')"
   ]
  },
  {
   "cell_type": "code",
   "execution_count": 60,
   "metadata": {},
   "outputs": [],
   "source": [
    "#12 Import My functions\n",
    "import imp\n",
    "MyF = imp.load_source('module.name', 'My_Functions')  #My_Functions = FIlelocation/filename\n"
   ]
  },
  {
   "cell_type": "code",
   "execution_count": 50,
   "metadata": {},
   "outputs": [],
   "source": []
  },
  {
   "cell_type": "code",
   "execution_count": null,
   "metadata": {},
   "outputs": [],
   "source": []
  }
 ],
 "metadata": {
  "kernelspec": {
   "display_name": "Python 3",
   "language": "python",
   "name": "python3"
  },
  "language_info": {
   "codemirror_mode": {
    "name": "ipython",
    "version": 3
   },
   "file_extension": ".py",
   "mimetype": "text/x-python",
   "name": "python",
   "nbconvert_exporter": "python",
   "pygments_lexer": "ipython3",
   "version": "3.6.1"
  }
 },
 "nbformat": 4,
 "nbformat_minor": 2
}
