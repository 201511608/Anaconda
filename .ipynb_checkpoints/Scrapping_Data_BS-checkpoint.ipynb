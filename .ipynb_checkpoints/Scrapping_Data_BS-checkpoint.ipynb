{
 "cells": [
  {
   "cell_type": "code",
   "execution_count": 31,
   "metadata": {
    "scrolled": false
   },
   "outputs": [],
   "source": [
    "# CONTENT\n",
    "# 1 :: Techniques\n",
    "# 2 :: Crypto Data\n",
    "# 3 :: Kadapa Data\n",
    "# 4 ::\n",
    "# 5 ::\n",
    "# 6 ::"
   ]
  },
  {
   "cell_type": "code",
   "execution_count": null,
   "metadata": {},
   "outputs": [],
   "source": [
    "# 1\n",
    "# Techniques\n",
    "# https://www.crummy.com/software/BeautifulSoup/bs4/doc/\n",
    "\n",
    "soup.title\n",
    "soup.title.name\n",
    "soup.title.string\n",
    "\n",
    "soup.p.parent\n",
    "soup.p.parent.name\n",
    "\n",
    "soup.a\n",
    "soup.find_all('a')\n",
    "soup.find_all('a')[0].string\n",
    "\n",
    "soup.find(id=\"link3\")\n",
    "\n",
    "BeautifulSoup(data, 'html.parser')\n",
    "\n",
    "\n",
    "for link in soup.find_all('td'):\n",
    "    print (link.string)"
   ]
  },
  {
   "cell_type": "code",
   "execution_count": 26,
   "metadata": {},
   "outputs": [
    {
     "data": {
      "text/plain": [
       "'eGov  - Search Results '"
      ]
     },
     "execution_count": 26,
     "metadata": {},
     "output_type": "execute_result"
    }
   ],
   "source": [
    "# 2\n",
    "# CryptoCoin Data Scrapping\n",
    "from bs4 import BeautifulSoup\n",
    "\n",
    "import requests\n",
    "# url=\"https://coinmarketcap.com/\"\n",
    "url=\"https://coinmarketcap.com/currencies/bitcoin/#charts\"\n",
    "r  = requests.get(url)\n",
    "data = r.text\n",
    "print(type(data))\n",
    "soup = BeautifulSoup(data)\n",
    "for link in soup.find_all('a'):\n",
    "    print (link)\n",
    "    print (\" \")\n",
    "    print(link.get('href'))\n"
   ]
  },
  {
   "cell_type": "code",
   "execution_count": 3,
   "metadata": {},
   "outputs": [
    {
     "name": "stderr",
     "output_type": "stream",
     "text": [
      "F:\\Z_INSTALLED\\Anaconda\\lib\\site-packages\\bs4\\__init__.py:181: UserWarning: No parser was explicitly specified, so I'm using the best available HTML parser for this system (\"lxml\"). This usually isn't a problem, but if you run this code on another system, or in a different virtual environment, it may use a different parser and behave differently.\n",
      "\n",
      "The code that caused this warning is on line 193 of the file F:\\Z_INSTALLED\\Anaconda\\lib\\runpy.py. To get rid of this warning, change code that looks like this:\n",
      "\n",
      " BeautifulSoup(YOUR_MARKUP})\n",
      "\n",
      "to this:\n",
      "\n",
      " BeautifulSoup(YOUR_MARKUP, \"lxml\")\n",
      "\n",
      "  markup_type=markup_type))\n"
     ]
    }
   ],
   "source": [
    "# 3.1\n",
    "# Kadapa Data Scrapping\n",
    "\n",
    "# Kadapa Data \n",
    "# 1 to 4441\n",
    "\n",
    "# http://kadapa.emunicipal.ap.gov.in/ptis/citizen/search/search-srchByAssessmentAndOwnerDetail.action?page=4441#no-back-button\n",
    "# http://kadapa.emunicipal.ap.gov.in/ptis/citizen/search/search-srchByAssessmentAndOwnerDetail.action?page=1#no-back-button\n",
    "    \n",
    "    \n",
    "text_file = open(\"Kadapa_Data_2.txt\", \"a+\")\n",
    "\n",
    "from bs4 import BeautifulSoup\n",
    "import requests\n",
    "list_kadapa=[]\n",
    "for url_no in range(1,4441+1): #(1,4441+1)\n",
    "    url=\"http://kadapa.emunicipal.ap.gov.in/ptis/citizen/search/search-srchByAssessmentAndOwnerDetail.action?page=\"+str(url_no)+\"#no-back-button\"\n",
    "    r  = requests.get(url)\n",
    "    data = r.text\n",
    "    soup = BeautifulSoup(data)\n",
    "    page=\"\\nPage = \"+str(url_no)+\"\\n\"\n",
    "    text_file.write(page+str(soup.find_all('td')))\n",
    "\n",
    "text_file.close()\n",
    "      "
   ]
  },
  {
   "cell_type": "code",
   "execution_count": 1,
   "metadata": {},
   "outputs": [],
   "source": [
    "#3.2\n",
    "# Read file\n",
    "import re\n",
    "with open('Kadapa_Data.txt') as f:\n",
    "    lines = f.readlines()"
   ]
  },
  {
   "cell_type": "code",
   "execution_count": 30,
   "metadata": {},
   "outputs": [],
   "source": [
    "#3.3\n",
    "text_file = open(\"Kadapa_Data_2.txt\", \"w\")\n",
    "count=0\n",
    "for i in range(len(lines)):\n",
    "    soup=BeautifulSoup(lines[i], 'html.parser')\n",
    "    for link in soup.find_all('td'):\n",
    "        if (str(link.string).isspace()):\n",
    "            pass\n",
    "        else:\n",
    "            if count==13:\n",
    "                count=0\n",
    "                text_file.write(str(\"\\n\"))\n",
    "            text_file.write(str(link.string)+\", \")\n",
    "            count=count+1;\n",
    "text_file.close()"
   ]
  },
  {
   "cell_type": "code",
   "execution_count": 33,
   "metadata": {},
   "outputs": [],
   "source": [
    "#3.32 # Multiple Owoner with : saperation !\n",
    "text_file = open(\"Kadapa_Data_3.csv\", \"w\")\n",
    "count=0\n",
    "for i in range(len(lines)):\n",
    "    soup=BeautifulSoup(lines[i], 'html.parser')\n",
    "    for link in soup.find_all('td'):\n",
    "        if (str(link.string).isspace()):\n",
    "            pass\n",
    "        else:\n",
    "            if count==13:\n",
    "                count=0\n",
    "                text_file.write(str(\"\\n\"))\n",
    "            if count ==0:\n",
    "                str1=str(link.string).replace(',',':')\n",
    "                text_file.write(str1+\", \")\n",
    "                count=count+1;\n",
    "                continue\n",
    "\n",
    "            text_file.write(str(link.string)+\", \")\n",
    "            count=count+1;\n",
    "text_file.close()"
   ]
  },
  {
   "cell_type": "code",
   "execution_count": 49,
   "metadata": {},
   "outputs": [],
   "source": [
    "#3.33 # Multiple House with : saperation !\n",
    "text_file = open(\"Kadapa_Data_5.csv\", \"w\")\n",
    "count=0\n",
    "for i in range(len(lines)):\n",
    "    soup=BeautifulSoup(lines[i], 'html.parser')\n",
    "    for link in soup.find_all('td'):\n",
    "        if (str(link.string).isspace()):\n",
    "            pass\n",
    "        else:\n",
    "            if count==13:\n",
    "                count=0\n",
    "                text_file.write(str(\"\\n\"))\n",
    "            if count ==0:\n",
    "                str1=str(link.string).replace(',',':')\n",
    "                text_file.write(str1+\", \")\n",
    "                count=count+1;\n",
    "                continue\n",
    "            if count ==1:\n",
    "                str2=str(link.string) \n",
    "                str2=str2.split(',')\n",
    "                \n",
    "                if len(str2) > 4:\n",
    "                    if len(str2) == 5:\n",
    "                        text_file.write(str(str2[0])+':'+str(str2[1])+','+str(str2[2])+','+str(str2[3])+','+str(str2[4])+\", \")\n",
    "                        count=count+1\n",
    "                        continue                                             \n",
    "                    elif len(str2) == 6:\n",
    "                        text_file.write(str(str2[0])+':'+str(str2[1])+':'+str(str2[2])+','+str(str2[3])+','+str(str2[4])+','+str(str2[5])+\", \")\n",
    "                        count=count+1\n",
    "                        continue\n",
    "                    elif len(str2) == 7:\n",
    "                        text_file.write(str(str2[0])+':'+str(str2[1])+':'+str(str2[2])+':'+str(str2[3])+','+str(str2[4])+','+str(str2[5])+','+str(str2[6])+\", \")\n",
    "                        count=count+1\n",
    "                        continue\n",
    "                    elif len(str2) == 8:\n",
    "                        text_file.write(str(str2[0])+':'+str(str2[1])+':'+str(str2[2])+':'+str(str2[3])+':'+str(str2[4])+','+str(str2[5])+','+str(str2[6])+','+str(str2[7])+\", \")\n",
    "                        count=count+1\n",
    "                        continue\n",
    "                    elif len(str2) == 9:\n",
    "                        text_file.write(str(str2[0])+':'+str(str2[1])+':'+str(str2[2])+':'+str(str2[3])+':'+str(str2[4])+':'+str(str2[5])+','+str(str2[6])+','+str(str2[7])+','+str(str2[8])+\", \")\n",
    "                        count=count+1\n",
    "                        continue                                                                 \n",
    "                else:\n",
    "                    text_file.write(str(link.string)+\", \")\n",
    "                    count=count+1\n",
    "                    continue\n",
    "                    \n",
    "                    \n",
    "\n",
    "\n",
    "            text_file.write(str(link.string)+\", \")\n",
    "            count=count+1;\n",
    "text_file.close()"
   ]
  },
  {
   "cell_type": "code",
   "execution_count": 46,
   "metadata": {},
   "outputs": [
    {
     "data": {
      "text/plain": [
       "57"
      ]
     },
     "execution_count": 46,
     "metadata": {},
     "output_type": "execute_result"
    }
   ],
   "source": [
    "str2=str(link.string) \n",
    "str2.split(',')\n",
    "len(str2)"
   ]
  },
  {
   "cell_type": "code",
   "execution_count": 38,
   "metadata": {},
   "outputs": [
    {
     "data": {
      "text/plain": [
       "120"
      ]
     },
     "execution_count": 38,
     "metadata": {},
     "output_type": "execute_result"
    }
   ],
   "source": []
  },
  {
   "cell_type": "code",
   "execution_count": null,
   "metadata": {},
   "outputs": [],
   "source": []
  }
 ],
 "metadata": {
  "kernelspec": {
   "display_name": "Python 3",
   "language": "python",
   "name": "python3"
  },
  "language_info": {
   "codemirror_mode": {
    "name": "ipython",
    "version": 3
   },
   "file_extension": ".py",
   "mimetype": "text/x-python",
   "name": "python",
   "nbconvert_exporter": "python",
   "pygments_lexer": "ipython3",
   "version": "3.6.3"
  }
 },
 "nbformat": 4,
 "nbformat_minor": 2
}
