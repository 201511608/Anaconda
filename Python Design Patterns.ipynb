{
 "cells": [
  {
   "cell_type": "code",
   "execution_count": null,
   "id": "ad5be5d9",
   "metadata": {},
   "outputs": [],
   "source": [
    "# CONTENT\n",
    "# :: 0  #Basic\n",
    "# :: 1  # \n"
   ]
  },
  {
   "cell_type": "code",
   "execution_count": null,
   "id": "f4832a04",
   "metadata": {},
   "outputs": [],
   "source": [
    "# :: 0  #Basic\n",
    "\n",
    "# BOOK\n",
    "# Design Pattern Elements of Reusable Object-Oriented Software\n",
    "# By Group of four:: Erich, Richard, Ralph, John\n",
    "\n",
    "\n",
    "# SOLID DESIGN PRINCIPLES\n",
    "# creational     # structural    #behavioral\n",
    "\n",
    "\n",
    "# SOLID DESIGN PRINCIPLES"
   ]
  },
  {
   "cell_type": "code",
   "execution_count": null,
   "id": "28b5a025",
   "metadata": {},
   "outputs": [],
   "source": [
    "# :: 1  #\n",
    "# SRP/SOC\n",
    "# "
   ]
  }
 ],
 "metadata": {
  "kernelspec": {
   "display_name": "Python 3 (ipykernel)",
   "language": "python",
   "name": "python3"
  },
  "language_info": {
   "codemirror_mode": {
    "name": "ipython",
    "version": 3
   },
   "file_extension": ".py",
   "mimetype": "text/x-python",
   "name": "python",
   "nbconvert_exporter": "python",
   "pygments_lexer": "ipython3",
   "version": "3.9.7"
  }
 },
 "nbformat": 4,
 "nbformat_minor": 5
}
