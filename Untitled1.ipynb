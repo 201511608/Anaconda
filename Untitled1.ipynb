{
 "cells": [
  {
   "cell_type": "code",
   "execution_count": null,
   "metadata": {
    "collapsed": true
   },
   "outputs": [],
   "source": [
    "# MinMax function\n",
    "def minmax(depth,nodeIndex,isMax,score,h):\n",
    "    if depth == h:\n",
    "        return score[nodeIndex]\n",
    "    if isMax:\n",
    "        return max(minmax(depth+1,nodeIndex*2,False,score,h),minmax(depth+1,nodeIndex*2+1,False,score,h))\n",
    "    else:\n",
    "        return min(minmax(depth+1,nodeIndex*2,True,score,h),minmax(depth+1,nodeIndex*2+1,True,score,h))\n",
    "\n",
    "score =[3, 5, 2, 9, 12, 5, 23, 1]\n",
    "n=len(score)\n",
    "#print(n)\n",
    "h=m.log2(n)\n",
    "#print(h)\n",
    "res=minmax(0,0,True,score,h)\n",
    "print(res)"
   ]
  }
 ],
 "metadata": {
  "kernelspec": {
   "display_name": "Python 3",
   "language": "python",
   "name": "python3"
  },
  "language_info": {
   "codemirror_mode": {
    "name": "ipython",
    "version": 3
   },
   "file_extension": ".py",
   "mimetype": "text/x-python",
   "name": "python",
   "nbconvert_exporter": "python",
   "pygments_lexer": "ipython3",
   "version": "3.6.1"
  }
 },
 "nbformat": 4,
 "nbformat_minor": 2
}
