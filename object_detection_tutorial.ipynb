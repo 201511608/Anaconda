{
 "cells": [
  {
   "cell_type": "markdown",
   "metadata": {},
   "source": [
    "# Object Detection Demo\n",
    "Welcome to the object detection inference walkthrough!  This notebook will walk you step by step through the process of using a pre-trained model to detect objects in an image. Make sure to follow the [installation instructions](https://github.com/tensorflow/models/blob/master/research/object_detection/g3doc/installation.md) before you start."
   ]
  },
  {
   "cell_type": "markdown",
   "metadata": {},
   "source": [
    "# Imports"
   ]
  },
  {
   "cell_type": "code",
   "execution_count": 4,
   "metadata": {
    "scrolled": true
   },
   "outputs": [
    {
     "data": {
      "text/plain": [
       "'1.9.0'"
      ]
     },
     "execution_count": 4,
     "metadata": {},
     "output_type": "execute_result"
    }
   ],
   "source": [
    "import numpy as np\n",
    "import os\n",
    "import six.moves.urllib as urllib\n",
    "import sys\n",
    "import tarfile\n",
    "import tensorflow as tf\n",
    "import zipfile\n",
    "\n",
    "from collections import defaultdict\n",
    "from io import StringIO\n",
    "from matplotlib import pyplot as plt\n",
    "from PIL import Image\n",
    "\n",
    "# This is needed since the notebook is stored in the object_detection folder.\n",
    "sys.path.append(\"..\")\n",
    "from object_detection.utils import ops as utils_ops\n",
    "\n",
    "if tf.__version__ < '1.4.0':\n",
    "  raise ImportError('Please upgrade your tensorflow installation to v1.4.* or later!')\n",
    "tf.__version__ "
   ]
  },
  {
   "cell_type": "markdown",
   "metadata": {},
   "source": [
    "## Env setup"
   ]
  },
  {
   "cell_type": "code",
   "execution_count": 5,
   "metadata": {},
   "outputs": [],
   "source": [
    "# This is needed to display the images.\n",
    "%matplotlib inline"
   ]
  },
  {
   "cell_type": "markdown",
   "metadata": {},
   "source": [
    "## Object detection imports\n",
    "Here are the imports from the object detection module."
   ]
  },
  {
   "cell_type": "code",
   "execution_count": 6,
   "metadata": {},
   "outputs": [
    {
     "name": "stderr",
     "output_type": "stream",
     "text": [
      "C:\\Users\\midas\\Anaconda3\\lib\\site-packages\\matplotlib\\__init__.py:1405: UserWarning: \n",
      "This call to matplotlib.use() has no effect because the backend has already\n",
      "been chosen; matplotlib.use() must be called *before* pylab, matplotlib.pyplot,\n",
      "or matplotlib.backends is imported for the first time.\n",
      "\n",
      "  warnings.warn(_use_error_msg)\n"
     ]
    }
   ],
   "source": [
    "from utils import label_map_util\n",
    "\n",
    "from utils import visualization_utils as vis_util"
   ]
  },
  {
   "cell_type": "markdown",
   "metadata": {},
   "source": [
    "# Model preparation "
   ]
  },
  {
   "cell_type": "markdown",
   "metadata": {},
   "source": [
    "## Variables\n",
    "\n",
    "Any model exported using the `export_inference_graph.py` tool can be loaded here simply by changing `PATH_TO_CKPT` to point to a new .pb file.  \n",
    "\n",
    "By default we use an \"SSD with Mobilenet\" model here. See the [detection model zoo](https://github.com/tensorflow/models/blob/master/research/object_detection/g3doc/detection_model_zoo.md) for a list of other models that can be run out-of-the-box with varying speeds and accuracies."
   ]
  },
  {
   "cell_type": "code",
   "execution_count": 7,
   "metadata": {},
   "outputs": [],
   "source": [
    "# What model to download.\n",
    "MODEL_NAME = 'ssd_mobilenet_v1_coco_2017_11_17'\n",
    "MODEL_FILE = MODEL_NAME + '.tar.gz'\n",
    "DOWNLOAD_BASE = 'http://download.tensorflow.org/models/object_detection/'\n",
    "\n",
    "# Path to frozen detection graph. This is the actual model that is used for the object detection.\n",
    "PATH_TO_CKPT = MODEL_NAME + '/frozen_inference_graph.pb'\n",
    "\n",
    "# List of the strings that is used to add correct label for each box.\n",
    "PATH_TO_LABELS = os.path.join('data', 'mscoco_label_map.pbtxt')\n",
    "\n",
    "NUM_CLASSES = 90"
   ]
  },
  {
   "cell_type": "markdown",
   "metadata": {},
   "source": [
    "## Download Model"
   ]
  },
  {
   "cell_type": "code",
   "execution_count": 8,
   "metadata": {},
   "outputs": [],
   "source": [
    "opener = urllib.request.URLopener()\n",
    "opener.retrieve(DOWNLOAD_BASE + MODEL_FILE, MODEL_FILE)\n",
    "tar_file = tarfile.open(MODEL_FILE)\n",
    "for file in tar_file.getmembers():\n",
    "    file_name = os.path.basename(file.name)\n",
    "    if 'frozen_inference_graph.pb' in file_name:\n",
    "        tar_file.extract(file, os.getcwd())"
   ]
  },
  {
   "cell_type": "markdown",
   "metadata": {},
   "source": [
    "## Load a (frozen) Tensorflow model into memory."
   ]
  },
  {
   "cell_type": "code",
   "execution_count": 9,
   "metadata": {},
   "outputs": [],
   "source": [
    "detection_graph = tf.Graph()\n",
    "with detection_graph.as_default():\n",
    "    od_graph_def = tf.GraphDef()\n",
    "    with tf.gfile.GFile(PATH_TO_CKPT, 'rb') as fid:\n",
    "        serialized_graph = fid.read()\n",
    "        od_graph_def.ParseFromString(serialized_graph)\n",
    "        tf.import_graph_def(od_graph_def, name='')"
   ]
  },
  {
   "cell_type": "markdown",
   "metadata": {},
   "source": [
    "## Loading label map\n",
    "Label maps map indices to category names, so that when our convolution network predicts `5`, we know that this corresponds to `airplane`.  Here we use internal utility functions, but anything that returns a dictionary mapping integers to appropriate string labels would be fine"
   ]
  },
  {
   "cell_type": "code",
   "execution_count": 10,
   "metadata": {},
   "outputs": [],
   "source": [
    "label_map = label_map_util.load_labelmap(PATH_TO_LABELS)\n",
    "categories = label_map_util.convert_label_map_to_categories(label_map, max_num_classes=NUM_CLASSES, use_display_name=True)\n",
    "category_index = label_map_util.create_category_index(categories)"
   ]
  },
  {
   "cell_type": "markdown",
   "metadata": {},
   "source": [
    "## Helper code"
   ]
  },
  {
   "cell_type": "code",
   "execution_count": 11,
   "metadata": {},
   "outputs": [],
   "source": [
    "def load_image_into_numpy_array(image):\n",
    "  (im_width, im_height) = image.size\n",
    "  return np.array(image.getdata()).reshape(\n",
    "      (im_height, im_width, 3)).astype(np.uint8)"
   ]
  },
  {
   "cell_type": "markdown",
   "metadata": {},
   "source": [
    "# Detection"
   ]
  },
  {
   "cell_type": "code",
   "execution_count": 102,
   "metadata": {},
   "outputs": [],
   "source": [
    "# For the sake of simplicity we will use only 2 images:\n",
    "# image1.jpg\n",
    "# image2.jpg\n",
    "# If you want to test the code with your images, just add path to the images to the TEST_IMAGE_PATHS.\n",
    "PATH_TO_TEST_IMAGES_DIR = 'test_images'\n",
    "TEST_IMAGE_PATHS = [ os.path.join(PATH_TO_TEST_IMAGES_DIR, 'image{}.jpg'.format(i)) for i in range(1, 8) ]\n",
    "\n",
    "# Size, in inches, of the output images.\n",
    "IMAGE_SIZE = (12, 8)"
   ]
  },
  {
   "cell_type": "code",
   "execution_count": 103,
   "metadata": {},
   "outputs": [],
   "source": [
    "def run_inference_for_single_image(image, graph):\n",
    "  with graph.as_default():\n",
    "    with tf.Session() as sess:\n",
    "      # Get handles to input and output tensors\n",
    "      ops = tf.get_default_graph().get_operations()\n",
    "      all_tensor_names = {output.name for op in ops for output in op.outputs}\n",
    "      tensor_dict = {}\n",
    "      for key in [\n",
    "          'num_detections', 'detection_boxes', 'detection_scores',\n",
    "          'detection_classes', 'detection_masks'\n",
    "      ]:\n",
    "        tensor_name = key + ':0'\n",
    "        if tensor_name in all_tensor_names:\n",
    "          tensor_dict[key] = tf.get_default_graph().get_tensor_by_name(\n",
    "              tensor_name)\n",
    "      if 'detection_masks' in tensor_dict:\n",
    "        # The following processing is only for single image\n",
    "        detection_boxes = tf.squeeze(tensor_dict['detection_boxes'], [0])\n",
    "        detection_masks = tf.squeeze(tensor_dict['detection_masks'], [0])\n",
    "        # Reframe is required to translate mask from box coordinates to image coordinates and fit the image size.\n",
    "        real_num_detection = tf.cast(tensor_dict['num_detections'][0], tf.int32)\n",
    "        detection_boxes = tf.slice(detection_boxes, [0, 0], [real_num_detection, -1])\n",
    "        detection_masks = tf.slice(detection_masks, [0, 0, 0], [real_num_detection, -1, -1])\n",
    "        detection_masks_reframed = utils_ops.reframe_box_masks_to_image_masks(\n",
    "            detection_masks, detection_boxes, image.shape[0], image.shape[1])\n",
    "        detection_masks_reframed = tf.cast(\n",
    "            tf.greater(detection_masks_reframed, 0.5), tf.uint8)\n",
    "        # Follow the convention by adding back the batch dimension\n",
    "        tensor_dict['detection_masks'] = tf.expand_dims(\n",
    "            detection_masks_reframed, 0)\n",
    "      image_tensor = tf.get_default_graph().get_tensor_by_name('image_tensor:0')\n",
    "\n",
    "      # Run inference\n",
    "      output_dict = sess.run(tensor_dict,\n",
    "                             feed_dict={image_tensor: np.expand_dims(image, 0)})\n",
    "\n",
    "      # all outputs are float32 numpy arrays, so convert types as appropriate\n",
    "      output_dict['num_detections'] = int(output_dict['num_detections'][0])\n",
    "      output_dict['detection_classes'] = output_dict[\n",
    "          'detection_classes'][0].astype(np.uint8)\n",
    "      output_dict['detection_boxes'] = output_dict['detection_boxes'][0]\n",
    "      output_dict['detection_scores'] = output_dict['detection_scores'][0]\n",
    "      if 'detection_masks' in output_dict:\n",
    "        output_dict['detection_masks'] = output_dict['detection_masks'][0]\n",
    "  return output_dict"
   ]
  },
  {
   "cell_type": "code",
   "execution_count": 121,
   "metadata": {},
   "outputs": [
    {
     "name": "stdout",
     "output_type": "stream",
     "text": [
      "hi\n",
      "hi\n",
      "hi\n",
      "hi\n",
      "hi\n",
      "hi\n",
      "hi\n"
     ]
    }
   ],
   "source": [
    "for image_path in TEST_IMAGE_PATHS:\n",
    "  image = Image.open(image_path)\n",
    "  # the array based representation of the image will be used later in order to prepare the\n",
    "  # result image with boxes and labels on it.\n",
    "  image_np = load_image_into_numpy_array(image)\n",
    "  # Expand dimensions since the model expects images to have shape: [1, None, None, 3]\n",
    "  image_np_expanded = np.expand_dims(image_np, axis=0)\n",
    "  # Actual detection.\n",
    "  output_dict = run_inference_for_single_image(image_np, detection_graph)\n",
    "  # Visualization of the results of a detection.\n",
    "  if output_dict['detection_scores'][0]*100 > 80:\n",
    "        print(\"hi\")\n",
    "#       vis_util.visualize_boxes_and_labels_on_image_array(\n",
    "#           image_np,\n",
    "#           output_dict['detection_boxes'],\n",
    "#           output_dict['detection_classes'],\n",
    "#           output_dict['detection_scores'],\n",
    "#           category_index,\n",
    "#           instance_masks=output_dict.get('detection_masks'),\n",
    "#           use_normalized_coordinates=True,\n",
    "#           line_thickness=8)\n",
    "#       plt.figure(figsize=IMAGE_SIZE)\n",
    "#       plt.imshow(image_np)"
   ]
  },
  {
   "cell_type": "code",
   "execution_count": 122,
   "metadata": {},
   "outputs": [
    {
     "data": {
      "text/plain": [
       "array([0.81022793, 0.75924635, 0.6349491 , 0.631374  , 0.44451538,\n",
       "       0.41424653, 0.33253625, 0.32778132, 0.28748158, 0.26579508,\n",
       "       0.22938915, 0.22152407, 0.18941027, 0.17206055, 0.16651578,\n",
       "       0.16520852, 0.14966042, 0.14625923, 0.13942283, 0.13021946,\n",
       "       0.1207901 , 0.11912149, 0.1162246 , 0.11219613, 0.11040147,\n",
       "       0.10834774, 0.10557394, 0.10536908, 0.10416987, 0.10038005,\n",
       "       0.10022218, 0.09946947, 0.09792275, 0.09545403, 0.09351873,\n",
       "       0.09253298, 0.09235419, 0.09093217, 0.09090099, 0.08993652,\n",
       "       0.08982867, 0.08900051, 0.08810627, 0.08799742, 0.0872272 ,\n",
       "       0.0865031 , 0.08378388, 0.0833632 , 0.08262639, 0.08261248,\n",
       "       0.08246815, 0.08109002, 0.07993674, 0.07951298, 0.07861707,\n",
       "       0.07704619, 0.07690889, 0.07599699, 0.07569487, 0.07509055,\n",
       "       0.07436669, 0.07376361, 0.07207183, 0.07188773, 0.07156765,\n",
       "       0.07122198, 0.06908181, 0.06878553, 0.06848809, 0.06785093,\n",
       "       0.06781529, 0.0676493 , 0.06759986, 0.06728604, 0.06697649,\n",
       "       0.06667252, 0.06590959, 0.06541935, 0.06500708, 0.06408247,\n",
       "       0.06391   , 0.06379049, 0.06364718, 0.06354612, 0.06333961,\n",
       "       0.06261213, 0.0620967 , 0.06165821, 0.06121675, 0.06105539,\n",
       "       0.0608719 , 0.06029106, 0.06028502, 0.0598077 , 0.05976814,\n",
       "       0.0596209 , 0.05952274, 0.05908898, 0.05901835, 0.05889487],\n",
       "      dtype=float32)"
      ]
     },
     "execution_count": 122,
     "metadata": {},
     "output_type": "execute_result"
    }
   ],
   "source": [
    "output_dict['detection_scores']"
   ]
  },
  {
   "cell_type": "code",
   "execution_count": 24,
   "metadata": {},
   "outputs": [
    {
     "data": {
      "text/plain": [
       "'test_images\\\\image2.jpg'"
      ]
     },
     "execution_count": 24,
     "metadata": {},
     "output_type": "execute_result"
    }
   ],
   "source": [
    "image_path\n"
   ]
  },
  {
   "cell_type": "code",
   "execution_count": 54,
   "metadata": {},
   "outputs": [
    {
     "data": {
      "text/plain": [
       "dict_keys(['num_detections', 'detection_boxes', 'detection_scores', 'detection_classes'])"
      ]
     },
     "execution_count": 54,
     "metadata": {},
     "output_type": "execute_result"
    }
   ],
   "source": [
    "output_dict.keys()"
   ]
  },
  {
   "cell_type": "code",
   "execution_count": 95,
   "metadata": {},
   "outputs": [
    {
     "data": {
      "text/plain": [
       "(100,)"
      ]
     },
     "execution_count": 95,
     "metadata": {},
     "output_type": "execute_result"
    }
   ],
   "source": [
    "output_dict['detection_classes'].shape"
   ]
  },
  {
   "cell_type": "code",
   "execution_count": 58,
   "metadata": {},
   "outputs": [
    {
     "name": "stdout",
     "output_type": "stream",
     "text": [
      "set()\n"
     ]
    }
   ],
   "source": [
    "ops = tf.get_default_graph().get_operations()\n",
    "print({output.name for op in ops for output in op.outputs})"
   ]
  },
  {
   "cell_type": "code",
   "execution_count": 94,
   "metadata": {},
   "outputs": [
    {
     "name": "stdout",
     "output_type": "stream",
     "text": [
      "Muzafar 1\n"
     ]
    }
   ],
   "source": [
    "print(\n",
    "category_index[1]['name'],\n",
    "category_index[1]['id']\n",
    ")"
   ]
  },
  {
   "cell_type": "code",
   "execution_count": 93,
   "metadata": {},
   "outputs": [],
   "source": [
    "category_index[1]['name']='Muzafar'"
   ]
  },
  {
   "cell_type": "code",
   "execution_count": 96,
   "metadata": {
    "collapsed": true
   },
   "outputs": [
    {
     "data": {
      "text/plain": [
       "{1: {'id': 1, 'name': 'Muzafar'},\n",
       " 2: {'id': 2, 'name': 'bicycle'},\n",
       " 3: {'id': 3, 'name': 'car'},\n",
       " 4: {'id': 4, 'name': 'motorcycle'},\n",
       " 5: {'id': 5, 'name': 'airplane'},\n",
       " 6: {'id': 6, 'name': 'bus'},\n",
       " 7: {'id': 7, 'name': 'train'},\n",
       " 8: {'id': 8, 'name': 'truck'},\n",
       " 9: {'id': 9, 'name': 'boat'},\n",
       " 10: {'id': 10, 'name': 'traffic light'},\n",
       " 11: {'id': 11, 'name': 'fire hydrant'},\n",
       " 13: {'id': 13, 'name': 'stop sign'},\n",
       " 14: {'id': 14, 'name': 'parking meter'},\n",
       " 15: {'id': 15, 'name': 'bench'},\n",
       " 16: {'id': 16, 'name': 'bird'},\n",
       " 17: {'id': 17, 'name': 'cat'},\n",
       " 18: {'id': 18, 'name': 'dog'},\n",
       " 19: {'id': 19, 'name': 'horse'},\n",
       " 20: {'id': 20, 'name': 'sheep'},\n",
       " 21: {'id': 21, 'name': 'cow'},\n",
       " 22: {'id': 22, 'name': 'elephant'},\n",
       " 23: {'id': 23, 'name': 'bear'},\n",
       " 24: {'id': 24, 'name': 'zebra'},\n",
       " 25: {'id': 25, 'name': 'giraffe'},\n",
       " 27: {'id': 27, 'name': 'backpack'},\n",
       " 28: {'id': 28, 'name': 'umbrella'},\n",
       " 31: {'id': 31, 'name': 'handbag'},\n",
       " 32: {'id': 32, 'name': 'tie'},\n",
       " 33: {'id': 33, 'name': 'suitcase'},\n",
       " 34: {'id': 34, 'name': 'frisbee'},\n",
       " 35: {'id': 35, 'name': 'skis'},\n",
       " 36: {'id': 36, 'name': 'snowboard'},\n",
       " 37: {'id': 37, 'name': 'sports ball'},\n",
       " 38: {'id': 38, 'name': 'kite'},\n",
       " 39: {'id': 39, 'name': 'baseball bat'},\n",
       " 40: {'id': 40, 'name': 'baseball glove'},\n",
       " 41: {'id': 41, 'name': 'skateboard'},\n",
       " 42: {'id': 42, 'name': 'surfboard'},\n",
       " 43: {'id': 43, 'name': 'tennis racket'},\n",
       " 44: {'id': 44, 'name': 'bottle'},\n",
       " 46: {'id': 46, 'name': 'wine glass'},\n",
       " 47: {'id': 47, 'name': 'cup'},\n",
       " 48: {'id': 48, 'name': 'fork'},\n",
       " 49: {'id': 49, 'name': 'knife'},\n",
       " 50: {'id': 50, 'name': 'spoon'},\n",
       " 51: {'id': 51, 'name': 'bowl'},\n",
       " 52: {'id': 52, 'name': 'banana'},\n",
       " 53: {'id': 53, 'name': 'apple'},\n",
       " 54: {'id': 54, 'name': 'sandwich'},\n",
       " 55: {'id': 55, 'name': 'orange'},\n",
       " 56: {'id': 56, 'name': 'broccoli'},\n",
       " 57: {'id': 57, 'name': 'carrot'},\n",
       " 58: {'id': 58, 'name': 'hot dog'},\n",
       " 59: {'id': 59, 'name': 'pizza'},\n",
       " 60: {'id': 60, 'name': 'donut'},\n",
       " 61: {'id': 61, 'name': 'cake'},\n",
       " 62: {'id': 62, 'name': 'chair'},\n",
       " 63: {'id': 63, 'name': 'couch'},\n",
       " 64: {'id': 64, 'name': 'potted plant'},\n",
       " 65: {'id': 65, 'name': 'bed'},\n",
       " 67: {'id': 67, 'name': 'dining table'},\n",
       " 70: {'id': 70, 'name': 'toilet'},\n",
       " 72: {'id': 72, 'name': 'tv'},\n",
       " 73: {'id': 73, 'name': 'laptop'},\n",
       " 74: {'id': 74, 'name': 'mouse'},\n",
       " 75: {'id': 75, 'name': 'remote'},\n",
       " 76: {'id': 76, 'name': 'keyboard'},\n",
       " 77: {'id': 77, 'name': 'cell phone'},\n",
       " 78: {'id': 78, 'name': 'microwave'},\n",
       " 79: {'id': 79, 'name': 'oven'},\n",
       " 80: {'id': 80, 'name': 'toaster'},\n",
       " 81: {'id': 81, 'name': 'sink'},\n",
       " 82: {'id': 82, 'name': 'refrigerator'},\n",
       " 84: {'id': 84, 'name': 'book'},\n",
       " 85: {'id': 85, 'name': 'clock'},\n",
       " 86: {'id': 86, 'name': 'vase'},\n",
       " 87: {'id': 87, 'name': 'scissors'},\n",
       " 88: {'id': 88, 'name': 'teddy bear'},\n",
       " 89: {'id': 89, 'name': 'hair drier'},\n",
       " 90: {'id': 90, 'name': 'toothbrush'}}"
      ]
     },
     "execution_count": 96,
     "metadata": {},
     "output_type": "execute_result"
    }
   ],
   "source": [
    "category_index"
   ]
  },
  {
   "cell_type": "code",
   "execution_count": 97,
   "metadata": {},
   "outputs": [
    {
     "data": {
      "text/plain": [
       "{'detection_boxes': array([[0.13445586, 0.37801963, 0.9802    , 0.7312389 ],\n",
       "        [0.08996972, 0.41869068, 0.98888016, 0.9858142 ],\n",
       "        [0.24390861, 0.5181731 , 0.3512024 , 0.581203  ],\n",
       "        [0.7501227 , 0.40462396, 0.94094056, 0.68308973],\n",
       "        [0.65430033, 0.38531855, 0.94611144, 0.70436835],\n",
       "        [0.79053   , 0.3818318 , 0.9398636 , 0.65159607],\n",
       "        [0.744246  , 0.5785982 , 0.9912919 , 0.70941216],\n",
       "        [0.42768094, 0.52862686, 0.93396354, 0.7359455 ],\n",
       "        [0.26889002, 0.5101139 , 0.3000834 , 0.53715986],\n",
       "        [0.24068162, 0.48617828, 0.9947034 , 0.8346486 ],\n",
       "        [0.18596202, 0.24748908, 0.85383433, 0.6880511 ],\n",
       "        [0.5007683 , 0.4299774 , 0.9958985 , 0.66819036],\n",
       "        [0.4083426 , 0.35366553, 0.98368776, 0.67582613],\n",
       "        [0.682845  , 0.4151153 , 0.8770666 , 0.68449825],\n",
       "        [0.7454468 , 0.43269375, 0.92821944, 0.68953884],\n",
       "        [0.7395538 , 0.5265646 , 0.9650245 , 0.69399524],\n",
       "        [0.26874554, 0.52517605, 0.38425738, 0.5866631 ],\n",
       "        [0.14701356, 0.51731145, 0.39665037, 0.6784502 ],\n",
       "        [0.20887041, 0.50393337, 0.45881158, 0.6084247 ],\n",
       "        [0.21126485, 0.8961402 , 0.9657104 , 1.        ],\n",
       "        [0.10319936, 0.51926976, 0.7836694 , 1.        ],\n",
       "        [0.11626902, 0.5658063 , 0.41522142, 0.71747917],\n",
       "        [0.24576472, 0.5120677 , 0.2721641 , 0.5334097 ],\n",
       "        [0.2913245 , 0.35301086, 0.3053431 , 0.36543134],\n",
       "        [0.64614004, 0.41716257, 0.88395673, 0.59243274],\n",
       "        [0.84531736, 0.21081111, 1.        , 0.34616944],\n",
       "        [0.08267078, 0.5408567 , 0.9775357 , 0.983451  ],\n",
       "        [0.34708387, 0.47331727, 0.5681591 , 1.        ],\n",
       "        [0.19996701, 0.5221072 , 0.4915182 , 0.6812789 ],\n",
       "        [0.5693953 , 0.509946  , 0.86311114, 0.6881294 ],\n",
       "        [0.84178406, 0.11084303, 1.        , 0.8180779 ],\n",
       "        [0.8097999 , 0.37874034, 0.9277427 , 0.5248055 ],\n",
       "        [0.24386148, 0.571009  , 0.3351115 , 0.6295776 ],\n",
       "        [0.11666858, 0.41414133, 0.9690263 , 0.96040773],\n",
       "        [0.77242815, 0.47135037, 0.9586214 , 0.7227717 ],\n",
       "        [0.15443194, 0.50724417, 0.3183494 , 0.72279733],\n",
       "        [0.7629728 , 0.49380937, 0.8607648 , 0.62701374],\n",
       "        [0.15989816, 0.3988787 , 0.30322236, 0.6667541 ],\n",
       "        [0.255495  , 0.63133514, 0.3320942 , 0.6676085 ],\n",
       "        [0.654698  , 0.36800355, 0.93591726, 0.5323699 ],\n",
       "        [0.73947513, 0.34873438, 0.95225966, 0.4868294 ],\n",
       "        [0.7208148 , 0.68934196, 0.9937813 , 0.851638  ],\n",
       "        [0.21035618, 0.64061743, 0.85773844, 1.        ],\n",
       "        [0.76063335, 0.5434036 , 0.89102757, 0.6659864 ],\n",
       "        [0.60304457, 0.5854013 , 0.95954734, 0.72339344],\n",
       "        [0.11007801, 0.01443434, 0.4782869 , 0.79071236],\n",
       "        [0.24612822, 0.27978784, 0.70421463, 0.6315234 ],\n",
       "        [0.11619589, 0.43706113, 0.81955206, 0.8187744 ],\n",
       "        [0.7767701 , 0.618184  , 0.98089266, 0.90356886],\n",
       "        [0.7570999 , 0.06695345, 0.9964965 , 0.8626746 ],\n",
       "        [0.14889094, 0.5103633 , 0.8859216 , 0.73585576],\n",
       "        [0.17746118, 0.44286972, 0.41104606, 0.5796599 ],\n",
       "        [0.21419623, 0.38853046, 0.3579764 , 0.63122153],\n",
       "        [0.38833213, 0.37375364, 0.96089554, 0.72818077],\n",
       "        [0.28494024, 0.40733784, 0.29939103, 0.41993093],\n",
       "        [0.12958287, 0.5227966 , 0.3114856 , 0.6710364 ],\n",
       "        [0.02659948, 0.        , 0.29016763, 0.39206356],\n",
       "        [0.21761869, 0.28811887, 0.47752535, 0.80074215],\n",
       "        [0.2561133 , 0.18865621, 0.73356646, 0.82988465],\n",
       "        [0.        , 0.60222983, 0.6633722 , 1.        ],\n",
       "        [0.47105506, 0.98427916, 0.6968899 , 0.99689734],\n",
       "        [0.1048362 , 0.12401727, 0.46531156, 0.24493414],\n",
       "        [0.26019943, 0.51354307, 0.5938303 , 1.        ],\n",
       "        [0.43362755, 0.2627648 , 0.66954654, 0.8385432 ],\n",
       "        [0.3042388 , 0.64278287, 0.35902107, 0.6754953 ],\n",
       "        [0.56116617, 0.32384607, 0.7731402 , 0.85954094],\n",
       "        [0.50934845, 0.98913   , 0.7596317 , 0.99860394],\n",
       "        [0.34997514, 0.3511866 , 0.36755398, 0.37235072],\n",
       "        [0.629396  , 0.4612219 , 0.89194494, 0.6588064 ],\n",
       "        [0.27216402, 0.831287  , 0.91162205, 0.99881256],\n",
       "        [0.43230078, 0.5436214 , 1.        , 0.86408556],\n",
       "        [0.22931984, 0.53236955, 0.27896777, 0.57612807],\n",
       "        [0.26037043, 0.3592622 , 0.8886036 , 0.6227    ],\n",
       "        [0.19484416, 0.6053623 , 0.9680202 , 0.8902682 ],\n",
       "        [0.0461947 , 0.05001652, 0.58897865, 0.6328877 ],\n",
       "        [0.5864893 , 0.45798606, 0.9653735 , 0.720017  ],\n",
       "        [0.67770314, 0.45176506, 0.86936355, 0.69324183],\n",
       "        [0.08947942, 0.6600994 , 1.        , 0.8891188 ],\n",
       "        [0.3570223 , 0.38934833, 0.37928998, 0.41685188],\n",
       "        [0.6166393 , 0.65359503, 0.9964202 , 1.        ],\n",
       "        [0.0689357 , 0.5726838 , 0.31886342, 0.7263185 ],\n",
       "        [0.35900277, 0.60495406, 0.98921114, 1.        ],\n",
       "        [0.47289237, 0.5969947 , 0.98853993, 0.87170404],\n",
       "        [0.76607484, 0.44017422, 0.7993222 , 0.48423576],\n",
       "        [0.13362285, 0.00413871, 0.98588157, 0.57840633],\n",
       "        [0.20766288, 0.50011384, 0.4403274 , 1.        ],\n",
       "        [0.31637868, 0.4965261 , 0.35461864, 0.53717303],\n",
       "        [0.6937791 , 0.48393112, 0.737556  , 0.52233464],\n",
       "        [0.7432314 , 0.481006  , 0.90791535, 0.7060745 ],\n",
       "        [0.28467107, 0.29011974, 0.3045454 , 0.3137701 ],\n",
       "        [0.8267059 , 0.49225357, 1.        , 0.7374809 ],\n",
       "        [0.19121073, 0.49413002, 0.35628313, 0.71608806],\n",
       "        [0.8411114 , 0.25843844, 1.        , 0.4099563 ],\n",
       "        [0.48652133, 0.06099212, 0.9903445 , 0.9832002 ],\n",
       "        [0.60304457, 0.5854013 , 0.95954734, 0.72339344],\n",
       "        [0.24386148, 0.571009  , 0.3351115 , 0.6295776 ],\n",
       "        [0.13701835, 0.4363762 , 0.17699206, 0.46055174],\n",
       "        [0.3566622 , 0.55419576, 0.42327887, 0.63312304],\n",
       "        [0.1897782 , 0.5801747 , 0.50614804, 0.71853304],\n",
       "        [0.3042546 , 0.29694873, 0.5938267 , 0.79459006]], dtype=float32),\n",
       " 'detection_classes': array([ 1, 62,  1, 31, 31, 34, 27, 31,  1,  1,  1, 31,  1, 31, 27, 27,  1,\n",
       "         1,  1,  1,  1,  1,  1,  1, 31, 70, 63, 42,  1, 31, 15, 34,  1,  1,\n",
       "        27,  1, 31,  1,  1, 31, 31, 33,  1, 31, 31,  1,  1,  1, 33, 15,  1,\n",
       "         1,  1, 31,  1,  1, 82,  1,  1, 63, 32, 62,  1,  1,  1, 15, 32,  1,\n",
       "        31,  1,  1,  1,  1,  1,  1, 31, 27, 42,  1, 62,  1,  1, 62, 77,  1,\n",
       "        42,  1, 85, 31,  1, 31,  1, 70,  1, 27, 77, 16, 32,  1,  1],\n",
       "       dtype=uint8),\n",
       " 'detection_scores': array([0.8439717 , 0.14671065, 0.09838271, 0.095593  , 0.07951765,\n",
       "        0.07864156, 0.06161249, 0.05986657, 0.05840036, 0.05540254,\n",
       "        0.05467947, 0.05457599, 0.053726  , 0.05326594, 0.05317816,\n",
       "        0.05210445, 0.05156859, 0.04991703, 0.04971272, 0.04944275,\n",
       "        0.04569686, 0.0438656 , 0.04375056, 0.04319814, 0.04130743,\n",
       "        0.04111367, 0.04075413, 0.03969964, 0.03961895, 0.03944528,\n",
       "        0.03936109, 0.03849372, 0.03841905, 0.03828936, 0.03789258,\n",
       "        0.03788473, 0.03740837, 0.03733097, 0.03709391, 0.03697835,\n",
       "        0.03676616, 0.03625819, 0.03622214, 0.03553386, 0.03542755,\n",
       "        0.03531246, 0.03514551, 0.0348411 , 0.03472156, 0.03456489,\n",
       "        0.03449825, 0.03424231, 0.0341814 , 0.03370149, 0.033455  ,\n",
       "        0.03310056, 0.03308693, 0.03279915, 0.0327769 , 0.03254834,\n",
       "        0.0323231 , 0.03231562, 0.03231109, 0.03229681, 0.03223534,\n",
       "        0.03157436, 0.03152933, 0.03129413, 0.03120491, 0.03117475,\n",
       "        0.03113797, 0.03105491, 0.03093486, 0.03092189, 0.03086206,\n",
       "        0.03071962, 0.03053993, 0.03047001, 0.03044632, 0.03036083,\n",
       "        0.02997274, 0.02994871, 0.02994818, 0.02978855, 0.02974911,\n",
       "        0.02957294, 0.02955898, 0.02917679, 0.02913843, 0.02899574,\n",
       "        0.02893086, 0.02876252, 0.02868788, 0.02862135, 0.02851718,\n",
       "        0.02848237, 0.0282219 , 0.02815771, 0.02801221, 0.02782233],\n",
       "       dtype=float32),\n",
       " 'num_detections': 100}"
      ]
     },
     "execution_count": 97,
     "metadata": {},
     "output_type": "execute_result"
    }
   ],
   "source": [
    "output_dict['detection_scores']"
   ]
  },
  {
   "cell_type": "code",
   "execution_count": 101,
   "metadata": {},
   "outputs": [
    {
     "data": {
      "text/plain": [
       "True"
      ]
     },
     "execution_count": 101,
     "metadata": {},
     "output_type": "execute_result"
    }
   ],
   "source": [
    "output_dict['detection_scores'][0]*100>70"
   ]
  },
  {
   "cell_type": "code",
   "execution_count": 108,
   "metadata": {},
   "outputs": [],
   "source": [
    "subgroup=['a','a','b','b','b']\n",
    "a={'First':subgroup,'First':subgroup}\n",
    "\n"
   ]
  },
  {
   "cell_type": "code",
   "execution_count": null,
   "metadata": {},
   "outputs": [],
   "source": [
    "Group  SubGroup  Target\n",
    "First           a               1\n",
    "First         a              2\n",
    "First         b       1\n",
    "First          b         2\n",
    "First          b          3\n",
    "Second c          1\n",
    "Second  d          1\n",
    "Third  e          1\n",
    "Third  f          1\n",
    "Third  f          2"
   ]
  }
 ],
 "metadata": {
  "colab": {
   "version": "0.3.2"
  },
  "kernelspec": {
   "display_name": "Python 3",
   "language": "python",
   "name": "python3"
  },
  "language_info": {
   "codemirror_mode": {
    "name": "ipython",
    "version": 3
   },
   "file_extension": ".py",
   "mimetype": "text/x-python",
   "name": "python",
   "nbconvert_exporter": "python",
   "pygments_lexer": "ipython3",
   "version": "3.6.1"
  }
 },
 "nbformat": 4,
 "nbformat_minor": 2
}
