{
 "cells": [
  {
   "cell_type": "code",
   "execution_count": 82,
   "metadata": {},
   "outputs": [],
   "source": [
    "# Common Functions\n",
    "\n",
    "#Numpy array to DataFrame\n",
    "def Array2DataFrame(array):\n",
    "    import numpy as np\n",
    "    df = pd.DataFrame(data=array)\n",
    "    return df\n",
    "\n",
    "\n",
    "#Numpy array to DataFrame to SaveFile\n",
    "def Array2SaveCSV(NpArray,filename='Delete'):\n",
    "    import numpy as np\n",
    "    df = pd.DataFrame(data=NpArray)\n",
    "    df.to_csv(filename)\n"
   ]
  },
  {
   "cell_type": "code",
   "execution_count": 43,
   "metadata": {},
   "outputs": [],
   "source": [
    "#Deep_Learning_Keras \n",
    "#1 Arch : how many layers Activation\n",
    "#2 Compile :: loss and how it works\n",
    "#3 Fit :: Froword and Back \n",
    "#4 Predict\n",
    "\n",
    "#MIT Licensed\n",
    "\n",
    "#Scale Data :: Getting data in to similar average value\n",
    " \n",
    "#Regression       Y=f(x)\n",
    "#Classification  Predictiong from set of descrete Options\n",
    "\n",
    "#Deep Learning on Large Data Set"
   ]
  },
  {
   "cell_type": "code",
   "execution_count": 44,
   "metadata": {},
   "outputs": [],
   "source": [
    "#1.1\n",
    "#import\n",
    "import numpy as np\n",
    "import pandas\n",
    "from keras.layers import Dense\n",
    "from keras.models import Sequential"
   ]
  },
  {
   "cell_type": "code",
   "execution_count": 45,
   "metadata": {},
   "outputs": [],
   "source": [
    "#1.2\n",
    "#Import Data\n",
    "df = pandas.read_csv('hourly_wages.csv')\n",
    "predictors=np.delete(df.values,0,1) # Detete a Column  [1->column 0->row]\n",
    "target=df.values[:,0]\n",
    "n_cols = predictors.shape[1]"
   ]
  },
  {
   "cell_type": "code",
   "execution_count": 46,
   "metadata": {},
   "outputs": [],
   "source": [
    "#1.3\n",
    "#1 Arch\n",
    "\n",
    "# Model 1)Sequential 2)  Check other models very complex connections  Very important   ??????????\n",
    "model = Sequential()\n",
    "\n",
    "# Dense :: All the Nodes in previous layers connect all the nodes in the current layer\n",
    "model.add(Dense(100, activation= 'relu',input_shape=(n_cols,))) # (n_cols,) = any no of rows\\data\n",
    "model.add(Dense(100, activation='relu'))\n",
    "model.add(Dense(1))"
   ]
  },
  {
   "cell_type": "code",
   "execution_count": 47,
   "metadata": {},
   "outputs": [],
   "source": [
    "#1.4\n",
    "#Compile\n",
    "#2 Compile\n",
    "#Optimizer Learing rate\n",
    "#Adam is Best for Optimizer\n",
    "#loss function Mean SquareError\n",
    "model.compile(optimizer='adam', loss='mean_squared_error')"
   ]
  },
  {
   "cell_type": "code",
   "execution_count": 48,
   "metadata": {},
   "outputs": [
    {
     "name": "stdout",
     "output_type": "stream",
     "text": [
      "Epoch 1/1\n",
      "534/534 [==============================] - 98s 184ms/step - loss: 27.1264\n"
     ]
    },
    {
     "data": {
      "text/plain": [
       "<keras.callbacks.History at 0x1f005898>"
      ]
     },
     "execution_count": 48,
     "metadata": {},
     "output_type": "execute_result"
    }
   ],
   "source": [
    "#1.5\n",
    "#Fit\n",
    "#Do Forword and Backword Propogation\n",
    "model.fit(predictors, target)\n"
   ]
  },
  {
   "cell_type": "code",
   "execution_count": 49,
   "metadata": {},
   "outputs": [
    {
     "data": {
      "text/plain": [
       "array([[  8.48613453],\n",
       "       [ 11.24972343],\n",
       "       [  7.92303801],\n",
       "       [  8.43539429],\n",
       "       [ 10.4601059 ],\n",
       "       [ 10.11528206],\n",
       "       [ 10.028265  ],\n",
       "       [  9.39352798],\n",
       "       [ 12.23272514],\n",
       "       [  9.39352798]], dtype=float32)"
      ]
     },
     "execution_count": 49,
     "metadata": {},
     "output_type": "execute_result"
    }
   ],
   "source": [
    "#1.6\n",
    "#prediction\n",
    "model.predict(predictors[0:10])"
   ]
  },
  {
   "cell_type": "code",
   "execution_count": null,
   "metadata": {},
   "outputs": [],
   "source": [
    "#1.8 \n",
    "#Saving \n",
    "model.save('model_hourly_wages.h5')\n"
   ]
  },
  {
   "cell_type": "code",
   "execution_count": null,
   "metadata": {},
   "outputs": [],
   "source": [
    "#1.9\n",
    "#Loading Model\n",
    "my_model=load_model('model_hourly_wages.h5')"
   ]
  },
  {
   "cell_type": "code",
   "execution_count": 21,
   "metadata": {},
   "outputs": [
    {
     "name": "stdout",
     "output_type": "stream",
     "text": [
      "_________________________________________________________________\n",
      "Layer (type)                 Output Shape              Param #   \n",
      "=================================================================\n",
      "dense_3 (Dense)              (None, 100)               1000      \n",
      "_________________________________________________________________\n",
      "dense_4 (Dense)              (None, 100)               10100     \n",
      "_________________________________________________________________\n",
      "dense_5 (Dense)              (None, 1)                 101       \n",
      "=================================================================\n",
      "Total params: 11,201\n",
      "Trainable params: 11,201\n",
      "Non-trainable params: 0\n",
      "_________________________________________________________________\n"
     ]
    }
   ],
   "source": [
    "#1.10\n",
    "#Check the Architure of Model\n",
    "model.summary()"
   ]
  },
  {
   "cell_type": "code",
   "execution_count": 22,
   "metadata": {},
   "outputs": [
    {
     "name": "stdout",
     "output_type": "stream",
     "text": [
      "Loss function: mean_squared_error\n"
     ]
    }
   ],
   "source": [
    "#1.11\n",
    "# Print\n",
    "print(\"Loss function: \" + model.loss)\n"
   ]
  },
  {
   "cell_type": "code",
   "execution_count": 2,
   "metadata": {},
   "outputs": [
    {
     "name": "stdout",
     "output_type": "stream",
     "text": [
      "Epoch 1/1\n",
      "534/534 [==============================] - 1s 1ms/step - loss: 50.6288\n"
     ]
    },
    {
     "data": {
      "text/plain": [
       "<keras.callbacks.History at 0xd039860>"
      ]
     },
     "execution_count": 2,
     "metadata": {},
     "output_type": "execute_result"
    }
   ],
   "source": [
    "#3\n",
    "#Hourly_wages\n",
    "import numpy as np\n",
    "import pandas\n",
    "from keras.layers import Dense\n",
    "from keras.models import Sequential\n",
    "\n",
    "#Import Data\n",
    "df = pandas.read_csv('hourly_wages.csv')\n",
    "predictors=np.delete(df.values,0,1) # Detete a Column  [1->column 0->row]\n",
    "target=df.values[:,0] # or # df.wage_per_hour\n",
    "n_cols = predictors.shape[1]\n",
    "\n",
    "# Model\n",
    "model = Sequential()\n",
    "model.add(Dense(100, activation= 'relu',input_shape=(n_cols,))) \n",
    "model.add(Dense(100, activation='relu'))\n",
    "model.add(Dense(1))\n",
    "\n",
    "#compile\n",
    "model.compile(optimizer='adam', loss='mean_squared_error')\n",
    "\n",
    "#Fit\n",
    "model.fit(predictors, target)"
   ]
  },
  {
   "cell_type": "code",
   "execution_count": 48,
   "metadata": {},
   "outputs": [
    {
     "data": {
      "text/html": [
       "<div>\n",
       "<style>\n",
       "    .dataframe thead tr:only-child th {\n",
       "        text-align: right;\n",
       "    }\n",
       "\n",
       "    .dataframe thead th {\n",
       "        text-align: left;\n",
       "    }\n",
       "\n",
       "    .dataframe tbody tr th {\n",
       "        vertical-align: top;\n",
       "    }\n",
       "</style>\n",
       "<table border=\"1\" class=\"dataframe\">\n",
       "  <thead>\n",
       "    <tr style=\"text-align: right;\">\n",
       "      <th></th>\n",
       "      <th>wage_per_hour</th>\n",
       "      <th>union</th>\n",
       "      <th>education_yrs</th>\n",
       "      <th>experience_yrs</th>\n",
       "      <th>age</th>\n",
       "      <th>female</th>\n",
       "      <th>marr</th>\n",
       "      <th>south</th>\n",
       "      <th>manufacturing</th>\n",
       "      <th>construction</th>\n",
       "    </tr>\n",
       "  </thead>\n",
       "  <tbody>\n",
       "    <tr>\n",
       "      <th>0</th>\n",
       "      <td>5.10</td>\n",
       "      <td>0</td>\n",
       "      <td>8</td>\n",
       "      <td>21</td>\n",
       "      <td>35</td>\n",
       "      <td>1</td>\n",
       "      <td>1</td>\n",
       "      <td>0</td>\n",
       "      <td>1</td>\n",
       "      <td>0</td>\n",
       "    </tr>\n",
       "    <tr>\n",
       "      <th>1</th>\n",
       "      <td>4.95</td>\n",
       "      <td>0</td>\n",
       "      <td>9</td>\n",
       "      <td>42</td>\n",
       "      <td>57</td>\n",
       "      <td>1</td>\n",
       "      <td>1</td>\n",
       "      <td>0</td>\n",
       "      <td>1</td>\n",
       "      <td>0</td>\n",
       "    </tr>\n",
       "    <tr>\n",
       "      <th>2</th>\n",
       "      <td>6.67</td>\n",
       "      <td>0</td>\n",
       "      <td>12</td>\n",
       "      <td>1</td>\n",
       "      <td>19</td>\n",
       "      <td>0</td>\n",
       "      <td>0</td>\n",
       "      <td>0</td>\n",
       "      <td>1</td>\n",
       "      <td>0</td>\n",
       "    </tr>\n",
       "    <tr>\n",
       "      <th>3</th>\n",
       "      <td>4.00</td>\n",
       "      <td>0</td>\n",
       "      <td>12</td>\n",
       "      <td>4</td>\n",
       "      <td>22</td>\n",
       "      <td>0</td>\n",
       "      <td>0</td>\n",
       "      <td>0</td>\n",
       "      <td>0</td>\n",
       "      <td>0</td>\n",
       "    </tr>\n",
       "    <tr>\n",
       "      <th>4</th>\n",
       "      <td>7.50</td>\n",
       "      <td>0</td>\n",
       "      <td>12</td>\n",
       "      <td>17</td>\n",
       "      <td>35</td>\n",
       "      <td>0</td>\n",
       "      <td>1</td>\n",
       "      <td>0</td>\n",
       "      <td>0</td>\n",
       "      <td>0</td>\n",
       "    </tr>\n",
       "  </tbody>\n",
       "</table>\n",
       "</div>"
      ],
      "text/plain": [
       "   wage_per_hour  union  education_yrs  experience_yrs  age  female  marr  \\\n",
       "0           5.10      0              8              21   35       1     1   \n",
       "1           4.95      0              9              42   57       1     1   \n",
       "2           6.67      0             12               1   19       0     0   \n",
       "3           4.00      0             12               4   22       0     0   \n",
       "4           7.50      0             12              17   35       0     1   \n",
       "\n",
       "   south  manufacturing  construction  \n",
       "0      0              1             0  \n",
       "1      0              1             0  \n",
       "2      0              1             0  \n",
       "3      0              0             0  \n",
       "4      0              0             0  "
      ]
     },
     "execution_count": 48,
     "metadata": {},
     "output_type": "execute_result"
    }
   ],
   "source": [
    "df.values\n",
    "df.describe()\n",
    "df.index\n",
    "df.head()"
   ]
  },
  {
   "cell_type": "code",
   "execution_count": 8,
   "metadata": {},
   "outputs": [
    {
     "name": "stdout",
     "output_type": "stream",
     "text": [
      "[1 2 3]\n",
      "[[ 0.  1.  0.  0.]\n",
      " [ 0.  0.  1.  0.]\n",
      " [ 0.  0.  0.  1.]]\n",
      "\n",
      " [0 1 2 3]\n",
      "[[ 1.  0.  0.  0.]\n",
      " [ 0.  1.  0.  0.]\n",
      " [ 0.  0.  1.  0.]\n",
      " [ 0.  0.  0.  1.]]\n",
      "\n",
      " [ 0  1  2 13]\n",
      "[[ 1.  0.  0.  0.  0.  0.  0.  0.  0.  0.  0.  0.  0.  0.]\n",
      " [ 0.  1.  0.  0.  0.  0.  0.  0.  0.  0.  0.  0.  0.  0.]\n",
      " [ 0.  0.  1.  0.  0.  0.  0.  0.  0.  0.  0.  0.  0.  0.]\n",
      " [ 0.  0.  0.  0.  0.  0.  0.  0.  0.  0.  0.  0.  0.  1.]]\n"
     ]
    }
   ],
   "source": [
    "#4\n",
    "# Categorical\n",
    "# Single -> Multi Column Convertion\n",
    "from keras.utils import to_categorical\n",
    "a=np.array([1,2,3])\n",
    "cat1=to_categorical(a)\n",
    "print(a)\n",
    "print(cat1)\n",
    "\n",
    "b=np.array([0,1,2,3])\n",
    "cat2=to_categorical(b)\n",
    "print(\"\\n\",b)\n",
    "print(cat2)\n",
    "\n",
    "c=np.array([0,1,2,13])\n",
    "cat3=to_categorical(c)\n",
    "print(\"\\n\",c)\n",
    "print(cat3)"
   ]
  },
  {
   "cell_type": "code",
   "execution_count": 94,
   "metadata": {},
   "outputs": [],
   "source": [
    "#5\n",
    "# Classification \n",
    "# To Select from Bunch of Options\n",
    "# Similar to Regression Only Few things are Different\n",
    "# Loss function :: Categorical_crossentropy\n",
    "# Log Loss\n",
    "# Metric = ['accuracy'] Print accuracy at end of each epoch\n",
    "# optimizer = 'sgd' 'adam'\n",
    "# Output  Have Softmax activation  = Pridiction Sum to One  :: To Check Proabilities "
   ]
  },
  {
   "cell_type": "code",
   "execution_count": 86,
   "metadata": {
    "scrolled": true
   },
   "outputs": [
    {
     "name": "stdout",
     "output_type": "stream",
     "text": [
      "Epoch 1/1\n",
      "891/891 [==============================] - 1s 2ms/step - loss: 2.5718 - acc: 0.6128\n",
      "data\n",
      "    survived  pclass   age  sibsp  parch     fare  male  age_was_missing  \\\n",
      "0         0       3  22.0      1      0   7.2500     1            False   \n",
      "1         1       1  38.0      1      0  71.2833     0            False   \n",
      "\n",
      "   embarked_from_cherbourg  embarked_from_queenstown  \\\n",
      "0                        0                         0   \n",
      "1                        1                         0   \n",
      "\n",
      "   embarked_from_southampton  \n",
      "0                          1  \n",
      "1                          0  \n",
      "\n",
      "Predictors\n",
      " [3 22.0 1 0 7.25 1 False 0 0 1]\n",
      "\n",
      "Target\n",
      " [ 1.  0.]\n",
      "\n",
      "Predictors Shape\n",
      " (91, 2)\n",
      "\n",
      "Probabilities of Survival\n",
      "Yes  No\n",
      " [[  1.84627413e-06   9.99998212e-01]\n",
      " [  6.81351253e-10   1.00000000e+00]]\n"
     ]
    }
   ],
   "source": [
    "# 5\n",
    "# Titanic\n",
    "# sgd :: Stochastic Gradient descent\n",
    "#Output  : Dead or Alive    Yes or No\n",
    "import numpy as np\n",
    "import pandas\n",
    "from keras.layers import Dense\n",
    "from keras.models import Sequential\n",
    "from keras.utils import to_categorical\n",
    "\n",
    "#Import Data\n",
    "df = pandas.read_csv('Titanic_data.csv')\n",
    "predictors=np.delete(df.values,0,1) # Detete a Column  [1->column 0->row]\n",
    "target=to_categorical(df.survived)\n",
    "pred_data=np.delete(pandas.read_csv('Titanic_pred_data.csv').values,0,1)\n",
    "n_cols = predictors.shape[1]\n",
    "\n",
    "#\n",
    "model= Sequential()\n",
    "model.add(Dense(32,activation='relu',input_shape=(n_cols,)))\n",
    "model.add(Dense(2,activation='softmax')) # Output Survived or Died\n",
    "\n",
    "#\n",
    "model.compile(optimizer='sgd',loss='categorical_crossentropy',metrics=['accuracy'])\n",
    "\n",
    "#\n",
    "model.fit(predictors, target)\n",
    "\n",
    "#\n",
    "predictions = model.predict(pred_data)\n",
    "probability_true =predictions\n",
    "\n",
    "#Print\n",
    "print(\"data\\n\",df.head(2))\n",
    "print(\"\\nPredictors\\n\",predictors[0])\n",
    "print(\"\\nTarget\\n\",target[0])\n",
    "print(\"\\nPredictors Shape\\n\",predictions.shape)\n",
    "print(\"\\nProbabilities of Survival\\nYes  No\\n\",probability_true[0:2])"
   ]
  },
  {
   "cell_type": "code",
   "execution_count": 81,
   "metadata": {},
   "outputs": [
    {
     "name": "stdout",
     "output_type": "stream",
     "text": [
      "Unsupervised Instance Begin\n"
     ]
    }
   ],
   "source": [
    "#6 Optimisation\n",
    "# Smart Optimizer  'Adams'   'Stochastic graient descent SGD'\n",
    "# Learning Rate\n",
    "# Dying Nuron Problem i.e   NEURON -> 0  | No effect to out put |\n",
    "# Vanishing gradiend i.e too low slopes updates almost to O | Ex tanhx function\n",
    "# Lower value of loss function is Good"
   ]
  },
  {
   "cell_type": "code",
   "execution_count": 2,
   "metadata": {},
   "outputs": [
    {
     "name": "stdout",
     "output_type": "stream",
     "text": [
      "\n",
      "\n",
      "Testing model with learning rate: 0.000001\n",
      "\n",
      "Epoch 1/1\n",
      "891/891 [==============================] - 1s 1ms/step - loss: 3.8670 - acc: 0.3457\n",
      "\n",
      "\n",
      "Testing model with learning rate: 0.010000\n",
      "\n",
      "Epoch 1/1\n",
      "891/891 [==============================] - 0s 465us/step - loss: 1.9079 - acc: 0.6195\n",
      "\n",
      "\n",
      "Testing model with learning rate: 1.000000\n",
      "\n",
      "Epoch 1/1\n",
      "891/891 [==============================] - 0s 388us/step - loss: 6.1532 - acc: 0.6072\n",
      "\n",
      "\n",
      "Testing model with learning rate: 0.001000\n",
      "\n",
      "Epoch 1/1\n",
      "891/891 [==============================] - 0s 513us/step - loss: 1.4662 - acc: 0.6465\n"
     ]
    }
   ],
   "source": [
    "#7 Learning Rates Different\n",
    "# Titanic Data\n",
    "from keras.optimizers import SGD # Import the SGD optimizer\n",
    "import numpy as np\n",
    "import pandas\n",
    "from keras.layers import Dense\n",
    "from keras.models import Sequential\n",
    "from keras.utils import to_categorical\n",
    "\n",
    "#Import Data\n",
    "df = pandas.read_csv('Titanic_data.csv')\n",
    "predictors=np.delete(df.values,0,1) # Detete a Column  [1->column 0->row]\n",
    "target=to_categorical(df.survived)\n",
    "pred_data=np.delete(pandas.read_csv('Titanic_pred_data.csv').values,0,1)\n",
    "n_cols = predictors.shape[1]\n",
    "\n",
    "\n",
    "\n",
    "lr_to_test = [.000001, 0.01, 1,0.001]\n",
    "\n",
    "for lr in lr_to_test:\n",
    "    print('\\n\\nTesting model with learning rate: %f\\n'%lr )\n",
    "    model= Sequential()\n",
    "    model.add(Dense(32,activation='relu',input_shape=(n_cols,)))\n",
    "    model.add(Dense(2,activation='softmax'))  \n",
    "    my_optimizer = SGD(lr=lr) # Optimizear\n",
    "    model.compile(optimizer=my_optimizer, loss='categorical_crossentropy',metrics=['accuracy'])\n",
    "    model.fit(predictors, target)\n"
   ]
  },
  {
   "cell_type": "code",
   "execution_count": 3,
   "metadata": {},
   "outputs": [
    {
     "name": "stdout",
     "output_type": "stream",
     "text": [
      "Train on 623 samples, validate on 268 samples\n",
      "Epoch 1/1\n",
      "623/623 [==============================] - 0s 170us/step - loss: 0.7850 - acc: 0.6404 - val_loss: 0.6671 - val_acc: 0.6567\n"
     ]
    },
    {
     "data": {
      "text/plain": [
       "<keras.callbacks.History at 0xc0ebf98>"
      ]
     },
     "execution_count": 3,
     "metadata": {},
     "output_type": "execute_result"
    }
   ],
   "source": [
    "#Validation split Data\n",
    "#Split data as per percentage\n",
    "#8\n",
    "model.fit(predictors, target,validation_split=0.3)"
   ]
  },
  {
   "cell_type": "code",
   "execution_count": 11,
   "metadata": {},
   "outputs": [
    {
     "name": "stdout",
     "output_type": "stream",
     "text": [
      "Train on 801 samples, validate on 90 samples\n",
      "Epoch 1/100\n",
      "801/801 [==============================] - 0s 251us/step - loss: 0.5811 - acc: 0.7079 - val_loss: 0.5646 - val_acc: 0.7889\n",
      "Epoch 2/100\n",
      "801/801 [==============================] - 0s 75us/step - loss: 0.5682 - acc: 0.7241 - val_loss: 0.5858 - val_acc: 0.7889\n",
      "Epoch 3/100\n",
      "801/801 [==============================] - 0s 110us/step - loss: 0.5745 - acc: 0.7029 - val_loss: 0.4882 - val_acc: 0.7556\n",
      "Epoch 4/100\n",
      "801/801 [==============================] - 0s 125us/step - loss: 0.5886 - acc: 0.7129 - val_loss: 0.8962 - val_acc: 0.6222\n",
      "Epoch 5/100\n",
      "801/801 [==============================] - ETA: 0s - loss: 0.5777 - acc: 0.710 - 0s 116us/step - loss: 0.5912 - acc: 0.7054 - val_loss: 0.7950 - val_acc: 0.6556\n",
      "Epoch 6/100\n",
      "801/801 [==============================] - 0s 139us/step - loss: 0.6430 - acc: 0.6979 - val_loss: 0.5427 - val_acc: 0.6889\n",
      "Epoch 7/100\n",
      "801/801 [==============================] - ETA: 0s - loss: 0.6064 - acc: 0.715 - 0s 109us/step - loss: 0.5878 - acc: 0.7216 - val_loss: 0.5627 - val_acc: 0.6556\n",
      "Epoch 8/100\n",
      "801/801 [==============================] - 0s 96us/step - loss: 0.5624 - acc: 0.7179 - val_loss: 0.4789 - val_acc: 0.7889\n",
      "Epoch 9/100\n",
      "801/801 [==============================] - 0s 105us/step - loss: 0.5806 - acc: 0.6966 - val_loss: 0.8572 - val_acc: 0.6444\n",
      "Epoch 10/100\n",
      "801/801 [==============================] - 0s 117us/step - loss: 0.6050 - acc: 0.7116 - val_loss: 0.4813 - val_acc: 0.7556\n",
      "Epoch 11/100\n",
      "801/801 [==============================] - 0s 126us/step - loss: 0.5858 - acc: 0.7191 - val_loss: 0.4715 - val_acc: 0.7889\n",
      "Epoch 12/100\n",
      "801/801 [==============================] - 0s 120us/step - loss: 0.5747 - acc: 0.7141 - val_loss: 0.5606 - val_acc: 0.6444\n",
      "Epoch 13/100\n",
      "801/801 [==============================] - 0s 95us/step - loss: 0.5565 - acc: 0.7141 - val_loss: 0.7101 - val_acc: 0.6000\n",
      "Epoch 14/100\n",
      "801/801 [==============================] - 0s 94us/step - loss: 0.5998 - acc: 0.7129 - val_loss: 0.7372 - val_acc: 0.6333\n",
      "Epoch 15/100\n",
      "801/801 [==============================] - 0s 165us/step - loss: 0.5901 - acc: 0.7029 - val_loss: 0.4936 - val_acc: 0.7444\n",
      "Epoch 16/100\n",
      "801/801 [==============================] - 0s 149us/step - loss: 0.5563 - acc: 0.7154 - val_loss: 0.8221 - val_acc: 0.4111\n",
      "Epoch 17/100\n",
      "801/801 [==============================] - 0s 120us/step - loss: 0.5819 - acc: 0.6966 - val_loss: 0.5449 - val_acc: 0.6778\n",
      "Epoch 18/100\n",
      "801/801 [==============================] - 0s 151us/step - loss: 0.5815 - acc: 0.7066 - val_loss: 0.4901 - val_acc: 0.7444\n",
      "Epoch 19/100\n",
      "801/801 [==============================] - 0s 95us/step - loss: 0.5708 - acc: 0.7216 - val_loss: 0.7013 - val_acc: 0.6444\n",
      "Epoch 20/100\n",
      "801/801 [==============================] - 0s 151us/step - loss: 0.5644 - acc: 0.7328 - val_loss: 0.4961 - val_acc: 0.7444\n",
      "Epoch 21/100\n",
      "801/801 [==============================] - 0s 82us/step - loss: 0.5517 - acc: 0.7179 - val_loss: 0.5821 - val_acc: 0.7556\n",
      "Epoch 22/100\n",
      "801/801 [==============================] - 0s 145us/step - loss: 0.6117 - acc: 0.7129 - val_loss: 0.5311 - val_acc: 0.7222\n",
      "Epoch 23/100\n",
      "801/801 [==============================] - 0s 172us/step - loss: 0.5583 - acc: 0.7179 - val_loss: 0.7706 - val_acc: 0.6000\n",
      "Epoch 24/100\n",
      "801/801 [==============================] - 0s 140us/step - loss: 0.6085 - acc: 0.7116 - val_loss: 0.4799 - val_acc: 0.7667\n",
      "Epoch 25/100\n",
      "801/801 [==============================] - 0s 105us/step - loss: 0.5623 - acc: 0.7228 - val_loss: 0.5789 - val_acc: 0.7444\n",
      "Epoch 26/100\n",
      "801/801 [==============================] - 0s 151us/step - loss: 0.5657 - acc: 0.7341 - val_loss: 0.4961 - val_acc: 0.7444\n",
      "Epoch 27/100\n",
      "801/801 [==============================] - 0s 165us/step - loss: 0.5549 - acc: 0.7216 - val_loss: 0.5387 - val_acc: 0.7889\n",
      "Epoch 28/100\n",
      "801/801 [==============================] - 0s 162us/step - loss: 0.5713 - acc: 0.7253 - val_loss: 0.4991 - val_acc: 0.7333\n",
      "Epoch 29/100\n",
      "801/801 [==============================] - 0s 174us/step - loss: 0.5562 - acc: 0.7403 - val_loss: 0.7367 - val_acc: 0.7000\n",
      "Epoch 30/100\n",
      "801/801 [==============================] - 0s 166us/step - loss: 0.6264 - acc: 0.6929 - val_loss: 0.5091 - val_acc: 0.7222\n",
      "Epoch 31/100\n",
      "801/801 [==============================] - 0s 177us/step - loss: 0.5649 - acc: 0.7091 - val_loss: 0.4545 - val_acc: 0.7667\n",
      "Epoch 32/100\n",
      "801/801 [==============================] - 0s 109us/step - loss: 0.5400 - acc: 0.7328 - val_loss: 0.5051 - val_acc: 0.7333\n",
      "Epoch 33/100\n",
      "801/801 [==============================] - 0s 141us/step - loss: 0.5597 - acc: 0.7141 - val_loss: 0.4597 - val_acc: 0.7778\n",
      "Epoch 34/100\n",
      "801/801 [==============================] - 0s 104us/step - loss: 0.5870 - acc: 0.7228 - val_loss: 0.5159 - val_acc: 0.7444\n",
      "Epoch 35/100\n",
      "801/801 [==============================] - 0s 104us/step - loss: 0.5567 - acc: 0.7316 - val_loss: 0.4560 - val_acc: 0.7778\n",
      "Epoch 36/100\n",
      "801/801 [==============================] - 0s 60us/step - loss: 0.5756 - acc: 0.7141 - val_loss: 1.7353 - val_acc: 0.6222\n",
      "Epoch 37/100\n",
      "801/801 [==============================] - 0s 129us/step - loss: 0.6807 - acc: 0.7041 - val_loss: 0.5828 - val_acc: 0.7556\n",
      "Epoch 38/100\n",
      "801/801 [==============================] - 0s 155us/step - loss: 0.5424 - acc: 0.7253 - val_loss: 0.5577 - val_acc: 0.6667\n",
      "Epoch 39/100\n",
      "801/801 [==============================] - 0s 134us/step - loss: 0.5829 - acc: 0.7116 - val_loss: 0.5371 - val_acc: 0.6889\n",
      "Epoch 40/100\n",
      "801/801 [==============================] - 0s 140us/step - loss: 0.5587 - acc: 0.7278 - val_loss: 0.5315 - val_acc: 0.6889\n",
      "Epoch 41/100\n",
      "801/801 [==============================] - 0s 129us/step - loss: 0.5768 - acc: 0.7066 - val_loss: 0.4946 - val_acc: 0.7444\n",
      "Epoch 42/100\n",
      "801/801 [==============================] - 0s 99us/step - loss: 0.5565 - acc: 0.7328 - val_loss: 0.5575 - val_acc: 0.6889\n",
      "Epoch 43/100\n",
      "801/801 [==============================] - 0s 121us/step - loss: 0.5808 - acc: 0.7129 - val_loss: 0.5495 - val_acc: 0.6667\n",
      "Epoch 44/100\n",
      "801/801 [==============================] - 0s 97us/step - loss: 0.5678 - acc: 0.7253 - val_loss: 0.6093 - val_acc: 0.7778\n",
      "Epoch 45/100\n",
      "801/801 [==============================] - 0s 75us/step - loss: 0.5692 - acc: 0.7191 - val_loss: 0.5561 - val_acc: 0.7889\n",
      "Epoch 46/100\n",
      "801/801 [==============================] - 0s 122us/step - loss: 0.5649 - acc: 0.7216 - val_loss: 0.4543 - val_acc: 0.7778\n",
      "Epoch 47/100\n",
      "801/801 [==============================] - 0s 92us/step - loss: 0.5659 - acc: 0.7266 - val_loss: 0.4765 - val_acc: 0.8111\n",
      "Epoch 48/100\n",
      "801/801 [==============================] - 0s 130us/step - loss: 0.5460 - acc: 0.7191 - val_loss: 0.5103 - val_acc: 0.8000\n",
      "Epoch 49/100\n",
      "801/801 [==============================] - 0s 169us/step - loss: 0.5758 - acc: 0.7203 - val_loss: 0.5731 - val_acc: 0.6444\n",
      "Epoch 50/100\n",
      "801/801 [==============================] - 0s 102us/step - loss: 0.5597 - acc: 0.7216 - val_loss: 0.7373 - val_acc: 0.4222\n",
      "Epoch 51/100\n",
      "801/801 [==============================] - 0s 66us/step - loss: 0.5676 - acc: 0.7141 - val_loss: 0.4496 - val_acc: 0.7778\n",
      "Epoch 52/100\n",
      "801/801 [==============================] - 0s 111us/step - loss: 0.5415 - acc: 0.7453 - val_loss: 0.4764 - val_acc: 0.7667\n",
      "Epoch 53/100\n",
      "801/801 [==============================] - 0s 110us/step - loss: 0.5578 - acc: 0.7191 - val_loss: 0.6464 - val_acc: 0.6778\n",
      "Epoch 54/100\n",
      "801/801 [==============================] - 0s 111us/step - loss: 0.6171 - acc: 0.7228 - val_loss: 0.5480 - val_acc: 0.7778\n",
      "Epoch 55/100\n",
      "801/801 [==============================] - 0s 129us/step - loss: 0.5554 - acc: 0.7478 - val_loss: 0.7298 - val_acc: 0.6444\n",
      "Epoch 56/100\n",
      "801/801 [==============================] - 0s 159us/step - loss: 0.6195 - acc: 0.7191 - val_loss: 0.4754 - val_acc: 0.7667\n",
      "Epoch 57/100\n",
      "801/801 [==============================] - 0s 126us/step - loss: 0.5405 - acc: 0.7366 - val_loss: 0.4782 - val_acc: 0.8000\n",
      "Epoch 58/100\n",
      "801/801 [==============================] - 0s 117us/step - loss: 0.5549 - acc: 0.7391 - val_loss: 0.4635 - val_acc: 0.7667\n",
      "Epoch 59/100\n",
      "801/801 [==============================] - 0s 167us/step - loss: 0.5374 - acc: 0.7353 - val_loss: 0.4490 - val_acc: 0.7889\n",
      "Epoch 60/100\n"
     ]
    },
    {
     "name": "stdout",
     "output_type": "stream",
     "text": [
      "801/801 [==============================] - 0s 135us/step - loss: 0.5453 - acc: 0.7328 - val_loss: 0.5316 - val_acc: 0.7111\n",
      "Epoch 61/100\n",
      "801/801 [==============================] - 0s 207us/step - loss: 0.5586 - acc: 0.7278 - val_loss: 0.5570 - val_acc: 0.7889\n",
      "Epoch 62/100\n",
      "801/801 [==============================] - 0s 137us/step - loss: 0.5886 - acc: 0.7278 - val_loss: 0.5862 - val_acc: 0.7889\n",
      "Epoch 63/100\n",
      "801/801 [==============================] - 0s 70us/step - loss: 0.5678 - acc: 0.7391 - val_loss: 0.4726 - val_acc: 0.7444\n",
      "Epoch 64/100\n",
      "801/801 [==============================] - 0s 61us/step - loss: 0.5648 - acc: 0.7216 - val_loss: 0.4799 - val_acc: 0.7556\n",
      "Epoch 65/100\n",
      "801/801 [==============================] - 0s 60us/step - loss: 0.5358 - acc: 0.7441 - val_loss: 2.3667 - val_acc: 0.6222\n",
      "Epoch 66/100\n",
      "801/801 [==============================] - 0s 92us/step - loss: 0.9652 - acc: 0.7016 - val_loss: 0.7109 - val_acc: 0.7000\n",
      "Epoch 67/100\n",
      "801/801 [==============================] - 0s 70us/step - loss: 0.5776 - acc: 0.7228 - val_loss: 0.6618 - val_acc: 0.6778\n",
      "Epoch 68/100\n",
      "801/801 [==============================] - 0s 61us/step - loss: 0.5710 - acc: 0.7166 - val_loss: 1.4609 - val_acc: 0.6222\n",
      "Epoch 69/100\n",
      "801/801 [==============================] - 0s 97us/step - loss: 0.7131 - acc: 0.7116 - val_loss: 0.4781 - val_acc: 0.8000\n",
      "Epoch 70/100\n",
      "801/801 [==============================] - 0s 77us/step - loss: 0.5843 - acc: 0.7041 - val_loss: 0.4668 - val_acc: 0.7778\n",
      "Epoch 71/100\n",
      "801/801 [==============================] - 0s 107us/step - loss: 0.5350 - acc: 0.7316 - val_loss: 3.2191 - val_acc: 0.6222\n",
      "Epoch 72/100\n",
      "801/801 [==============================] - 0s 67us/step - loss: 2.3891 - acc: 0.5943 - val_loss: 1.4654 - val_acc: 0.6222\n",
      "Epoch 73/100\n",
      "801/801 [==============================] - 0s 55us/step - loss: 0.8933 - acc: 0.6292 - val_loss: 0.5440 - val_acc: 0.7222\n",
      "Epoch 74/100\n",
      "801/801 [==============================] - 0s 71us/step - loss: 0.6208 - acc: 0.6866 - val_loss: 0.5507 - val_acc: 0.7444\n",
      "Epoch 75/100\n",
      "801/801 [==============================] - 0s 87us/step - loss: 0.6083 - acc: 0.7041 - val_loss: 0.5164 - val_acc: 0.7333\n",
      "Epoch 76/100\n",
      "801/801 [==============================] - 0s 155us/step - loss: 0.6015 - acc: 0.7016 - val_loss: 1.1243 - val_acc: 0.6556\n",
      "Epoch 77/100\n",
      "801/801 [==============================] - 0s 126us/step - loss: 0.8650 - acc: 0.6816 - val_loss: 0.5467 - val_acc: 0.7222\n",
      "Epoch 78/100\n",
      "801/801 [==============================] - 0s 65us/step - loss: 0.5818 - acc: 0.7041 - val_loss: 0.5585 - val_acc: 0.7222\n",
      "Epoch 79/100\n",
      "801/801 [==============================] - 0s 66us/step - loss: 0.6201 - acc: 0.6991 - val_loss: 0.5392 - val_acc: 0.7333\n",
      "Epoch 80/100\n",
      "801/801 [==============================] - 0s 65us/step - loss: 0.5816 - acc: 0.7253 - val_loss: 0.5935 - val_acc: 0.6556\n",
      "Epoch 81/100\n",
      "801/801 [==============================] - 0s 84us/step - loss: 0.5734 - acc: 0.7291 - val_loss: 0.5616 - val_acc: 0.7778\n",
      "Epoch 82/100\n",
      "801/801 [==============================] - 0s 89us/step - loss: 0.5852 - acc: 0.7141 - val_loss: 0.5852 - val_acc: 0.6556\n",
      "Epoch 83/100\n",
      "801/801 [==============================] - 0s 129us/step - loss: 0.5772 - acc: 0.7129 - val_loss: 0.5592 - val_acc: 0.7556\n",
      "Epoch 84/100\n",
      "801/801 [==============================] - 0s 190us/step - loss: 0.5990 - acc: 0.6941 - val_loss: 0.6108 - val_acc: 0.6667\n",
      "Epoch 85/100\n",
      "801/801 [==============================] - 0s 111us/step - loss: 0.5814 - acc: 0.7154 - val_loss: 0.7025 - val_acc: 0.6333\n",
      "Epoch 86/100\n",
      "801/801 [==============================] - 0s 139us/step - loss: 0.6063 - acc: 0.6966 - val_loss: 0.5549 - val_acc: 0.7111\n",
      "Epoch 87/100\n",
      "801/801 [==============================] - 0s 116us/step - loss: 0.5860 - acc: 0.7116 - val_loss: 0.5048 - val_acc: 0.7889\n",
      "Epoch 88/100\n",
      "801/801 [==============================] - 0s 164us/step - loss: 0.5676 - acc: 0.7316 - val_loss: 0.5300 - val_acc: 0.7667\n",
      "Epoch 89/100\n",
      "801/801 [==============================] - 0s 157us/step - loss: 0.5775 - acc: 0.7191 - val_loss: 0.5402 - val_acc: 0.6889\n",
      "Epoch 90/100\n",
      "801/801 [==============================] - 0s 130us/step - loss: 0.5742 - acc: 0.7179 - val_loss: 0.5068 - val_acc: 0.7778\n",
      "Epoch 91/100\n",
      "801/801 [==============================] - 0s 132us/step - loss: 0.5643 - acc: 0.7266 - val_loss: 0.6023 - val_acc: 0.6556\n",
      "Epoch 92/100\n",
      "801/801 [==============================] - 0s 130us/step - loss: 0.5687 - acc: 0.7228 - val_loss: 0.5090 - val_acc: 0.7333\n",
      "Epoch 93/100\n",
      "801/801 [==============================] - 0s 94us/step - loss: 0.5766 - acc: 0.7353 - val_loss: 0.5188 - val_acc: 0.7667\n",
      "Epoch 94/100\n",
      "801/801 [==============================] - 0s 142us/step - loss: 0.5800 - acc: 0.7166 - val_loss: 0.5841 - val_acc: 0.7444\n",
      "Epoch 95/100\n",
      "801/801 [==============================] - 0s 115us/step - loss: 0.5710 - acc: 0.7179 - val_loss: 0.6656 - val_acc: 0.6333\n",
      "Epoch 96/100\n",
      "801/801 [==============================] - 0s 125us/step - loss: 0.5772 - acc: 0.7166 - val_loss: 2.7942 - val_acc: 0.6222\n",
      "Epoch 97/100\n",
      "801/801 [==============================] - 0s 242us/step - loss: 1.5900 - acc: 0.6105 - val_loss: 0.5603 - val_acc: 0.7444\n",
      "Epoch 98/100\n",
      "801/801 [==============================] - 0s 129us/step - loss: 0.5879 - acc: 0.6891 - val_loss: 0.5310 - val_acc: 0.7667\n",
      "Epoch 99/100\n",
      "801/801 [==============================] - 0s 175us/step - loss: 0.5823 - acc: 0.7054 - val_loss: 0.5154 - val_acc: 0.7667\n",
      "Epoch 100/100\n",
      "801/801 [==============================] - 0s 132us/step - loss: 0.5712 - acc: 0.7116 - val_loss: 0.5226 - val_acc: 0.7667\n"
     ]
    },
    {
     "data": {
      "text/plain": [
       "<keras.callbacks.History at 0xeea81d0>"
      ]
     },
     "execution_count": 11,
     "metadata": {},
     "output_type": "execute_result"
    }
   ],
   "source": [
    "#epochs\n",
    "#Do Forword and backword Propogatin for Learning\n",
    "#An epoch is one forward pass and one backward pass of all training examples\n",
    "#One epoch consists of one full training cycle on the training set\n",
    "#5 epochs as pybrain advice, the dataset will be divided into 5 subsets\n",
    "#and the wights will update 5 times as maximum\n",
    "#9\n",
    "model.fit(predictors, target,validation_split=0.1,epochs=100)"
   ]
  },
  {
   "cell_type": "code",
   "execution_count": 12,
   "metadata": {
    "scrolled": true
   },
   "outputs": [
    {
     "name": "stdout",
     "output_type": "stream",
     "text": [
      "Train on 623 samples, validate on 268 samples\n",
      "Epoch 1/20\n",
      "623/623 [==============================] - 0s 64us/step - loss: 0.5903 - acc: 0.7014 - val_loss: 0.6546 - val_acc: 0.7351\n",
      "Epoch 2/20\n",
      "623/623 [==============================] - 0s 108us/step - loss: 0.5949 - acc: 0.6982 - val_loss: 0.5063 - val_acc: 0.7575\n",
      "Epoch 3/20\n",
      "623/623 [==============================] - 0s 164us/step - loss: 0.5742 - acc: 0.7159 - val_loss: 0.5093 - val_acc: 0.7910\n",
      "Epoch 4/20\n",
      "623/623 [==============================] - 0s 77us/step - loss: 0.5722 - acc: 0.6966 - val_loss: 0.5365 - val_acc: 0.7724\n",
      "Epoch 5/20\n",
      "623/623 [==============================] - 0s 90us/step - loss: 0.5809 - acc: 0.6982 - val_loss: 0.5081 - val_acc: 0.7910\n"
     ]
    },
    {
     "data": {
      "text/plain": [
       "<keras.callbacks.History at 0xeea85f8>"
      ]
     },
     "execution_count": 12,
     "metadata": {},
     "output_type": "execute_result"
    }
   ],
   "source": [
    "#Early Stopping\n",
    "#How many epoch before stopping training\n",
    "#Call Early Stopping Through Callbacks  :: This take List as input\n",
    "# optimization will automatically stop when it is no longer helpful\n",
    "#9\n",
    "from keras.callbacks import EarlyStopping\n",
    "early_stopping_monitor = EarlyStopping(patience=3)\n",
    "model.fit(predictors, target,validation_split=0.3, epochs=20,callbacks = [early_stopping_monitor])"
   ]
  },
  {
   "cell_type": "code",
   "execution_count": 37,
   "metadata": {},
   "outputs": [],
   "source": [
    "# Deep Nural Network_Regression \n",
    "# Nuron Layers   (Nodes_Nuron and Activation Function) |Nurons_Layerof hidden layers Only\n",
    "# predictors and target in nparray format\n",
    "# Activation= 'relu' 'sigmodial' 'tanh'\n",
    "#10\n",
    "def DeepNetwork_Reg(predictors,target,layers=5,Nurons_Layer=[(100,'relu'),(100,'relu'),(100,'relu'),(100,'relu'),(100,'relu')]):\n",
    "    from keras.layers import Dense\n",
    "    from keras.models import Sequential\n",
    "    \n",
    "    n_cols = predictors.shape[1]\n",
    "    model= Sequential()\n",
    "    model.add(Dense(Nurons_Layer[0][0], activation=Nurons_Layer[0][1],input_shape=(n_cols,))) \n",
    "    for i in range(layers-1):\n",
    "        model.add(Dense(Nurons_Layer[i][0], activation=Nurons_Layer[i][1]))\n",
    "    model.add(Dense(1))\n",
    "    return model"
   ]
  },
  {
   "cell_type": "code",
   "execution_count": 18,
   "metadata": {},
   "outputs": [],
   "source": [
    "a=[(100,'relu')]"
   ]
  },
  {
   "cell_type": "code",
   "execution_count": 40,
   "metadata": {},
   "outputs": [
    {
     "name": "stdout",
     "output_type": "stream",
     "text": [
      "_________________________________________________________________\n",
      "Layer (type)                 Output Shape              Param #   \n",
      "=================================================================\n",
      "dense_57 (Dense)             (None, 100)               1100      \n",
      "_________________________________________________________________\n",
      "dense_58 (Dense)             (None, 100)               10100     \n",
      "_________________________________________________________________\n",
      "dense_59 (Dense)             (None, 100)               10100     \n",
      "_________________________________________________________________\n",
      "dense_60 (Dense)             (None, 100)               10100     \n",
      "_________________________________________________________________\n",
      "dense_61 (Dense)             (None, 100)               10100     \n",
      "_________________________________________________________________\n",
      "dense_62 (Dense)             (None, 1)                 101       \n",
      "=================================================================\n",
      "Total params: 41,601\n",
      "Trainable params: 41,601\n",
      "Non-trainable params: 0\n",
      "_________________________________________________________________\n"
     ]
    }
   ],
   "source": [
    "A=DeepNetwork_Reg(predictors,target)\n",
    "A.summary()"
   ]
  },
  {
   "cell_type": "code",
   "execution_count": null,
   "metadata": {},
   "outputs": [],
   "source": [
    "df = pandas.read_csv('hourly_wages.csv')\n",
    "predictors=np.delete(df.values,0,1) # Detete a Column  [1->column 0->row]\n",
    "target=df.values[:,0] # or # df.wage_per_hour\n",
    "n_cols = predictors.shape[1]\n"
   ]
  },
  {
   "cell_type": "code",
   "execution_count": 26,
   "metadata": {},
   "outputs": [
    {
     "name": "stdout",
     "output_type": "stream",
     "text": [
      "1\n",
      "2\n",
      "3\n",
      "4\n"
     ]
    }
   ],
   "source": [
    "for i in range(5-1):\n",
    "    print (i+1)"
   ]
  },
  {
   "cell_type": "code",
   "execution_count": null,
   "metadata": {},
   "outputs": [],
   "source": []
  }
 ],
 "metadata": {
  "kernelspec": {
   "display_name": "Python 3",
   "language": "python",
   "name": "python3"
  },
  "language_info": {
   "codemirror_mode": {
    "name": "ipython",
    "version": 3
   },
   "file_extension": ".py",
   "mimetype": "text/x-python",
   "name": "python",
   "nbconvert_exporter": "python",
   "pygments_lexer": "ipython3",
   "version": "3.6.1"
  }
 },
 "nbformat": 4,
 "nbformat_minor": 2
}
