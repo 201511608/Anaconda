{
 "cells": [
  {
   "cell_type": "code",
   "execution_count": 23,
   "metadata": {},
   "outputs": [
    {
     "name": "stdout",
     "output_type": "stream",
     "text": [
      "   X1  X2  X3  X4  X5  X6  X7  X8  X9  OUTCOME  STATUS_X  STATUS_O  \\\n",
      "0   0   0   3   0   1   0   0   0   0        1       NaN       NaN   \n",
      "1   3   1   3   0   1   0   0   0   0        8       NaN       NaN   \n",
      "2   3   1   3   1   1   0   0   3   0        6       NaN       NaN   \n",
      "3   3   1   3   1   1   3   0   3   1        7       NaN       NaN   \n",
      "\n",
      "   INTILLEGENCE_X  INTILLEGENCE_O  \n",
      "0              10              10  \n",
      "1              10              10  \n",
      "2              10              10  \n",
      "3              10              10  \n",
      "Train on 3 samples, validate on 1 samples\n",
      "Epoch 1/20\n",
      "3/3 [==============================] - 1s 242ms/step - loss: 24.6667 - val_loss: 36.0000\n",
      "Epoch 2/20\n",
      "3/3 [==============================] - 0s 0us/step - loss: 24.6667 - val_loss: 36.0000\n",
      "Epoch 3/20\n",
      "3/3 [==============================] - 0s 0us/step - loss: 24.6667 - val_loss: 36.0000\n",
      "Epoch 4/20\n",
      "3/3 [==============================] - 0s 10ms/step - loss: 24.6667 - val_loss: 36.0000\n",
      "Epoch 5/20\n",
      "3/3 [==============================] - 0s 0us/step - loss: 24.6667 - val_loss: 36.0000\n",
      "Epoch 6/20\n",
      "3/3 [==============================] - 0s 3ms/step - loss: 24.6667 - val_loss: 36.0000\n",
      "Epoch 7/20\n",
      "3/3 [==============================] - 0s 3ms/step - loss: 24.6667 - val_loss: 36.0000\n",
      "Epoch 8/20\n",
      "3/3 [==============================] - 0s 7ms/step - loss: 24.6667 - val_loss: 36.0000\n",
      "Epoch 9/20\n",
      "3/3 [==============================] - 0s 7ms/step - loss: 24.6667 - val_loss: 36.0000\n",
      "Epoch 10/20\n",
      "3/3 [==============================] - 0s 3ms/step - loss: 24.6667 - val_loss: 36.0000\n",
      "Epoch 11/20\n",
      "3/3 [==============================] - 0s 10ms/step - loss: 24.6667 - val_loss: 36.0000\n"
     ]
    },
    {
     "data": {
      "text/plain": [
       "<keras.callbacks.History at 0x119cddd8>"
      ]
     },
     "execution_count": 23,
     "metadata": {},
     "output_type": "execute_result"
    }
   ],
   "source": [
    "import pandas as pd\n",
    "import numpy as np\n",
    "import keras\n",
    "from keras.layers import Dense\n",
    "from keras.models import Sequential\n",
    "from keras.callbacks import EarlyStopping\n",
    "\n",
    "from sklearn.model_selection import train_test_split\n",
    "data=pd.read_csv('MinMax_Data1.csv')\n",
    "print (data.head())\n",
    "X=data.drop(['OUTCOME','STATUS_X','STATUS_O','INTILLEGENCE_X','INTILLEGENCE_O'],axis=1).values\n",
    "Y=data['OUTCOME'].values\n",
    "# print(data.head())\n",
    "# print(X)\n",
    "# print(Y)\n",
    "X_train,X_test,Y_train,Y_test=train_test_split(X,Y,test_size=0.1,random_state=42)\n",
    "\n",
    "model = Sequential()\n",
    "model.add(Dense(100, activation='relu', input_shape = (9,)))\n",
    "model.add(Dense(100, activation='relu'))\n",
    "model.add(Dense(100, activation='relu'))\n",
    "model.add(Dense(1, activation='softmax'))\n",
    "\n",
    "model.compile(optimizer='adam',loss='mean_squared_error')\n",
    "model.fit(X,Y,validation_split=0.15,epochs=20,callbacks=[EarlyStopping(patience=10)],verbose=True)\n"
   ]
  },
  {
   "cell_type": "code",
   "execution_count": 34,
   "metadata": {},
   "outputs": [
    {
     "name": "stdout",
     "output_type": "stream",
     "text": [
      "[[ 1.]]\n"
     ]
    }
   ],
   "source": [
    "predictions=model.predict(X_test)\n",
    "print (predictions)"
   ]
  },
  {
   "cell_type": "code",
   "execution_count": null,
   "metadata": {
    "collapsed": true
   },
   "outputs": [],
   "source": []
  }
 ],
 "metadata": {
  "kernelspec": {
   "display_name": "Python 3",
   "language": "python",
   "name": "python3"
  },
  "language_info": {
   "codemirror_mode": {
    "name": "ipython",
    "version": 3
   },
   "file_extension": ".py",
   "mimetype": "text/x-python",
   "name": "python",
   "nbconvert_exporter": "python",
   "pygments_lexer": "ipython3",
   "version": "3.6.1"
  }
 },
 "nbformat": 4,
 "nbformat_minor": 2
}
