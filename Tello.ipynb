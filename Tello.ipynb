{
 "cells": [
  {
   "cell_type": "code",
   "execution_count": 1,
   "metadata": {},
   "outputs": [],
   "source": [
    "from easytello import tello"
   ]
  },
  {
   "cell_type": "code",
   "execution_count": 2,
   "metadata": {},
   "outputs": [
    {
     "name": "stdout",
     "output_type": "stream",
     "text": [
      "Sending command: command\n",
      "Response: b'ok'\n"
     ]
    }
   ],
   "source": [
    "my_drone = tello.Tello()"
   ]
  },
  {
   "cell_type": "code",
   "execution_count": 3,
   "metadata": {},
   "outputs": [
    {
     "name": "stdout",
     "output_type": "stream",
     "text": [
      "Sending command: streamon\n",
      "Response: b'ok'\n"
     ]
    }
   ],
   "source": [
    "my_drone.streamon()"
   ]
  },
  {
   "cell_type": "code",
   "execution_count": 3,
   "metadata": {},
   "outputs": [
    {
     "name": "stdout",
     "output_type": "stream",
     "text": [
      "Sending command: streamoff\n",
      "Response: b'ok'\n"
     ]
    }
   ],
   "source": [
    "my_drone.streamoff()"
   ]
  },
  {
   "cell_type": "code",
   "execution_count": 7,
   "metadata": {},
   "outputs": [
    {
     "name": "stdout",
     "output_type": "stream",
     "text": [
      "Sending command: takeoff\n",
      "Response: b'ok'\n"
     ]
    }
   ],
   "source": [
    "my_drone.takeoff()\n"
   ]
  },
  {
   "cell_type": "code",
   "execution_count": 10,
   "metadata": {},
   "outputs": [
    {
     "name": "stdout",
     "output_type": "stream",
     "text": [
      "Sending command: cw 180\n",
      "Response: b'ok'\n"
     ]
    }
   ],
   "source": [
    "my_drone.cw(180)"
   ]
  },
  {
   "cell_type": "code",
   "execution_count": 11,
   "metadata": {},
   "outputs": [
    {
     "name": "stdout",
     "output_type": "stream",
     "text": [
      "Sending command: forward 100\n",
      "Response: b'ok'\n"
     ]
    }
   ],
   "source": [
    "my_drone.forward(100)"
   ]
  },
  {
   "cell_type": "code",
   "execution_count": 49,
   "metadata": {},
   "outputs": [
    {
     "name": "stdout",
     "output_type": "stream",
     "text": [
      "Sending command: forward 0.1\n",
      "Response: b'out of range'\n"
     ]
    }
   ],
   "source": [
    "my_drone.forward(0.1)"
   ]
  },
  {
   "cell_type": "code",
   "execution_count": 12,
   "metadata": {},
   "outputs": [
    {
     "name": "stdout",
     "output_type": "stream",
     "text": [
      "Sending command: land\n",
      "Response: b'ok'\n"
     ]
    }
   ],
   "source": [
    "my_drone.land()"
   ]
  },
  {
   "cell_type": "code",
   "execution_count": 10,
   "metadata": {},
   "outputs": [
    {
     "name": "stdout",
     "output_type": "stream",
     "text": [
      "Sending command: temp?\n"
     ]
    },
    {
     "data": {
      "text/plain": [
       "87.0"
      ]
     },
     "execution_count": 10,
     "metadata": {},
     "output_type": "execute_result"
    }
   ],
   "source": [
    " my_drone.get_temp()"
   ]
  },
  {
   "cell_type": "code",
   "execution_count": 31,
   "metadata": {},
   "outputs": [
    {
     "name": "stdout",
     "output_type": "stream",
     "text": [
      "Sending command: attitude?\n"
     ]
    },
    {
     "data": {
      "text/plain": [
       "(0, 0, 26)"
      ]
     },
     "execution_count": 31,
     "metadata": {},
     "output_type": "execute_result"
    }
   ],
   "source": [
    "my_drone.get_attitude()"
   ]
  },
  {
   "cell_type": "code",
   "execution_count": 21,
   "metadata": {},
   "outputs": [
    {
     "name": "stdout",
     "output_type": "stream",
     "text": [
      "Sending command: baro?\n"
     ]
    },
    {
     "data": {
      "text/plain": [
       "196.527328"
      ]
     },
     "execution_count": 21,
     "metadata": {},
     "output_type": "execute_result"
    }
   ],
   "source": [
    "my_drone.get_baro()\n"
   ]
  },
  {
   "cell_type": "code",
   "execution_count": 26,
   "metadata": {},
   "outputs": [
    {
     "name": "stdout",
     "output_type": "stream",
     "text": [
      "Sending command: baro?\n"
     ]
    },
    {
     "data": {
      "text/plain": [
       "196.017365"
      ]
     },
     "execution_count": 26,
     "metadata": {},
     "output_type": "execute_result"
    }
   ],
   "source": [
    "my_drone.get_baro()\n",
    "\n",
    "\n"
   ]
  },
  {
   "cell_type": "code",
   "execution_count": 7,
   "metadata": {},
   "outputs": [
    {
     "name": "stdout",
     "output_type": "stream",
     "text": [
      "Sending command: back 1\n",
      "Response: b'out of range'\n"
     ]
    }
   ],
   "source": [
    "my_drone.back(1)"
   ]
  },
  {
   "cell_type": "code",
   "execution_count": 3,
   "metadata": {},
   "outputs": [
    {
     "name": "stdout",
     "output_type": "stream",
     "text": [
      "Help on module easytello.tello in easytello:\n",
      "\n",
      "NAME\n",
      "    easytello.tello\n",
      "\n",
      "CLASSES\n",
      "    builtins.object\n",
      "        Tello\n",
      "    \n",
      "    class Tello(builtins.object)\n",
      "     |  Tello(tello_ip: str = '192.168.10.1', debug: bool = True)\n",
      "     |  \n",
      "     |  Methods defined here:\n",
      "     |  \n",
      "     |  __init__(self, tello_ip: str = '192.168.10.1', debug: bool = True)\n",
      "     |      Initialize self.  See help(type(self)) for accurate signature.\n",
      "     |  \n",
      "     |  back(self, dist: int)\n",
      "     |  \n",
      "     |  ccw(self, degr: int)\n",
      "     |  \n",
      "     |  command(self)\n",
      "     |      # Controll Commands\n",
      "     |  \n",
      "     |  curve(self, x1: int, y1: int, z1: int, x2: int, y2: int, z2: int, speed: int)\n",
      "     |  \n",
      "     |  cw(self, degr: int)\n",
      "     |  \n",
      "     |  down(self, dist: int)\n",
      "     |  \n",
      "     |  emergency(self)\n",
      "     |  \n",
      "     |  flip(self, direc: str)\n",
      "     |  \n",
      "     |  forward(self, dist: int)\n",
      "     |  \n",
      "     |  get_acceleration(self)\n",
      "     |  \n",
      "     |  get_attitude(self)\n",
      "     |  \n",
      "     |  get_baro(self)\n",
      "     |  \n",
      "     |  get_battery(self)\n",
      "     |  \n",
      "     |  get_height(self)\n",
      "     |  \n",
      "     |  get_log(self)\n",
      "     |  \n",
      "     |  get_speed(self)\n",
      "     |      # Read Commands\n",
      "     |  \n",
      "     |  get_temp(self)\n",
      "     |  \n",
      "     |  get_time(self)\n",
      "     |  \n",
      "     |  get_tof(self)\n",
      "     |  \n",
      "     |  get_wifi(self)\n",
      "     |  \n",
      "     |  go(self, x: int, y: int, z: int, speed: int)\n",
      "     |  \n",
      "     |  land(self)\n",
      "     |  \n",
      "     |  left(self, dist: int)\n",
      "     |  \n",
      "     |  rc_control(self, a: int, b: int, c: int, d: int)\n",
      "     |  \n",
      "     |  right(self, dist: int)\n",
      "     |  \n",
      "     |  send_command(self, command: str, query: bool = False)\n",
      "     |  \n",
      "     |  set_speed(self, speed: int)\n",
      "     |      # Set Commands\n",
      "     |  \n",
      "     |  set_wifi(self, ssid: str, passwrd: str)\n",
      "     |  \n",
      "     |  streamoff(self)\n",
      "     |  \n",
      "     |  streamon(self)\n",
      "     |  \n",
      "     |  takeoff(self)\n",
      "     |  \n",
      "     |  up(self, dist: int)\n",
      "     |      # Movement Commands\n",
      "     |  \n",
      "     |  wait(self, delay: float)\n",
      "     |  \n",
      "     |  ----------------------------------------------------------------------\n",
      "     |  Data descriptors defined here:\n",
      "     |  \n",
      "     |  __dict__\n",
      "     |      dictionary for instance variables (if defined)\n",
      "     |  \n",
      "     |  __weakref__\n",
      "     |      list of weak references to the object (if defined)\n",
      "\n",
      "FILE\n",
      "    c:\\users\\muzafar\\anaconda3\\lib\\site-packages\\easytello\\tello.py\n",
      "\n",
      "\n"
     ]
    }
   ],
   "source": [
    "help(tello)"
   ]
  },
  {
   "cell_type": "code",
   "execution_count": 9,
   "metadata": {},
   "outputs": [
    {
     "name": "stdout",
     "output_type": "stream",
     "text": [
      "30\n"
     ]
    }
   ],
   "source": [
    "x=10\n",
    "y=20\n",
    "z=30\n",
    "\n",
    "if(x>y and x>z):\n",
    "    print (x);\n",
    "elif (y>z and y>x):\n",
    "    print (y);\n",
    "else:\n",
    "    print (z);"
   ]
  },
  {
   "cell_type": "code",
   "execution_count": null,
   "metadata": {},
   "outputs": [],
   "source": []
  }
 ],
 "metadata": {
  "kernelspec": {
   "display_name": "Python 3 (ipykernel)",
   "language": "python",
   "name": "python3"
  },
  "language_info": {
   "codemirror_mode": {
    "name": "ipython",
    "version": 3
   },
   "file_extension": ".py",
   "mimetype": "text/x-python",
   "name": "python",
   "nbconvert_exporter": "python",
   "pygments_lexer": "ipython3",
   "version": "3.9.7"
  }
 },
 "nbformat": 4,
 "nbformat_minor": 2
}
