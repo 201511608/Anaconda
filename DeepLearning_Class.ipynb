{
 "cells": [
  {
   "cell_type": "code",
   "execution_count": 14,
   "metadata": {
    "collapsed": true
   },
   "outputs": [],
   "source": [
    "def Mul_Sum(input_data,weights):\n",
    "    node_value = (input_data * weights).sum()\n",
    "    return node_value\n",
    "\n",
    "def ForwordNet(InputNpArray,WeithsDict):\n",
    "    #two inputs and one hidden layer[with two nodes]   = one output\n",
    "    import numpy as np\n",
    "    #Inputs\n",
    "    input_data=InputNpArray\n",
    "    #Weights\n",
    "    weights=WeithsDict\n",
    "    \n",
    "    #HiddenNodes\n",
    "    node_0_value =Mul_Sum(input_data,weights['node_0']) \n",
    "    node_1_value =Mul_Sum(input_data,weights['node_1'])\n",
    "    #Clubbing Hidden layer\n",
    "    hidden_layer_values =np.array([node_0_value,node_1_value])\n",
    "    #OutPutNodes\n",
    "    output=Mul_Sum(hidden_layer_values,weights['output'])\n",
    "\n",
    "    #Print\n",
    "    print(\"Input data :\",InputNpArray)\n",
    "    print(\"Hidden Layer :\",hidden_layer_values)\n",
    "    print(\"OutPut : \", output)\n",
    "    \n",
    "def ForwordNet_TanhA(InputNpArray,WeithsDict):\n",
    "    \n",
    "    #two inputs and one hidden layer[with two nodes]   = one output\n",
    "    import numpy as np\n",
    "    #Inputs\n",
    "    input_data=InputNpArray\n",
    "    #Weights\n",
    "    weights=WeithsDict\n",
    "    \n",
    "    #HiddenNodes\n",
    "    node_0_value =tanh_A(Mul_Sum(input_data,weights['node_0']))\n",
    "    node_1_value =tanh_A(Mul_Sum(input_data,weights['node_1']))\n",
    "    #Clubbing Hidden layer\n",
    "    hidden_layer_values =np.array([node_0_value,node_1_value])\n",
    "    #OutPutNodes\n",
    "    output=Mul_Sum(hidden_layer_values,weights['output'])\n",
    "\n",
    "    #Print\n",
    "    print(\"Input data :\",InputNpArray)\n",
    "    print(\"Hidden Layer :\",hidden_layer_values)\n",
    "    print(\"OutPut : \", output)\n",
    "def ForwordNet_ReluA(InputNpArray,WeithsDict):\n",
    "    \n",
    "    #two inputs and one hidden layer[with two nodes]   = one output\n",
    "    import numpy as np\n",
    "    #Inputs\n",
    "    input_data=InputNpArray\n",
    "    #Weights\n",
    "    weights=WeithsDict\n",
    "    \n",
    "    #HiddenNodes\n",
    "    node_0_value =relu(Mul_Sum(input_data,weights['node_0']))\n",
    "    node_1_value =relu(Mul_Sum(input_data,weights['node_1']))\n",
    "    #Clubbing Hidden layer\n",
    "    hidden_layer_values =np.array([node_0_value,node_1_value])\n",
    "    #OutPutNodes\n",
    "    output=Mul_Sum(hidden_layer_values,weights['output'])\n",
    "\n",
    "    #Print\n",
    "    print(\"Input data :\",InputNpArray)\n",
    "    print(\"Hidden Layer :\",hidden_layer_values)\n",
    "    print(\"OutPut : \", output)\n",
    "def tanh_A(input):\n",
    "    import numpy as np\n",
    "    return np.tanh(input)\n",
    "def relu(input):\n",
    "    output =max(0,input)\n",
    "    return output"
   ]
  },
  {
   "cell_type": "code",
   "execution_count": 11,
   "metadata": {},
   "outputs": [
    {
     "name": "stdout",
     "output_type": "stream",
     "text": [
      "Hidden Layer : [ 26 -13]\n",
      "OutPut :  -39\n"
     ]
    }
   ],
   "source": [
    "import numpy as np\n",
    "ForwordNet(np.array([3,5]),{'node_0': np.array([2, 4]), 'node_1': np.array([ 4, -5]), 'output': np.array([2, 7])})"
   ]
  },
  {
   "cell_type": "code",
   "execution_count": null,
   "metadata": {
    "collapsed": true
   },
   "outputs": [],
   "source": []
  }
 ],
 "metadata": {
  "kernelspec": {
   "display_name": "Python 3",
   "language": "python",
   "name": "python3"
  },
  "language_info": {
   "codemirror_mode": {
    "name": "ipython",
    "version": 3
   },
   "file_extension": ".py",
   "mimetype": "text/x-python",
   "name": "python",
   "nbconvert_exporter": "python",
   "pygments_lexer": "ipython3",
   "version": "3.6.1"
  }
 },
 "nbformat": 4,
 "nbformat_minor": 2
}
