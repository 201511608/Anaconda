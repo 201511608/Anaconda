{
 "cells": [
  {
   "cell_type": "code",
   "execution_count": 1,
   "metadata": {
    "collapsed": true
   },
   "outputs": [],
   "source": [
    "import numpy as np\n"
   ]
  },
  {
   "cell_type": "code",
   "execution_count": 38,
   "metadata": {
    "collapsed": true
   },
   "outputs": [],
   "source": [
    "# Excercise one   Forward Propagations\n",
    "input_data =np.array([2,3])"
   ]
  },
  {
   "cell_type": "code",
   "execution_count": 41,
   "metadata": {
    "collapsed": true
   },
   "outputs": [],
   "source": [
    "weights = {'node_0':  np.array([1,1]),   # HIdden node check back arrow with values !:p\n",
    "           'node_1':  np.array([-1,1]),\n",
    "           'output':  np.array([2,-1])  }"
   ]
  },
  {
   "cell_type": "code",
   "execution_count": 42,
   "metadata": {},
   "outputs": [
    {
     "name": "stdout",
     "output_type": "stream",
     "text": [
      "[5 1]\n"
     ]
    }
   ],
   "source": [
    "node_0_value =(input_data * weights['node_0']).sum()\n",
    "node_1_value =(input_data * weights['node_1']).sum()\n",
    "\n",
    "hidden_layer_values =np.array([node_0_value,node_1_value])\n",
    "print(hidden_layer_values)"
   ]
  },
  {
   "cell_type": "code",
   "execution_count": 43,
   "metadata": {},
   "outputs": [
    {
     "name": "stdout",
     "output_type": "stream",
     "text": [
      "9\n"
     ]
    }
   ],
   "source": [
    "output_1=(hidden_layer_values*weights['output']).sum()\n",
    "print(output_1)\n"
   ]
  },
  {
   "cell_type": "code",
   "execution_count": 19,
   "metadata": {},
   "outputs": [],
   "source": [
    "# ########################\n"
   ]
  },
  {
   "cell_type": "code",
   "execution_count": 45,
   "metadata": {},
   "outputs": [
    {
     "name": "stdout",
     "output_type": "stream",
     "text": [
      "(26, -13)\n",
      "-39\n"
     ]
    }
   ],
   "source": [
    "# Excercise Two   Forward Propagations\n",
    "input_data_2 =np.array([3,5])\n",
    "weights_2 ={'node_0':np.array([2,4]),\n",
    "            'node_1':np.array([4,-5]),\n",
    "            'output':np.array([2,7])\n",
    "}\n",
    "node_0_value=(input_data_2*weights_2['node_0']).sum()\n",
    "node_1_value=(input_data_2*weights_2['node_1']).sum()\n",
    "hidden_layer_outputs =(node_0_value,node_1_value)\n",
    "print(hidden_layer_outputs)\n",
    "\n",
    "output2 =(hidden_layer_outputs*weights_2['output']).sum()\n",
    "print(output2)"
   ]
  },
  {
   "cell_type": "code",
   "execution_count": 3,
   "metadata": {},
   "outputs": [
    {
     "name": "stdout",
     "output_type": "stream",
     "text": [
      "[ 0.9999092   0.76159416]\n",
      "1.23822425257\n"
     ]
    }
   ],
   "source": [
    "# Excercise Three   Forward Propagations\n",
    "# Rectified Linear Activation Function\n",
    "\n",
    "import numpy as np\n",
    "\n",
    "input_data =np.array([2,3])\n",
    "\n",
    "weights = {'node_0':  np.array([1,1]),   # HIdden node check back arrow with values !:p\n",
    "           'node_1':  np.array([-1,1]),\n",
    "           'output':  np.array([2,-1])  }\n",
    "node_0_value =(input_data * weights['node_0']).sum()\n",
    "node_0_value =np.tanh(node_0_value)\n",
    "node_1_value =(input_data * weights['node_1']).sum()\n",
    "node_1_value =np.tanh(node_1_value)\n",
    "\n",
    "hidden_layer_values =np.array([node_0_value,node_1_value])\n",
    "print(hidden_layer_values)\n",
    "\n",
    "output_1=(hidden_layer_values*weights['output']).sum()\n",
    "print(output_1)\n",
    "\n"
   ]
  },
  {
   "cell_type": "code",
   "execution_count": 11,
   "metadata": {},
   "outputs": [],
   "source": [
    "# relu activation function \n",
    "def relu(x):\n",
    "    return max(0,x)"
   ]
  },
  {
   "cell_type": "code",
   "execution_count": 9,
   "metadata": {},
   "outputs": [
    {
     "data": {
      "text/plain": [
       "10"
      ]
     },
     "execution_count": 9,
     "metadata": {},
     "output_type": "execute_result"
    }
   ],
   "source": [
    "\n",
    "import numpy as np\n",
    "\n",
    "input_data =np.array([2,3])\n",
    "\n",
    "weights = {'node_0':  np.array([1,1]),   # HIdden node check back arrow with values !:p\n",
    "           'node_1':  np.array([-1,1]),\n",
    "           'output':  np.array([2,-1])  }\n",
    "node_0_value =(input_data * weights['node_0']).sum()\n",
    "node_0_value =np.tanh(node_0_value)\n",
    "node_1_value =(input_data * weights['node_1']).sum()\n",
    "node_1_value =np.tanh(node_1_value)\n",
    "\n",
    "hidden_layer_values =np.array([node_0_value,node_1_value])\n",
    "print(hidden_layer_values)\n",
    "\n",
    "output_1=(hidden_layer_values*weights['output']).sum()\n",
    "print(output_1)"
   ]
  },
  {
   "cell_type": "code",
   "execution_count": 17,
   "metadata": {
    "collapsed": true
   },
   "outputs": [],
   "source": [
    "#Funciton\n",
    "# relu activation function \n",
    "def relu(x):\n",
    "    return max(0,x)\n",
    "\n",
    "def predict_with_network(input_data_row, weights):\n",
    "\n",
    "    # Calculate node 0 value\n",
    "    node_0_input = (input_data_row*weights['node_0']).sum()\n",
    "    node_0_output = relu(node_0_input)\n",
    "\n",
    "    # Calculate node 1 value\n",
    "    node_1_input = (input_data_row*weights['node_1']).sum()\n",
    "    node_1_output = relu(node_1_input)\n",
    "\n",
    "    # Put node values into array: hidden_layer_outputs\n",
    "    hidden_layer_outputs = np.array([node_0_output, node_1_output])\n",
    "    \n",
    "    # Calculate model output\n",
    "    input_to_final_layer = (hidden_layer_outputs*weights['output']).sum()\n",
    "    model_output = relu(input_to_final_layer)\n",
    "    \n",
    "     # Put node values into array: hidden_layer_outputs\n",
    "    hidden_layer_outputs = np.array([node_0_output, node_1_output])\n",
    "    \n",
    "    # Calculate model output\n",
    "    input_to_final_layer = (hidden_layer_outputs*weights['output']).sum()\n",
    "    model_output = relu(input_to_final_layer)\n",
    "    \n",
    "    # Return model output\n",
    "    return(model_output)\n",
    "\n",
    "    \n",
    "    "
   ]
  },
  {
   "cell_type": "code",
   "execution_count": 25,
   "metadata": {},
   "outputs": [],
   "source": [
    "input_data =[np.array([2,3]),np.array([6,3]),np.array([6,63])]\n",
    "\n",
    "weights = {'node_0':  np.array([1,1]),   # HIdden node check back arrow with values !:p\n",
    "           'node_1':  np.array([-1,1]),\n",
    "           'output':  np.array([2,-1])  }"
   ]
  },
  {
   "cell_type": "code",
   "execution_count": 26,
   "metadata": {},
   "outputs": [
    {
     "name": "stdout",
     "output_type": "stream",
     "text": [
      "[9, 18, 81]\n"
     ]
    }
   ],
   "source": [
    "\n",
    "# Create empty list to store prediction result\n",
    "results = []\n",
    "for input_data_row in input_data:\n",
    "    # Append prediction to results\n",
    "    results.append(predict_with_network(input_data_row, weights))\n",
    "\n",
    "# Print results\n",
    "print(results)"
   ]
  },
  {
   "cell_type": "code",
   "execution_count": null,
   "metadata": {
    "collapsed": true
   },
   "outputs": [],
   "source": []
  }
 ],
 "metadata": {
  "kernelspec": {
   "display_name": "Python 3",
   "language": "python",
   "name": "python3"
  },
  "language_info": {
   "codemirror_mode": {
    "name": "ipython",
    "version": 3
   },
   "file_extension": ".py",
   "mimetype": "text/x-python",
   "name": "python",
   "nbconvert_exporter": "python",
   "pygments_lexer": "ipython3",
   "version": "3.6.1"
  }
 },
 "nbformat": 4,
 "nbformat_minor": 2
}
